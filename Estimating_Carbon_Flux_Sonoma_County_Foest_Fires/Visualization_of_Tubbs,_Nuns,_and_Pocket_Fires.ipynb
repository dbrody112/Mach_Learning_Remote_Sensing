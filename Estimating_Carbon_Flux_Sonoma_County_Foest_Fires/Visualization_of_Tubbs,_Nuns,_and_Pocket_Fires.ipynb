{
  "nbformat": 4,
  "nbformat_minor": 0,
  "metadata": {
    "colab": {
      "name": "Visualization of Tubbs, Nuns, and Pocket Fires",
      "provenance": [],
      "collapsed_sections": [],
      "toc_visible": true,
      "include_colab_link": true
    },
    "kernelspec": {
      "display_name": "Python 3",
      "name": "python3"
    },
    "language_info": {
      "name": "python"
    }
  },
  "cells": [
    {
      "cell_type": "markdown",
      "metadata": {
        "id": "view-in-github",
        "colab_type": "text"
      },
      "source": [
        "<a href=\"https://colab.research.google.com/github/dbrody112/Mach_Learning_Remote_Sensing/blob/main/Visualization_of_Tubbs%2C_Nuns%2C_and_Pocket_Fires.ipynb\" target=\"_parent\"><img src=\"https://colab.research.google.com/assets/colab-badge.svg\" alt=\"Open In Colab\"/></a>"
      ]
    },
    {
      "cell_type": "markdown",
      "metadata": {
        "id": "GV5BgEkaXT-w"
      },
      "source": [
        "**Tubbs Bounding Box**"
      ]
    },
    {
      "cell_type": "code",
      "metadata": {
        "colab": {
          "base_uri": "https://localhost:8080/",
          "height": 1000
        },
        "id": "fFIesV5rXIhf",
        "outputId": "b436c97a-8370-4361-cf9e-2cb8985d31b7"
      },
      "source": [
        "!pip install rasterio\n",
        "!pip install segmentation_models_pytorch\n",
        "!pip install --upgrade plotly\n",
        "!pip install plotly.express\n",
        "!pip install albumentations==0.3.0\n",
        "!pip install cartopy\n",
        "!pip install folium==0.2.1\n",
        "!pip install requests==2.23.0\n",
        "!pip install osmnx\n",
        "!pip install matplotlib==3.1.3\n",
        "!apt-get update\n",
        "!apt-get install libgdal-dev -y\n",
        "!apt-get install python-gdal -y\n",
        "!apt-get install python-numpy python-scipy -y\n",
        "!pip install rioxarray\n",
        "!pip install geemap\n",
        "!pip install geojson\n",
        "!pip install geopandas"
      ],
      "execution_count": null,
      "outputs": [
        {
          "output_type": "stream",
          "text": [
            "Requirement already satisfied: rasterio in /usr/local/lib/python3.7/dist-packages (1.2.3)\n",
            "Requirement already satisfied: click-plugins in /usr/local/lib/python3.7/dist-packages (from rasterio) (1.1.1)\n",
            "Requirement already satisfied: cligj>=0.5 in /usr/local/lib/python3.7/dist-packages (from rasterio) (0.7.1)\n",
            "Requirement already satisfied: certifi in /usr/local/lib/python3.7/dist-packages (from rasterio) (2020.12.5)\n",
            "Requirement already satisfied: attrs in /usr/local/lib/python3.7/dist-packages (from rasterio) (20.3.0)\n",
            "Requirement already satisfied: affine in /usr/local/lib/python3.7/dist-packages (from rasterio) (2.3.0)\n",
            "Requirement already satisfied: click<8,>=4.0 in /usr/local/lib/python3.7/dist-packages (from rasterio) (7.1.2)\n",
            "Requirement already satisfied: snuggs>=1.4.1 in /usr/local/lib/python3.7/dist-packages (from rasterio) (1.4.7)\n",
            "Requirement already satisfied: numpy in /usr/local/lib/python3.7/dist-packages (from rasterio) (1.19.5)\n",
            "Requirement already satisfied: pyparsing>=2.1.6 in /usr/local/lib/python3.7/dist-packages (from snuggs>=1.4.1->rasterio) (2.4.7)\n",
            "Requirement already satisfied: segmentation_models_pytorch in /usr/local/lib/python3.7/dist-packages (0.1.3)\n",
            "Requirement already satisfied: efficientnet-pytorch==0.6.3 in /usr/local/lib/python3.7/dist-packages (from segmentation_models_pytorch) (0.6.3)\n",
            "Requirement already satisfied: pretrainedmodels==0.7.4 in /usr/local/lib/python3.7/dist-packages (from segmentation_models_pytorch) (0.7.4)\n",
            "Requirement already satisfied: timm==0.3.2 in /usr/local/lib/python3.7/dist-packages (from segmentation_models_pytorch) (0.3.2)\n",
            "Requirement already satisfied: torchvision>=0.3.0 in /usr/local/lib/python3.7/dist-packages (from segmentation_models_pytorch) (0.9.1+cu101)\n",
            "Requirement already satisfied: torch in /usr/local/lib/python3.7/dist-packages (from efficientnet-pytorch==0.6.3->segmentation_models_pytorch) (1.8.1+cu101)\n",
            "Requirement already satisfied: munch in /usr/local/lib/python3.7/dist-packages (from pretrainedmodels==0.7.4->segmentation_models_pytorch) (2.5.0)\n",
            "Requirement already satisfied: tqdm in /usr/local/lib/python3.7/dist-packages (from pretrainedmodels==0.7.4->segmentation_models_pytorch) (4.41.1)\n",
            "Requirement already satisfied: pillow>=4.1.1 in /usr/local/lib/python3.7/dist-packages (from torchvision>=0.3.0->segmentation_models_pytorch) (7.1.2)\n",
            "Requirement already satisfied: numpy in /usr/local/lib/python3.7/dist-packages (from torchvision>=0.3.0->segmentation_models_pytorch) (1.19.5)\n",
            "Requirement already satisfied: typing-extensions in /usr/local/lib/python3.7/dist-packages (from torch->efficientnet-pytorch==0.6.3->segmentation_models_pytorch) (3.7.4.3)\n",
            "Requirement already satisfied: six in /usr/local/lib/python3.7/dist-packages (from munch->pretrainedmodels==0.7.4->segmentation_models_pytorch) (1.15.0)\n",
            "Requirement already up-to-date: plotly in /usr/local/lib/python3.7/dist-packages (4.14.3)\n",
            "Requirement already satisfied, skipping upgrade: six in /usr/local/lib/python3.7/dist-packages (from plotly) (1.15.0)\n",
            "Requirement already satisfied, skipping upgrade: retrying>=1.3.3 in /usr/local/lib/python3.7/dist-packages (from plotly) (1.3.3)\n",
            "Collecting plotly.express\n",
            "  Using cached https://files.pythonhosted.org/packages/d4/d6/8a2906f51e073a4be80cab35cfa10e7a34853e60f3ed5304ac470852a08d/plotly_express-0.4.1-py2.py3-none-any.whl\n",
            "Requirement already satisfied: patsy>=0.5 in /usr/local/lib/python3.7/dist-packages (from plotly.express) (0.5.1)\n",
            "Requirement already satisfied: numpy>=1.11 in /usr/local/lib/python3.7/dist-packages (from plotly.express) (1.19.5)\n",
            "Requirement already satisfied: scipy>=0.18 in /usr/local/lib/python3.7/dist-packages (from plotly.express) (1.4.1)\n",
            "Requirement already satisfied: pandas>=0.20.0 in /usr/local/lib/python3.7/dist-packages (from plotly.express) (1.1.5)\n",
            "Requirement already satisfied: statsmodels>=0.9.0 in /usr/local/lib/python3.7/dist-packages (from plotly.express) (0.10.2)\n",
            "Requirement already satisfied: plotly>=4.1.0 in /usr/local/lib/python3.7/dist-packages (from plotly.express) (4.14.3)\n",
            "Requirement already satisfied: six in /usr/local/lib/python3.7/dist-packages (from patsy>=0.5->plotly.express) (1.15.0)\n",
            "Requirement already satisfied: pytz>=2017.2 in /usr/local/lib/python3.7/dist-packages (from pandas>=0.20.0->plotly.express) (2018.9)\n",
            "Requirement already satisfied: python-dateutil>=2.7.3 in /usr/local/lib/python3.7/dist-packages (from pandas>=0.20.0->plotly.express) (2.8.1)\n",
            "Requirement already satisfied: retrying>=1.3.3 in /usr/local/lib/python3.7/dist-packages (from plotly>=4.1.0->plotly.express) (1.3.3)\n",
            "Installing collected packages: plotly.express\n",
            "Successfully installed plotly.express\n",
            "Requirement already satisfied: albumentations==0.3.0 in /usr/local/lib/python3.7/dist-packages (0.3.0)\n",
            "Requirement already satisfied: numpy>=1.11.1 in /usr/local/lib/python3.7/dist-packages (from albumentations==0.3.0) (1.19.5)\n",
            "Requirement already satisfied: scipy in /usr/local/lib/python3.7/dist-packages (from albumentations==0.3.0) (1.4.1)\n",
            "Requirement already satisfied: opencv-python-headless in /usr/local/lib/python3.7/dist-packages (from albumentations==0.3.0) (4.5.2.52)\n",
            "Requirement already satisfied: imgaug<0.2.7,>=0.2.5 in /usr/local/lib/python3.7/dist-packages (from albumentations==0.3.0) (0.2.6)\n",
            "Requirement already satisfied: PyYAML in /usr/local/lib/python3.7/dist-packages (from albumentations==0.3.0) (3.13)\n",
            "Requirement already satisfied: six in /usr/local/lib/python3.7/dist-packages (from imgaug<0.2.7,>=0.2.5->albumentations==0.3.0) (1.15.0)\n",
            "Requirement already satisfied: scikit-image>=0.11.0 in /usr/local/lib/python3.7/dist-packages (from imgaug<0.2.7,>=0.2.5->albumentations==0.3.0) (0.16.2)\n",
            "Requirement already satisfied: pillow>=4.3.0 in /usr/local/lib/python3.7/dist-packages (from scikit-image>=0.11.0->imgaug<0.2.7,>=0.2.5->albumentations==0.3.0) (7.1.2)\n",
            "Requirement already satisfied: PyWavelets>=0.4.0 in /usr/local/lib/python3.7/dist-packages (from scikit-image>=0.11.0->imgaug<0.2.7,>=0.2.5->albumentations==0.3.0) (1.1.1)\n",
            "Requirement already satisfied: networkx>=2.0 in /usr/local/lib/python3.7/dist-packages (from scikit-image>=0.11.0->imgaug<0.2.7,>=0.2.5->albumentations==0.3.0) (2.5.1)\n",
            "Requirement already satisfied: matplotlib!=3.0.0,>=2.0.0 in /usr/local/lib/python3.7/dist-packages (from scikit-image>=0.11.0->imgaug<0.2.7,>=0.2.5->albumentations==0.3.0) (3.1.3)\n",
            "Requirement already satisfied: imageio>=2.3.0 in /usr/local/lib/python3.7/dist-packages (from scikit-image>=0.11.0->imgaug<0.2.7,>=0.2.5->albumentations==0.3.0) (2.4.1)\n",
            "Requirement already satisfied: decorator<5,>=4.3 in /usr/local/lib/python3.7/dist-packages (from networkx>=2.0->scikit-image>=0.11.0->imgaug<0.2.7,>=0.2.5->albumentations==0.3.0) (4.4.2)\n",
            "Requirement already satisfied: python-dateutil>=2.1 in /usr/local/lib/python3.7/dist-packages (from matplotlib!=3.0.0,>=2.0.0->scikit-image>=0.11.0->imgaug<0.2.7,>=0.2.5->albumentations==0.3.0) (2.8.1)\n",
            "Requirement already satisfied: pyparsing!=2.0.4,!=2.1.2,!=2.1.6,>=2.0.1 in /usr/local/lib/python3.7/dist-packages (from matplotlib!=3.0.0,>=2.0.0->scikit-image>=0.11.0->imgaug<0.2.7,>=0.2.5->albumentations==0.3.0) (2.4.7)\n",
            "Requirement already satisfied: cycler>=0.10 in /usr/local/lib/python3.7/dist-packages (from matplotlib!=3.0.0,>=2.0.0->scikit-image>=0.11.0->imgaug<0.2.7,>=0.2.5->albumentations==0.3.0) (0.10.0)\n",
            "Requirement already satisfied: kiwisolver>=1.0.1 in /usr/local/lib/python3.7/dist-packages (from matplotlib!=3.0.0,>=2.0.0->scikit-image>=0.11.0->imgaug<0.2.7,>=0.2.5->albumentations==0.3.0) (1.3.1)\n",
            "Requirement already satisfied: cartopy in /usr/local/lib/python3.7/dist-packages (0.19.0.post1)\n",
            "Requirement already satisfied: numpy>=1.13.3 in /usr/local/lib/python3.7/dist-packages (from cartopy) (1.19.5)\n",
            "Requirement already satisfied: shapely>=1.5.6 in /usr/local/lib/python3.7/dist-packages (from cartopy) (1.7.1)\n",
            "Requirement already satisfied: pyshp>=2 in /usr/local/lib/python3.7/dist-packages (from cartopy) (2.1.3)\n",
            "Processing /root/.cache/pip/wheels/b8/09/f0/52d2ef419c2aaf4fb149f92a33e0008bdce7ae816f0dd8f0c5/folium-0.2.1-cp37-none-any.whl\n",
            "Requirement already satisfied: Jinja2 in /usr/local/lib/python3.7/dist-packages (from folium==0.2.1) (2.11.3)\n",
            "Requirement already satisfied: MarkupSafe>=0.23 in /usr/local/lib/python3.7/dist-packages (from Jinja2->folium==0.2.1) (1.1.1)\n",
            "\u001b[31mERROR: geemap 0.8.15 has requirement folium>=0.11.0, but you'll have folium 0.2.1 which is incompatible.\u001b[0m\n",
            "Installing collected packages: folium\n",
            "  Found existing installation: folium 0.12.1\n",
            "    Uninstalling folium-0.12.1:\n",
            "      Successfully uninstalled folium-0.12.1\n",
            "Successfully installed folium-0.2.1\n"
          ],
          "name": "stdout"
        },
        {
          "output_type": "display_data",
          "data": {
            "application/vnd.colab-display-data+json": {
              "pip_warning": {
                "packages": [
                  "folium"
                ]
              }
            }
          },
          "metadata": {
            "tags": []
          }
        },
        {
          "output_type": "stream",
          "text": [
            "Collecting requests==2.23.0\n",
            "  Using cached https://files.pythonhosted.org/packages/1a/70/1935c770cb3be6e3a8b78ced23d7e0f3b187f5cbfab4749523ed65d7c9b1/requests-2.23.0-py2.py3-none-any.whl\n",
            "Requirement already satisfied: certifi>=2017.4.17 in /usr/local/lib/python3.7/dist-packages (from requests==2.23.0) (2020.12.5)\n",
            "Requirement already satisfied: idna<3,>=2.5 in /usr/local/lib/python3.7/dist-packages (from requests==2.23.0) (2.10)\n",
            "Requirement already satisfied: urllib3!=1.25.0,!=1.25.1,<1.26,>=1.21.1 in /usr/local/lib/python3.7/dist-packages (from requests==2.23.0) (1.24.3)\n",
            "Requirement already satisfied: chardet<4,>=3.0.2 in /usr/local/lib/python3.7/dist-packages (from requests==2.23.0) (3.0.4)\n",
            "\u001b[31mERROR: osmnx 1.1.0 has requirement matplotlib>=3.3, but you'll have matplotlib 3.1.3 which is incompatible.\u001b[0m\n",
            "\u001b[31mERROR: osmnx 1.1.0 has requirement requests>=2.25, but you'll have requests 2.23.0 which is incompatible.\u001b[0m\n",
            "\u001b[31mERROR: google-colab 1.0.0 has requirement tornado~=5.1.0; python_version >= \"3.0\", but you'll have tornado 6.1 which is incompatible.\u001b[0m\n",
            "\u001b[31mERROR: geemap 0.8.15 has requirement folium>=0.11.0, but you'll have folium 0.2.1 which is incompatible.\u001b[0m\n",
            "Installing collected packages: requests\n",
            "  Found existing installation: requests 2.25.1\n",
            "    Uninstalling requests-2.25.1:\n",
            "      Successfully uninstalled requests-2.25.1\n",
            "Successfully installed requests-2.23.0\n"
          ],
          "name": "stdout"
        },
        {
          "output_type": "display_data",
          "data": {
            "application/vnd.colab-display-data+json": {
              "pip_warning": {
                "packages": [
                  "requests"
                ]
              }
            }
          },
          "metadata": {
            "tags": []
          }
        },
        {
          "output_type": "stream",
          "text": [
            "Requirement already satisfied: osmnx in /usr/local/lib/python3.7/dist-packages (1.1.0)\n",
            "Requirement already satisfied: numpy>=1.19 in /usr/local/lib/python3.7/dist-packages (from osmnx) (1.19.5)\n",
            "Requirement already satisfied: pyproj>=2.6 in /usr/local/lib/python3.7/dist-packages (from osmnx) (3.0.1)\n",
            "Requirement already satisfied: geopandas>=0.9 in /usr/local/lib/python3.7/dist-packages (from osmnx) (0.9.0)\n",
            "Collecting matplotlib>=3.3\n",
            "  Using cached https://files.pythonhosted.org/packages/24/33/5568d443ba438d95d4db635dd69958056f087e57e1026bee56f959d53f9d/matplotlib-3.4.2-cp37-cp37m-manylinux1_x86_64.whl\n",
            "Collecting requests>=2.25\n",
            "  Using cached https://files.pythonhosted.org/packages/29/c1/24814557f1d22c56d50280771a17307e6bf87b70727d975fd6b2ce6b014a/requests-2.25.1-py2.py3-none-any.whl\n",
            "Requirement already satisfied: Rtree>=0.9 in /usr/local/lib/python3.7/dist-packages (from osmnx) (0.9.7)\n",
            "Requirement already satisfied: networkx>=2.5 in /usr/local/lib/python3.7/dist-packages (from osmnx) (2.5.1)\n",
            "Requirement already satisfied: pandas>=1.1 in /usr/local/lib/python3.7/dist-packages (from osmnx) (1.1.5)\n",
            "Requirement already satisfied: Shapely>=1.7 in /usr/local/lib/python3.7/dist-packages (from osmnx) (1.7.1)\n",
            "Requirement already satisfied: certifi in /usr/local/lib/python3.7/dist-packages (from pyproj>=2.6->osmnx) (2020.12.5)\n",
            "Requirement already satisfied: fiona>=1.8 in /usr/local/lib/python3.7/dist-packages (from geopandas>=0.9->osmnx) (1.8.19)\n",
            "Requirement already satisfied: cycler>=0.10 in /usr/local/lib/python3.7/dist-packages (from matplotlib>=3.3->osmnx) (0.10.0)\n",
            "Requirement already satisfied: kiwisolver>=1.0.1 in /usr/local/lib/python3.7/dist-packages (from matplotlib>=3.3->osmnx) (1.3.1)\n",
            "Requirement already satisfied: python-dateutil>=2.7 in /usr/local/lib/python3.7/dist-packages (from matplotlib>=3.3->osmnx) (2.8.1)\n",
            "Requirement already satisfied: pyparsing>=2.2.1 in /usr/local/lib/python3.7/dist-packages (from matplotlib>=3.3->osmnx) (2.4.7)\n",
            "Requirement already satisfied: pillow>=6.2.0 in /usr/local/lib/python3.7/dist-packages (from matplotlib>=3.3->osmnx) (7.1.2)\n",
            "Requirement already satisfied: urllib3<1.27,>=1.21.1 in /usr/local/lib/python3.7/dist-packages (from requests>=2.25->osmnx) (1.24.3)\n",
            "Requirement already satisfied: idna<3,>=2.5 in /usr/local/lib/python3.7/dist-packages (from requests>=2.25->osmnx) (2.10)\n",
            "Requirement already satisfied: chardet<5,>=3.0.2 in /usr/local/lib/python3.7/dist-packages (from requests>=2.25->osmnx) (3.0.4)\n",
            "Requirement already satisfied: decorator<5,>=4.3 in /usr/local/lib/python3.7/dist-packages (from networkx>=2.5->osmnx) (4.4.2)\n",
            "Requirement already satisfied: pytz>=2017.2 in /usr/local/lib/python3.7/dist-packages (from pandas>=1.1->osmnx) (2018.9)\n",
            "Requirement already satisfied: cligj>=0.5 in /usr/local/lib/python3.7/dist-packages (from fiona>=1.8->geopandas>=0.9->osmnx) (0.7.1)\n",
            "Requirement already satisfied: six>=1.7 in /usr/local/lib/python3.7/dist-packages (from fiona>=1.8->geopandas>=0.9->osmnx) (1.15.0)\n",
            "Requirement already satisfied: click-plugins>=1.0 in /usr/local/lib/python3.7/dist-packages (from fiona>=1.8->geopandas>=0.9->osmnx) (1.1.1)\n",
            "Requirement already satisfied: munch in /usr/local/lib/python3.7/dist-packages (from fiona>=1.8->geopandas>=0.9->osmnx) (2.5.0)\n",
            "Requirement already satisfied: attrs>=17 in /usr/local/lib/python3.7/dist-packages (from fiona>=1.8->geopandas>=0.9->osmnx) (20.3.0)\n",
            "Requirement already satisfied: click<8,>=4.0 in /usr/local/lib/python3.7/dist-packages (from fiona>=1.8->geopandas>=0.9->osmnx) (7.1.2)\n",
            "\u001b[31mERROR: google-colab 1.0.0 has requirement requests~=2.23.0, but you'll have requests 2.25.1 which is incompatible.\u001b[0m\n",
            "\u001b[31mERROR: google-colab 1.0.0 has requirement tornado~=5.1.0; python_version >= \"3.0\", but you'll have tornado 6.1 which is incompatible.\u001b[0m\n",
            "\u001b[31mERROR: geemap 0.8.15 has requirement folium>=0.11.0, but you'll have folium 0.2.1 which is incompatible.\u001b[0m\n",
            "Installing collected packages: matplotlib, requests\n",
            "  Found existing installation: matplotlib 3.1.3\n",
            "    Uninstalling matplotlib-3.1.3:\n",
            "      Successfully uninstalled matplotlib-3.1.3\n",
            "  Found existing installation: requests 2.23.0\n",
            "    Uninstalling requests-2.23.0:\n",
            "      Successfully uninstalled requests-2.23.0\n",
            "Successfully installed matplotlib-3.4.2 requests-2.25.1\n"
          ],
          "name": "stdout"
        },
        {
          "output_type": "display_data",
          "data": {
            "application/vnd.colab-display-data+json": {
              "pip_warning": {
                "packages": [
                  "matplotlib",
                  "mpl_toolkits",
                  "requests"
                ]
              }
            }
          },
          "metadata": {
            "tags": []
          }
        },
        {
          "output_type": "stream",
          "text": [
            "Collecting matplotlib==3.1.3\n",
            "  Using cached https://files.pythonhosted.org/packages/4c/9b/35ab3469fd1509f7636a344940569ebfd33239673fd2318e80b4700a257c/matplotlib-3.1.3-cp37-cp37m-manylinux1_x86_64.whl\n",
            "Requirement already satisfied: pyparsing!=2.0.4,!=2.1.2,!=2.1.6,>=2.0.1 in /usr/local/lib/python3.7/dist-packages (from matplotlib==3.1.3) (2.4.7)\n",
            "Requirement already satisfied: numpy>=1.11 in /usr/local/lib/python3.7/dist-packages (from matplotlib==3.1.3) (1.19.5)\n",
            "Requirement already satisfied: kiwisolver>=1.0.1 in /usr/local/lib/python3.7/dist-packages (from matplotlib==3.1.3) (1.3.1)\n",
            "Requirement already satisfied: python-dateutil>=2.1 in /usr/local/lib/python3.7/dist-packages (from matplotlib==3.1.3) (2.8.1)\n",
            "Requirement already satisfied: cycler>=0.10 in /usr/local/lib/python3.7/dist-packages (from matplotlib==3.1.3) (0.10.0)\n",
            "Requirement already satisfied: six>=1.5 in /usr/local/lib/python3.7/dist-packages (from python-dateutil>=2.1->matplotlib==3.1.3) (1.15.0)\n",
            "\u001b[31mERROR: osmnx 1.1.0 has requirement matplotlib>=3.3, but you'll have matplotlib 3.1.3 which is incompatible.\u001b[0m\n",
            "\u001b[31mERROR: geemap 0.8.15 has requirement folium>=0.11.0, but you'll have folium 0.2.1 which is incompatible.\u001b[0m\n",
            "Installing collected packages: matplotlib\n",
            "  Found existing installation: matplotlib 3.4.2\n",
            "    Uninstalling matplotlib-3.4.2:\n",
            "      Successfully uninstalled matplotlib-3.4.2\n",
            "Successfully installed matplotlib-3.1.3\n"
          ],
          "name": "stdout"
        },
        {
          "output_type": "display_data",
          "data": {
            "application/vnd.colab-display-data+json": {
              "pip_warning": {
                "packages": [
                  "matplotlib",
                  "mpl_toolkits"
                ]
              }
            }
          },
          "metadata": {
            "tags": []
          }
        },
        {
          "output_type": "stream",
          "text": [
            "\r0% [Working]\r            \rGet:1 https://cloud.r-project.org/bin/linux/ubuntu bionic-cran40/ InRelease [3,626 B]\n",
            "\r0% [Connecting to archive.ubuntu.com (91.189.88.152)] [Connecting to security.u\r0% [Connecting to archive.ubuntu.com (91.189.88.152)] [Connecting to security.u\r0% [1 InRelease gpgv 3,626 B] [Connecting to archive.ubuntu.com (91.189.88.152)\r                                                                               \rIgn:2 https://developer.download.nvidia.com/compute/cuda/repos/ubuntu1804/x86_64  InRelease\n",
            "\r0% [1 InRelease gpgv 3,626 B] [Waiting for headers] [Waiting for headers] [Wait\r                                                                               \rIgn:3 https://developer.download.nvidia.com/compute/machine-learning/repos/ubuntu1804/x86_64  InRelease\n",
            "\r0% [1 InRelease gpgv 3,626 B] [Waiting for headers] [Waiting for headers] [Wait\r                                                                               \rHit:4 https://developer.download.nvidia.com/compute/cuda/repos/ubuntu1804/x86_64  Release\n",
            "\r0% [1 InRelease gpgv 3,626 B] [Waiting for headers] [Waiting for headers] [Wait\r                                                                               \rHit:5 https://developer.download.nvidia.com/compute/machine-learning/repos/ubuntu1804/x86_64  Release\n",
            "\r0% [1 InRelease gpgv 3,626 B] [Waiting for headers] [Waiting for headers] [Wait\r                                                                               \rHit:6 http://archive.ubuntu.com/ubuntu bionic InRelease\n",
            "\r                                                                               \rGet:7 http://security.ubuntu.com/ubuntu bionic-security InRelease [88.7 kB]\n",
            "Hit:8 http://ppa.launchpad.net/c2d4u.team/c2d4u4.0+/ubuntu bionic InRelease\n",
            "Get:9 http://archive.ubuntu.com/ubuntu bionic-updates InRelease [88.7 kB]\n",
            "Hit:10 http://ppa.launchpad.net/cran/libgit2/ubuntu bionic InRelease\n",
            "Hit:12 http://ppa.launchpad.net/deadsnakes/ppa/ubuntu bionic InRelease\n",
            "Get:13 http://archive.ubuntu.com/ubuntu bionic-backports InRelease [74.6 kB]\n",
            "Hit:15 http://ppa.launchpad.net/graphics-drivers/ppa/ubuntu bionic InRelease\n",
            "Fetched 256 kB in 2s (106 kB/s)\n",
            "Reading package lists... Done\n",
            "Reading package lists... Done\n",
            "Building dependency tree       \n",
            "Reading state information... Done\n",
            "libgdal-dev is already the newest version (2.2.3+dfsg-2).\n",
            "The following package was automatically installed and is no longer required:\n",
            "  libnvidia-common-460\n",
            "Use 'apt autoremove' to remove it.\n",
            "0 upgraded, 0 newly installed, 0 to remove and 55 not upgraded.\n",
            "Reading package lists... Done\n",
            "Building dependency tree       \n",
            "Reading state information... Done\n",
            "python-gdal is already the newest version (2.2.3+dfsg-2).\n",
            "The following package was automatically installed and is no longer required:\n",
            "  libnvidia-common-460\n",
            "Use 'apt autoremove' to remove it.\n",
            "0 upgraded, 0 newly installed, 0 to remove and 55 not upgraded.\n",
            "Reading package lists... Done\n",
            "Building dependency tree       \n",
            "Reading state information... Done\n",
            "python-numpy is already the newest version (1:1.13.3-2ubuntu1).\n",
            "python-scipy is already the newest version (0.19.1-2ubuntu1).\n",
            "The following package was automatically installed and is no longer required:\n",
            "  libnvidia-common-460\n",
            "Use 'apt autoremove' to remove it.\n",
            "0 upgraded, 0 newly installed, 0 to remove and 55 not upgraded.\n",
            "Requirement already satisfied: rioxarray in /usr/local/lib/python3.7/dist-packages (0.4.0)\n",
            "Requirement already satisfied: pyproj>=2.2 in /usr/local/lib/python3.7/dist-packages (from rioxarray) (3.0.1)\n",
            "Requirement already satisfied: xarray>=0.17 in /usr/local/lib/python3.7/dist-packages (from rioxarray) (0.18.0)\n",
            "Requirement already satisfied: scipy in /usr/local/lib/python3.7/dist-packages (from rioxarray) (1.4.1)\n",
            "Requirement already satisfied: rasterio in /usr/local/lib/python3.7/dist-packages (from rioxarray) (1.2.3)\n",
            "Requirement already satisfied: certifi in /usr/local/lib/python3.7/dist-packages (from pyproj>=2.2->rioxarray) (2020.12.5)\n",
            "Requirement already satisfied: numpy>=1.17 in /usr/local/lib/python3.7/dist-packages (from xarray>=0.17->rioxarray) (1.19.5)\n",
            "Requirement already satisfied: pandas>=1.0 in /usr/local/lib/python3.7/dist-packages (from xarray>=0.17->rioxarray) (1.1.5)\n",
            "Requirement already satisfied: setuptools>=40.4 in /usr/local/lib/python3.7/dist-packages (from xarray>=0.17->rioxarray) (56.1.0)\n",
            "Requirement already satisfied: click-plugins in /usr/local/lib/python3.7/dist-packages (from rasterio->rioxarray) (1.1.1)\n",
            "Requirement already satisfied: attrs in /usr/local/lib/python3.7/dist-packages (from rasterio->rioxarray) (20.3.0)\n",
            "Requirement already satisfied: cligj>=0.5 in /usr/local/lib/python3.7/dist-packages (from rasterio->rioxarray) (0.7.1)\n",
            "Requirement already satisfied: snuggs>=1.4.1 in /usr/local/lib/python3.7/dist-packages (from rasterio->rioxarray) (1.4.7)\n",
            "Requirement already satisfied: click<8,>=4.0 in /usr/local/lib/python3.7/dist-packages (from rasterio->rioxarray) (7.1.2)\n",
            "Requirement already satisfied: affine in /usr/local/lib/python3.7/dist-packages (from rasterio->rioxarray) (2.3.0)\n",
            "Requirement already satisfied: python-dateutil>=2.7.3 in /usr/local/lib/python3.7/dist-packages (from pandas>=1.0->xarray>=0.17->rioxarray) (2.8.1)\n",
            "Requirement already satisfied: pytz>=2017.2 in /usr/local/lib/python3.7/dist-packages (from pandas>=1.0->xarray>=0.17->rioxarray) (2018.9)\n",
            "Requirement already satisfied: pyparsing>=2.1.6 in /usr/local/lib/python3.7/dist-packages (from snuggs>=1.4.1->rasterio->rioxarray) (2.4.7)\n",
            "Requirement already satisfied: six>=1.5 in /usr/local/lib/python3.7/dist-packages (from python-dateutil>=2.7.3->pandas>=1.0->xarray>=0.17->rioxarray) (1.15.0)\n",
            "Requirement already satisfied: geemap in /usr/local/lib/python3.7/dist-packages (0.8.15)\n",
            "Requirement already satisfied: ipynb-py-convert in /usr/local/lib/python3.7/dist-packages (from geemap) (0.4.6)\n",
            "Requirement already satisfied: earthengine-api>=0.1.230 in /usr/local/lib/python3.7/dist-packages (from geemap) (0.1.260)\n",
            "Requirement already satisfied: bqplot in /usr/local/lib/python3.7/dist-packages (from geemap) (0.12.26)\n",
            "Requirement already satisfied: pillow in /usr/local/lib/python3.7/dist-packages (from geemap) (7.1.2)\n",
            "Requirement already satisfied: whiteboxgui in /usr/local/lib/python3.7/dist-packages (from geemap) (0.1.9)\n",
            "Requirement already satisfied: matplotlib in /usr/local/lib/python3.7/dist-packages (from geemap) (3.1.3)\n",
            "Requirement already satisfied: ipytree in /usr/local/lib/python3.7/dist-packages (from geemap) (0.2.1)\n",
            "Requirement already satisfied: geeadd>=0.5.1 in /usr/local/lib/python3.7/dist-packages (from geemap) (0.5.4)\n",
            "Requirement already satisfied: click in /usr/local/lib/python3.7/dist-packages (from geemap) (7.1.2)\n",
            "Requirement already satisfied: pyshp>=2.1.3 in /usr/local/lib/python3.7/dist-packages (from geemap) (2.1.3)\n",
            "Requirement already satisfied: ipyfilechooser in /usr/local/lib/python3.7/dist-packages (from geemap) (0.4.3)\n",
            "Collecting folium>=0.11.0\n",
            "  Using cached https://files.pythonhosted.org/packages/c3/83/e8cb37afc2f016a1cf4caab8d22caf7fe4156c4c15230d8abc9c83547e0c/folium-0.12.1-py2.py3-none-any.whl\n",
            "Requirement already satisfied: numpy in /usr/local/lib/python3.7/dist-packages (from geemap) (1.19.5)\n",
            "Requirement already satisfied: geocoder in /usr/local/lib/python3.7/dist-packages (from geemap) (1.38.1)\n",
            "Requirement already satisfied: colour in /usr/local/lib/python3.7/dist-packages (from geemap) (0.1.5)\n",
            "Requirement already satisfied: googledrivedownloader in /usr/local/lib/python3.7/dist-packages (from geemap) (0.4)\n",
            "Requirement already satisfied: pycrs in /usr/local/lib/python3.7/dist-packages (from geemap) (1.0.2)\n",
            "Requirement already satisfied: ipyleaflet<=0.13.3 in /usr/local/lib/python3.7/dist-packages (from geemap) (0.13.3)\n",
            "Requirement already satisfied: pandas in /usr/local/lib/python3.7/dist-packages (from geemap) (1.1.5)\n",
            "Requirement already satisfied: voila in /usr/local/lib/python3.7/dist-packages (from geemap) (0.2.10)\n",
            "Requirement already satisfied: ipyevents in /usr/local/lib/python3.7/dist-packages (from geemap) (0.8.2)\n",
            "Requirement already satisfied: mss in /usr/local/lib/python3.7/dist-packages (from geemap) (6.1.0)\n",
            "Requirement already satisfied: python-box in /usr/local/lib/python3.7/dist-packages (from geemap) (5.3.0)\n",
            "Requirement already satisfied: ffmpeg-python in /usr/local/lib/python3.7/dist-packages (from geemap) (0.2.0)\n",
            "Requirement already satisfied: google-auth>=1.4.1 in /usr/local/lib/python3.7/dist-packages (from earthengine-api>=0.1.230->geemap) (1.28.1)\n",
            "Requirement already satisfied: httplib2<1dev,>=0.9.2 in /usr/local/lib/python3.7/dist-packages (from earthengine-api>=0.1.230->geemap) (0.17.4)\n",
            "Requirement already satisfied: google-auth-httplib2>=0.0.3 in /usr/local/lib/python3.7/dist-packages (from earthengine-api>=0.1.230->geemap) (0.0.4)\n",
            "Requirement already satisfied: httplib2shim in /usr/local/lib/python3.7/dist-packages (from earthengine-api>=0.1.230->geemap) (0.0.3)\n",
            "Requirement already satisfied: google-cloud-storage in /usr/local/lib/python3.7/dist-packages (from earthengine-api>=0.1.230->geemap) (1.18.1)\n",
            "Requirement already satisfied: future in /usr/local/lib/python3.7/dist-packages (from earthengine-api>=0.1.230->geemap) (0.16.0)\n",
            "Requirement already satisfied: google-api-python-client<2,>=1.12.1 in /usr/local/lib/python3.7/dist-packages (from earthengine-api>=0.1.230->geemap) (1.12.8)\n",
            "Requirement already satisfied: six in /usr/local/lib/python3.7/dist-packages (from earthengine-api>=0.1.230->geemap) (1.15.0)\n",
            "Requirement already satisfied: traittypes>=0.0.6 in /usr/local/lib/python3.7/dist-packages (from bqplot->geemap) (0.2.1)\n",
            "Requirement already satisfied: traitlets>=4.3.0 in /usr/local/lib/python3.7/dist-packages (from bqplot->geemap) (5.0.5)\n",
            "Requirement already satisfied: ipywidgets>=7.5.0 in /usr/local/lib/python3.7/dist-packages (from bqplot->geemap) (7.6.3)\n",
            "Requirement already satisfied: whitebox in /usr/local/lib/python3.7/dist-packages (from whiteboxgui->geemap) (1.4.1)\n",
            "Requirement already satisfied: pyparsing!=2.0.4,!=2.1.2,!=2.1.6,>=2.0.1 in /usr/local/lib/python3.7/dist-packages (from matplotlib->geemap) (2.4.7)\n",
            "Requirement already satisfied: python-dateutil>=2.1 in /usr/local/lib/python3.7/dist-packages (from matplotlib->geemap) (2.8.1)\n",
            "Requirement already satisfied: kiwisolver>=1.0.1 in /usr/local/lib/python3.7/dist-packages (from matplotlib->geemap) (1.3.1)\n",
            "Requirement already satisfied: cycler>=0.10 in /usr/local/lib/python3.7/dist-packages (from matplotlib->geemap) (0.10.0)\n",
            "Requirement already satisfied: beautifulsoup4>=4.9.0 in /usr/local/lib/python3.7/dist-packages (from geeadd>=0.5.1->geemap) (4.9.3)\n",
            "Requirement already satisfied: logzero>=1.5.0 in /usr/local/lib/python3.7/dist-packages (from geeadd>=0.5.1->geemap) (1.7.0)\n",
            "Requirement already satisfied: requests>=2.22.0 in /usr/local/lib/python3.7/dist-packages (from geeadd>=0.5.1->geemap) (2.25.1)\n",
            "Requirement already satisfied: jinja2>=2.9 in /usr/local/lib/python3.7/dist-packages (from folium>=0.11.0->geemap) (2.11.3)\n",
            "Requirement already satisfied: branca>=0.3.0 in /usr/local/lib/python3.7/dist-packages (from folium>=0.11.0->geemap) (0.4.2)\n",
            "Requirement already satisfied: ratelim in /usr/local/lib/python3.7/dist-packages (from geocoder->geemap) (0.1.6)\n",
            "Requirement already satisfied: pytz>=2017.2 in /usr/local/lib/python3.7/dist-packages (from pandas->geemap) (2018.9)\n",
            "Requirement already satisfied: jupyter-server<2.0.0,>=0.3.0 in /usr/local/lib/python3.7/dist-packages (from voila->geemap) (1.6.4)\n",
            "Requirement already satisfied: jupyter-client<7,>=6.1.3 in /usr/local/lib/python3.7/dist-packages (from voila->geemap) (6.1.12)\n",
            "Requirement already satisfied: nbclient<0.6,>=0.4.0 in /usr/local/lib/python3.7/dist-packages (from voila->geemap) (0.5.3)\n",
            "Requirement already satisfied: nbconvert<7,>=6.0.0 in /usr/local/lib/python3.7/dist-packages (from voila->geemap) (6.0.7)\n",
            "Requirement already satisfied: setuptools>=40.3.0 in /usr/local/lib/python3.7/dist-packages (from google-auth>=1.4.1->earthengine-api>=0.1.230->geemap) (56.1.0)\n",
            "Requirement already satisfied: cachetools<5.0,>=2.0.0 in /usr/local/lib/python3.7/dist-packages (from google-auth>=1.4.1->earthengine-api>=0.1.230->geemap) (4.2.1)\n",
            "Requirement already satisfied: rsa<5,>=3.1.4; python_version >= \"3.6\" in /usr/local/lib/python3.7/dist-packages (from google-auth>=1.4.1->earthengine-api>=0.1.230->geemap) (4.7.2)\n",
            "Requirement already satisfied: pyasn1-modules>=0.2.1 in /usr/local/lib/python3.7/dist-packages (from google-auth>=1.4.1->earthengine-api>=0.1.230->geemap) (0.2.8)\n",
            "Requirement already satisfied: urllib3 in /usr/local/lib/python3.7/dist-packages (from httplib2shim->earthengine-api>=0.1.230->geemap) (1.24.3)\n",
            "Requirement already satisfied: certifi in /usr/local/lib/python3.7/dist-packages (from httplib2shim->earthengine-api>=0.1.230->geemap) (2020.12.5)\n",
            "Requirement already satisfied: google-cloud-core<2.0dev,>=1.0.0 in /usr/local/lib/python3.7/dist-packages (from google-cloud-storage->earthengine-api>=0.1.230->geemap) (1.0.3)\n",
            "Requirement already satisfied: google-resumable-media<0.5.0dev,>=0.3.1 in /usr/local/lib/python3.7/dist-packages (from google-cloud-storage->earthengine-api>=0.1.230->geemap) (0.4.1)\n",
            "Requirement already satisfied: google-api-core<2dev,>=1.21.0 in /usr/local/lib/python3.7/dist-packages (from google-api-python-client<2,>=1.12.1->earthengine-api>=0.1.230->geemap) (1.26.3)\n",
            "Requirement already satisfied: uritemplate<4dev,>=3.0.0 in /usr/local/lib/python3.7/dist-packages (from google-api-python-client<2,>=1.12.1->earthengine-api>=0.1.230->geemap) (3.0.1)\n",
            "Requirement already satisfied: ipython-genutils in /usr/local/lib/python3.7/dist-packages (from traitlets>=4.3.0->bqplot->geemap) (0.2.0)\n",
            "Requirement already satisfied: ipython>=4.0.0; python_version >= \"3.3\" in /usr/local/lib/python3.7/dist-packages (from ipywidgets>=7.5.0->bqplot->geemap) (5.5.0)\n",
            "Requirement already satisfied: ipykernel>=4.5.1 in /usr/local/lib/python3.7/dist-packages (from ipywidgets>=7.5.0->bqplot->geemap) (4.10.1)\n",
            "Requirement already satisfied: widgetsnbextension~=3.5.0 in /usr/local/lib/python3.7/dist-packages (from ipywidgets>=7.5.0->bqplot->geemap) (3.5.1)\n",
            "Requirement already satisfied: nbformat>=4.2.0 in /usr/local/lib/python3.7/dist-packages (from ipywidgets>=7.5.0->bqplot->geemap) (5.1.3)\n",
            "Requirement already satisfied: jupyterlab-widgets>=1.0.0; python_version >= \"3.6\" in /usr/local/lib/python3.7/dist-packages (from ipywidgets>=7.5.0->bqplot->geemap) (1.0.0)\n",
            "Requirement already satisfied: soupsieve>1.2; python_version >= \"3.0\" in /usr/local/lib/python3.7/dist-packages (from beautifulsoup4>=4.9.0->geeadd>=0.5.1->geemap) (2.2.1)\n",
            "Requirement already satisfied: idna<3,>=2.5 in /usr/local/lib/python3.7/dist-packages (from requests>=2.22.0->geeadd>=0.5.1->geemap) (2.10)\n",
            "Requirement already satisfied: chardet<5,>=3.0.2 in /usr/local/lib/python3.7/dist-packages (from requests>=2.22.0->geeadd>=0.5.1->geemap) (3.0.4)\n",
            "Requirement already satisfied: MarkupSafe>=0.23 in /usr/local/lib/python3.7/dist-packages (from jinja2>=2.9->folium>=0.11.0->geemap) (1.1.1)\n",
            "Requirement already satisfied: decorator in /usr/local/lib/python3.7/dist-packages (from ratelim->geocoder->geemap) (4.4.2)\n",
            "Requirement already satisfied: argon2-cffi in /usr/local/lib/python3.7/dist-packages (from jupyter-server<2.0.0,>=0.3.0->voila->geemap) (20.1.0)\n",
            "Requirement already satisfied: terminado>=0.8.3 in /usr/local/lib/python3.7/dist-packages (from jupyter-server<2.0.0,>=0.3.0->voila->geemap) (0.9.4)\n",
            "Requirement already satisfied: pyzmq>=17 in /usr/local/lib/python3.7/dist-packages (from jupyter-server<2.0.0,>=0.3.0->voila->geemap) (22.0.3)\n",
            "Requirement already satisfied: jupyter-packaging~=0.9 in /usr/local/lib/python3.7/dist-packages (from jupyter-server<2.0.0,>=0.3.0->voila->geemap) (0.10.1)\n",
            "Requirement already satisfied: tornado>=6.1.0 in /usr/local/lib/python3.7/dist-packages (from jupyter-server<2.0.0,>=0.3.0->voila->geemap) (6.1)\n",
            "Requirement already satisfied: prometheus-client in /usr/local/lib/python3.7/dist-packages (from jupyter-server<2.0.0,>=0.3.0->voila->geemap) (0.10.1)\n",
            "Requirement already satisfied: Send2Trash in /usr/local/lib/python3.7/dist-packages (from jupyter-server<2.0.0,>=0.3.0->voila->geemap) (1.5.0)\n",
            "Requirement already satisfied: anyio<3,>=2.0.2 in /usr/local/lib/python3.7/dist-packages (from jupyter-server<2.0.0,>=0.3.0->voila->geemap) (2.2.0)\n",
            "Requirement already satisfied: jupyter-core>=4.4.0 in /usr/local/lib/python3.7/dist-packages (from jupyter-server<2.0.0,>=0.3.0->voila->geemap) (4.7.1)\n",
            "Requirement already satisfied: nest-asyncio in /usr/local/lib/python3.7/dist-packages (from nbclient<0.6,>=0.4.0->voila->geemap) (1.5.1)\n",
            "Requirement already satisfied: async-generator in /usr/local/lib/python3.7/dist-packages (from nbclient<0.6,>=0.4.0->voila->geemap) (1.10)\n",
            "Requirement already satisfied: entrypoints>=0.2.2 in /usr/local/lib/python3.7/dist-packages (from nbconvert<7,>=6.0.0->voila->geemap) (0.3)\n",
            "Requirement already satisfied: defusedxml in /usr/local/lib/python3.7/dist-packages (from nbconvert<7,>=6.0.0->voila->geemap) (0.7.1)\n",
            "Requirement already satisfied: pandocfilters>=1.4.1 in /usr/local/lib/python3.7/dist-packages (from nbconvert<7,>=6.0.0->voila->geemap) (1.4.3)\n",
            "Requirement already satisfied: testpath in /usr/local/lib/python3.7/dist-packages (from nbconvert<7,>=6.0.0->voila->geemap) (0.4.4)\n",
            "Requirement already satisfied: bleach in /usr/local/lib/python3.7/dist-packages (from nbconvert<7,>=6.0.0->voila->geemap) (3.3.0)\n",
            "Requirement already satisfied: mistune<2,>=0.8.1 in /usr/local/lib/python3.7/dist-packages (from nbconvert<7,>=6.0.0->voila->geemap) (0.8.4)\n",
            "Requirement already satisfied: pygments>=2.4.1 in /usr/local/lib/python3.7/dist-packages (from nbconvert<7,>=6.0.0->voila->geemap) (2.6.1)\n",
            "Requirement already satisfied: jupyterlab-pygments in /usr/local/lib/python3.7/dist-packages (from nbconvert<7,>=6.0.0->voila->geemap) (0.1.2)\n",
            "Requirement already satisfied: pyasn1>=0.1.3 in /usr/local/lib/python3.7/dist-packages (from rsa<5,>=3.1.4; python_version >= \"3.6\"->google-auth>=1.4.1->earthengine-api>=0.1.230->geemap) (0.4.8)\n",
            "Requirement already satisfied: protobuf>=3.12.0 in /usr/local/lib/python3.7/dist-packages (from google-api-core<2dev,>=1.21.0->google-api-python-client<2,>=1.12.1->earthengine-api>=0.1.230->geemap) (3.12.4)\n",
            "Requirement already satisfied: googleapis-common-protos<2.0dev,>=1.6.0 in /usr/local/lib/python3.7/dist-packages (from google-api-core<2dev,>=1.21.0->google-api-python-client<2,>=1.12.1->earthengine-api>=0.1.230->geemap) (1.53.0)\n",
            "Requirement already satisfied: packaging>=14.3 in /usr/local/lib/python3.7/dist-packages (from google-api-core<2dev,>=1.21.0->google-api-python-client<2,>=1.12.1->earthengine-api>=0.1.230->geemap) (20.9)\n",
            "Requirement already satisfied: prompt-toolkit<2.0.0,>=1.0.4 in /usr/local/lib/python3.7/dist-packages (from ipython>=4.0.0; python_version >= \"3.3\"->ipywidgets>=7.5.0->bqplot->geemap) (1.0.18)\n",
            "Requirement already satisfied: pickleshare in /usr/local/lib/python3.7/dist-packages (from ipython>=4.0.0; python_version >= \"3.3\"->ipywidgets>=7.5.0->bqplot->geemap) (0.7.5)\n",
            "Requirement already satisfied: pexpect; sys_platform != \"win32\" in /usr/local/lib/python3.7/dist-packages (from ipython>=4.0.0; python_version >= \"3.3\"->ipywidgets>=7.5.0->bqplot->geemap) (4.8.0)\n",
            "Requirement already satisfied: simplegeneric>0.8 in /usr/local/lib/python3.7/dist-packages (from ipython>=4.0.0; python_version >= \"3.3\"->ipywidgets>=7.5.0->bqplot->geemap) (0.8.1)\n",
            "Requirement already satisfied: notebook>=4.4.1 in /usr/local/lib/python3.7/dist-packages (from widgetsnbextension~=3.5.0->ipywidgets>=7.5.0->bqplot->geemap) (5.3.1)\n",
            "Requirement already satisfied: jsonschema!=2.5.0,>=2.4 in /usr/local/lib/python3.7/dist-packages (from nbformat>=4.2.0->ipywidgets>=7.5.0->bqplot->geemap) (2.6.0)\n",
            "Requirement already satisfied: cffi>=1.0.0 in /usr/local/lib/python3.7/dist-packages (from argon2-cffi->jupyter-server<2.0.0,>=0.3.0->voila->geemap) (1.14.5)\n",
            "Requirement already satisfied: ptyprocess; os_name != \"nt\" in /usr/local/lib/python3.7/dist-packages (from terminado>=0.8.3->jupyter-server<2.0.0,>=0.3.0->voila->geemap) (0.7.0)\n",
            "Requirement already satisfied: wheel in /usr/local/lib/python3.7/dist-packages (from jupyter-packaging~=0.9->jupyter-server<2.0.0,>=0.3.0->voila->geemap) (0.36.2)\n",
            "Requirement already satisfied: deprecation in /usr/local/lib/python3.7/dist-packages (from jupyter-packaging~=0.9->jupyter-server<2.0.0,>=0.3.0->voila->geemap) (2.1.0)\n",
            "Requirement already satisfied: tomlkit in /usr/local/lib/python3.7/dist-packages (from jupyter-packaging~=0.9->jupyter-server<2.0.0,>=0.3.0->voila->geemap) (0.7.0)\n",
            "Requirement already satisfied: sniffio>=1.1 in /usr/local/lib/python3.7/dist-packages (from anyio<3,>=2.0.2->jupyter-server<2.0.0,>=0.3.0->voila->geemap) (1.2.0)\n",
            "Requirement already satisfied: typing-extensions; python_version < \"3.8\" in /usr/local/lib/python3.7/dist-packages (from anyio<3,>=2.0.2->jupyter-server<2.0.0,>=0.3.0->voila->geemap) (3.7.4.3)\n",
            "Requirement already satisfied: webencodings in /usr/local/lib/python3.7/dist-packages (from bleach->nbconvert<7,>=6.0.0->voila->geemap) (0.5.1)\n",
            "Requirement already satisfied: wcwidth in /usr/local/lib/python3.7/dist-packages (from prompt-toolkit<2.0.0,>=1.0.4->ipython>=4.0.0; python_version >= \"3.3\"->ipywidgets>=7.5.0->bqplot->geemap) (0.2.5)\n",
            "Requirement already satisfied: pycparser in /usr/local/lib/python3.7/dist-packages (from cffi>=1.0.0->argon2-cffi->jupyter-server<2.0.0,>=0.3.0->voila->geemap) (2.20)\n",
            "\u001b[31mERROR: datascience 0.10.6 has requirement folium==0.2.1, but you'll have folium 0.12.1 which is incompatible.\u001b[0m\n",
            "Installing collected packages: folium\n",
            "  Found existing installation: folium 0.2.1\n",
            "    Uninstalling folium-0.2.1:\n",
            "      Successfully uninstalled folium-0.2.1\n",
            "Successfully installed folium-0.12.1\n"
          ],
          "name": "stdout"
        },
        {
          "output_type": "display_data",
          "data": {
            "application/vnd.colab-display-data+json": {
              "pip_warning": {
                "packages": [
                  "folium"
                ]
              }
            }
          },
          "metadata": {
            "tags": []
          }
        },
        {
          "output_type": "stream",
          "text": [
            "Requirement already satisfied: geojson in /usr/local/lib/python3.7/dist-packages (2.5.0)\n",
            "Requirement already satisfied: geopandas in /usr/local/lib/python3.7/dist-packages (0.9.0)\n",
            "Requirement already satisfied: fiona>=1.8 in /usr/local/lib/python3.7/dist-packages (from geopandas) (1.8.19)\n",
            "Requirement already satisfied: shapely>=1.6 in /usr/local/lib/python3.7/dist-packages (from geopandas) (1.7.1)\n",
            "Requirement already satisfied: pandas>=0.24.0 in /usr/local/lib/python3.7/dist-packages (from geopandas) (1.1.5)\n",
            "Requirement already satisfied: pyproj>=2.2.0 in /usr/local/lib/python3.7/dist-packages (from geopandas) (3.0.1)\n",
            "Requirement already satisfied: certifi in /usr/local/lib/python3.7/dist-packages (from fiona>=1.8->geopandas) (2020.12.5)\n",
            "Requirement already satisfied: click-plugins>=1.0 in /usr/local/lib/python3.7/dist-packages (from fiona>=1.8->geopandas) (1.1.1)\n",
            "Requirement already satisfied: attrs>=17 in /usr/local/lib/python3.7/dist-packages (from fiona>=1.8->geopandas) (20.3.0)\n",
            "Requirement already satisfied: cligj>=0.5 in /usr/local/lib/python3.7/dist-packages (from fiona>=1.8->geopandas) (0.7.1)\n",
            "Requirement already satisfied: click<8,>=4.0 in /usr/local/lib/python3.7/dist-packages (from fiona>=1.8->geopandas) (7.1.2)\n",
            "Requirement already satisfied: munch in /usr/local/lib/python3.7/dist-packages (from fiona>=1.8->geopandas) (2.5.0)\n",
            "Requirement already satisfied: six>=1.7 in /usr/local/lib/python3.7/dist-packages (from fiona>=1.8->geopandas) (1.15.0)\n",
            "Requirement already satisfied: pytz>=2017.2 in /usr/local/lib/python3.7/dist-packages (from pandas>=0.24.0->geopandas) (2018.9)\n",
            "Requirement already satisfied: python-dateutil>=2.7.3 in /usr/local/lib/python3.7/dist-packages (from pandas>=0.24.0->geopandas) (2.8.1)\n",
            "Requirement already satisfied: numpy>=1.15.4 in /usr/local/lib/python3.7/dist-packages (from pandas>=0.24.0->geopandas) (1.19.5)\n"
          ],
          "name": "stdout"
        }
      ]
    },
    {
      "cell_type": "code",
      "metadata": {
        "colab": {
          "base_uri": "https://localhost:8080/"
        },
        "id": "EGtFw1QfXkWn",
        "outputId": "48a5bba2-0b25-4568-f5f2-2c90debcc95f"
      },
      "source": [
        "import matplotlib.pyplot as plt\n",
        "import rasterio\n",
        "from rasterio.crs import CRS\n",
        "import glob\n",
        "import subprocess\n",
        "import urllib, geojson,subprocess,gdal\n",
        "import geopandas as gpd\n",
        "import shapefile\n",
        "import os\n",
        "import ee\n",
        "import json\n",
        "import geemap\n",
        "from rasterio.plot import show\n",
        "import math\n",
        "import osr\n",
        "import itertools\n",
        "import matplotlib\n",
        "import matplotlib.pyplot as plt\n",
        "%matplotlib inline\n",
        "import numpy as np\n",
        "import os\n",
        "from osgeo import gdal\n",
        "import pandas as pd\n",
        "from random import shuffle\n",
        "import sklearn.metrics as skmetrics\n",
        "%tensorflow_version 2.x\n",
        "import tensorflow as tf\n",
        "import torch\n",
        "from torch.utils.data import Dataset, DataLoader\n",
        "import torchvision.transforms as transforms\n",
        "import torch.nn as nn\n",
        "import torch.nn.functional as F\n",
        "import torchvision\n",
        "import albumentations as A\n",
        "from albumentations.pytorch.transforms import ToTensor\n",
        "import cv2\n",
        "import segmentation_models_pytorch as smp\n",
        "from sklearn.ensemble import RandomForestClassifier\n",
        "import plotly.express as px\n",
        "from sklearn.model_selection import KFold\n",
        "from tqdm import tqdm\n",
        "import shapely\n",
        "import osmnx as ox\n",
        "from shapely.geometry import box\n",
        "import geopandas as gpd\n",
        "from rasterio.warp import calculate_default_transform, reproject, Resampling\n",
        "from PIL import Image\n",
        "from datetime import datetime, timedelta\n",
        "from pprint import *\n",
        "import geemap.eefolium as geemap\n",
        "import plotly_express as px\n",
        "device = torch.device('cuda' if torch.cuda.is_available() else 'cpu')\n",
        "device"
      ],
      "execution_count": null,
      "outputs": [
        {
          "output_type": "execute_result",
          "data": {
            "text/plain": [
              "device(type='cpu')"
            ]
          },
          "metadata": {
            "tags": []
          },
          "execution_count": 47
        }
      ]
    },
    {
      "cell_type": "markdown",
      "metadata": {
        "id": "yZ5x3qgIucxS"
      },
      "source": [
        "Authentication"
      ]
    },
    {
      "cell_type": "code",
      "metadata": {
        "id": "aRo_UsD-uZuw",
        "colab": {
          "base_uri": "https://localhost:8080/"
        },
        "outputId": "b15b7b5f-9b4f-4547-e742-417d8748e1f2"
      },
      "source": [
        "# Initializing google earth engine\n",
        "ee.Authenticate()\n",
        "ee.Initialize()"
      ],
      "execution_count": null,
      "outputs": [
        {
          "output_type": "stream",
          "text": [
            "To authorize access needed by Earth Engine, open the following URL in a web browser and follow the instructions. If the web browser does not start automatically, please manually browse the URL below.\n",
            "\n",
            "    https://accounts.google.com/o/oauth2/auth?client_id=517222506229-vsmmajv00ul0bs7p89v5m89qs8eb9359.apps.googleusercontent.com&scope=https%3A%2F%2Fwww.googleapis.com%2Fauth%2Fearthengine+https%3A%2F%2Fwww.googleapis.com%2Fauth%2Fdevstorage.full_control&redirect_uri=urn%3Aietf%3Awg%3Aoauth%3A2.0%3Aoob&response_type=code&code_challenge=XU1CfGvEFHLuCpk5y2iQK1whJQeY1UenqdWji3VM-Ck&code_challenge_method=S256\n",
            "\n",
            "The authorization workflow will generate a code, which you should paste in the box below. \n",
            "Enter verification code: 4/1AY0e-g50b971jcmu9hB-ID_Wq4Z4mEdBQpjjPmWBwOgrWT-GSzjHjHxDnok\n",
            "\n",
            "Successfully saved authorization token.\n"
          ],
          "name": "stdout"
        }
      ]
    },
    {
      "cell_type": "code",
      "metadata": {
        "id": "9vmYwak4gTER",
        "colab": {
          "base_uri": "https://localhost:8080/"
        },
        "outputId": "1881c018-2e8f-4317-866f-d94667b06ce9"
      },
      "source": [
        "# Getting the fires info\n",
        "!gdown https://drive.google.com/uc?id=1rMAKDm5r3Jz0rFYQ4Jf6IXNaLUIDjV2P\n",
        "!unzip fire20_1.zip"
      ],
      "execution_count": null,
      "outputs": [
        {
          "output_type": "stream",
          "text": [
            "Downloading...\n",
            "From: https://drive.google.com/uc?id=1rMAKDm5r3Jz0rFYQ4Jf6IXNaLUIDjV2P\n",
            "To: /content/fire20_1.zip\n",
            "45.7MB [00:00, 145MB/s] \n",
            "Archive:  fire20_1.zip\n",
            "  inflating: fire20_1.gdb/a00000001.gdbindexes  \n",
            "  inflating: fire20_1.gdb/a00000001.gdbtable  \n",
            "  inflating: fire20_1.gdb/a00000001.gdbtablx  \n",
            "  inflating: fire20_1.gdb/a00000001.TablesByName.atx  \n",
            "  inflating: fire20_1.gdb/a00000002.gdbtable  \n",
            "  inflating: fire20_1.gdb/a00000002.gdbtablx  \n",
            "  inflating: fire20_1.gdb/a00000003.gdbindexes  \n",
            "  inflating: fire20_1.gdb/a00000003.gdbtable  \n",
            "  inflating: fire20_1.gdb/a00000003.gdbtablx  \n",
            "  inflating: fire20_1.gdb/a0000007e.CatItemsByPhysicalName.atx  \n",
            "  inflating: fire20_1.gdb/a0000007e.CatItemsByType.atx  \n",
            "  inflating: fire20_1.gdb/a0000007e.FDO_UUID.atx  \n",
            "  inflating: fire20_1.gdb/a0000007e.freelist  \n",
            "  inflating: fire20_1.gdb/a0000007e.gdbindexes  \n",
            "  inflating: fire20_1.gdb/a0000007e.gdbtable  \n",
            "  inflating: fire20_1.gdb/a0000007e.gdbtablx  \n",
            "  inflating: fire20_1.gdb/a0000007e.horizon  \n",
            "  inflating: fire20_1.gdb/a0000007e.spx  \n",
            "  inflating: fire20_1.gdb/a0000007f.CatItemTypesByName.atx  \n",
            "  inflating: fire20_1.gdb/a0000007f.CatItemTypesByParentTypeID.atx  \n",
            "  inflating: fire20_1.gdb/a0000007f.CatItemTypesByUUID.atx  \n",
            "  inflating: fire20_1.gdb/a0000007f.gdbindexes  \n",
            "  inflating: fire20_1.gdb/a0000007f.gdbtable  \n",
            "  inflating: fire20_1.gdb/a0000007f.gdbtablx  \n",
            "  inflating: fire20_1.gdb/a00000080.CatRelsByDestinationID.atx  \n",
            "  inflating: fire20_1.gdb/a00000080.CatRelsByOriginID.atx  \n",
            "  inflating: fire20_1.gdb/a00000080.CatRelsByType.atx  \n",
            "  inflating: fire20_1.gdb/a00000080.FDO_UUID.atx  \n",
            "  inflating: fire20_1.gdb/a00000080.gdbindexes  \n",
            "  inflating: fire20_1.gdb/a00000080.gdbtable  \n",
            "  inflating: fire20_1.gdb/a00000080.gdbtablx  \n",
            "  inflating: fire20_1.gdb/a00000081.CatRelTypesByBackwardLabel.atx  \n",
            "  inflating: fire20_1.gdb/a00000081.CatRelTypesByDestItemTypeID.atx  \n",
            "  inflating: fire20_1.gdb/a00000081.CatRelTypesByForwardLabel.atx  \n",
            "  inflating: fire20_1.gdb/a00000081.CatRelTypesByName.atx  \n",
            "  inflating: fire20_1.gdb/a00000081.CatRelTypesByOriginItemTypeID.atx  \n",
            "  inflating: fire20_1.gdb/a00000081.CatRelTypesByUUID.atx  \n",
            "  inflating: fire20_1.gdb/a00000081.gdbindexes  \n",
            "  inflating: fire20_1.gdb/a00000081.gdbtable  \n",
            "  inflating: fire20_1.gdb/a00000081.gdbtablx  \n",
            "  inflating: fire20_1.gdb/a000000af.freelist  \n",
            "  inflating: fire20_1.gdb/a000000af.gdbindexes  \n",
            "  inflating: fire20_1.gdb/a000000af.gdbtable  \n",
            "  inflating: fire20_1.gdb/a000000af.gdbtablx  \n",
            "  inflating: fire20_1.gdb/a000000af.horizon  \n",
            "  inflating: fire20_1.gdb/a000000af.spx  \n",
            "  inflating: fire20_1.gdb/a000000b6.gdbindexes  \n",
            "  inflating: fire20_1.gdb/a000000b6.gdbtable  \n",
            "  inflating: fire20_1.gdb/a000000b6.gdbtablx  \n",
            "  inflating: fire20_1.gdb/a000000b6.horizon  \n",
            "  inflating: fire20_1.gdb/a000000b6.spx  \n",
            "  inflating: fire20_1.gdb/a000000b7.gdbindexes  \n",
            "  inflating: fire20_1.gdb/a000000b7.gdbtable  \n",
            "  inflating: fire20_1.gdb/a000000b7.gdbtablx  \n",
            "  inflating: fire20_1.gdb/a000000b7.spx  \n",
            " extracting: fire20_1.gdb/gdb        \n",
            "  inflating: fire20_1.gdb/timestamps  \n"
          ],
          "name": "stdout"
        }
      ]
    },
    {
      "cell_type": "code",
      "metadata": {
        "id": "lolbqWY6gLPC",
        "colab": {
          "base_uri": "https://localhost:8080/",
          "height": 487
        },
        "outputId": "e2b111fb-feaa-4d3b-d25d-dd340e69af95"
      },
      "source": [
        "df = gpd.read_file(\"./fire20_1.gdb\")\n",
        "df = df.to_crs(4326)  #converting geodataframe to WGS84\n",
        "df.head()             #showing the first 5 fires"
      ],
      "execution_count": null,
      "outputs": [
        {
          "output_type": "execute_result",
          "data": {
            "text/html": [
              "<div>\n",
              "<style scoped>\n",
              "    .dataframe tbody tr th:only-of-type {\n",
              "        vertical-align: middle;\n",
              "    }\n",
              "\n",
              "    .dataframe tbody tr th {\n",
              "        vertical-align: top;\n",
              "    }\n",
              "\n",
              "    .dataframe thead th {\n",
              "        text-align: right;\n",
              "    }\n",
              "</style>\n",
              "<table border=\"1\" class=\"dataframe\">\n",
              "  <thead>\n",
              "    <tr style=\"text-align: right;\">\n",
              "      <th></th>\n",
              "      <th>YEAR_</th>\n",
              "      <th>STATE</th>\n",
              "      <th>AGENCY</th>\n",
              "      <th>UNIT_ID</th>\n",
              "      <th>FIRE_NAME</th>\n",
              "      <th>INC_NUM</th>\n",
              "      <th>ALARM_DATE</th>\n",
              "      <th>CONT_DATE</th>\n",
              "      <th>CAUSE</th>\n",
              "      <th>COMMENTS</th>\n",
              "      <th>REPORT_AC</th>\n",
              "      <th>GIS_ACRES</th>\n",
              "      <th>C_METHOD</th>\n",
              "      <th>OBJECTIVE</th>\n",
              "      <th>FIRE_NUM</th>\n",
              "      <th>Shape_Length</th>\n",
              "      <th>Shape_Area</th>\n",
              "      <th>geometry</th>\n",
              "    </tr>\n",
              "  </thead>\n",
              "  <tbody>\n",
              "    <tr>\n",
              "      <th>0</th>\n",
              "      <td>2020</td>\n",
              "      <td>CA</td>\n",
              "      <td>CDF</td>\n",
              "      <td>NEU</td>\n",
              "      <td>NELSON</td>\n",
              "      <td>00013212</td>\n",
              "      <td>2020-06-18T00:00:00+00:00</td>\n",
              "      <td>2020-06-23T00:00:00+00:00</td>\n",
              "      <td>11.0</td>\n",
              "      <td></td>\n",
              "      <td>110.0</td>\n",
              "      <td>109.602501</td>\n",
              "      <td>1.0</td>\n",
              "      <td>1.0</td>\n",
              "      <td>None</td>\n",
              "      <td>3252.523280</td>\n",
              "      <td>4.435447e+05</td>\n",
              "      <td>MULTIPOLYGON (((-121.34840 38.88999, -121.3483...</td>\n",
              "    </tr>\n",
              "    <tr>\n",
              "      <th>1</th>\n",
              "      <td>2020</td>\n",
              "      <td>CA</td>\n",
              "      <td>CDF</td>\n",
              "      <td>NEU</td>\n",
              "      <td>AMORUSO</td>\n",
              "      <td>00011799</td>\n",
              "      <td>2020-06-01T00:00:00+00:00</td>\n",
              "      <td>2020-06-04T00:00:00+00:00</td>\n",
              "      <td>2.0</td>\n",
              "      <td></td>\n",
              "      <td>670.0</td>\n",
              "      <td>685.585022</td>\n",
              "      <td>1.0</td>\n",
              "      <td>1.0</td>\n",
              "      <td>None</td>\n",
              "      <td>9653.760308</td>\n",
              "      <td>2.774464e+06</td>\n",
              "      <td>MULTIPOLYGON (((-121.35275 38.82038, -121.3526...</td>\n",
              "    </tr>\n",
              "    <tr>\n",
              "      <th>2</th>\n",
              "      <td>2020</td>\n",
              "      <td>CA</td>\n",
              "      <td>CDF</td>\n",
              "      <td>NEU</td>\n",
              "      <td>ATHENS</td>\n",
              "      <td>00018493</td>\n",
              "      <td>2020-08-10T00:00:00+00:00</td>\n",
              "      <td>2020-03-01T00:00:00+00:00</td>\n",
              "      <td>14.0</td>\n",
              "      <td></td>\n",
              "      <td>26.0</td>\n",
              "      <td>27.300480</td>\n",
              "      <td>1.0</td>\n",
              "      <td>1.0</td>\n",
              "      <td>None</td>\n",
              "      <td>1649.643235</td>\n",
              "      <td>1.104811e+05</td>\n",
              "      <td>MULTIPOLYGON (((-121.33333 38.84558, -121.3331...</td>\n",
              "    </tr>\n",
              "    <tr>\n",
              "      <th>3</th>\n",
              "      <td>2020</td>\n",
              "      <td>CA</td>\n",
              "      <td>CDF</td>\n",
              "      <td>NEU</td>\n",
              "      <td>FLEMING</td>\n",
              "      <td>00007619</td>\n",
              "      <td>2020-03-31T00:00:00+00:00</td>\n",
              "      <td>2020-04-01T00:00:00+00:00</td>\n",
              "      <td>9.0</td>\n",
              "      <td></td>\n",
              "      <td>13.0</td>\n",
              "      <td>12.931550</td>\n",
              "      <td>1.0</td>\n",
              "      <td>1.0</td>\n",
              "      <td>None</td>\n",
              "      <td>1577.155857</td>\n",
              "      <td>5.233211e+04</td>\n",
              "      <td>MULTIPOLYGON (((-121.27317 38.96308, -121.2730...</td>\n",
              "    </tr>\n",
              "    <tr>\n",
              "      <th>4</th>\n",
              "      <td>2020</td>\n",
              "      <td>CA</td>\n",
              "      <td>CDF</td>\n",
              "      <td>NEU</td>\n",
              "      <td>MELANESE</td>\n",
              "      <td>00008471</td>\n",
              "      <td>2020-04-14T00:00:00+00:00</td>\n",
              "      <td>2020-04-19T00:00:00+00:00</td>\n",
              "      <td>18.0</td>\n",
              "      <td></td>\n",
              "      <td>10.3</td>\n",
              "      <td>10.315960</td>\n",
              "      <td>1.0</td>\n",
              "      <td>1.0</td>\n",
              "      <td>None</td>\n",
              "      <td>1035.787625</td>\n",
              "      <td>4.174722e+04</td>\n",
              "      <td>MULTIPOLYGON (((-121.30065 39.48714, -121.3004...</td>\n",
              "    </tr>\n",
              "  </tbody>\n",
              "</table>\n",
              "</div>"
            ],
            "text/plain": [
              "  YEAR_ STATE  ...    Shape_Area                                           geometry\n",
              "0  2020    CA  ...  4.435447e+05  MULTIPOLYGON (((-121.34840 38.88999, -121.3483...\n",
              "1  2020    CA  ...  2.774464e+06  MULTIPOLYGON (((-121.35275 38.82038, -121.3526...\n",
              "2  2020    CA  ...  1.104811e+05  MULTIPOLYGON (((-121.33333 38.84558, -121.3331...\n",
              "3  2020    CA  ...  5.233211e+04  MULTIPOLYGON (((-121.27317 38.96308, -121.2730...\n",
              "4  2020    CA  ...  4.174722e+04  MULTIPOLYGON (((-121.30065 39.48714, -121.3004...\n",
              "\n",
              "[5 rows x 18 columns]"
            ]
          },
          "metadata": {
            "tags": []
          },
          "execution_count": 50
        }
      ]
    },
    {
      "cell_type": "code",
      "metadata": {
        "colab": {
          "base_uri": "https://localhost:8080/"
        },
        "id": "_vZmmgAX01ui",
        "outputId": "0eef8ee4-53be-4ff1-f2ed-ed447e73f050"
      },
      "source": [
        "#Visualization of Tubbs, Nuns, Pocket Fire Row\n",
        "tubbs_fire = df[df[\"FIRE_NAME\"] == \"TUBBS\"]\n",
        "nuns_fire = df[df[\"FIRE_NAME\"] == \"NUNS\"]\n",
        "pocket_fire = df[df[\"FIRE_NAME\"] == \"POCKET\"][df[\"YEAR_\"] == \"2017\"]"
      ],
      "execution_count": null,
      "outputs": [
        {
          "output_type": "stream",
          "text": [
            "/usr/local/lib/python3.7/dist-packages/geopandas/geodataframe.py:1299: UserWarning: Boolean Series key will be reindexed to match DataFrame index.\n",
            "  result = super(GeoDataFrame, self).__getitem__(key)\n"
          ],
          "name": "stderr"
        }
      ]
    },
    {
      "cell_type": "code",
      "metadata": {
        "id": "11BKnICWHBNV"
      },
      "source": [
        "# Converting the dates to date format for easy access\n",
        "df['ALARM_DATE'] = df[\"ALARM_DATE\"].dropna().apply(lambda x: datetime.strptime(x.split('+')[0],\"%Y-%m-%dT%H:%M:%S\"))\n",
        "df['CONT_DATE'] = df[\"CONT_DATE\"].dropna().apply(lambda x: datetime.strptime(x.split('+')[0],\"%Y-%m-%dT%H:%M:%S\"))"
      ],
      "execution_count": null,
      "outputs": []
    },
    {
      "cell_type": "markdown",
      "metadata": {
        "id": "Kh9KbnxIVu_-"
      },
      "source": [
        ""
      ]
    },
    {
      "cell_type": "code",
      "metadata": {
        "id": "zocS9KUYQyRz",
        "colab": {
          "base_uri": "https://localhost:8080/"
        },
        "outputId": "5bfd0e97-b6e1-4162-ac8c-e52cf8c38a10"
      },
      "source": [
        "# Function that returns fire dates and duration\n",
        "def returnDuration(fire_name):\n",
        "  start_date = np.array(df[df['FIRE_NAME'] == fire_name]['ALARM_DATE'])[0]\n",
        "  print(start_date)\n",
        "  end_date = np.array(df[df['FIRE_NAME'] == fire_name]['CONT_DATE'])[0]\n",
        "  before_start_date = start_date - timedelta(days = 30)\n",
        "  after_end_date = end_date + timedelta(days = 30)\n",
        "  duration = end_date - start_date\n",
        "  return before_start_date, start_date, end_date, after_end_date, duration.days\n",
        "  \n",
        "# Cloud mask function\n",
        "def maskL8sr(image):\n",
        "  cloudShadowBitMask = (1 << 3);\n",
        "  cloudsBitMask = (1 << 5);\n",
        "  qa = image.select('pixel_qa');\n",
        "  mask = qa.bitwiseAnd(cloudShadowBitMask).eq(0).And(qa.bitwiseAnd(cloudsBitMask).eq(0));\n",
        "  return image.updateMask(mask)\n",
        "\n",
        "# Function that creates true bounding box in earth engine\n",
        "def returnBoundingBox(bounds,src_crs):\n",
        "  bounding_box= ee.Geometry.BBox(bounds[0],bounds[1],bounds[2],bounds[3]).transform(src_crs,1)\n",
        "  return bounding_box\n",
        "\n",
        "# Date to string function\n",
        "date_to_string = lambda x: datetime.strftime(x,\"%Y-%m-%d\")\n",
        "\n",
        "# Specifying the area\n",
        "# https://github.com/michalsen/states_geojson/blob/master/states/California\n",
        "src_crs = 'EPSG:4326'\n",
        "box = ee.Geometry({\"type\":\"Polygon\",\"coordinates\":[[[-123.233256,42.006186],[-122.378853,42.011663],[-121.037003,41.995232],[-120.001861,41.995232],[-119.996384,40.264519],[-120.001861,38.999346],[-118.71478,38.101128],[-117.498899,37.21934],[-116.540435,36.501861],[-115.85034,35.970598],[-114.634459,35.00118],[-114.634459,34.87521],[-114.470151,34.710902],[-114.333228,34.448009],[-114.136058,34.305608],[-114.256551,34.174162],[-114.415382,34.108438],[-114.535874,33.933176],[-114.497536,33.697668],[-114.524921,33.54979],[-114.727567,33.40739],[-114.661844,33.034958],[-114.524921,33.029481],[-114.470151,32.843265],[-114.524921,32.755634],[-114.72209,32.717295],[-116.04751,32.624187],[-117.126467,32.536556],[-117.24696,32.668003],[-117.252437,32.876127],[-117.329114,33.122589],[-117.471515,33.297851],[-117.7837,33.538836],[-118.183517,33.763391],[-118.260194,33.703145],[-118.413548,33.741483],[-118.391641,33.840068],[-118.566903,34.042715],[-118.802411,33.998899],[-119.218659,34.146777],[-119.278905,34.26727],[-119.558229,34.415147],[-119.875891,34.40967],[-120.138784,34.475393],[-120.472878,34.448009],[-120.64814,34.579455],[-120.609801,34.858779],[-120.670048,34.902595],[-120.631709,35.099764],[-120.894602,35.247642],[-120.905556,35.450289],[-121.004141,35.461243],[-121.168449,35.636505],[-121.283465,35.674843],[-121.332757,35.784382],[-121.716143,36.195153],[-121.896882,36.315645],[-121.935221,36.638785],[-121.858544,36.6114],[-121.787344,36.803093],[-121.929744,36.978355],[-122.105006,36.956447],[-122.335038,37.115279],[-122.417192,37.241248],[-122.400761,37.361741],[-122.515777,37.520572],[-122.515777,37.783465],[-122.329561,37.783465],[-122.406238,38.15042],[-122.488392,38.112082],[-122.504823,37.931343],[-122.701993,37.893004],[-122.937501,38.029928],[-122.97584,38.265436],[-123.129194,38.451652],[-123.331841,38.566668],[-123.44138,38.698114],[-123.737134,38.95553],[-123.687842,39.032208],[-123.824765,39.366301],[-123.764519,39.552517],[-123.85215,39.831841],[-124.109566,40.105688],[-124.361506,40.259042],[-124.410798,40.439781],[-124.158859,40.877937],[-124.109566,41.025814],[-124.158859,41.14083],[-124.065751,41.442061],[-124.147905,41.715908],[-124.257444,41.781632],[-124.213628,42.000709],[-123.233256,42.006186]]]})\n",
        "lat, lon = 38.60895, -122.62879\n",
        "point = ee.Geometry.Point(lon, lat)\n",
        "\n",
        "# Specifying dates of fire\n",
        "before_start_datetime, start_datetime, end_datetime, after_end_datetime,duration = returnDuration(\"TUBBS\")\n",
        "\n",
        "#using landsat 8 and filtering by date and area\n",
        "ds_name = \"LANDSAT/LC08/C01/T1_SR\"\n",
        "\n",
        "before = ee.ImageCollection(ds_name)\n",
        "before = before.filterDate(date_to_string(before_start_datetime), date_to_string(start_datetime - timedelta(days = 1))).filterBounds(point).map(maskL8sr)\n",
        "during = ee.ImageCollection(ds_name)\n",
        "during = during.filterDate(date_to_string(start_datetime), date_to_string(end_datetime)).filterBounds(point).map(maskL8sr)\n",
        "after = ee.ImageCollection(ds_name)\n",
        "after = after.filterDate(date_to_string(end_datetime + timedelta(days=1)), date_to_string(after_end_datetime)).filterBounds(point).map(maskL8sr)\n",
        "\n",
        "#using modis land cover and filtering by date and area\n",
        "land_cover = ee.ImageCollection(\"MODIS/006/MOD44B\")\n",
        "land_cover = land_cover.filterBounds(point)\n",
        "\n",
        "#looking at cloud cover w/ file names for files in landsat 8\n",
        "system_idxs = before.aggregate_array('system:index').getInfo()\n",
        "cloud_pcts = before.aggregate_array('CLOUDY_PIXEL_PERCENTAGE').getInfo()\n",
        "cloud_pcts"
      ],
      "execution_count": null,
      "outputs": [
        {
          "output_type": "stream",
          "text": [
            "2017-10-08 00:00:00\n"
          ],
          "name": "stdout"
        },
        {
          "output_type": "execute_result",
          "data": {
            "text/plain": [
              "[]"
            ]
          },
          "metadata": {
            "tags": []
          },
          "execution_count": 53
        }
      ]
    },
    {
      "cell_type": "code",
      "metadata": {
        "id": "r6p3zXRuTD0c"
      },
      "source": [
        "#modis nir and swir\n",
        "nir = 'B5'\n",
        "swir = 'B7'\n",
        "quality_band = 'pixel_qa'\n",
        "\n",
        "# Specifying bounds from fire geometry column\n",
        "tubbs_geom = tubbs_fire['geometry']\n",
        "nuns_geom = nuns_fire['geometry']\n",
        "pocket_geom = pocket_fire['geometry']\n",
        "\n",
        "tubbs_bounds = np.array(tubbs_geom.bounds)[0]\n",
        "nuns_bounds = np.array(nuns_geom.bounds )[0]\n",
        "pocket_bounds = np.array(pocket_geom.bounds)[0]\n",
        "\n",
        "# Creating the boundaries\n",
        "true_tubbs_bounding_box = returnBoundingBox(tubbs_bounds,src_crs)\n",
        "true_nuns_bounding_box = returnBoundingBox(nuns_bounds,src_crs)\n",
        "true_pocket_bounding_box = returnBoundingBox(pocket_bounds,src_crs)\n",
        "\n",
        "major_fires = pd.DataFrame({'name': [\"TUBBS\",\"NUNS\",\"POCKET\"], 'bounding_box': [true_tubbs_bounding_box, true_nuns_bounding_box,true_pocket_bounding_box]})\n",
        "\n",
        "#before\n",
        "before_ic = before.qualityMosaic(quality_band).clip(box)\n",
        "nbr_before = before_ic.normalizedDifference([nir, swir]).rename('NBR')\n",
        "\n",
        "#during\n",
        "during_ic = during.qualityMosaic(quality_band).clip(box)\n",
        "nbr_during = during_ic.normalizedDifference([nir, swir]).rename('NBR')\n",
        "\n",
        "#after\n",
        "after_ic = after.qualityMosaic(quality_band).clip(box)\n",
        "nbr_after = after_ic.normalizedDifference([nir, swir]).rename('NBR')\n",
        "\n",
        "dNBR = nbr_before.subtract(nbr_after)"
      ],
      "execution_count": null,
      "outputs": []
    },
    {
      "cell_type": "code",
      "metadata": {
        "id": "nh4sbywnTSGo"
      },
      "source": [
        "# Tailoring visualizations\n",
        "nbr_vis = {\n",
        "    'min': 0,\n",
        "    'max': 1,\n",
        "    'bands': ['NBR'],\n",
        "    'palette': ['black','orange','red']\n",
        "}\n",
        "\n",
        "geology_vis = {\n",
        "    'min': 0,\n",
        "    'max': 3000,\n",
        "    'bands' : ['B7','B6','B2'] #swir2, swir1, blue\n",
        "    \n",
        "}\n",
        "\n",
        "false_color_vis = {\n",
        "    'min': 0,\n",
        "    'max': 3000,\n",
        "    'bands': ['B6', 'B5', 'B4'] #swir1,nir,red\n",
        "}\n",
        "\n",
        "true_color_vis = {\n",
        "    'min': 0,\n",
        "    'max': 3000,\n",
        "    'bands': ['B4', 'B3', 'B2'] # red, green,blue\n",
        "}\n",
        "\n",
        "swir_vis = {\n",
        "     'min': 0,\n",
        "    'max': 3000,\n",
        "    'bands' : ['B6','B5','B3']\n",
        "    \n",
        "}\n",
        "\n",
        "nir_vis = {\n",
        "    'min': 0,\n",
        "    'max': 3000,\n",
        "    'bands' : ['B5','B4','B3']\n",
        "    \n",
        "}"
      ],
      "execution_count": null,
      "outputs": []
    },
    {
      "cell_type": "code",
      "metadata": {
        "id": "MekJNWogTrOm"
      },
      "source": [
        "# Initializing the map \n",
        "Map1 = geemap.Map(center=(lat, lon), zoom=11)\n",
        "\n",
        "# Adding layers to map. think about adding a legend\n",
        "for fire in range(len(major_fires)):\n",
        "  box = major_fires['bounding_box'][fire]\n",
        "  fire_name = major_fires['name'][fire]\n",
        "\n",
        "  before_ic = before.qualityMosaic(quality_band).clip(box)\n",
        "  nbr_before = before_ic.normalizedDifference([nir, swir]).rename('NBR')\n",
        "\n",
        "  after_ic = after.qualityMosaic(quality_band).clip(box)\n",
        "  nbr_after = after_ic.normalizedDifference([nir, swir]).rename('NBR')\n",
        "  \n",
        "  Map1.addLayer(before_ic, false_color_vis, fire_name+' before_false_color')\n",
        "  Map1.addLayer(before_ic,true_color_vis, fire_name+' true_color_before')\n",
        "  Map1.addLayer(before_ic, nir_vis, fire_name+ ' nir_before')\n",
        "  Map1.addLayer(nbr_before, nbr_vis, fire_name+' nbr_before')\n",
        "\n",
        "  Map1.addLayer(after_ic, false_color_vis, fire_name+' after_false_color')\n",
        "  Map1.addLayer(after_ic,true_color_vis, fire_name+' true_color_after')\n",
        "  Map1.addLayer(after_ic, swir_vis, fire_name +' nir_after')\n",
        "  Map1.addLayer(nbr_after, nbr_vis, fire_name + ' nbr_after')\n",
        "\n",
        "Map1.addLayer(dNBR, nbr_vis, \"dNBR\")"
      ],
      "execution_count": null,
      "outputs": []
    },
    {
      "cell_type": "code",
      "metadata": {
        "colab": {
          "base_uri": "https://localhost:8080/",
          "height": 863
        },
        "id": "DGxHcyfmVSGC",
        "outputId": "fdfba302-b964-4415-c36b-69b61fb7b415"
      },
      "source": [
        "Map1"
      ],
      "execution_count": null,
      "outputs": [
        {
          "output_type": "execute_result",
          "data": {
            "text/html": [
              "<div style=\"width:100%;\"><div style=\"position:relative;width:100%;height:0;padding-bottom:60%;\"><span style=\"color:#565656\">Make this Notebook Trusted to load map: File -> Trust Notebook</span><iframe src=\"about:blank\" style=\"position:absolute;width:100%;height:100%;left:0;top:0;border:none !important;\" data-html=%3C%21DOCTYPE%20html%3E%0A%3Chead%3E%20%20%20%20%0A%20%20%20%20%3Cmeta%20http-equiv%3D%22content-type%22%20content%3D%22text/html%3B%20charset%3DUTF-8%22%20/%3E%0A%20%20%20%20%0A%20%20%20%20%20%20%20%20%3Cscript%3E%0A%20%20%20%20%20%20%20%20%20%20%20%20L_NO_TOUCH%20%3D%20false%3B%0A%20%20%20%20%20%20%20%20%20%20%20%20L_DISABLE_3D%20%3D%20false%3B%0A%20%20%20%20%20%20%20%20%3C/script%3E%0A%20%20%20%20%0A%20%20%20%20%3Cstyle%3Ehtml%2C%20body%20%7Bwidth%3A%20100%25%3Bheight%3A%20100%25%3Bmargin%3A%200%3Bpadding%3A%200%3B%7D%3C/style%3E%0A%20%20%20%20%3Cstyle%3E%23map%20%7Bposition%3Aabsolute%3Btop%3A0%3Bbottom%3A0%3Bright%3A0%3Bleft%3A0%3B%7D%3C/style%3E%0A%20%20%20%20%3Cscript%20src%3D%22https%3A//cdn.jsdelivr.net/npm/leaflet%401.6.0/dist/leaflet.js%22%3E%3C/script%3E%0A%20%20%20%20%3Cscript%20src%3D%22https%3A//code.jquery.com/jquery-1.12.4.min.js%22%3E%3C/script%3E%0A%20%20%20%20%3Cscript%20src%3D%22https%3A//maxcdn.bootstrapcdn.com/bootstrap/3.2.0/js/bootstrap.min.js%22%3E%3C/script%3E%0A%20%20%20%20%3Cscript%20src%3D%22https%3A//cdnjs.cloudflare.com/ajax/libs/Leaflet.awesome-markers/2.0.2/leaflet.awesome-markers.js%22%3E%3C/script%3E%0A%20%20%20%20%3Clink%20rel%3D%22stylesheet%22%20href%3D%22https%3A//cdn.jsdelivr.net/npm/leaflet%401.6.0/dist/leaflet.css%22/%3E%0A%20%20%20%20%3Clink%20rel%3D%22stylesheet%22%20href%3D%22https%3A//maxcdn.bootstrapcdn.com/bootstrap/3.2.0/css/bootstrap.min.css%22/%3E%0A%20%20%20%20%3Clink%20rel%3D%22stylesheet%22%20href%3D%22https%3A//maxcdn.bootstrapcdn.com/bootstrap/3.2.0/css/bootstrap-theme.min.css%22/%3E%0A%20%20%20%20%3Clink%20rel%3D%22stylesheet%22%20href%3D%22https%3A//maxcdn.bootstrapcdn.com/font-awesome/4.6.3/css/font-awesome.min.css%22/%3E%0A%20%20%20%20%3Clink%20rel%3D%22stylesheet%22%20href%3D%22https%3A//cdnjs.cloudflare.com/ajax/libs/Leaflet.awesome-markers/2.0.2/leaflet.awesome-markers.css%22/%3E%0A%20%20%20%20%3Clink%20rel%3D%22stylesheet%22%20href%3D%22https%3A//cdn.jsdelivr.net/gh/python-visualization/folium/folium/templates/leaflet.awesome.rotate.min.css%22/%3E%0A%20%20%20%20%0A%20%20%20%20%20%20%20%20%20%20%20%20%3Cmeta%20name%3D%22viewport%22%20content%3D%22width%3Ddevice-width%2C%0A%20%20%20%20%20%20%20%20%20%20%20%20%20%20%20%20initial-scale%3D1.0%2C%20maximum-scale%3D1.0%2C%20user-scalable%3Dno%22%20/%3E%0A%20%20%20%20%20%20%20%20%20%20%20%20%3Cstyle%3E%0A%20%20%20%20%20%20%20%20%20%20%20%20%20%20%20%20%23map_b5483afa5f1742bea3763e8a1d4e85d8%20%7B%0A%20%20%20%20%20%20%20%20%20%20%20%20%20%20%20%20%20%20%20%20position%3A%20relative%3B%0A%20%20%20%20%20%20%20%20%20%20%20%20%20%20%20%20%20%20%20%20width%3A%20100.0%25%3B%0A%20%20%20%20%20%20%20%20%20%20%20%20%20%20%20%20%20%20%20%20height%3A%20100.0%25%3B%0A%20%20%20%20%20%20%20%20%20%20%20%20%20%20%20%20%20%20%20%20left%3A%200.0%25%3B%0A%20%20%20%20%20%20%20%20%20%20%20%20%20%20%20%20%20%20%20%20top%3A%200.0%25%3B%0A%20%20%20%20%20%20%20%20%20%20%20%20%20%20%20%20%7D%0A%20%20%20%20%20%20%20%20%20%20%20%20%3C/style%3E%0A%20%20%20%20%20%20%20%20%0A%20%20%20%20%3Cscript%20src%3D%22https%3A//cdnjs.cloudflare.com/ajax/libs/leaflet.fullscreen/1.4.2/Control.FullScreen.min.js%22%3E%3C/script%3E%0A%20%20%20%20%3Clink%20rel%3D%22stylesheet%22%20href%3D%22https%3A//cdnjs.cloudflare.com/ajax/libs/leaflet.fullscreen/1.4.2/Control.FullScreen.min.css%22/%3E%0A%3C/head%3E%0A%3Cbody%3E%20%20%20%20%0A%20%20%20%20%0A%20%20%20%20%20%20%20%20%20%20%20%20%3Cdiv%20class%3D%22folium-map%22%20id%3D%22map_b5483afa5f1742bea3763e8a1d4e85d8%22%20%3E%3C/div%3E%0A%20%20%20%20%20%20%20%20%0A%3C/body%3E%0A%3Cscript%3E%20%20%20%20%0A%20%20%20%20%0A%20%20%20%20%20%20%20%20%20%20%20%20var%20map_b5483afa5f1742bea3763e8a1d4e85d8%20%3D%20L.map%28%0A%20%20%20%20%20%20%20%20%20%20%20%20%20%20%20%20%22map_b5483afa5f1742bea3763e8a1d4e85d8%22%2C%0A%20%20%20%20%20%20%20%20%20%20%20%20%20%20%20%20%7B%0A%20%20%20%20%20%20%20%20%20%20%20%20%20%20%20%20%20%20%20%20center%3A%20%5B38.60895%2C%20-122.62879%5D%2C%0A%20%20%20%20%20%20%20%20%20%20%20%20%20%20%20%20%20%20%20%20crs%3A%20L.CRS.EPSG3857%2C%0A%20%20%20%20%20%20%20%20%20%20%20%20%20%20%20%20%20%20%20%20zoom%3A%2011%2C%0A%20%20%20%20%20%20%20%20%20%20%20%20%20%20%20%20%20%20%20%20zoomControl%3A%20true%2C%0A%20%20%20%20%20%20%20%20%20%20%20%20%20%20%20%20%20%20%20%20preferCanvas%3A%20false%2C%0A%20%20%20%20%20%20%20%20%20%20%20%20%20%20%20%20%20%20%20%20eeInitialize%3A%20true%2C%0A%20%20%20%20%20%20%20%20%20%20%20%20%20%20%20%20%20%20%20%20addGoogleMap%3A%20true%2C%0A%20%20%20%20%20%20%20%20%20%20%20%20%20%20%20%20%20%20%20%20pluginLatlngpopup%3A%20true%2C%0A%20%20%20%20%20%20%20%20%20%20%20%20%20%20%20%20%20%20%20%20pluginFullscreen%3A%20true%2C%0A%20%20%20%20%20%20%20%20%20%20%20%20%20%20%20%20%20%20%20%20pluginDraw%3A%20false%2C%0A%20%20%20%20%20%20%20%20%20%20%20%20%20%20%20%20%20%20%20%20DrawExport%3A%20true%2C%0A%20%20%20%20%20%20%20%20%20%20%20%20%20%20%20%20%20%20%20%20pluginMinimap%3A%20false%2C%0A%20%20%20%20%20%20%20%20%20%20%20%20%20%20%20%20%20%20%20%20pluginLayercontrol%3A%20false%2C%0A%20%20%20%20%20%20%20%20%20%20%20%20%20%20%20%20%7D%0A%20%20%20%20%20%20%20%20%20%20%20%20%29%3B%0A%0A%20%20%20%20%20%20%20%20%20%20%20%20%0A%0A%20%20%20%20%20%20%20%20%0A%20%20%20%20%0A%20%20%20%20%20%20%20%20%20%20%20%20var%20tile_layer_f9033be0895d457d9ff9e819066088a3%20%3D%20L.tileLayer%28%0A%20%20%20%20%20%20%20%20%20%20%20%20%20%20%20%20%22https%3A//%7Bs%7D.tile.openstreetmap.org/%7Bz%7D/%7Bx%7D/%7By%7D.png%22%2C%0A%20%20%20%20%20%20%20%20%20%20%20%20%20%20%20%20%7B%22attribution%22%3A%20%22Data%20by%20%5Cu0026copy%3B%20%5Cu003ca%20href%3D%5C%22http%3A//openstreetmap.org%5C%22%5Cu003eOpenStreetMap%5Cu003c/a%5Cu003e%2C%20under%20%5Cu003ca%20href%3D%5C%22http%3A//www.openstreetmap.org/copyright%5C%22%5Cu003eODbL%5Cu003c/a%5Cu003e.%22%2C%20%22detectRetina%22%3A%20false%2C%20%22maxNativeZoom%22%3A%2018%2C%20%22maxZoom%22%3A%2018%2C%20%22minZoom%22%3A%200%2C%20%22noWrap%22%3A%20false%2C%20%22opacity%22%3A%201%2C%20%22subdomains%22%3A%20%22abc%22%2C%20%22tms%22%3A%20false%7D%0A%20%20%20%20%20%20%20%20%20%20%20%20%29.addTo%28map_b5483afa5f1742bea3763e8a1d4e85d8%29%3B%0A%20%20%20%20%20%20%20%20%0A%20%20%20%20%0A%20%20%20%20%20%20%20%20%20%20%20%20var%20tile_layer_3e81c35485264ae983176d1020583574%20%3D%20L.tileLayer%28%0A%20%20%20%20%20%20%20%20%20%20%20%20%20%20%20%20%22https%3A//mt1.google.com/vt/lyrs%3Dm%5Cu0026x%3D%7Bx%7D%5Cu0026y%3D%7By%7D%5Cu0026z%3D%7Bz%7D%22%2C%0A%20%20%20%20%20%20%20%20%20%20%20%20%20%20%20%20%7B%22attribution%22%3A%20%22Google%22%2C%20%22detectRetina%22%3A%20false%2C%20%22maxNativeZoom%22%3A%2018%2C%20%22maxZoom%22%3A%2018%2C%20%22minZoom%22%3A%200%2C%20%22noWrap%22%3A%20false%2C%20%22opacity%22%3A%201%2C%20%22subdomains%22%3A%20%22abc%22%2C%20%22tms%22%3A%20false%7D%0A%20%20%20%20%20%20%20%20%20%20%20%20%29.addTo%28map_b5483afa5f1742bea3763e8a1d4e85d8%29%3B%0A%20%20%20%20%20%20%20%20%0A%20%20%20%20%0A%20%20%20%20%20%20%20%20%20%20%20%20%20%20%20%20var%20lat_lng_popup_0f0157c78cbe403dad0d13009e63a41b%20%3D%20L.popup%28%29%3B%0A%20%20%20%20%20%20%20%20%20%20%20%20%20%20%20%20function%20latLngPop%28e%29%20%7B%0A%20%20%20%20%20%20%20%20%20%20%20%20%20%20%20%20%20%20%20%20lat_lng_popup_0f0157c78cbe403dad0d13009e63a41b%0A%20%20%20%20%20%20%20%20%20%20%20%20%20%20%20%20%20%20%20%20%20%20%20%20.setLatLng%28e.latlng%29%0A%20%20%20%20%20%20%20%20%20%20%20%20%20%20%20%20%20%20%20%20%20%20%20%20.setContent%28%22Latitude%3A%20%22%20%2B%20e.latlng.lat.toFixed%284%29%20%2B%0A%20%20%20%20%20%20%20%20%20%20%20%20%20%20%20%20%20%20%20%20%20%20%20%20%20%20%20%20%20%20%20%20%20%20%20%20%22%3Cbr%3ELongitude%3A%20%22%20%2B%20e.latlng.lng.toFixed%284%29%29%0A%20%20%20%20%20%20%20%20%20%20%20%20%20%20%20%20%20%20%20%20%20%20%20%20.openOn%28map_b5483afa5f1742bea3763e8a1d4e85d8%29%3B%0A%20%20%20%20%20%20%20%20%20%20%20%20%20%20%20%20%20%20%20%20%7D%0A%20%20%20%20%20%20%20%20%20%20%20%20%20%20%20%20map_b5483afa5f1742bea3763e8a1d4e85d8.on%28%27click%27%2C%20latLngPop%29%3B%0A%20%20%20%20%20%20%20%20%20%20%20%20%0A%20%20%20%20%0A%20%20%20%20%20%20%20%20%20%20%20%20L.control.fullscreen%28%0A%20%20%20%20%20%20%20%20%20%20%20%20%20%20%20%20%7B%22forceSeparateButton%22%3A%20false%2C%20%22position%22%3A%20%22topleft%22%2C%20%22title%22%3A%20%22Full%20Screen%22%2C%20%22titleCancel%22%3A%20%22Exit%20Full%20Screen%22%7D%0A%20%20%20%20%20%20%20%20%20%20%20%20%29.addTo%28map_b5483afa5f1742bea3763e8a1d4e85d8%29%3B%0A%20%20%20%20%20%20%20%20%0A%20%20%20%20%0A%20%20%20%20%20%20%20%20%20%20%20%20map_b5483afa5f1742bea3763e8a1d4e85d8.fitBounds%28%0A%20%20%20%20%20%20%20%20%20%20%20%20%20%20%20%20%5B%5B38.60895%2C%20-122.62879%5D%2C%20%5B38.60895%2C%20-122.62879%5D%5D%2C%0A%20%20%20%20%20%20%20%20%20%20%20%20%20%20%20%20%7B%22maxZoom%22%3A%2011%7D%0A%20%20%20%20%20%20%20%20%20%20%20%20%29%3B%0A%20%20%20%20%20%20%20%20%0A%20%20%20%20%0A%20%20%20%20%20%20%20%20%20%20%20%20var%20tile_layer_3460975be3504dd4a98c8f084f8ac67a%20%3D%20L.tileLayer%28%0A%20%20%20%20%20%20%20%20%20%20%20%20%20%20%20%20%22https%3A//earthengine.googleapis.com/v1alpha/projects/earthengine-legacy/maps/51b7b246ffea4660086ad81df2e6371b-114fd2326a060213c2ef55a29cf403b4/tiles/%7Bz%7D/%7Bx%7D/%7By%7D%22%2C%0A%20%20%20%20%20%20%20%20%20%20%20%20%20%20%20%20%7B%22attribution%22%3A%20%22Google%20Earth%20Engine%22%2C%20%22detectRetina%22%3A%20false%2C%20%22maxNativeZoom%22%3A%2018%2C%20%22maxZoom%22%3A%2018%2C%20%22minZoom%22%3A%200%2C%20%22noWrap%22%3A%20false%2C%20%22opacity%22%3A%201.0%2C%20%22subdomains%22%3A%20%22abc%22%2C%20%22tms%22%3A%20false%7D%0A%20%20%20%20%20%20%20%20%20%20%20%20%29.addTo%28map_b5483afa5f1742bea3763e8a1d4e85d8%29%3B%0A%20%20%20%20%20%20%20%20%0A%20%20%20%20%0A%20%20%20%20%20%20%20%20%20%20%20%20var%20tile_layer_1f3917b5e3254f5b8df3e68683bec9cf%20%3D%20L.tileLayer%28%0A%20%20%20%20%20%20%20%20%20%20%20%20%20%20%20%20%22https%3A//earthengine.googleapis.com/v1alpha/projects/earthengine-legacy/maps/41683a249e83effaa347593513c431b4-b8ab1c4d1b11a201c6bb0c2d1e0966ea/tiles/%7Bz%7D/%7Bx%7D/%7By%7D%22%2C%0A%20%20%20%20%20%20%20%20%20%20%20%20%20%20%20%20%7B%22attribution%22%3A%20%22Google%20Earth%20Engine%22%2C%20%22detectRetina%22%3A%20false%2C%20%22maxNativeZoom%22%3A%2018%2C%20%22maxZoom%22%3A%2018%2C%20%22minZoom%22%3A%200%2C%20%22noWrap%22%3A%20false%2C%20%22opacity%22%3A%201.0%2C%20%22subdomains%22%3A%20%22abc%22%2C%20%22tms%22%3A%20false%7D%0A%20%20%20%20%20%20%20%20%20%20%20%20%29.addTo%28map_b5483afa5f1742bea3763e8a1d4e85d8%29%3B%0A%20%20%20%20%20%20%20%20%0A%20%20%20%20%0A%20%20%20%20%20%20%20%20%20%20%20%20var%20tile_layer_b8086b94d9ba4dbda59b51b5607df086%20%3D%20L.tileLayer%28%0A%20%20%20%20%20%20%20%20%20%20%20%20%20%20%20%20%22https%3A//earthengine.googleapis.com/v1alpha/projects/earthengine-legacy/maps/1f6d3fda8fbeef0a47654e636b8d31fc-ce144c05d4155f026ef78eea7dd55b30/tiles/%7Bz%7D/%7Bx%7D/%7By%7D%22%2C%0A%20%20%20%20%20%20%20%20%20%20%20%20%20%20%20%20%7B%22attribution%22%3A%20%22Google%20Earth%20Engine%22%2C%20%22detectRetina%22%3A%20false%2C%20%22maxNativeZoom%22%3A%2018%2C%20%22maxZoom%22%3A%2018%2C%20%22minZoom%22%3A%200%2C%20%22noWrap%22%3A%20false%2C%20%22opacity%22%3A%201.0%2C%20%22subdomains%22%3A%20%22abc%22%2C%20%22tms%22%3A%20false%7D%0A%20%20%20%20%20%20%20%20%20%20%20%20%29.addTo%28map_b5483afa5f1742bea3763e8a1d4e85d8%29%3B%0A%20%20%20%20%20%20%20%20%0A%20%20%20%20%0A%20%20%20%20%20%20%20%20%20%20%20%20var%20tile_layer_d0cd1ad3d18d4261a90091c8ae54c30e%20%3D%20L.tileLayer%28%0A%20%20%20%20%20%20%20%20%20%20%20%20%20%20%20%20%22https%3A//earthengine.googleapis.com/v1alpha/projects/earthengine-legacy/maps/05e1b4e777a0aef506af1879dcac7cb4-7583c56eacf2640a8112726ace5f0be7/tiles/%7Bz%7D/%7Bx%7D/%7By%7D%22%2C%0A%20%20%20%20%20%20%20%20%20%20%20%20%20%20%20%20%7B%22attribution%22%3A%20%22Google%20Earth%20Engine%22%2C%20%22detectRetina%22%3A%20false%2C%20%22maxNativeZoom%22%3A%2018%2C%20%22maxZoom%22%3A%2018%2C%20%22minZoom%22%3A%200%2C%20%22noWrap%22%3A%20false%2C%20%22opacity%22%3A%201.0%2C%20%22subdomains%22%3A%20%22abc%22%2C%20%22tms%22%3A%20false%7D%0A%20%20%20%20%20%20%20%20%20%20%20%20%29.addTo%28map_b5483afa5f1742bea3763e8a1d4e85d8%29%3B%0A%20%20%20%20%20%20%20%20%0A%20%20%20%20%0A%20%20%20%20%20%20%20%20%20%20%20%20var%20tile_layer_46bf1581b19b4f04bf9934de772f1765%20%3D%20L.tileLayer%28%0A%20%20%20%20%20%20%20%20%20%20%20%20%20%20%20%20%22https%3A//earthengine.googleapis.com/v1alpha/projects/earthengine-legacy/maps/d161125205e1257ad946d6b81d2c356c-6dc66b5df134b9da6137ca6dc84b53f3/tiles/%7Bz%7D/%7Bx%7D/%7By%7D%22%2C%0A%20%20%20%20%20%20%20%20%20%20%20%20%20%20%20%20%7B%22attribution%22%3A%20%22Google%20Earth%20Engine%22%2C%20%22detectRetina%22%3A%20false%2C%20%22maxNativeZoom%22%3A%2018%2C%20%22maxZoom%22%3A%2018%2C%20%22minZoom%22%3A%200%2C%20%22noWrap%22%3A%20false%2C%20%22opacity%22%3A%201.0%2C%20%22subdomains%22%3A%20%22abc%22%2C%20%22tms%22%3A%20false%7D%0A%20%20%20%20%20%20%20%20%20%20%20%20%29.addTo%28map_b5483afa5f1742bea3763e8a1d4e85d8%29%3B%0A%20%20%20%20%20%20%20%20%0A%20%20%20%20%0A%20%20%20%20%20%20%20%20%20%20%20%20var%20tile_layer_7985acd637dd4e54b7b993788685e309%20%3D%20L.tileLayer%28%0A%20%20%20%20%20%20%20%20%20%20%20%20%20%20%20%20%22https%3A//earthengine.googleapis.com/v1alpha/projects/earthengine-legacy/maps/d27e532ec674f74d2b6231296167ddcf-b07a0a187294c21c0ded7ff2aa0410c3/tiles/%7Bz%7D/%7Bx%7D/%7By%7D%22%2C%0A%20%20%20%20%20%20%20%20%20%20%20%20%20%20%20%20%7B%22attribution%22%3A%20%22Google%20Earth%20Engine%22%2C%20%22detectRetina%22%3A%20false%2C%20%22maxNativeZoom%22%3A%2018%2C%20%22maxZoom%22%3A%2018%2C%20%22minZoom%22%3A%200%2C%20%22noWrap%22%3A%20false%2C%20%22opacity%22%3A%201.0%2C%20%22subdomains%22%3A%20%22abc%22%2C%20%22tms%22%3A%20false%7D%0A%20%20%20%20%20%20%20%20%20%20%20%20%29.addTo%28map_b5483afa5f1742bea3763e8a1d4e85d8%29%3B%0A%20%20%20%20%20%20%20%20%0A%20%20%20%20%0A%20%20%20%20%20%20%20%20%20%20%20%20var%20tile_layer_46853d1d2d48402a8f6fc8640b12f298%20%3D%20L.tileLayer%28%0A%20%20%20%20%20%20%20%20%20%20%20%20%20%20%20%20%22https%3A//earthengine.googleapis.com/v1alpha/projects/earthengine-legacy/maps/1967d764a85ae46f249d97288a6ed752-45af350119765fed1bf7daa496c7d3eb/tiles/%7Bz%7D/%7Bx%7D/%7By%7D%22%2C%0A%20%20%20%20%20%20%20%20%20%20%20%20%20%20%20%20%7B%22attribution%22%3A%20%22Google%20Earth%20Engine%22%2C%20%22detectRetina%22%3A%20false%2C%20%22maxNativeZoom%22%3A%2018%2C%20%22maxZoom%22%3A%2018%2C%20%22minZoom%22%3A%200%2C%20%22noWrap%22%3A%20false%2C%20%22opacity%22%3A%201.0%2C%20%22subdomains%22%3A%20%22abc%22%2C%20%22tms%22%3A%20false%7D%0A%20%20%20%20%20%20%20%20%20%20%20%20%29.addTo%28map_b5483afa5f1742bea3763e8a1d4e85d8%29%3B%0A%20%20%20%20%20%20%20%20%0A%20%20%20%20%0A%20%20%20%20%20%20%20%20%20%20%20%20var%20tile_layer_dc1e0706f1574159a9a4e13200235570%20%3D%20L.tileLayer%28%0A%20%20%20%20%20%20%20%20%20%20%20%20%20%20%20%20%22https%3A//earthengine.googleapis.com/v1alpha/projects/earthengine-legacy/maps/4a48fea7ec09c5798327314fce97dc48-87015a67dc7548f0669053b7f509eaaf/tiles/%7Bz%7D/%7Bx%7D/%7By%7D%22%2C%0A%20%20%20%20%20%20%20%20%20%20%20%20%20%20%20%20%7B%22attribution%22%3A%20%22Google%20Earth%20Engine%22%2C%20%22detectRetina%22%3A%20false%2C%20%22maxNativeZoom%22%3A%2018%2C%20%22maxZoom%22%3A%2018%2C%20%22minZoom%22%3A%200%2C%20%22noWrap%22%3A%20false%2C%20%22opacity%22%3A%201.0%2C%20%22subdomains%22%3A%20%22abc%22%2C%20%22tms%22%3A%20false%7D%0A%20%20%20%20%20%20%20%20%20%20%20%20%29.addTo%28map_b5483afa5f1742bea3763e8a1d4e85d8%29%3B%0A%20%20%20%20%20%20%20%20%0A%20%20%20%20%0A%20%20%20%20%20%20%20%20%20%20%20%20var%20tile_layer_d1bd00fad4a8426790657e34459cd701%20%3D%20L.tileLayer%28%0A%20%20%20%20%20%20%20%20%20%20%20%20%20%20%20%20%22https%3A//earthengine.googleapis.com/v1alpha/projects/earthengine-legacy/maps/04104f3434f4cb02c33d50c6060205eb-548e363e826588613c72ea2cd7cf4cbe/tiles/%7Bz%7D/%7Bx%7D/%7By%7D%22%2C%0A%20%20%20%20%20%20%20%20%20%20%20%20%20%20%20%20%7B%22attribution%22%3A%20%22Google%20Earth%20Engine%22%2C%20%22detectRetina%22%3A%20false%2C%20%22maxNativeZoom%22%3A%2018%2C%20%22maxZoom%22%3A%2018%2C%20%22minZoom%22%3A%200%2C%20%22noWrap%22%3A%20false%2C%20%22opacity%22%3A%201.0%2C%20%22subdomains%22%3A%20%22abc%22%2C%20%22tms%22%3A%20false%7D%0A%20%20%20%20%20%20%20%20%20%20%20%20%29.addTo%28map_b5483afa5f1742bea3763e8a1d4e85d8%29%3B%0A%20%20%20%20%20%20%20%20%0A%20%20%20%20%0A%20%20%20%20%20%20%20%20%20%20%20%20var%20tile_layer_44eb96d4d1b84901bd91a8ffe8da2918%20%3D%20L.tileLayer%28%0A%20%20%20%20%20%20%20%20%20%20%20%20%20%20%20%20%22https%3A//earthengine.googleapis.com/v1alpha/projects/earthengine-legacy/maps/939d92de9909c104223d1a4403e508e9-152c5ae645d9dd8f562fab0f0bfd2a2f/tiles/%7Bz%7D/%7Bx%7D/%7By%7D%22%2C%0A%20%20%20%20%20%20%20%20%20%20%20%20%20%20%20%20%7B%22attribution%22%3A%20%22Google%20Earth%20Engine%22%2C%20%22detectRetina%22%3A%20false%2C%20%22maxNativeZoom%22%3A%2018%2C%20%22maxZoom%22%3A%2018%2C%20%22minZoom%22%3A%200%2C%20%22noWrap%22%3A%20false%2C%20%22opacity%22%3A%201.0%2C%20%22subdomains%22%3A%20%22abc%22%2C%20%22tms%22%3A%20false%7D%0A%20%20%20%20%20%20%20%20%20%20%20%20%29.addTo%28map_b5483afa5f1742bea3763e8a1d4e85d8%29%3B%0A%20%20%20%20%20%20%20%20%0A%20%20%20%20%0A%20%20%20%20%20%20%20%20%20%20%20%20var%20tile_layer_2f1d5835fac6451d987e589f626a2c90%20%3D%20L.tileLayer%28%0A%20%20%20%20%20%20%20%20%20%20%20%20%20%20%20%20%22https%3A//earthengine.googleapis.com/v1alpha/projects/earthengine-legacy/maps/f056139691c832708791ba913838890e-c897e1168e5c88779b8fe3512ff7dc04/tiles/%7Bz%7D/%7Bx%7D/%7By%7D%22%2C%0A%20%20%20%20%20%20%20%20%20%20%20%20%20%20%20%20%7B%22attribution%22%3A%20%22Google%20Earth%20Engine%22%2C%20%22detectRetina%22%3A%20false%2C%20%22maxNativeZoom%22%3A%2018%2C%20%22maxZoom%22%3A%2018%2C%20%22minZoom%22%3A%200%2C%20%22noWrap%22%3A%20false%2C%20%22opacity%22%3A%201.0%2C%20%22subdomains%22%3A%20%22abc%22%2C%20%22tms%22%3A%20false%7D%0A%20%20%20%20%20%20%20%20%20%20%20%20%29.addTo%28map_b5483afa5f1742bea3763e8a1d4e85d8%29%3B%0A%20%20%20%20%20%20%20%20%0A%20%20%20%20%0A%20%20%20%20%20%20%20%20%20%20%20%20var%20tile_layer_e8542a53c8f34b3a89ac3a0dcfddda88%20%3D%20L.tileLayer%28%0A%20%20%20%20%20%20%20%20%20%20%20%20%20%20%20%20%22https%3A//earthengine.googleapis.com/v1alpha/projects/earthengine-legacy/maps/76955376a8e83b9834ad9c42d8c5aefa-7667815ead15a77155306474d0210d34/tiles/%7Bz%7D/%7Bx%7D/%7By%7D%22%2C%0A%20%20%20%20%20%20%20%20%20%20%20%20%20%20%20%20%7B%22attribution%22%3A%20%22Google%20Earth%20Engine%22%2C%20%22detectRetina%22%3A%20false%2C%20%22maxNativeZoom%22%3A%2018%2C%20%22maxZoom%22%3A%2018%2C%20%22minZoom%22%3A%200%2C%20%22noWrap%22%3A%20false%2C%20%22opacity%22%3A%201.0%2C%20%22subdomains%22%3A%20%22abc%22%2C%20%22tms%22%3A%20false%7D%0A%20%20%20%20%20%20%20%20%20%20%20%20%29.addTo%28map_b5483afa5f1742bea3763e8a1d4e85d8%29%3B%0A%20%20%20%20%20%20%20%20%0A%20%20%20%20%0A%20%20%20%20%20%20%20%20%20%20%20%20var%20tile_layer_658e46eefdb84d619c78aa518510ba37%20%3D%20L.tileLayer%28%0A%20%20%20%20%20%20%20%20%20%20%20%20%20%20%20%20%22https%3A//earthengine.googleapis.com/v1alpha/projects/earthengine-legacy/maps/621ffa285ae1629c418f87493c555c6d-d0405deecfb748137c6ca2bfe0657ca8/tiles/%7Bz%7D/%7Bx%7D/%7By%7D%22%2C%0A%20%20%20%20%20%20%20%20%20%20%20%20%20%20%20%20%7B%22attribution%22%3A%20%22Google%20Earth%20Engine%22%2C%20%22detectRetina%22%3A%20false%2C%20%22maxNativeZoom%22%3A%2018%2C%20%22maxZoom%22%3A%2018%2C%20%22minZoom%22%3A%200%2C%20%22noWrap%22%3A%20false%2C%20%22opacity%22%3A%201.0%2C%20%22subdomains%22%3A%20%22abc%22%2C%20%22tms%22%3A%20false%7D%0A%20%20%20%20%20%20%20%20%20%20%20%20%29.addTo%28map_b5483afa5f1742bea3763e8a1d4e85d8%29%3B%0A%20%20%20%20%20%20%20%20%0A%20%20%20%20%0A%20%20%20%20%20%20%20%20%20%20%20%20var%20tile_layer_e78d96edd0d441a8a383102ae87c8dc7%20%3D%20L.tileLayer%28%0A%20%20%20%20%20%20%20%20%20%20%20%20%20%20%20%20%22https%3A//earthengine.googleapis.com/v1alpha/projects/earthengine-legacy/maps/ceb5800952e2749a5b38a2c7d938ec53-fcc2cb8d1f06abe81d36d5f1fd69f192/tiles/%7Bz%7D/%7Bx%7D/%7By%7D%22%2C%0A%20%20%20%20%20%20%20%20%20%20%20%20%20%20%20%20%7B%22attribution%22%3A%20%22Google%20Earth%20Engine%22%2C%20%22detectRetina%22%3A%20false%2C%20%22maxNativeZoom%22%3A%2018%2C%20%22maxZoom%22%3A%2018%2C%20%22minZoom%22%3A%200%2C%20%22noWrap%22%3A%20false%2C%20%22opacity%22%3A%201.0%2C%20%22subdomains%22%3A%20%22abc%22%2C%20%22tms%22%3A%20false%7D%0A%20%20%20%20%20%20%20%20%20%20%20%20%29.addTo%28map_b5483afa5f1742bea3763e8a1d4e85d8%29%3B%0A%20%20%20%20%20%20%20%20%0A%20%20%20%20%0A%20%20%20%20%20%20%20%20%20%20%20%20var%20tile_layer_5f681e2248cc44398fbcd7fac0189d17%20%3D%20L.tileLayer%28%0A%20%20%20%20%20%20%20%20%20%20%20%20%20%20%20%20%22https%3A//earthengine.googleapis.com/v1alpha/projects/earthengine-legacy/maps/bd2f46690125b815e3ef87b72b0a12fa-8e6025e232463b8c8d6b7395ddfef049/tiles/%7Bz%7D/%7Bx%7D/%7By%7D%22%2C%0A%20%20%20%20%20%20%20%20%20%20%20%20%20%20%20%20%7B%22attribution%22%3A%20%22Google%20Earth%20Engine%22%2C%20%22detectRetina%22%3A%20false%2C%20%22maxNativeZoom%22%3A%2018%2C%20%22maxZoom%22%3A%2018%2C%20%22minZoom%22%3A%200%2C%20%22noWrap%22%3A%20false%2C%20%22opacity%22%3A%201.0%2C%20%22subdomains%22%3A%20%22abc%22%2C%20%22tms%22%3A%20false%7D%0A%20%20%20%20%20%20%20%20%20%20%20%20%29.addTo%28map_b5483afa5f1742bea3763e8a1d4e85d8%29%3B%0A%20%20%20%20%20%20%20%20%0A%20%20%20%20%0A%20%20%20%20%20%20%20%20%20%20%20%20var%20tile_layer_0101cf7a1f054b74a7414746212ec0ae%20%3D%20L.tileLayer%28%0A%20%20%20%20%20%20%20%20%20%20%20%20%20%20%20%20%22https%3A//earthengine.googleapis.com/v1alpha/projects/earthengine-legacy/maps/ef9ff3519d56e7e29367a7f2415d6f24-9a6cc54f6574a81a7476e50832b6edfb/tiles/%7Bz%7D/%7Bx%7D/%7By%7D%22%2C%0A%20%20%20%20%20%20%20%20%20%20%20%20%20%20%20%20%7B%22attribution%22%3A%20%22Google%20Earth%20Engine%22%2C%20%22detectRetina%22%3A%20false%2C%20%22maxNativeZoom%22%3A%2018%2C%20%22maxZoom%22%3A%2018%2C%20%22minZoom%22%3A%200%2C%20%22noWrap%22%3A%20false%2C%20%22opacity%22%3A%201.0%2C%20%22subdomains%22%3A%20%22abc%22%2C%20%22tms%22%3A%20false%7D%0A%20%20%20%20%20%20%20%20%20%20%20%20%29.addTo%28map_b5483afa5f1742bea3763e8a1d4e85d8%29%3B%0A%20%20%20%20%20%20%20%20%0A%20%20%20%20%0A%20%20%20%20%20%20%20%20%20%20%20%20var%20tile_layer_b5e770ccc89f4c80a72ddb50c74a61b3%20%3D%20L.tileLayer%28%0A%20%20%20%20%20%20%20%20%20%20%20%20%20%20%20%20%22https%3A//earthengine.googleapis.com/v1alpha/projects/earthengine-legacy/maps/31d30ea693f77d06ace891f32eec0583-d0da9f104ed481938d4e140aa2e6a104/tiles/%7Bz%7D/%7Bx%7D/%7By%7D%22%2C%0A%20%20%20%20%20%20%20%20%20%20%20%20%20%20%20%20%7B%22attribution%22%3A%20%22Google%20Earth%20Engine%22%2C%20%22detectRetina%22%3A%20false%2C%20%22maxNativeZoom%22%3A%2018%2C%20%22maxZoom%22%3A%2018%2C%20%22minZoom%22%3A%200%2C%20%22noWrap%22%3A%20false%2C%20%22opacity%22%3A%201.0%2C%20%22subdomains%22%3A%20%22abc%22%2C%20%22tms%22%3A%20false%7D%0A%20%20%20%20%20%20%20%20%20%20%20%20%29.addTo%28map_b5483afa5f1742bea3763e8a1d4e85d8%29%3B%0A%20%20%20%20%20%20%20%20%0A%20%20%20%20%0A%20%20%20%20%20%20%20%20%20%20%20%20var%20tile_layer_21b6b2aca3b74235ad9e7cd5589efc5e%20%3D%20L.tileLayer%28%0A%20%20%20%20%20%20%20%20%20%20%20%20%20%20%20%20%22https%3A//earthengine.googleapis.com/v1alpha/projects/earthengine-legacy/maps/61841e0da11e0b2c893f3fc8d59cb061-1b9abe97237f041f3a4a4c4703b5eec8/tiles/%7Bz%7D/%7Bx%7D/%7By%7D%22%2C%0A%20%20%20%20%20%20%20%20%20%20%20%20%20%20%20%20%7B%22attribution%22%3A%20%22Google%20Earth%20Engine%22%2C%20%22detectRetina%22%3A%20false%2C%20%22maxNativeZoom%22%3A%2018%2C%20%22maxZoom%22%3A%2018%2C%20%22minZoom%22%3A%200%2C%20%22noWrap%22%3A%20false%2C%20%22opacity%22%3A%201.0%2C%20%22subdomains%22%3A%20%22abc%22%2C%20%22tms%22%3A%20false%7D%0A%20%20%20%20%20%20%20%20%20%20%20%20%29.addTo%28map_b5483afa5f1742bea3763e8a1d4e85d8%29%3B%0A%20%20%20%20%20%20%20%20%0A%20%20%20%20%0A%20%20%20%20%20%20%20%20%20%20%20%20var%20tile_layer_2b8ff20ab3ad4df6b7dbf5b281a95ea9%20%3D%20L.tileLayer%28%0A%20%20%20%20%20%20%20%20%20%20%20%20%20%20%20%20%22https%3A//earthengine.googleapis.com/v1alpha/projects/earthengine-legacy/maps/45b2f2cc3c00fb363a0ce14de4121d95-7ee6e20bf459220833328cb3cc76b1e1/tiles/%7Bz%7D/%7Bx%7D/%7By%7D%22%2C%0A%20%20%20%20%20%20%20%20%20%20%20%20%20%20%20%20%7B%22attribution%22%3A%20%22Google%20Earth%20Engine%22%2C%20%22detectRetina%22%3A%20false%2C%20%22maxNativeZoom%22%3A%2018%2C%20%22maxZoom%22%3A%2018%2C%20%22minZoom%22%3A%200%2C%20%22noWrap%22%3A%20false%2C%20%22opacity%22%3A%201.0%2C%20%22subdomains%22%3A%20%22abc%22%2C%20%22tms%22%3A%20false%7D%0A%20%20%20%20%20%20%20%20%20%20%20%20%29.addTo%28map_b5483afa5f1742bea3763e8a1d4e85d8%29%3B%0A%20%20%20%20%20%20%20%20%0A%20%20%20%20%0A%20%20%20%20%20%20%20%20%20%20%20%20var%20tile_layer_83cde2470255484789dcc2e6a7539b00%20%3D%20L.tileLayer%28%0A%20%20%20%20%20%20%20%20%20%20%20%20%20%20%20%20%22https%3A//earthengine.googleapis.com/v1alpha/projects/earthengine-legacy/maps/c377cbf9a9d34514422c305d4125bb3f-9717b0e289a829fcada42a908de96401/tiles/%7Bz%7D/%7Bx%7D/%7By%7D%22%2C%0A%20%20%20%20%20%20%20%20%20%20%20%20%20%20%20%20%7B%22attribution%22%3A%20%22Google%20Earth%20Engine%22%2C%20%22detectRetina%22%3A%20false%2C%20%22maxNativeZoom%22%3A%2018%2C%20%22maxZoom%22%3A%2018%2C%20%22minZoom%22%3A%200%2C%20%22noWrap%22%3A%20false%2C%20%22opacity%22%3A%201.0%2C%20%22subdomains%22%3A%20%22abc%22%2C%20%22tms%22%3A%20false%7D%0A%20%20%20%20%20%20%20%20%20%20%20%20%29.addTo%28map_b5483afa5f1742bea3763e8a1d4e85d8%29%3B%0A%20%20%20%20%20%20%20%20%0A%20%20%20%20%0A%20%20%20%20%20%20%20%20%20%20%20%20var%20tile_layer_ae87e82699fd42da8fd04a3ad19c4205%20%3D%20L.tileLayer%28%0A%20%20%20%20%20%20%20%20%20%20%20%20%20%20%20%20%22https%3A//earthengine.googleapis.com/v1alpha/projects/earthengine-legacy/maps/d5ef70da16b0aae786f06ed564e10888-7f095c63ccf51479477bac7040ec4382/tiles/%7Bz%7D/%7Bx%7D/%7By%7D%22%2C%0A%20%20%20%20%20%20%20%20%20%20%20%20%20%20%20%20%7B%22attribution%22%3A%20%22Google%20Earth%20Engine%22%2C%20%22detectRetina%22%3A%20false%2C%20%22maxNativeZoom%22%3A%2018%2C%20%22maxZoom%22%3A%2018%2C%20%22minZoom%22%3A%200%2C%20%22noWrap%22%3A%20false%2C%20%22opacity%22%3A%201.0%2C%20%22subdomains%22%3A%20%22abc%22%2C%20%22tms%22%3A%20false%7D%0A%20%20%20%20%20%20%20%20%20%20%20%20%29.addTo%28map_b5483afa5f1742bea3763e8a1d4e85d8%29%3B%0A%20%20%20%20%20%20%20%20%0A%20%20%20%20%0A%20%20%20%20%20%20%20%20%20%20%20%20var%20tile_layer_b5a2fea1eb984740b8aec97eed390fbd%20%3D%20L.tileLayer%28%0A%20%20%20%20%20%20%20%20%20%20%20%20%20%20%20%20%22https%3A//earthengine.googleapis.com/v1alpha/projects/earthengine-legacy/maps/9821e177747801c3032e6d6311c33f13-31f3951f5071e63c8cfb3f9110a06062/tiles/%7Bz%7D/%7Bx%7D/%7By%7D%22%2C%0A%20%20%20%20%20%20%20%20%20%20%20%20%20%20%20%20%7B%22attribution%22%3A%20%22Google%20Earth%20Engine%22%2C%20%22detectRetina%22%3A%20false%2C%20%22maxNativeZoom%22%3A%2018%2C%20%22maxZoom%22%3A%2018%2C%20%22minZoom%22%3A%200%2C%20%22noWrap%22%3A%20false%2C%20%22opacity%22%3A%201.0%2C%20%22subdomains%22%3A%20%22abc%22%2C%20%22tms%22%3A%20false%7D%0A%20%20%20%20%20%20%20%20%20%20%20%20%29.addTo%28map_b5483afa5f1742bea3763e8a1d4e85d8%29%3B%0A%20%20%20%20%20%20%20%20%0A%20%20%20%20%0A%20%20%20%20%20%20%20%20%20%20%20%20var%20tile_layer_d9706b5b1d364769898d97089c657967%20%3D%20L.tileLayer%28%0A%20%20%20%20%20%20%20%20%20%20%20%20%20%20%20%20%22https%3A//earthengine.googleapis.com/v1alpha/projects/earthengine-legacy/maps/322d1bde862cad650c6ad208ca7f4c9a-03f135df30b12710669192288ae1c864/tiles/%7Bz%7D/%7Bx%7D/%7By%7D%22%2C%0A%20%20%20%20%20%20%20%20%20%20%20%20%20%20%20%20%7B%22attribution%22%3A%20%22Google%20Earth%20Engine%22%2C%20%22detectRetina%22%3A%20false%2C%20%22maxNativeZoom%22%3A%2018%2C%20%22maxZoom%22%3A%2018%2C%20%22minZoom%22%3A%200%2C%20%22noWrap%22%3A%20false%2C%20%22opacity%22%3A%201.0%2C%20%22subdomains%22%3A%20%22abc%22%2C%20%22tms%22%3A%20false%7D%0A%20%20%20%20%20%20%20%20%20%20%20%20%29.addTo%28map_b5483afa5f1742bea3763e8a1d4e85d8%29%3B%0A%20%20%20%20%20%20%20%20%0A%20%20%20%20%0A%20%20%20%20%20%20%20%20%20%20%20%20var%20tile_layer_1c8202b3363741968e4dc291c588c2de%20%3D%20L.tileLayer%28%0A%20%20%20%20%20%20%20%20%20%20%20%20%20%20%20%20%22https%3A//earthengine.googleapis.com/v1alpha/projects/earthengine-legacy/maps/f8aea809842e9bc428d22a0f234739eb-279be3c5567f594be216093af7ba8793/tiles/%7Bz%7D/%7Bx%7D/%7By%7D%22%2C%0A%20%20%20%20%20%20%20%20%20%20%20%20%20%20%20%20%7B%22attribution%22%3A%20%22Google%20Earth%20Engine%22%2C%20%22detectRetina%22%3A%20false%2C%20%22maxNativeZoom%22%3A%2018%2C%20%22maxZoom%22%3A%2018%2C%20%22minZoom%22%3A%200%2C%20%22noWrap%22%3A%20false%2C%20%22opacity%22%3A%201.0%2C%20%22subdomains%22%3A%20%22abc%22%2C%20%22tms%22%3A%20false%7D%0A%20%20%20%20%20%20%20%20%20%20%20%20%29.addTo%28map_b5483afa5f1742bea3763e8a1d4e85d8%29%3B%0A%20%20%20%20%20%20%20%20%0A%20%20%20%20%0A%20%20%20%20%20%20%20%20%20%20%20%20var%20tile_layer_5466a26fbd054f4cb7dce6c692a184e4%20%3D%20L.tileLayer%28%0A%20%20%20%20%20%20%20%20%20%20%20%20%20%20%20%20%22https%3A//earthengine.googleapis.com/v1alpha/projects/earthengine-legacy/maps/cde2d949028a99784c45257fb749839f-996ee8a0f21e17e7e6eebd4d4a895c59/tiles/%7Bz%7D/%7Bx%7D/%7By%7D%22%2C%0A%20%20%20%20%20%20%20%20%20%20%20%20%20%20%20%20%7B%22attribution%22%3A%20%22Google%20Earth%20Engine%22%2C%20%22detectRetina%22%3A%20false%2C%20%22maxNativeZoom%22%3A%2018%2C%20%22maxZoom%22%3A%2018%2C%20%22minZoom%22%3A%200%2C%20%22noWrap%22%3A%20false%2C%20%22opacity%22%3A%201.0%2C%20%22subdomains%22%3A%20%22abc%22%2C%20%22tms%22%3A%20false%7D%0A%20%20%20%20%20%20%20%20%20%20%20%20%29.addTo%28map_b5483afa5f1742bea3763e8a1d4e85d8%29%3B%0A%20%20%20%20%20%20%20%20%0A%20%20%20%20%0A%20%20%20%20%20%20%20%20%20%20%20%20var%20layer_control_f60b39f565f34db1bac7b480fb53c1c5%20%3D%20%7B%0A%20%20%20%20%20%20%20%20%20%20%20%20%20%20%20%20base_layers%20%3A%20%7B%0A%20%20%20%20%20%20%20%20%20%20%20%20%20%20%20%20%20%20%20%20%22openstreetmap%22%20%3A%20tile_layer_f9033be0895d457d9ff9e819066088a3%2C%0A%20%20%20%20%20%20%20%20%20%20%20%20%20%20%20%20%7D%2C%0A%20%20%20%20%20%20%20%20%20%20%20%20%20%20%20%20overlays%20%3A%20%20%7B%0A%20%20%20%20%20%20%20%20%20%20%20%20%20%20%20%20%20%20%20%20%22Google%20Maps%22%20%3A%20tile_layer_3e81c35485264ae983176d1020583574%2C%0A%20%20%20%20%20%20%20%20%20%20%20%20%20%20%20%20%20%20%20%20%22TUBBS%20before_false_color%22%20%3A%20tile_layer_3460975be3504dd4a98c8f084f8ac67a%2C%0A%20%20%20%20%20%20%20%20%20%20%20%20%20%20%20%20%20%20%20%20%22TUBBS%20true_color_before%22%20%3A%20tile_layer_1f3917b5e3254f5b8df3e68683bec9cf%2C%0A%20%20%20%20%20%20%20%20%20%20%20%20%20%20%20%20%20%20%20%20%22TUBBS%20nir_before%22%20%3A%20tile_layer_b8086b94d9ba4dbda59b51b5607df086%2C%0A%20%20%20%20%20%20%20%20%20%20%20%20%20%20%20%20%20%20%20%20%22TUBBS%20nbr_before%22%20%3A%20tile_layer_d0cd1ad3d18d4261a90091c8ae54c30e%2C%0A%20%20%20%20%20%20%20%20%20%20%20%20%20%20%20%20%20%20%20%20%22TUBBS%20after_false_color%22%20%3A%20tile_layer_46bf1581b19b4f04bf9934de772f1765%2C%0A%20%20%20%20%20%20%20%20%20%20%20%20%20%20%20%20%20%20%20%20%22TUBBS%20true_color_after%22%20%3A%20tile_layer_7985acd637dd4e54b7b993788685e309%2C%0A%20%20%20%20%20%20%20%20%20%20%20%20%20%20%20%20%20%20%20%20%22TUBBS%20nir_after%22%20%3A%20tile_layer_46853d1d2d48402a8f6fc8640b12f298%2C%0A%20%20%20%20%20%20%20%20%20%20%20%20%20%20%20%20%20%20%20%20%22TUBBS%20nbr_after%22%20%3A%20tile_layer_dc1e0706f1574159a9a4e13200235570%2C%0A%20%20%20%20%20%20%20%20%20%20%20%20%20%20%20%20%20%20%20%20%22NUNS%20before_false_color%22%20%3A%20tile_layer_d1bd00fad4a8426790657e34459cd701%2C%0A%20%20%20%20%20%20%20%20%20%20%20%20%20%20%20%20%20%20%20%20%22NUNS%20true_color_before%22%20%3A%20tile_layer_44eb96d4d1b84901bd91a8ffe8da2918%2C%0A%20%20%20%20%20%20%20%20%20%20%20%20%20%20%20%20%20%20%20%20%22NUNS%20nir_before%22%20%3A%20tile_layer_2f1d5835fac6451d987e589f626a2c90%2C%0A%20%20%20%20%20%20%20%20%20%20%20%20%20%20%20%20%20%20%20%20%22NUNS%20nbr_before%22%20%3A%20tile_layer_e8542a53c8f34b3a89ac3a0dcfddda88%2C%0A%20%20%20%20%20%20%20%20%20%20%20%20%20%20%20%20%20%20%20%20%22NUNS%20after_false_color%22%20%3A%20tile_layer_658e46eefdb84d619c78aa518510ba37%2C%0A%20%20%20%20%20%20%20%20%20%20%20%20%20%20%20%20%20%20%20%20%22NUNS%20true_color_after%22%20%3A%20tile_layer_e78d96edd0d441a8a383102ae87c8dc7%2C%0A%20%20%20%20%20%20%20%20%20%20%20%20%20%20%20%20%20%20%20%20%22NUNS%20nir_after%22%20%3A%20tile_layer_5f681e2248cc44398fbcd7fac0189d17%2C%0A%20%20%20%20%20%20%20%20%20%20%20%20%20%20%20%20%20%20%20%20%22NUNS%20nbr_after%22%20%3A%20tile_layer_0101cf7a1f054b74a7414746212ec0ae%2C%0A%20%20%20%20%20%20%20%20%20%20%20%20%20%20%20%20%20%20%20%20%22POCKET%20before_false_color%22%20%3A%20tile_layer_b5e770ccc89f4c80a72ddb50c74a61b3%2C%0A%20%20%20%20%20%20%20%20%20%20%20%20%20%20%20%20%20%20%20%20%22POCKET%20true_color_before%22%20%3A%20tile_layer_21b6b2aca3b74235ad9e7cd5589efc5e%2C%0A%20%20%20%20%20%20%20%20%20%20%20%20%20%20%20%20%20%20%20%20%22POCKET%20nir_before%22%20%3A%20tile_layer_2b8ff20ab3ad4df6b7dbf5b281a95ea9%2C%0A%20%20%20%20%20%20%20%20%20%20%20%20%20%20%20%20%20%20%20%20%22POCKET%20nbr_before%22%20%3A%20tile_layer_83cde2470255484789dcc2e6a7539b00%2C%0A%20%20%20%20%20%20%20%20%20%20%20%20%20%20%20%20%20%20%20%20%22POCKET%20after_false_color%22%20%3A%20tile_layer_ae87e82699fd42da8fd04a3ad19c4205%2C%0A%20%20%20%20%20%20%20%20%20%20%20%20%20%20%20%20%20%20%20%20%22POCKET%20true_color_after%22%20%3A%20tile_layer_b5a2fea1eb984740b8aec97eed390fbd%2C%0A%20%20%20%20%20%20%20%20%20%20%20%20%20%20%20%20%20%20%20%20%22POCKET%20nir_after%22%20%3A%20tile_layer_d9706b5b1d364769898d97089c657967%2C%0A%20%20%20%20%20%20%20%20%20%20%20%20%20%20%20%20%20%20%20%20%22POCKET%20nbr_after%22%20%3A%20tile_layer_1c8202b3363741968e4dc291c588c2de%2C%0A%20%20%20%20%20%20%20%20%20%20%20%20%20%20%20%20%20%20%20%20%22dNBR%22%20%3A%20tile_layer_5466a26fbd054f4cb7dce6c692a184e4%2C%0A%20%20%20%20%20%20%20%20%20%20%20%20%20%20%20%20%7D%2C%0A%20%20%20%20%20%20%20%20%20%20%20%20%7D%3B%0A%20%20%20%20%20%20%20%20%20%20%20%20L.control.layers%28%0A%20%20%20%20%20%20%20%20%20%20%20%20%20%20%20%20layer_control_f60b39f565f34db1bac7b480fb53c1c5.base_layers%2C%0A%20%20%20%20%20%20%20%20%20%20%20%20%20%20%20%20layer_control_f60b39f565f34db1bac7b480fb53c1c5.overlays%2C%0A%20%20%20%20%20%20%20%20%20%20%20%20%20%20%20%20%7B%22autoZIndex%22%3A%20true%2C%20%22collapsed%22%3A%20true%2C%20%22position%22%3A%20%22topright%22%7D%0A%20%20%20%20%20%20%20%20%20%20%20%20%29.addTo%28map_b5483afa5f1742bea3763e8a1d4e85d8%29%3B%0A%20%20%20%20%20%20%20%20%0A%3C/script%3E onload=\"this.contentDocument.open();this.contentDocument.write(    decodeURIComponent(this.getAttribute('data-html')));this.contentDocument.close();\" allowfullscreen webkitallowfullscreen mozallowfullscreen></iframe></div></div>"
            ],
            "text/plain": [
              "<geemap.eefolium.Map at 0x7fe9bddce8d0>"
            ]
          },
          "metadata": {
            "tags": []
          },
          "execution_count": 57
        }
      ]
    },
    {
      "cell_type": "code",
      "metadata": {
        "id": "kuHhdAYHNJtE"
      },
      "source": [
        "# Initializing the histogram\n",
        "hist = dNBR.reduceRegion(reducer=ee.Reducer.histogram(),\n",
        "                                     geometry= box,\n",
        "                                     scale=100,\n",
        "                                     bestEffort=True)\n",
        "bins, counts = hist.getInfo()['NBR']['bucketMeans'], hist.getInfo()['NBR']['histogram']"
      ],
      "execution_count": null,
      "outputs": []
    },
    {
      "cell_type": "code",
      "metadata": {
        "id": "pHHXcmriy7iS",
        "colab": {
          "base_uri": "https://localhost:8080/",
          "height": 206
        },
        "outputId": "24edf12f-1486-4f01-8be5-6d9e96ac4fc0"
      },
      "source": [
        "# Thresholding the severity of the burnt area\n",
        "# https://www.earthdatascience.org/courses/earth-analytics/multispectral-remote-sensing-modis/calculate-dNBR-R-Landsat/\n",
        "df = pd.DataFrame()\n",
        "df[\"SEVERITY LEVEL\"] = [\"Enhanced Regrowth\", \"Unburned\", \"Low Severity\", \"Moderate Severity\", \"High Severity\"]\n",
        "df[\"dNBR_range\"] = [\">-1.\", \"-.1 to .1\", \".1 to .27\", \".27 to .66\", \".66<\"]\n",
        "df"
      ],
      "execution_count": null,
      "outputs": [
        {
          "output_type": "execute_result",
          "data": {
            "text/html": [
              "<div>\n",
              "<style scoped>\n",
              "    .dataframe tbody tr th:only-of-type {\n",
              "        vertical-align: middle;\n",
              "    }\n",
              "\n",
              "    .dataframe tbody tr th {\n",
              "        vertical-align: top;\n",
              "    }\n",
              "\n",
              "    .dataframe thead th {\n",
              "        text-align: right;\n",
              "    }\n",
              "</style>\n",
              "<table border=\"1\" class=\"dataframe\">\n",
              "  <thead>\n",
              "    <tr style=\"text-align: right;\">\n",
              "      <th></th>\n",
              "      <th>SEVERITY LEVEL</th>\n",
              "      <th>dNBR_range</th>\n",
              "    </tr>\n",
              "  </thead>\n",
              "  <tbody>\n",
              "    <tr>\n",
              "      <th>0</th>\n",
              "      <td>Enhanced Regrowth</td>\n",
              "      <td>&gt;-1.</td>\n",
              "    </tr>\n",
              "    <tr>\n",
              "      <th>1</th>\n",
              "      <td>Unburned</td>\n",
              "      <td>-.1 to .1</td>\n",
              "    </tr>\n",
              "    <tr>\n",
              "      <th>2</th>\n",
              "      <td>Low Severity</td>\n",
              "      <td>.1 to .27</td>\n",
              "    </tr>\n",
              "    <tr>\n",
              "      <th>3</th>\n",
              "      <td>Moderate Severity</td>\n",
              "      <td>.27 to .66</td>\n",
              "    </tr>\n",
              "    <tr>\n",
              "      <th>4</th>\n",
              "      <td>High Severity</td>\n",
              "      <td>.66&lt;</td>\n",
              "    </tr>\n",
              "  </tbody>\n",
              "</table>\n",
              "</div>"
            ],
            "text/plain": [
              "      SEVERITY LEVEL  dNBR_range\n",
              "0  Enhanced Regrowth        >-1.\n",
              "1           Unburned   -.1 to .1\n",
              "2       Low Severity   .1 to .27\n",
              "3  Moderate Severity  .27 to .66\n",
              "4      High Severity        .66<"
            ]
          },
          "metadata": {
            "tags": []
          },
          "execution_count": 59
        }
      ]
    },
    {
      "cell_type": "code",
      "metadata": {
        "colab": {
          "base_uri": "https://localhost:8080/",
          "height": 311
        },
        "id": "YSjgxzvMQsWL",
        "outputId": "a7708cfc-97e1-4df8-9c07-ae10b632d70c"
      },
      "source": [
        "# Percentage NBR histogram\n",
        "plt.plot(bins, counts/np.sum(counts), 'r-')\n",
        "plt.ylabel('Percentage NBR')\n",
        "plt.xlabel('NBR value')\n",
        "plt.title('dNBR Threshold Histogram')"
      ],
      "execution_count": null,
      "outputs": [
        {
          "output_type": "execute_result",
          "data": {
            "text/plain": [
              "Text(0.5, 1.0, 'dNBR Threshold Histogram')"
            ]
          },
          "metadata": {
            "tags": []
          },
          "execution_count": 137
        },
        {
          "output_type": "display_data",
          "data": {
            "image/png": "[encoded data removed]",
            "text/plain": [
              "<Figure size 432x288 with 1 Axes>"
            ]
          },
          "metadata": {
            "tags": [],
            "needs_background": "light"
          }
        }
      ]
    },
    {
      "cell_type": "code",
      "metadata": {
        "id": "_I0VPYXlVL_Q"
      },
      "source": [
        "damage_threshold = 0.1\n",
        "major_damage_threshold = 0.5\n",
        "damage_dNBR_mask = dNBR.gt(damage_threshold)\n",
        "major_damage_dNBR_mask = dNBR.gt(major_damage_threshold)"
      ],
      "execution_count": null,
      "outputs": []
    },
    {
      "cell_type": "code",
      "metadata": {
        "id": "mqMA6lK0R-3s"
      },
      "source": [
        "# Initializing Map2\n",
        "Map2 = geemap.Map(center=(lat, lon), zoom=11)\n",
        "\n",
        "# Initializing the masks\n",
        "before_ic = before.qualityMosaic(quality_band)\n",
        "nbr_before = before_ic.normalizedDifference([nir, swir]).rename('NBR')\n",
        "after_ic = after.qualityMosaic(quality_band)\n",
        "nbr_after = after_ic.normalizedDifference([nir, swir]).rename('NBR')\n",
        "\n",
        "area_arr = []\n",
        "dnbr_arr = []\n",
        "false_color_arr = []\n",
        "nir_arr = []\n",
        "\n",
        "for fire in range(len(major_fires)):\n",
        "  box = major_fires['bounding_box'][fire]\n",
        "  fire_name = major_fires['name'][fire]\n",
        "  dNBR_true = dNBR.clip(box)\n",
        "  Map2.addLayer(before_ic.mask(damage_dNBR_mask).clip(box), false_color_vis, fire_name+' before_false_color')\n",
        "  Map2.addLayer(before_ic.mask(damage_dNBR_mask).clip(box),true_color_vis, fire_name+' true_color_before')\n",
        "  Map2.addLayer(before_ic.mask(damage_dNBR_mask).clip(box), nir_vis, fire_name+ ' nir_before')\n",
        "  Map2.addLayer(after_ic.mask(damage_dNBR_mask).clip(box), false_color_vis, fire_name+' after_false_color')\n",
        "  Map2.addLayer(after_ic.mask(damage_dNBR_mask).clip(box),true_color_vis, fire_name+' true_color_after')\n",
        "  Map2.addLayer(after_ic.mask(damage_dNBR_mask).clip(box), nir_vis, fire_name +' nir_after')\n",
        "  Map2.addLayer(dNBR.clip(box).mask(dNBR.clip(box).gt(damage_threshold)), nbr_vis, fire_name + \" dNBR\")\n",
        "  false_color_arr.append(after_ic.mask(damage_dNBR_mask).clip(box).select(['B6', 'B5', 'B4']))\n",
        "  nir_arr.append(after_ic.mask(damage_dNBR_mask).clip(box).select(['B5', 'B4', 'B3']))\n",
        "  dnbr_arr.append(dNBR.clip(box).mask(dNBR.clip(box).gt(damage_threshold)).select('NBR'))\n",
        "  area_arr.append(dNBR.pixelArea().clip(box).mask(dNBR.clip(box).gt(damage_threshold)))"
      ],
      "execution_count": null,
      "outputs": []
    },
    {
      "cell_type": "code",
      "metadata": {
        "colab": {
          "base_uri": "https://localhost:8080/",
          "height": 863
        },
        "id": "gozK4-nZSQbK",
        "outputId": "e2230262-a362-4ad4-a638-406c83388dcd"
      },
      "source": [
        "Map2"
      ],
      "execution_count": null,
      "outputs": [
        {
          "output_type": "execute_result",
          "data": {
            "text/html": [
              "<div style=\"width:100%;\"><div style=\"position:relative;width:100%;height:0;padding-bottom:60%;\"><span style=\"color:#565656\">Make this Notebook Trusted to load map: File -> Trust Notebook</span><iframe src=\"about:blank\" style=\"position:absolute;width:100%;height:100%;left:0;top:0;border:none !important;\" data-html=%3C%21DOCTYPE%20html%3E%0A%3Chead%3E%20%20%20%20%0A%20%20%20%20%3Cmeta%20http-equiv%3D%22content-type%22%20content%3D%22text/html%3B%20charset%3DUTF-8%22%20/%3E%0A%20%20%20%20%0A%20%20%20%20%20%20%20%20%3Cscript%3E%0A%20%20%20%20%20%20%20%20%20%20%20%20L_NO_TOUCH%20%3D%20false%3B%0A%20%20%20%20%20%20%20%20%20%20%20%20L_DISABLE_3D%20%3D%20false%3B%0A%20%20%20%20%20%20%20%20%3C/script%3E%0A%20%20%20%20%0A%20%20%20%20%3Cstyle%3Ehtml%2C%20body%20%7Bwidth%3A%20100%25%3Bheight%3A%20100%25%3Bmargin%3A%200%3Bpadding%3A%200%3B%7D%3C/style%3E%0A%20%20%20%20%3Cstyle%3E%23map%20%7Bposition%3Aabsolute%3Btop%3A0%3Bbottom%3A0%3Bright%3A0%3Bleft%3A0%3B%7D%3C/style%3E%0A%20%20%20%20%3Cscript%20src%3D%22https%3A//cdn.jsdelivr.net/npm/leaflet%401.6.0/dist/leaflet.js%22%3E%3C/script%3E%0A%20%20%20%20%3Cscript%20src%3D%22https%3A//code.jquery.com/jquery-1.12.4.min.js%22%3E%3C/script%3E%0A%20%20%20%20%3Cscript%20src%3D%22https%3A//maxcdn.bootstrapcdn.com/bootstrap/3.2.0/js/bootstrap.min.js%22%3E%3C/script%3E%0A%20%20%20%20%3Cscript%20src%3D%22https%3A//cdnjs.cloudflare.com/ajax/libs/Leaflet.awesome-markers/2.0.2/leaflet.awesome-markers.js%22%3E%3C/script%3E%0A%20%20%20%20%3Clink%20rel%3D%22stylesheet%22%20href%3D%22https%3A//cdn.jsdelivr.net/npm/leaflet%401.6.0/dist/leaflet.css%22/%3E%0A%20%20%20%20%3Clink%20rel%3D%22stylesheet%22%20href%3D%22https%3A//maxcdn.bootstrapcdn.com/bootstrap/3.2.0/css/bootstrap.min.css%22/%3E%0A%20%20%20%20%3Clink%20rel%3D%22stylesheet%22%20href%3D%22https%3A//maxcdn.bootstrapcdn.com/bootstrap/3.2.0/css/bootstrap-theme.min.css%22/%3E%0A%20%20%20%20%3Clink%20rel%3D%22stylesheet%22%20href%3D%22https%3A//maxcdn.bootstrapcdn.com/font-awesome/4.6.3/css/font-awesome.min.css%22/%3E%0A%20%20%20%20%3Clink%20rel%3D%22stylesheet%22%20href%3D%22https%3A//cdnjs.cloudflare.com/ajax/libs/Leaflet.awesome-markers/2.0.2/leaflet.awesome-markers.css%22/%3E%0A%20%20%20%20%3Clink%20rel%3D%22stylesheet%22%20href%3D%22https%3A//cdn.jsdelivr.net/gh/python-visualization/folium/folium/templates/leaflet.awesome.rotate.min.css%22/%3E%0A%20%20%20%20%0A%20%20%20%20%20%20%20%20%20%20%20%20%3Cmeta%20name%3D%22viewport%22%20content%3D%22width%3Ddevice-width%2C%0A%20%20%20%20%20%20%20%20%20%20%20%20%20%20%20%20initial-scale%3D1.0%2C%20maximum-scale%3D1.0%2C%20user-scalable%3Dno%22%20/%3E%0A%20%20%20%20%20%20%20%20%20%20%20%20%3Cstyle%3E%0A%20%20%20%20%20%20%20%20%20%20%20%20%20%20%20%20%23map_a6951a6afc804ae784d042d41b5ddbb5%20%7B%0A%20%20%20%20%20%20%20%20%20%20%20%20%20%20%20%20%20%20%20%20position%3A%20relative%3B%0A%20%20%20%20%20%20%20%20%20%20%20%20%20%20%20%20%20%20%20%20width%3A%20100.0%25%3B%0A%20%20%20%20%20%20%20%20%20%20%20%20%20%20%20%20%20%20%20%20height%3A%20100.0%25%3B%0A%20%20%20%20%20%20%20%20%20%20%20%20%20%20%20%20%20%20%20%20left%3A%200.0%25%3B%0A%20%20%20%20%20%20%20%20%20%20%20%20%20%20%20%20%20%20%20%20top%3A%200.0%25%3B%0A%20%20%20%20%20%20%20%20%20%20%20%20%20%20%20%20%7D%0A%20%20%20%20%20%20%20%20%20%20%20%20%3C/style%3E%0A%20%20%20%20%20%20%20%20%0A%20%20%20%20%3Cscript%20src%3D%22https%3A//cdnjs.cloudflare.com/ajax/libs/leaflet.fullscreen/1.4.2/Control.FullScreen.min.js%22%3E%3C/script%3E%0A%20%20%20%20%3Clink%20rel%3D%22stylesheet%22%20href%3D%22https%3A//cdnjs.cloudflare.com/ajax/libs/leaflet.fullscreen/1.4.2/Control.FullScreen.min.css%22/%3E%0A%3C/head%3E%0A%3Cbody%3E%20%20%20%20%0A%20%20%20%20%0A%20%20%20%20%20%20%20%20%20%20%20%20%3Cdiv%20class%3D%22folium-map%22%20id%3D%22map_a6951a6afc804ae784d042d41b5ddbb5%22%20%3E%3C/div%3E%0A%20%20%20%20%20%20%20%20%0A%3C/body%3E%0A%3Cscript%3E%20%20%20%20%0A%20%20%20%20%0A%20%20%20%20%20%20%20%20%20%20%20%20var%20map_a6951a6afc804ae784d042d41b5ddbb5%20%3D%20L.map%28%0A%20%20%20%20%20%20%20%20%20%20%20%20%20%20%20%20%22map_a6951a6afc804ae784d042d41b5ddbb5%22%2C%0A%20%20%20%20%20%20%20%20%20%20%20%20%20%20%20%20%7B%0A%20%20%20%20%20%20%20%20%20%20%20%20%20%20%20%20%20%20%20%20center%3A%20%5B38.60895%2C%20-122.62879%5D%2C%0A%20%20%20%20%20%20%20%20%20%20%20%20%20%20%20%20%20%20%20%20crs%3A%20L.CRS.EPSG3857%2C%0A%20%20%20%20%20%20%20%20%20%20%20%20%20%20%20%20%20%20%20%20zoom%3A%2011%2C%0A%20%20%20%20%20%20%20%20%20%20%20%20%20%20%20%20%20%20%20%20zoomControl%3A%20true%2C%0A%20%20%20%20%20%20%20%20%20%20%20%20%20%20%20%20%20%20%20%20preferCanvas%3A%20false%2C%0A%20%20%20%20%20%20%20%20%20%20%20%20%20%20%20%20%20%20%20%20eeInitialize%3A%20true%2C%0A%20%20%20%20%20%20%20%20%20%20%20%20%20%20%20%20%20%20%20%20addGoogleMap%3A%20true%2C%0A%20%20%20%20%20%20%20%20%20%20%20%20%20%20%20%20%20%20%20%20pluginLatlngpopup%3A%20true%2C%0A%20%20%20%20%20%20%20%20%20%20%20%20%20%20%20%20%20%20%20%20pluginFullscreen%3A%20true%2C%0A%20%20%20%20%20%20%20%20%20%20%20%20%20%20%20%20%20%20%20%20pluginDraw%3A%20false%2C%0A%20%20%20%20%20%20%20%20%20%20%20%20%20%20%20%20%20%20%20%20DrawExport%3A%20true%2C%0A%20%20%20%20%20%20%20%20%20%20%20%20%20%20%20%20%20%20%20%20pluginMinimap%3A%20false%2C%0A%20%20%20%20%20%20%20%20%20%20%20%20%20%20%20%20%20%20%20%20pluginLayercontrol%3A%20false%2C%0A%20%20%20%20%20%20%20%20%20%20%20%20%20%20%20%20%7D%0A%20%20%20%20%20%20%20%20%20%20%20%20%29%3B%0A%0A%20%20%20%20%20%20%20%20%20%20%20%20%0A%0A%20%20%20%20%20%20%20%20%0A%20%20%20%20%0A%20%20%20%20%20%20%20%20%20%20%20%20var%20tile_layer_3c934dc8d1534c1e80021ceeccedd17a%20%3D%20L.tileLayer%28%0A%20%20%20%20%20%20%20%20%20%20%20%20%20%20%20%20%22https%3A//%7Bs%7D.tile.openstreetmap.org/%7Bz%7D/%7Bx%7D/%7By%7D.png%22%2C%0A%20%20%20%20%20%20%20%20%20%20%20%20%20%20%20%20%7B%22attribution%22%3A%20%22Data%20by%20%5Cu0026copy%3B%20%5Cu003ca%20href%3D%5C%22http%3A//openstreetmap.org%5C%22%5Cu003eOpenStreetMap%5Cu003c/a%5Cu003e%2C%20under%20%5Cu003ca%20href%3D%5C%22http%3A//www.openstreetmap.org/copyright%5C%22%5Cu003eODbL%5Cu003c/a%5Cu003e.%22%2C%20%22detectRetina%22%3A%20false%2C%20%22maxNativeZoom%22%3A%2018%2C%20%22maxZoom%22%3A%2018%2C%20%22minZoom%22%3A%200%2C%20%22noWrap%22%3A%20false%2C%20%22opacity%22%3A%201%2C%20%22subdomains%22%3A%20%22abc%22%2C%20%22tms%22%3A%20false%7D%0A%20%20%20%20%20%20%20%20%20%20%20%20%29.addTo%28map_a6951a6afc804ae784d042d41b5ddbb5%29%3B%0A%20%20%20%20%20%20%20%20%0A%20%20%20%20%0A%20%20%20%20%20%20%20%20%20%20%20%20var%20tile_layer_3e81c35485264ae983176d1020583574%20%3D%20L.tileLayer%28%0A%20%20%20%20%20%20%20%20%20%20%20%20%20%20%20%20%22https%3A//mt1.google.com/vt/lyrs%3Dm%5Cu0026x%3D%7Bx%7D%5Cu0026y%3D%7By%7D%5Cu0026z%3D%7Bz%7D%22%2C%0A%20%20%20%20%20%20%20%20%20%20%20%20%20%20%20%20%7B%22attribution%22%3A%20%22Google%22%2C%20%22detectRetina%22%3A%20false%2C%20%22maxNativeZoom%22%3A%2018%2C%20%22maxZoom%22%3A%2018%2C%20%22minZoom%22%3A%200%2C%20%22noWrap%22%3A%20false%2C%20%22opacity%22%3A%201%2C%20%22subdomains%22%3A%20%22abc%22%2C%20%22tms%22%3A%20false%7D%0A%20%20%20%20%20%20%20%20%20%20%20%20%29.addTo%28map_a6951a6afc804ae784d042d41b5ddbb5%29%3B%0A%20%20%20%20%20%20%20%20%0A%20%20%20%20%0A%20%20%20%20%20%20%20%20%20%20%20%20%20%20%20%20var%20lat_lng_popup_764e16521e32436cac97fe01a475a338%20%3D%20L.popup%28%29%3B%0A%20%20%20%20%20%20%20%20%20%20%20%20%20%20%20%20function%20latLngPop%28e%29%20%7B%0A%20%20%20%20%20%20%20%20%20%20%20%20%20%20%20%20%20%20%20%20lat_lng_popup_764e16521e32436cac97fe01a475a338%0A%20%20%20%20%20%20%20%20%20%20%20%20%20%20%20%20%20%20%20%20%20%20%20%20.setLatLng%28e.latlng%29%0A%20%20%20%20%20%20%20%20%20%20%20%20%20%20%20%20%20%20%20%20%20%20%20%20.setContent%28%22Latitude%3A%20%22%20%2B%20e.latlng.lat.toFixed%284%29%20%2B%0A%20%20%20%20%20%20%20%20%20%20%20%20%20%20%20%20%20%20%20%20%20%20%20%20%20%20%20%20%20%20%20%20%20%20%20%20%22%3Cbr%3ELongitude%3A%20%22%20%2B%20e.latlng.lng.toFixed%284%29%29%0A%20%20%20%20%20%20%20%20%20%20%20%20%20%20%20%20%20%20%20%20%20%20%20%20.openOn%28map_a6951a6afc804ae784d042d41b5ddbb5%29%3B%0A%20%20%20%20%20%20%20%20%20%20%20%20%20%20%20%20%20%20%20%20%7D%0A%20%20%20%20%20%20%20%20%20%20%20%20%20%20%20%20map_a6951a6afc804ae784d042d41b5ddbb5.on%28%27click%27%2C%20latLngPop%29%3B%0A%20%20%20%20%20%20%20%20%20%20%20%20%0A%20%20%20%20%0A%20%20%20%20%20%20%20%20%20%20%20%20L.control.fullscreen%28%0A%20%20%20%20%20%20%20%20%20%20%20%20%20%20%20%20%7B%22forceSeparateButton%22%3A%20false%2C%20%22position%22%3A%20%22topleft%22%2C%20%22title%22%3A%20%22Full%20Screen%22%2C%20%22titleCancel%22%3A%20%22Exit%20Full%20Screen%22%7D%0A%20%20%20%20%20%20%20%20%20%20%20%20%29.addTo%28map_a6951a6afc804ae784d042d41b5ddbb5%29%3B%0A%20%20%20%20%20%20%20%20%0A%20%20%20%20%0A%20%20%20%20%20%20%20%20%20%20%20%20map_a6951a6afc804ae784d042d41b5ddbb5.fitBounds%28%0A%20%20%20%20%20%20%20%20%20%20%20%20%20%20%20%20%5B%5B38.60895%2C%20-122.62879%5D%2C%20%5B38.60895%2C%20-122.62879%5D%5D%2C%0A%20%20%20%20%20%20%20%20%20%20%20%20%20%20%20%20%7B%22maxZoom%22%3A%2011%7D%0A%20%20%20%20%20%20%20%20%20%20%20%20%29%3B%0A%20%20%20%20%20%20%20%20%0A%20%20%20%20%0A%20%20%20%20%20%20%20%20%20%20%20%20var%20tile_layer_1573c61ab73f4b9d898b6180f69cecee%20%3D%20L.tileLayer%28%0A%20%20%20%20%20%20%20%20%20%20%20%20%20%20%20%20%22https%3A//earthengine.googleapis.com/v1alpha/projects/earthengine-legacy/maps/43825e925664a03da4b65f8191074ac0-466ee46ac4e97d34029f1f4a6fea7d46/tiles/%7Bz%7D/%7Bx%7D/%7By%7D%22%2C%0A%20%20%20%20%20%20%20%20%20%20%20%20%20%20%20%20%7B%22attribution%22%3A%20%22Google%20Earth%20Engine%22%2C%20%22detectRetina%22%3A%20false%2C%20%22maxNativeZoom%22%3A%2018%2C%20%22maxZoom%22%3A%2018%2C%20%22minZoom%22%3A%200%2C%20%22noWrap%22%3A%20false%2C%20%22opacity%22%3A%201.0%2C%20%22subdomains%22%3A%20%22abc%22%2C%20%22tms%22%3A%20false%7D%0A%20%20%20%20%20%20%20%20%20%20%20%20%29.addTo%28map_a6951a6afc804ae784d042d41b5ddbb5%29%3B%0A%20%20%20%20%20%20%20%20%0A%20%20%20%20%0A%20%20%20%20%20%20%20%20%20%20%20%20var%20tile_layer_17122ea7e918429fb1913576aae1fe17%20%3D%20L.tileLayer%28%0A%20%20%20%20%20%20%20%20%20%20%20%20%20%20%20%20%22https%3A//earthengine.googleapis.com/v1alpha/projects/earthengine-legacy/maps/c711b3723c0c3c2d547cd7e37ab1c4b1-ddc31ad28179f6847ee809d321e0637a/tiles/%7Bz%7D/%7Bx%7D/%7By%7D%22%2C%0A%20%20%20%20%20%20%20%20%20%20%20%20%20%20%20%20%7B%22attribution%22%3A%20%22Google%20Earth%20Engine%22%2C%20%22detectRetina%22%3A%20false%2C%20%22maxNativeZoom%22%3A%2018%2C%20%22maxZoom%22%3A%2018%2C%20%22minZoom%22%3A%200%2C%20%22noWrap%22%3A%20false%2C%20%22opacity%22%3A%201.0%2C%20%22subdomains%22%3A%20%22abc%22%2C%20%22tms%22%3A%20false%7D%0A%20%20%20%20%20%20%20%20%20%20%20%20%29.addTo%28map_a6951a6afc804ae784d042d41b5ddbb5%29%3B%0A%20%20%20%20%20%20%20%20%0A%20%20%20%20%0A%20%20%20%20%20%20%20%20%20%20%20%20var%20tile_layer_cfe22b24343544549cda0f08ee3daefd%20%3D%20L.tileLayer%28%0A%20%20%20%20%20%20%20%20%20%20%20%20%20%20%20%20%22https%3A//earthengine.googleapis.com/v1alpha/projects/earthengine-legacy/maps/760da9d62e1e1d016545dd147dfc4c2f-5c7420ef071274a0f07ceb0082cdd5f2/tiles/%7Bz%7D/%7Bx%7D/%7By%7D%22%2C%0A%20%20%20%20%20%20%20%20%20%20%20%20%20%20%20%20%7B%22attribution%22%3A%20%22Google%20Earth%20Engine%22%2C%20%22detectRetina%22%3A%20false%2C%20%22maxNativeZoom%22%3A%2018%2C%20%22maxZoom%22%3A%2018%2C%20%22minZoom%22%3A%200%2C%20%22noWrap%22%3A%20false%2C%20%22opacity%22%3A%201.0%2C%20%22subdomains%22%3A%20%22abc%22%2C%20%22tms%22%3A%20false%7D%0A%20%20%20%20%20%20%20%20%20%20%20%20%29.addTo%28map_a6951a6afc804ae784d042d41b5ddbb5%29%3B%0A%20%20%20%20%20%20%20%20%0A%20%20%20%20%0A%20%20%20%20%20%20%20%20%20%20%20%20var%20tile_layer_0b2b2cd9d2ad4274856e255718c2c535%20%3D%20L.tileLayer%28%0A%20%20%20%20%20%20%20%20%20%20%20%20%20%20%20%20%22https%3A//earthengine.googleapis.com/v1alpha/projects/earthengine-legacy/maps/e32726eb30141873c7e63d09ccec1d42-438989968ffbca3dd635c5ac12c2e0b2/tiles/%7Bz%7D/%7Bx%7D/%7By%7D%22%2C%0A%20%20%20%20%20%20%20%20%20%20%20%20%20%20%20%20%7B%22attribution%22%3A%20%22Google%20Earth%20Engine%22%2C%20%22detectRetina%22%3A%20false%2C%20%22maxNativeZoom%22%3A%2018%2C%20%22maxZoom%22%3A%2018%2C%20%22minZoom%22%3A%200%2C%20%22noWrap%22%3A%20false%2C%20%22opacity%22%3A%201.0%2C%20%22subdomains%22%3A%20%22abc%22%2C%20%22tms%22%3A%20false%7D%0A%20%20%20%20%20%20%20%20%20%20%20%20%29.addTo%28map_a6951a6afc804ae784d042d41b5ddbb5%29%3B%0A%20%20%20%20%20%20%20%20%0A%20%20%20%20%0A%20%20%20%20%20%20%20%20%20%20%20%20var%20tile_layer_059ea41376444941ace1e954dd7b54f0%20%3D%20L.tileLayer%28%0A%20%20%20%20%20%20%20%20%20%20%20%20%20%20%20%20%22https%3A//earthengine.googleapis.com/v1alpha/projects/earthengine-legacy/maps/75af639f3d456d053e1d7f2d4a77e895-72ab47eb322863709f115ef8f1d0506d/tiles/%7Bz%7D/%7Bx%7D/%7By%7D%22%2C%0A%20%20%20%20%20%20%20%20%20%20%20%20%20%20%20%20%7B%22attribution%22%3A%20%22Google%20Earth%20Engine%22%2C%20%22detectRetina%22%3A%20false%2C%20%22maxNativeZoom%22%3A%2018%2C%20%22maxZoom%22%3A%2018%2C%20%22minZoom%22%3A%200%2C%20%22noWrap%22%3A%20false%2C%20%22opacity%22%3A%201.0%2C%20%22subdomains%22%3A%20%22abc%22%2C%20%22tms%22%3A%20false%7D%0A%20%20%20%20%20%20%20%20%20%20%20%20%29.addTo%28map_a6951a6afc804ae784d042d41b5ddbb5%29%3B%0A%20%20%20%20%20%20%20%20%0A%20%20%20%20%0A%20%20%20%20%20%20%20%20%20%20%20%20var%20tile_layer_411e420810174ddda2024cdd70ee4295%20%3D%20L.tileLayer%28%0A%20%20%20%20%20%20%20%20%20%20%20%20%20%20%20%20%22https%3A//earthengine.googleapis.com/v1alpha/projects/earthengine-legacy/maps/965cd5f2a3f65ee61ee487e94ada1be8-f53445a3647b52a52521e29fb5d96fc2/tiles/%7Bz%7D/%7Bx%7D/%7By%7D%22%2C%0A%20%20%20%20%20%20%20%20%20%20%20%20%20%20%20%20%7B%22attribution%22%3A%20%22Google%20Earth%20Engine%22%2C%20%22detectRetina%22%3A%20false%2C%20%22maxNativeZoom%22%3A%2018%2C%20%22maxZoom%22%3A%2018%2C%20%22minZoom%22%3A%200%2C%20%22noWrap%22%3A%20false%2C%20%22opacity%22%3A%201.0%2C%20%22subdomains%22%3A%20%22abc%22%2C%20%22tms%22%3A%20false%7D%0A%20%20%20%20%20%20%20%20%20%20%20%20%29.addTo%28map_a6951a6afc804ae784d042d41b5ddbb5%29%3B%0A%20%20%20%20%20%20%20%20%0A%20%20%20%20%0A%20%20%20%20%20%20%20%20%20%20%20%20var%20tile_layer_4d40573353c4496fb1a62be07bd8f73a%20%3D%20L.tileLayer%28%0A%20%20%20%20%20%20%20%20%20%20%20%20%20%20%20%20%22https%3A//earthengine.googleapis.com/v1alpha/projects/earthengine-legacy/maps/ad2993c8d72ba4d8d6dac557a9be47b3-aa0962fb64817b899e49cfebf7d41057/tiles/%7Bz%7D/%7Bx%7D/%7By%7D%22%2C%0A%20%20%20%20%20%20%20%20%20%20%20%20%20%20%20%20%7B%22attribution%22%3A%20%22Google%20Earth%20Engine%22%2C%20%22detectRetina%22%3A%20false%2C%20%22maxNativeZoom%22%3A%2018%2C%20%22maxZoom%22%3A%2018%2C%20%22minZoom%22%3A%200%2C%20%22noWrap%22%3A%20false%2C%20%22opacity%22%3A%201.0%2C%20%22subdomains%22%3A%20%22abc%22%2C%20%22tms%22%3A%20false%7D%0A%20%20%20%20%20%20%20%20%20%20%20%20%29.addTo%28map_a6951a6afc804ae784d042d41b5ddbb5%29%3B%0A%20%20%20%20%20%20%20%20%0A%20%20%20%20%0A%20%20%20%20%20%20%20%20%20%20%20%20var%20tile_layer_e11b574310f6423cab517d516e3995bf%20%3D%20L.tileLayer%28%0A%20%20%20%20%20%20%20%20%20%20%20%20%20%20%20%20%22https%3A//earthengine.googleapis.com/v1alpha/projects/earthengine-legacy/maps/be4ca3154fca42e49fea4e173c5ccd24-ab0282b4ed777c700a3cc4834d5f2803/tiles/%7Bz%7D/%7Bx%7D/%7By%7D%22%2C%0A%20%20%20%20%20%20%20%20%20%20%20%20%20%20%20%20%7B%22attribution%22%3A%20%22Google%20Earth%20Engine%22%2C%20%22detectRetina%22%3A%20false%2C%20%22maxNativeZoom%22%3A%2018%2C%20%22maxZoom%22%3A%2018%2C%20%22minZoom%22%3A%200%2C%20%22noWrap%22%3A%20false%2C%20%22opacity%22%3A%201.0%2C%20%22subdomains%22%3A%20%22abc%22%2C%20%22tms%22%3A%20false%7D%0A%20%20%20%20%20%20%20%20%20%20%20%20%29.addTo%28map_a6951a6afc804ae784d042d41b5ddbb5%29%3B%0A%20%20%20%20%20%20%20%20%0A%20%20%20%20%0A%20%20%20%20%20%20%20%20%20%20%20%20var%20tile_layer_f8220021ff6d432392ab70c263527204%20%3D%20L.tileLayer%28%0A%20%20%20%20%20%20%20%20%20%20%20%20%20%20%20%20%22https%3A//earthengine.googleapis.com/v1alpha/projects/earthengine-legacy/maps/07c70c6537710eadcdfb3e003cbc002a-82417adb6d403b2a7fb1a350e15f48b2/tiles/%7Bz%7D/%7Bx%7D/%7By%7D%22%2C%0A%20%20%20%20%20%20%20%20%20%20%20%20%20%20%20%20%7B%22attribution%22%3A%20%22Google%20Earth%20Engine%22%2C%20%22detectRetina%22%3A%20false%2C%20%22maxNativeZoom%22%3A%2018%2C%20%22maxZoom%22%3A%2018%2C%20%22minZoom%22%3A%200%2C%20%22noWrap%22%3A%20false%2C%20%22opacity%22%3A%201.0%2C%20%22subdomains%22%3A%20%22abc%22%2C%20%22tms%22%3A%20false%7D%0A%20%20%20%20%20%20%20%20%20%20%20%20%29.addTo%28map_a6951a6afc804ae784d042d41b5ddbb5%29%3B%0A%20%20%20%20%20%20%20%20%0A%20%20%20%20%0A%20%20%20%20%20%20%20%20%20%20%20%20var%20tile_layer_290c0cb0b8264fe58300c64386190e2f%20%3D%20L.tileLayer%28%0A%20%20%20%20%20%20%20%20%20%20%20%20%20%20%20%20%22https%3A//earthengine.googleapis.com/v1alpha/projects/earthengine-legacy/maps/9713e79d1192f82718686107ba626ca3-c4261ec3f2a9ac601a561f41977f89a6/tiles/%7Bz%7D/%7Bx%7D/%7By%7D%22%2C%0A%20%20%20%20%20%20%20%20%20%20%20%20%20%20%20%20%7B%22attribution%22%3A%20%22Google%20Earth%20Engine%22%2C%20%22detectRetina%22%3A%20false%2C%20%22maxNativeZoom%22%3A%2018%2C%20%22maxZoom%22%3A%2018%2C%20%22minZoom%22%3A%200%2C%20%22noWrap%22%3A%20false%2C%20%22opacity%22%3A%201.0%2C%20%22subdomains%22%3A%20%22abc%22%2C%20%22tms%22%3A%20false%7D%0A%20%20%20%20%20%20%20%20%20%20%20%20%29.addTo%28map_a6951a6afc804ae784d042d41b5ddbb5%29%3B%0A%20%20%20%20%20%20%20%20%0A%20%20%20%20%0A%20%20%20%20%20%20%20%20%20%20%20%20var%20tile_layer_f22892b3927b4265aa8fb4d5258d1e8e%20%3D%20L.tileLayer%28%0A%20%20%20%20%20%20%20%20%20%20%20%20%20%20%20%20%22https%3A//earthengine.googleapis.com/v1alpha/projects/earthengine-legacy/maps/288e71647cf94d214f1801c4bfe5d98d-5a184a17c590dfbd4b02a093c2b6f9db/tiles/%7Bz%7D/%7Bx%7D/%7By%7D%22%2C%0A%20%20%20%20%20%20%20%20%20%20%20%20%20%20%20%20%7B%22attribution%22%3A%20%22Google%20Earth%20Engine%22%2C%20%22detectRetina%22%3A%20false%2C%20%22maxNativeZoom%22%3A%2018%2C%20%22maxZoom%22%3A%2018%2C%20%22minZoom%22%3A%200%2C%20%22noWrap%22%3A%20false%2C%20%22opacity%22%3A%201.0%2C%20%22subdomains%22%3A%20%22abc%22%2C%20%22tms%22%3A%20false%7D%0A%20%20%20%20%20%20%20%20%20%20%20%20%29.addTo%28map_a6951a6afc804ae784d042d41b5ddbb5%29%3B%0A%20%20%20%20%20%20%20%20%0A%20%20%20%20%0A%20%20%20%20%20%20%20%20%20%20%20%20var%20tile_layer_bb3234f9fda747d399c02afa3593e167%20%3D%20L.tileLayer%28%0A%20%20%20%20%20%20%20%20%20%20%20%20%20%20%20%20%22https%3A//earthengine.googleapis.com/v1alpha/projects/earthengine-legacy/maps/c14892800a4f1a22f66a03fa22ffe1cf-f44fbe2a4913386577e70a3a186a2651/tiles/%7Bz%7D/%7Bx%7D/%7By%7D%22%2C%0A%20%20%20%20%20%20%20%20%20%20%20%20%20%20%20%20%7B%22attribution%22%3A%20%22Google%20Earth%20Engine%22%2C%20%22detectRetina%22%3A%20false%2C%20%22maxNativeZoom%22%3A%2018%2C%20%22maxZoom%22%3A%2018%2C%20%22minZoom%22%3A%200%2C%20%22noWrap%22%3A%20false%2C%20%22opacity%22%3A%201.0%2C%20%22subdomains%22%3A%20%22abc%22%2C%20%22tms%22%3A%20false%7D%0A%20%20%20%20%20%20%20%20%20%20%20%20%29.addTo%28map_a6951a6afc804ae784d042d41b5ddbb5%29%3B%0A%20%20%20%20%20%20%20%20%0A%20%20%20%20%0A%20%20%20%20%20%20%20%20%20%20%20%20var%20tile_layer_60e6eca9403b4fd4b96f4e6cf658eff0%20%3D%20L.tileLayer%28%0A%20%20%20%20%20%20%20%20%20%20%20%20%20%20%20%20%22https%3A//earthengine.googleapis.com/v1alpha/projects/earthengine-legacy/maps/268b77c0d2168749e5f69e6484835eee-a0981c404b76909c09a3474e9df87feb/tiles/%7Bz%7D/%7Bx%7D/%7By%7D%22%2C%0A%20%20%20%20%20%20%20%20%20%20%20%20%20%20%20%20%7B%22attribution%22%3A%20%22Google%20Earth%20Engine%22%2C%20%22detectRetina%22%3A%20false%2C%20%22maxNativeZoom%22%3A%2018%2C%20%22maxZoom%22%3A%2018%2C%20%22minZoom%22%3A%200%2C%20%22noWrap%22%3A%20false%2C%20%22opacity%22%3A%201.0%2C%20%22subdomains%22%3A%20%22abc%22%2C%20%22tms%22%3A%20false%7D%0A%20%20%20%20%20%20%20%20%20%20%20%20%29.addTo%28map_a6951a6afc804ae784d042d41b5ddbb5%29%3B%0A%20%20%20%20%20%20%20%20%0A%20%20%20%20%0A%20%20%20%20%20%20%20%20%20%20%20%20var%20tile_layer_f567e76813854244b1ebc8688051a24a%20%3D%20L.tileLayer%28%0A%20%20%20%20%20%20%20%20%20%20%20%20%20%20%20%20%22https%3A//earthengine.googleapis.com/v1alpha/projects/earthengine-legacy/maps/f8dde14aca3377c7c61cb5c9839add44-3c97dfb760a2e98b69529b4baabd5b11/tiles/%7Bz%7D/%7Bx%7D/%7By%7D%22%2C%0A%20%20%20%20%20%20%20%20%20%20%20%20%20%20%20%20%7B%22attribution%22%3A%20%22Google%20Earth%20Engine%22%2C%20%22detectRetina%22%3A%20false%2C%20%22maxNativeZoom%22%3A%2018%2C%20%22maxZoom%22%3A%2018%2C%20%22minZoom%22%3A%200%2C%20%22noWrap%22%3A%20false%2C%20%22opacity%22%3A%201.0%2C%20%22subdomains%22%3A%20%22abc%22%2C%20%22tms%22%3A%20false%7D%0A%20%20%20%20%20%20%20%20%20%20%20%20%29.addTo%28map_a6951a6afc804ae784d042d41b5ddbb5%29%3B%0A%20%20%20%20%20%20%20%20%0A%20%20%20%20%0A%20%20%20%20%20%20%20%20%20%20%20%20var%20tile_layer_9fbf061e96c14b9aac5e6f78222c449d%20%3D%20L.tileLayer%28%0A%20%20%20%20%20%20%20%20%20%20%20%20%20%20%20%20%22https%3A//earthengine.googleapis.com/v1alpha/projects/earthengine-legacy/maps/379a0fa355c61b101c2f8655d0eba146-a984cb4611edff4faf46757c924ea68c/tiles/%7Bz%7D/%7Bx%7D/%7By%7D%22%2C%0A%20%20%20%20%20%20%20%20%20%20%20%20%20%20%20%20%7B%22attribution%22%3A%20%22Google%20Earth%20Engine%22%2C%20%22detectRetina%22%3A%20false%2C%20%22maxNativeZoom%22%3A%2018%2C%20%22maxZoom%22%3A%2018%2C%20%22minZoom%22%3A%200%2C%20%22noWrap%22%3A%20false%2C%20%22opacity%22%3A%201.0%2C%20%22subdomains%22%3A%20%22abc%22%2C%20%22tms%22%3A%20false%7D%0A%20%20%20%20%20%20%20%20%20%20%20%20%29.addTo%28map_a6951a6afc804ae784d042d41b5ddbb5%29%3B%0A%20%20%20%20%20%20%20%20%0A%20%20%20%20%0A%20%20%20%20%20%20%20%20%20%20%20%20var%20tile_layer_0f2434e499474ea391f404c74d20857c%20%3D%20L.tileLayer%28%0A%20%20%20%20%20%20%20%20%20%20%20%20%20%20%20%20%22https%3A//earthengine.googleapis.com/v1alpha/projects/earthengine-legacy/maps/b8ae6bb8dd93924c68aaf10d4fc5b745-c94fffe4fbf6ba9ed31ac9ea9366a17c/tiles/%7Bz%7D/%7Bx%7D/%7By%7D%22%2C%0A%20%20%20%20%20%20%20%20%20%20%20%20%20%20%20%20%7B%22attribution%22%3A%20%22Google%20Earth%20Engine%22%2C%20%22detectRetina%22%3A%20false%2C%20%22maxNativeZoom%22%3A%2018%2C%20%22maxZoom%22%3A%2018%2C%20%22minZoom%22%3A%200%2C%20%22noWrap%22%3A%20false%2C%20%22opacity%22%3A%201.0%2C%20%22subdomains%22%3A%20%22abc%22%2C%20%22tms%22%3A%20false%7D%0A%20%20%20%20%20%20%20%20%20%20%20%20%29.addTo%28map_a6951a6afc804ae784d042d41b5ddbb5%29%3B%0A%20%20%20%20%20%20%20%20%0A%20%20%20%20%0A%20%20%20%20%20%20%20%20%20%20%20%20var%20tile_layer_d3a49b2e4bf04336a5968bcbb0970013%20%3D%20L.tileLayer%28%0A%20%20%20%20%20%20%20%20%20%20%20%20%20%20%20%20%22https%3A//earthengine.googleapis.com/v1alpha/projects/earthengine-legacy/maps/b728300c18d486b823a35f892d55de6f-e2fcdf73c0063eb14223cbcdf1fbfdad/tiles/%7Bz%7D/%7Bx%7D/%7By%7D%22%2C%0A%20%20%20%20%20%20%20%20%20%20%20%20%20%20%20%20%7B%22attribution%22%3A%20%22Google%20Earth%20Engine%22%2C%20%22detectRetina%22%3A%20false%2C%20%22maxNativeZoom%22%3A%2018%2C%20%22maxZoom%22%3A%2018%2C%20%22minZoom%22%3A%200%2C%20%22noWrap%22%3A%20false%2C%20%22opacity%22%3A%201.0%2C%20%22subdomains%22%3A%20%22abc%22%2C%20%22tms%22%3A%20false%7D%0A%20%20%20%20%20%20%20%20%20%20%20%20%29.addTo%28map_a6951a6afc804ae784d042d41b5ddbb5%29%3B%0A%20%20%20%20%20%20%20%20%0A%20%20%20%20%0A%20%20%20%20%20%20%20%20%20%20%20%20var%20tile_layer_7820de9916a84174977fefe39cd05a31%20%3D%20L.tileLayer%28%0A%20%20%20%20%20%20%20%20%20%20%20%20%20%20%20%20%22https%3A//earthengine.googleapis.com/v1alpha/projects/earthengine-legacy/maps/aad4c3f5c3b51894feb5eaddc1c23388-9755ad4ac5ca91512dce950e47d458fe/tiles/%7Bz%7D/%7Bx%7D/%7By%7D%22%2C%0A%20%20%20%20%20%20%20%20%20%20%20%20%20%20%20%20%7B%22attribution%22%3A%20%22Google%20Earth%20Engine%22%2C%20%22detectRetina%22%3A%20false%2C%20%22maxNativeZoom%22%3A%2018%2C%20%22maxZoom%22%3A%2018%2C%20%22minZoom%22%3A%200%2C%20%22noWrap%22%3A%20false%2C%20%22opacity%22%3A%201.0%2C%20%22subdomains%22%3A%20%22abc%22%2C%20%22tms%22%3A%20false%7D%0A%20%20%20%20%20%20%20%20%20%20%20%20%29.addTo%28map_a6951a6afc804ae784d042d41b5ddbb5%29%3B%0A%20%20%20%20%20%20%20%20%0A%20%20%20%20%0A%20%20%20%20%20%20%20%20%20%20%20%20var%20tile_layer_2158b15673484e4aa219ca3e363d09a2%20%3D%20L.tileLayer%28%0A%20%20%20%20%20%20%20%20%20%20%20%20%20%20%20%20%22https%3A//earthengine.googleapis.com/v1alpha/projects/earthengine-legacy/maps/e46d01f53743a1fba40b1959d91ef43f-4a9a544f6f9372928c77371dca219104/tiles/%7Bz%7D/%7Bx%7D/%7By%7D%22%2C%0A%20%20%20%20%20%20%20%20%20%20%20%20%20%20%20%20%7B%22attribution%22%3A%20%22Google%20Earth%20Engine%22%2C%20%22detectRetina%22%3A%20false%2C%20%22maxNativeZoom%22%3A%2018%2C%20%22maxZoom%22%3A%2018%2C%20%22minZoom%22%3A%200%2C%20%22noWrap%22%3A%20false%2C%20%22opacity%22%3A%201.0%2C%20%22subdomains%22%3A%20%22abc%22%2C%20%22tms%22%3A%20false%7D%0A%20%20%20%20%20%20%20%20%20%20%20%20%29.addTo%28map_a6951a6afc804ae784d042d41b5ddbb5%29%3B%0A%20%20%20%20%20%20%20%20%0A%20%20%20%20%0A%20%20%20%20%20%20%20%20%20%20%20%20var%20tile_layer_7efdf4467e7240aeb8b32bf53aad59f6%20%3D%20L.tileLayer%28%0A%20%20%20%20%20%20%20%20%20%20%20%20%20%20%20%20%22https%3A//earthengine.googleapis.com/v1alpha/projects/earthengine-legacy/maps/498be61d6ffbb6f9bdf11c7a5524df3d-38fe2241e3cdd5273df25e8d1e1bf420/tiles/%7Bz%7D/%7Bx%7D/%7By%7D%22%2C%0A%20%20%20%20%20%20%20%20%20%20%20%20%20%20%20%20%7B%22attribution%22%3A%20%22Google%20Earth%20Engine%22%2C%20%22detectRetina%22%3A%20false%2C%20%22maxNativeZoom%22%3A%2018%2C%20%22maxZoom%22%3A%2018%2C%20%22minZoom%22%3A%200%2C%20%22noWrap%22%3A%20false%2C%20%22opacity%22%3A%201.0%2C%20%22subdomains%22%3A%20%22abc%22%2C%20%22tms%22%3A%20false%7D%0A%20%20%20%20%20%20%20%20%20%20%20%20%29.addTo%28map_a6951a6afc804ae784d042d41b5ddbb5%29%3B%0A%20%20%20%20%20%20%20%20%0A%20%20%20%20%0A%20%20%20%20%20%20%20%20%20%20%20%20var%20tile_layer_d82328bb7e8644fa88aa1c609311593d%20%3D%20L.tileLayer%28%0A%20%20%20%20%20%20%20%20%20%20%20%20%20%20%20%20%22https%3A//earthengine.googleapis.com/v1alpha/projects/earthengine-legacy/maps/1aa3e637f5d250f66a0ce7621390563b-4fa69ffc4a6a1406d9d6a3ebb1ebd4c2/tiles/%7Bz%7D/%7Bx%7D/%7By%7D%22%2C%0A%20%20%20%20%20%20%20%20%20%20%20%20%20%20%20%20%7B%22attribution%22%3A%20%22Google%20Earth%20Engine%22%2C%20%22detectRetina%22%3A%20false%2C%20%22maxNativeZoom%22%3A%2018%2C%20%22maxZoom%22%3A%2018%2C%20%22minZoom%22%3A%200%2C%20%22noWrap%22%3A%20false%2C%20%22opacity%22%3A%201.0%2C%20%22subdomains%22%3A%20%22abc%22%2C%20%22tms%22%3A%20false%7D%0A%20%20%20%20%20%20%20%20%20%20%20%20%29.addTo%28map_a6951a6afc804ae784d042d41b5ddbb5%29%3B%0A%20%20%20%20%20%20%20%20%0A%20%20%20%20%0A%20%20%20%20%20%20%20%20%20%20%20%20var%20layer_control_39be0eec6a2c439484f18061bc5489a3%20%3D%20%7B%0A%20%20%20%20%20%20%20%20%20%20%20%20%20%20%20%20base_layers%20%3A%20%7B%0A%20%20%20%20%20%20%20%20%20%20%20%20%20%20%20%20%20%20%20%20%22openstreetmap%22%20%3A%20tile_layer_3c934dc8d1534c1e80021ceeccedd17a%2C%0A%20%20%20%20%20%20%20%20%20%20%20%20%20%20%20%20%7D%2C%0A%20%20%20%20%20%20%20%20%20%20%20%20%20%20%20%20overlays%20%3A%20%20%7B%0A%20%20%20%20%20%20%20%20%20%20%20%20%20%20%20%20%20%20%20%20%22Google%20Maps%22%20%3A%20tile_layer_3e81c35485264ae983176d1020583574%2C%0A%20%20%20%20%20%20%20%20%20%20%20%20%20%20%20%20%20%20%20%20%22TUBBS%20before_false_color%22%20%3A%20tile_layer_1573c61ab73f4b9d898b6180f69cecee%2C%0A%20%20%20%20%20%20%20%20%20%20%20%20%20%20%20%20%20%20%20%20%22TUBBS%20true_color_before%22%20%3A%20tile_layer_17122ea7e918429fb1913576aae1fe17%2C%0A%20%20%20%20%20%20%20%20%20%20%20%20%20%20%20%20%20%20%20%20%22TUBBS%20nir_before%22%20%3A%20tile_layer_cfe22b24343544549cda0f08ee3daefd%2C%0A%20%20%20%20%20%20%20%20%20%20%20%20%20%20%20%20%20%20%20%20%22TUBBS%20after_false_color%22%20%3A%20tile_layer_0b2b2cd9d2ad4274856e255718c2c535%2C%0A%20%20%20%20%20%20%20%20%20%20%20%20%20%20%20%20%20%20%20%20%22TUBBS%20true_color_after%22%20%3A%20tile_layer_059ea41376444941ace1e954dd7b54f0%2C%0A%20%20%20%20%20%20%20%20%20%20%20%20%20%20%20%20%20%20%20%20%22TUBBS%20nir_after%22%20%3A%20tile_layer_411e420810174ddda2024cdd70ee4295%2C%0A%20%20%20%20%20%20%20%20%20%20%20%20%20%20%20%20%20%20%20%20%22TUBBS%20dNBR%22%20%3A%20tile_layer_4d40573353c4496fb1a62be07bd8f73a%2C%0A%20%20%20%20%20%20%20%20%20%20%20%20%20%20%20%20%20%20%20%20%22NUNS%20before_false_color%22%20%3A%20tile_layer_e11b574310f6423cab517d516e3995bf%2C%0A%20%20%20%20%20%20%20%20%20%20%20%20%20%20%20%20%20%20%20%20%22NUNS%20true_color_before%22%20%3A%20tile_layer_f8220021ff6d432392ab70c263527204%2C%0A%20%20%20%20%20%20%20%20%20%20%20%20%20%20%20%20%20%20%20%20%22NUNS%20nir_before%22%20%3A%20tile_layer_290c0cb0b8264fe58300c64386190e2f%2C%0A%20%20%20%20%20%20%20%20%20%20%20%20%20%20%20%20%20%20%20%20%22NUNS%20after_false_color%22%20%3A%20tile_layer_f22892b3927b4265aa8fb4d5258d1e8e%2C%0A%20%20%20%20%20%20%20%20%20%20%20%20%20%20%20%20%20%20%20%20%22NUNS%20true_color_after%22%20%3A%20tile_layer_bb3234f9fda747d399c02afa3593e167%2C%0A%20%20%20%20%20%20%20%20%20%20%20%20%20%20%20%20%20%20%20%20%22NUNS%20nir_after%22%20%3A%20tile_layer_60e6eca9403b4fd4b96f4e6cf658eff0%2C%0A%20%20%20%20%20%20%20%20%20%20%20%20%20%20%20%20%20%20%20%20%22NUNS%20dNBR%22%20%3A%20tile_layer_f567e76813854244b1ebc8688051a24a%2C%0A%20%20%20%20%20%20%20%20%20%20%20%20%20%20%20%20%20%20%20%20%22POCKET%20before_false_color%22%20%3A%20tile_layer_9fbf061e96c14b9aac5e6f78222c449d%2C%0A%20%20%20%20%20%20%20%20%20%20%20%20%20%20%20%20%20%20%20%20%22POCKET%20true_color_before%22%20%3A%20tile_layer_0f2434e499474ea391f404c74d20857c%2C%0A%20%20%20%20%20%20%20%20%20%20%20%20%20%20%20%20%20%20%20%20%22POCKET%20nir_before%22%20%3A%20tile_layer_d3a49b2e4bf04336a5968bcbb0970013%2C%0A%20%20%20%20%20%20%20%20%20%20%20%20%20%20%20%20%20%20%20%20%22POCKET%20after_false_color%22%20%3A%20tile_layer_7820de9916a84174977fefe39cd05a31%2C%0A%20%20%20%20%20%20%20%20%20%20%20%20%20%20%20%20%20%20%20%20%22POCKET%20true_color_after%22%20%3A%20tile_layer_2158b15673484e4aa219ca3e363d09a2%2C%0A%20%20%20%20%20%20%20%20%20%20%20%20%20%20%20%20%20%20%20%20%22POCKET%20nir_after%22%20%3A%20tile_layer_7efdf4467e7240aeb8b32bf53aad59f6%2C%0A%20%20%20%20%20%20%20%20%20%20%20%20%20%20%20%20%20%20%20%20%22POCKET%20dNBR%22%20%3A%20tile_layer_d82328bb7e8644fa88aa1c609311593d%2C%0A%20%20%20%20%20%20%20%20%20%20%20%20%20%20%20%20%7D%2C%0A%20%20%20%20%20%20%20%20%20%20%20%20%7D%3B%0A%20%20%20%20%20%20%20%20%20%20%20%20L.control.layers%28%0A%20%20%20%20%20%20%20%20%20%20%20%20%20%20%20%20layer_control_39be0eec6a2c439484f18061bc5489a3.base_layers%2C%0A%20%20%20%20%20%20%20%20%20%20%20%20%20%20%20%20layer_control_39be0eec6a2c439484f18061bc5489a3.overlays%2C%0A%20%20%20%20%20%20%20%20%20%20%20%20%20%20%20%20%7B%22autoZIndex%22%3A%20true%2C%20%22collapsed%22%3A%20true%2C%20%22position%22%3A%20%22topright%22%7D%0A%20%20%20%20%20%20%20%20%20%20%20%20%29.addTo%28map_a6951a6afc804ae784d042d41b5ddbb5%29%3B%0A%20%20%20%20%20%20%20%20%0A%3C/script%3E onload=\"this.contentDocument.open();this.contentDocument.write(    decodeURIComponent(this.getAttribute('data-html')));this.contentDocument.close();\" allowfullscreen webkitallowfullscreen mozallowfullscreen></iframe></div></div>"
            ],
            "text/plain": [
              "<geemap.eefolium.Map at 0x7fe9bd141410>"
            ]
          },
          "metadata": {
            "tags": []
          },
          "execution_count": 63
        }
      ]
    },
    {
      "cell_type": "code",
      "metadata": {
        "id": "LZsSXxKibqZU"
      },
      "source": [
        "# Initializing Map3\n",
        "Map3 = geemap.Map(center=(lat, lon), zoom=11)\n",
        "\n",
        "# Adding the layers\n",
        "for fire in range(len(major_fires)):\n",
        "  box = major_fires['bounding_box'][fire]\n",
        "  fire_name = major_fires['name'][fire]\n",
        "  dNBR_true = dNBR.clip(box)\n",
        "  Map3.addLayer(before_ic.mask(major_damage_dNBR_mask).clip(box), false_color_vis, fire_name+' before_false_color')\n",
        "  Map3.addLayer(before_ic.mask(major_damage_dNBR_mask).clip(box),true_color_vis, fire_name+' true_color_before')\n",
        "  Map3.addLayer(before_ic.mask(major_damage_dNBR_mask).clip(box), nir_vis, fire_name+ ' nir_before')\n",
        "  Map3.addLayer(after_ic.mask(major_damage_dNBR_mask).clip(box), false_color_vis, fire_name+' after_false_color')\n",
        "  Map3.addLayer(after_ic.mask(major_damage_dNBR_mask).clip(box),true_color_vis, fire_name+' true_color_after')\n",
        "  Map3.addLayer(after_ic.mask(major_damage_dNBR_mask).clip(box), nir_vis, fire_name +' nir_after')\n",
        "  Map3.addLayer(dNBR.clip(box).mask(dNBR.clip(box).gt(major_damage_threshold)), nbr_vis, fire_name + \" dNBR\")"
      ],
      "execution_count": null,
      "outputs": []
    },
    {
      "cell_type": "code",
      "metadata": {
        "colab": {
          "base_uri": "https://localhost:8080/",
          "height": 660
        },
        "id": "QyqB0dA8MWLs",
        "outputId": "e2093a6f-c4df-4a44-b629-b287165ddf12"
      },
      "source": [
        "Map3"
      ],
      "execution_count": null,
      "outputs": [
        {
          "output_type": "execute_result",
          "data": {
            "text/html": [
              "<div style=\"width:100%;\"><div style=\"position:relative;width:100%;height:0;padding-bottom:60%;\"><span style=\"color:#565656\">Make this Notebook Trusted to load map: File -> Trust Notebook</span><iframe src=\"about:blank\" style=\"position:absolute;width:100%;height:100%;left:0;top:0;border:none !important;\" data-html=%3C%21DOCTYPE%20html%3E%0A%3Chead%3E%20%20%20%20%0A%20%20%20%20%3Cmeta%20http-equiv%3D%22content-type%22%20content%3D%22text/html%3B%20charset%3DUTF-8%22%20/%3E%0A%20%20%20%20%0A%20%20%20%20%20%20%20%20%3Cscript%3E%0A%20%20%20%20%20%20%20%20%20%20%20%20L_NO_TOUCH%20%3D%20false%3B%0A%20%20%20%20%20%20%20%20%20%20%20%20L_DISABLE_3D%20%3D%20false%3B%0A%20%20%20%20%20%20%20%20%3C/script%3E%0A%20%20%20%20%0A%20%20%20%20%3Cstyle%3Ehtml%2C%20body%20%7Bwidth%3A%20100%25%3Bheight%3A%20100%25%3Bmargin%3A%200%3Bpadding%3A%200%3B%7D%3C/style%3E%0A%20%20%20%20%3Cstyle%3E%23map%20%7Bposition%3Aabsolute%3Btop%3A0%3Bbottom%3A0%3Bright%3A0%3Bleft%3A0%3B%7D%3C/style%3E%0A%20%20%20%20%3Cscript%20src%3D%22https%3A//cdn.jsdelivr.net/npm/leaflet%401.6.0/dist/leaflet.js%22%3E%3C/script%3E%0A%20%20%20%20%3Cscript%20src%3D%22https%3A//code.jquery.com/jquery-1.12.4.min.js%22%3E%3C/script%3E%0A%20%20%20%20%3Cscript%20src%3D%22https%3A//maxcdn.bootstrapcdn.com/bootstrap/3.2.0/js/bootstrap.min.js%22%3E%3C/script%3E%0A%20%20%20%20%3Cscript%20src%3D%22https%3A//cdnjs.cloudflare.com/ajax/libs/Leaflet.awesome-markers/2.0.2/leaflet.awesome-markers.js%22%3E%3C/script%3E%0A%20%20%20%20%3Clink%20rel%3D%22stylesheet%22%20href%3D%22https%3A//cdn.jsdelivr.net/npm/leaflet%401.6.0/dist/leaflet.css%22/%3E%0A%20%20%20%20%3Clink%20rel%3D%22stylesheet%22%20href%3D%22https%3A//maxcdn.bootstrapcdn.com/bootstrap/3.2.0/css/bootstrap.min.css%22/%3E%0A%20%20%20%20%3Clink%20rel%3D%22stylesheet%22%20href%3D%22https%3A//maxcdn.bootstrapcdn.com/bootstrap/3.2.0/css/bootstrap-theme.min.css%22/%3E%0A%20%20%20%20%3Clink%20rel%3D%22stylesheet%22%20href%3D%22https%3A//maxcdn.bootstrapcdn.com/font-awesome/4.6.3/css/font-awesome.min.css%22/%3E%0A%20%20%20%20%3Clink%20rel%3D%22stylesheet%22%20href%3D%22https%3A//cdnjs.cloudflare.com/ajax/libs/Leaflet.awesome-markers/2.0.2/leaflet.awesome-markers.css%22/%3E%0A%20%20%20%20%3Clink%20rel%3D%22stylesheet%22%20href%3D%22https%3A//cdn.jsdelivr.net/gh/python-visualization/folium/folium/templates/leaflet.awesome.rotate.min.css%22/%3E%0A%20%20%20%20%0A%20%20%20%20%20%20%20%20%20%20%20%20%3Cmeta%20name%3D%22viewport%22%20content%3D%22width%3Ddevice-width%2C%0A%20%20%20%20%20%20%20%20%20%20%20%20%20%20%20%20initial-scale%3D1.0%2C%20maximum-scale%3D1.0%2C%20user-scalable%3Dno%22%20/%3E%0A%20%20%20%20%20%20%20%20%20%20%20%20%3Cstyle%3E%0A%20%20%20%20%20%20%20%20%20%20%20%20%20%20%20%20%23map_f7cbd3bb3162466e84ee0c7aac6d8087%20%7B%0A%20%20%20%20%20%20%20%20%20%20%20%20%20%20%20%20%20%20%20%20position%3A%20relative%3B%0A%20%20%20%20%20%20%20%20%20%20%20%20%20%20%20%20%20%20%20%20width%3A%20100.0%25%3B%0A%20%20%20%20%20%20%20%20%20%20%20%20%20%20%20%20%20%20%20%20height%3A%20100.0%25%3B%0A%20%20%20%20%20%20%20%20%20%20%20%20%20%20%20%20%20%20%20%20left%3A%200.0%25%3B%0A%20%20%20%20%20%20%20%20%20%20%20%20%20%20%20%20%20%20%20%20top%3A%200.0%25%3B%0A%20%20%20%20%20%20%20%20%20%20%20%20%20%20%20%20%7D%0A%20%20%20%20%20%20%20%20%20%20%20%20%3C/style%3E%0A%20%20%20%20%20%20%20%20%0A%20%20%20%20%3Cscript%20src%3D%22https%3A//cdnjs.cloudflare.com/ajax/libs/leaflet.fullscreen/1.4.2/Control.FullScreen.min.js%22%3E%3C/script%3E%0A%20%20%20%20%3Clink%20rel%3D%22stylesheet%22%20href%3D%22https%3A//cdnjs.cloudflare.com/ajax/libs/leaflet.fullscreen/1.4.2/Control.FullScreen.min.css%22/%3E%0A%3C/head%3E%0A%3Cbody%3E%20%20%20%20%0A%20%20%20%20%0A%20%20%20%20%20%20%20%20%20%20%20%20%3Cdiv%20class%3D%22folium-map%22%20id%3D%22map_f7cbd3bb3162466e84ee0c7aac6d8087%22%20%3E%3C/div%3E%0A%20%20%20%20%20%20%20%20%0A%3C/body%3E%0A%3Cscript%3E%20%20%20%20%0A%20%20%20%20%0A%20%20%20%20%20%20%20%20%20%20%20%20var%20map_f7cbd3bb3162466e84ee0c7aac6d8087%20%3D%20L.map%28%0A%20%20%20%20%20%20%20%20%20%20%20%20%20%20%20%20%22map_f7cbd3bb3162466e84ee0c7aac6d8087%22%2C%0A%20%20%20%20%20%20%20%20%20%20%20%20%20%20%20%20%7B%0A%20%20%20%20%20%20%20%20%20%20%20%20%20%20%20%20%20%20%20%20center%3A%20%5B38.60895%2C%20-122.62879%5D%2C%0A%20%20%20%20%20%20%20%20%20%20%20%20%20%20%20%20%20%20%20%20crs%3A%20L.CRS.EPSG3857%2C%0A%20%20%20%20%20%20%20%20%20%20%20%20%20%20%20%20%20%20%20%20zoom%3A%2011%2C%0A%20%20%20%20%20%20%20%20%20%20%20%20%20%20%20%20%20%20%20%20zoomControl%3A%20true%2C%0A%20%20%20%20%20%20%20%20%20%20%20%20%20%20%20%20%20%20%20%20preferCanvas%3A%20false%2C%0A%20%20%20%20%20%20%20%20%20%20%20%20%20%20%20%20%20%20%20%20eeInitialize%3A%20true%2C%0A%20%20%20%20%20%20%20%20%20%20%20%20%20%20%20%20%20%20%20%20addGoogleMap%3A%20true%2C%0A%20%20%20%20%20%20%20%20%20%20%20%20%20%20%20%20%20%20%20%20pluginLatlngpopup%3A%20true%2C%0A%20%20%20%20%20%20%20%20%20%20%20%20%20%20%20%20%20%20%20%20pluginFullscreen%3A%20true%2C%0A%20%20%20%20%20%20%20%20%20%20%20%20%20%20%20%20%20%20%20%20pluginDraw%3A%20false%2C%0A%20%20%20%20%20%20%20%20%20%20%20%20%20%20%20%20%20%20%20%20DrawExport%3A%20true%2C%0A%20%20%20%20%20%20%20%20%20%20%20%20%20%20%20%20%20%20%20%20pluginMinimap%3A%20false%2C%0A%20%20%20%20%20%20%20%20%20%20%20%20%20%20%20%20%20%20%20%20pluginLayercontrol%3A%20false%2C%0A%20%20%20%20%20%20%20%20%20%20%20%20%20%20%20%20%7D%0A%20%20%20%20%20%20%20%20%20%20%20%20%29%3B%0A%0A%20%20%20%20%20%20%20%20%20%20%20%20%0A%0A%20%20%20%20%20%20%20%20%0A%20%20%20%20%0A%20%20%20%20%20%20%20%20%20%20%20%20var%20tile_layer_1281dac99b1540fc95feee99db9d889c%20%3D%20L.tileLayer%28%0A%20%20%20%20%20%20%20%20%20%20%20%20%20%20%20%20%22https%3A//%7Bs%7D.tile.openstreetmap.org/%7Bz%7D/%7Bx%7D/%7By%7D.png%22%2C%0A%20%20%20%20%20%20%20%20%20%20%20%20%20%20%20%20%7B%22attribution%22%3A%20%22Data%20by%20%5Cu0026copy%3B%20%5Cu003ca%20href%3D%5C%22http%3A//openstreetmap.org%5C%22%5Cu003eOpenStreetMap%5Cu003c/a%5Cu003e%2C%20under%20%5Cu003ca%20href%3D%5C%22http%3A//www.openstreetmap.org/copyright%5C%22%5Cu003eODbL%5Cu003c/a%5Cu003e.%22%2C%20%22detectRetina%22%3A%20false%2C%20%22maxNativeZoom%22%3A%2018%2C%20%22maxZoom%22%3A%2018%2C%20%22minZoom%22%3A%200%2C%20%22noWrap%22%3A%20false%2C%20%22opacity%22%3A%201%2C%20%22subdomains%22%3A%20%22abc%22%2C%20%22tms%22%3A%20false%7D%0A%20%20%20%20%20%20%20%20%20%20%20%20%29.addTo%28map_f7cbd3bb3162466e84ee0c7aac6d8087%29%3B%0A%20%20%20%20%20%20%20%20%0A%20%20%20%20%0A%20%20%20%20%20%20%20%20%20%20%20%20var%20tile_layer_ac7ac877a3044b7382d39472a28d75c8%20%3D%20L.tileLayer%28%0A%20%20%20%20%20%20%20%20%20%20%20%20%20%20%20%20%22https%3A//mt1.google.com/vt/lyrs%3Dm%5Cu0026x%3D%7Bx%7D%5Cu0026y%3D%7By%7D%5Cu0026z%3D%7Bz%7D%22%2C%0A%20%20%20%20%20%20%20%20%20%20%20%20%20%20%20%20%7B%22attribution%22%3A%20%22Google%22%2C%20%22detectRetina%22%3A%20false%2C%20%22maxNativeZoom%22%3A%2018%2C%20%22maxZoom%22%3A%2018%2C%20%22minZoom%22%3A%200%2C%20%22noWrap%22%3A%20false%2C%20%22opacity%22%3A%201%2C%20%22subdomains%22%3A%20%22abc%22%2C%20%22tms%22%3A%20false%7D%0A%20%20%20%20%20%20%20%20%20%20%20%20%29.addTo%28map_f7cbd3bb3162466e84ee0c7aac6d8087%29%3B%0A%20%20%20%20%20%20%20%20%0A%20%20%20%20%0A%20%20%20%20%20%20%20%20%20%20%20%20%20%20%20%20var%20lat_lng_popup_28ba32237b444584a112ca08bdc2566d%20%3D%20L.popup%28%29%3B%0A%20%20%20%20%20%20%20%20%20%20%20%20%20%20%20%20function%20latLngPop%28e%29%20%7B%0A%20%20%20%20%20%20%20%20%20%20%20%20%20%20%20%20%20%20%20%20lat_lng_popup_28ba32237b444584a112ca08bdc2566d%0A%20%20%20%20%20%20%20%20%20%20%20%20%20%20%20%20%20%20%20%20%20%20%20%20.setLatLng%28e.latlng%29%0A%20%20%20%20%20%20%20%20%20%20%20%20%20%20%20%20%20%20%20%20%20%20%20%20.setContent%28%22Latitude%3A%20%22%20%2B%20e.latlng.lat.toFixed%284%29%20%2B%0A%20%20%20%20%20%20%20%20%20%20%20%20%20%20%20%20%20%20%20%20%20%20%20%20%20%20%20%20%20%20%20%20%20%20%20%20%22%3Cbr%3ELongitude%3A%20%22%20%2B%20e.latlng.lng.toFixed%284%29%29%0A%20%20%20%20%20%20%20%20%20%20%20%20%20%20%20%20%20%20%20%20%20%20%20%20.openOn%28map_f7cbd3bb3162466e84ee0c7aac6d8087%29%3B%0A%20%20%20%20%20%20%20%20%20%20%20%20%20%20%20%20%20%20%20%20%7D%0A%20%20%20%20%20%20%20%20%20%20%20%20%20%20%20%20map_f7cbd3bb3162466e84ee0c7aac6d8087.on%28%27click%27%2C%20latLngPop%29%3B%0A%20%20%20%20%20%20%20%20%20%20%20%20%0A%20%20%20%20%0A%20%20%20%20%20%20%20%20%20%20%20%20L.control.fullscreen%28%0A%20%20%20%20%20%20%20%20%20%20%20%20%20%20%20%20%7B%22forceSeparateButton%22%3A%20false%2C%20%22position%22%3A%20%22topleft%22%2C%20%22title%22%3A%20%22Full%20Screen%22%2C%20%22titleCancel%22%3A%20%22Exit%20Full%20Screen%22%7D%0A%20%20%20%20%20%20%20%20%20%20%20%20%29.addTo%28map_f7cbd3bb3162466e84ee0c7aac6d8087%29%3B%0A%20%20%20%20%20%20%20%20%0A%20%20%20%20%0A%20%20%20%20%20%20%20%20%20%20%20%20map_f7cbd3bb3162466e84ee0c7aac6d8087.fitBounds%28%0A%20%20%20%20%20%20%20%20%20%20%20%20%20%20%20%20%5B%5B38.60895%2C%20-122.62879%5D%2C%20%5B38.60895%2C%20-122.62879%5D%5D%2C%0A%20%20%20%20%20%20%20%20%20%20%20%20%20%20%20%20%7B%22maxZoom%22%3A%2011%7D%0A%20%20%20%20%20%20%20%20%20%20%20%20%29%3B%0A%20%20%20%20%20%20%20%20%0A%20%20%20%20%0A%20%20%20%20%20%20%20%20%20%20%20%20var%20tile_layer_3d480843847d46b2a3cae8772ae09167%20%3D%20L.tileLayer%28%0A%20%20%20%20%20%20%20%20%20%20%20%20%20%20%20%20%22https%3A//earthengine.googleapis.com/v1alpha/projects/earthengine-legacy/maps/e76dc76cd7f393d8bcb497706762c867-2aae52e9c588bcdde51be7b1dc1ca808/tiles/%7Bz%7D/%7Bx%7D/%7By%7D%22%2C%0A%20%20%20%20%20%20%20%20%20%20%20%20%20%20%20%20%7B%22attribution%22%3A%20%22Google%20Earth%20Engine%22%2C%20%22detectRetina%22%3A%20false%2C%20%22maxNativeZoom%22%3A%2018%2C%20%22maxZoom%22%3A%2018%2C%20%22minZoom%22%3A%200%2C%20%22noWrap%22%3A%20false%2C%20%22opacity%22%3A%201.0%2C%20%22subdomains%22%3A%20%22abc%22%2C%20%22tms%22%3A%20false%7D%0A%20%20%20%20%20%20%20%20%20%20%20%20%29.addTo%28map_f7cbd3bb3162466e84ee0c7aac6d8087%29%3B%0A%20%20%20%20%20%20%20%20%0A%20%20%20%20%0A%20%20%20%20%20%20%20%20%20%20%20%20var%20tile_layer_7d5ac17537ca4a49b25a02f6c27424d4%20%3D%20L.tileLayer%28%0A%20%20%20%20%20%20%20%20%20%20%20%20%20%20%20%20%22https%3A//earthengine.googleapis.com/v1alpha/projects/earthengine-legacy/maps/79a7686b159330bec165da6bdc358db7-c92ff6858aedcf1b0f66a95e91ce824f/tiles/%7Bz%7D/%7Bx%7D/%7By%7D%22%2C%0A%20%20%20%20%20%20%20%20%20%20%20%20%20%20%20%20%7B%22attribution%22%3A%20%22Google%20Earth%20Engine%22%2C%20%22detectRetina%22%3A%20false%2C%20%22maxNativeZoom%22%3A%2018%2C%20%22maxZoom%22%3A%2018%2C%20%22minZoom%22%3A%200%2C%20%22noWrap%22%3A%20false%2C%20%22opacity%22%3A%201.0%2C%20%22subdomains%22%3A%20%22abc%22%2C%20%22tms%22%3A%20false%7D%0A%20%20%20%20%20%20%20%20%20%20%20%20%29.addTo%28map_f7cbd3bb3162466e84ee0c7aac6d8087%29%3B%0A%20%20%20%20%20%20%20%20%0A%20%20%20%20%0A%20%20%20%20%20%20%20%20%20%20%20%20var%20tile_layer_17cdc385c9fb4473969be360cfa58bd7%20%3D%20L.tileLayer%28%0A%20%20%20%20%20%20%20%20%20%20%20%20%20%20%20%20%22https%3A//earthengine.googleapis.com/v1alpha/projects/earthengine-legacy/maps/0dbd6a4b9ecb34a6b58ab9fad437b187-5f2ddbc64f257cea12ceeef3e88713f2/tiles/%7Bz%7D/%7Bx%7D/%7By%7D%22%2C%0A%20%20%20%20%20%20%20%20%20%20%20%20%20%20%20%20%7B%22attribution%22%3A%20%22Google%20Earth%20Engine%22%2C%20%22detectRetina%22%3A%20false%2C%20%22maxNativeZoom%22%3A%2018%2C%20%22maxZoom%22%3A%2018%2C%20%22minZoom%22%3A%200%2C%20%22noWrap%22%3A%20false%2C%20%22opacity%22%3A%201.0%2C%20%22subdomains%22%3A%20%22abc%22%2C%20%22tms%22%3A%20false%7D%0A%20%20%20%20%20%20%20%20%20%20%20%20%29.addTo%28map_f7cbd3bb3162466e84ee0c7aac6d8087%29%3B%0A%20%20%20%20%20%20%20%20%0A%20%20%20%20%0A%20%20%20%20%20%20%20%20%20%20%20%20var%20tile_layer_ab239cc512274a159b5f80ed8e39440c%20%3D%20L.tileLayer%28%0A%20%20%20%20%20%20%20%20%20%20%20%20%20%20%20%20%22https%3A//earthengine.googleapis.com/v1alpha/projects/earthengine-legacy/maps/9b1b3bd43df9983f640d7aa46c5be0db-af892f5fa8bec80a640c7af8f4e89ed1/tiles/%7Bz%7D/%7Bx%7D/%7By%7D%22%2C%0A%20%20%20%20%20%20%20%20%20%20%20%20%20%20%20%20%7B%22attribution%22%3A%20%22Google%20Earth%20Engine%22%2C%20%22detectRetina%22%3A%20false%2C%20%22maxNativeZoom%22%3A%2018%2C%20%22maxZoom%22%3A%2018%2C%20%22minZoom%22%3A%200%2C%20%22noWrap%22%3A%20false%2C%20%22opacity%22%3A%201.0%2C%20%22subdomains%22%3A%20%22abc%22%2C%20%22tms%22%3A%20false%7D%0A%20%20%20%20%20%20%20%20%20%20%20%20%29.addTo%28map_f7cbd3bb3162466e84ee0c7aac6d8087%29%3B%0A%20%20%20%20%20%20%20%20%0A%20%20%20%20%0A%20%20%20%20%20%20%20%20%20%20%20%20var%20tile_layer_d8a73508ea474a54934745d4c7ef557c%20%3D%20L.tileLayer%28%0A%20%20%20%20%20%20%20%20%20%20%20%20%20%20%20%20%22https%3A//earthengine.googleapis.com/v1alpha/projects/earthengine-legacy/maps/b771e966063e8e56185a8bc4b0ebe7d3-6bc8d18b869a9b729bd16241d8ede73b/tiles/%7Bz%7D/%7Bx%7D/%7By%7D%22%2C%0A%20%20%20%20%20%20%20%20%20%20%20%20%20%20%20%20%7B%22attribution%22%3A%20%22Google%20Earth%20Engine%22%2C%20%22detectRetina%22%3A%20false%2C%20%22maxNativeZoom%22%3A%2018%2C%20%22maxZoom%22%3A%2018%2C%20%22minZoom%22%3A%200%2C%20%22noWrap%22%3A%20false%2C%20%22opacity%22%3A%201.0%2C%20%22subdomains%22%3A%20%22abc%22%2C%20%22tms%22%3A%20false%7D%0A%20%20%20%20%20%20%20%20%20%20%20%20%29.addTo%28map_f7cbd3bb3162466e84ee0c7aac6d8087%29%3B%0A%20%20%20%20%20%20%20%20%0A%20%20%20%20%0A%20%20%20%20%20%20%20%20%20%20%20%20var%20tile_layer_5ff290ae956f4d7780a4dbd8e181bb7b%20%3D%20L.tileLayer%28%0A%20%20%20%20%20%20%20%20%20%20%20%20%20%20%20%20%22https%3A//earthengine.googleapis.com/v1alpha/projects/earthengine-legacy/maps/c991fc03f164a5435f68e7788f884974-0092ee27fd52fd6470195441fa0a9ccb/tiles/%7Bz%7D/%7Bx%7D/%7By%7D%22%2C%0A%20%20%20%20%20%20%20%20%20%20%20%20%20%20%20%20%7B%22attribution%22%3A%20%22Google%20Earth%20Engine%22%2C%20%22detectRetina%22%3A%20false%2C%20%22maxNativeZoom%22%3A%2018%2C%20%22maxZoom%22%3A%2018%2C%20%22minZoom%22%3A%200%2C%20%22noWrap%22%3A%20false%2C%20%22opacity%22%3A%201.0%2C%20%22subdomains%22%3A%20%22abc%22%2C%20%22tms%22%3A%20false%7D%0A%20%20%20%20%20%20%20%20%20%20%20%20%29.addTo%28map_f7cbd3bb3162466e84ee0c7aac6d8087%29%3B%0A%20%20%20%20%20%20%20%20%0A%20%20%20%20%0A%20%20%20%20%20%20%20%20%20%20%20%20var%20tile_layer_1145da6a3f53435b960b2cfd28d4f305%20%3D%20L.tileLayer%28%0A%20%20%20%20%20%20%20%20%20%20%20%20%20%20%20%20%22https%3A//earthengine.googleapis.com/v1alpha/projects/earthengine-legacy/maps/de03e87ff4c6d144b4f9deaf93507706-8d2dc33ec48e8642805591bc4e3c23c3/tiles/%7Bz%7D/%7Bx%7D/%7By%7D%22%2C%0A%20%20%20%20%20%20%20%20%20%20%20%20%20%20%20%20%7B%22attribution%22%3A%20%22Google%20Earth%20Engine%22%2C%20%22detectRetina%22%3A%20false%2C%20%22maxNativeZoom%22%3A%2018%2C%20%22maxZoom%22%3A%2018%2C%20%22minZoom%22%3A%200%2C%20%22noWrap%22%3A%20false%2C%20%22opacity%22%3A%201.0%2C%20%22subdomains%22%3A%20%22abc%22%2C%20%22tms%22%3A%20false%7D%0A%20%20%20%20%20%20%20%20%20%20%20%20%29.addTo%28map_f7cbd3bb3162466e84ee0c7aac6d8087%29%3B%0A%20%20%20%20%20%20%20%20%0A%20%20%20%20%0A%20%20%20%20%20%20%20%20%20%20%20%20var%20tile_layer_eb3b1217b5b24e9ba18dd9225d2a981d%20%3D%20L.tileLayer%28%0A%20%20%20%20%20%20%20%20%20%20%20%20%20%20%20%20%22https%3A//earthengine.googleapis.com/v1alpha/projects/earthengine-legacy/maps/1cbcdf0d4e8138cb0c7723e8408de9bf-b013e31edb4ee01e5050d1a7723382e2/tiles/%7Bz%7D/%7Bx%7D/%7By%7D%22%2C%0A%20%20%20%20%20%20%20%20%20%20%20%20%20%20%20%20%7B%22attribution%22%3A%20%22Google%20Earth%20Engine%22%2C%20%22detectRetina%22%3A%20false%2C%20%22maxNativeZoom%22%3A%2018%2C%20%22maxZoom%22%3A%2018%2C%20%22minZoom%22%3A%200%2C%20%22noWrap%22%3A%20false%2C%20%22opacity%22%3A%201.0%2C%20%22subdomains%22%3A%20%22abc%22%2C%20%22tms%22%3A%20false%7D%0A%20%20%20%20%20%20%20%20%20%20%20%20%29.addTo%28map_f7cbd3bb3162466e84ee0c7aac6d8087%29%3B%0A%20%20%20%20%20%20%20%20%0A%20%20%20%20%0A%20%20%20%20%20%20%20%20%20%20%20%20var%20tile_layer_92f3e92a956141d282a678575cf2855e%20%3D%20L.tileLayer%28%0A%20%20%20%20%20%20%20%20%20%20%20%20%20%20%20%20%22https%3A//earthengine.googleapis.com/v1alpha/projects/earthengine-legacy/maps/dcf4b81a6b40f342344da70d78200593-88ea3ec256e57bab65dbc3062e630be6/tiles/%7Bz%7D/%7Bx%7D/%7By%7D%22%2C%0A%20%20%20%20%20%20%20%20%20%20%20%20%20%20%20%20%7B%22attribution%22%3A%20%22Google%20Earth%20Engine%22%2C%20%22detectRetina%22%3A%20false%2C%20%22maxNativeZoom%22%3A%2018%2C%20%22maxZoom%22%3A%2018%2C%20%22minZoom%22%3A%200%2C%20%22noWrap%22%3A%20false%2C%20%22opacity%22%3A%201.0%2C%20%22subdomains%22%3A%20%22abc%22%2C%20%22tms%22%3A%20false%7D%0A%20%20%20%20%20%20%20%20%20%20%20%20%29.addTo%28map_f7cbd3bb3162466e84ee0c7aac6d8087%29%3B%0A%20%20%20%20%20%20%20%20%0A%20%20%20%20%0A%20%20%20%20%20%20%20%20%20%20%20%20var%20tile_layer_ded3f861772b44ee9adc4a7530e0ae7a%20%3D%20L.tileLayer%28%0A%20%20%20%20%20%20%20%20%20%20%20%20%20%20%20%20%22https%3A//earthengine.googleapis.com/v1alpha/projects/earthengine-legacy/maps/47c7123de2510a7704ca07cb1ed7cc78-2dfc66efe68cc511d8287f6167ceb304/tiles/%7Bz%7D/%7Bx%7D/%7By%7D%22%2C%0A%20%20%20%20%20%20%20%20%20%20%20%20%20%20%20%20%7B%22attribution%22%3A%20%22Google%20Earth%20Engine%22%2C%20%22detectRetina%22%3A%20false%2C%20%22maxNativeZoom%22%3A%2018%2C%20%22maxZoom%22%3A%2018%2C%20%22minZoom%22%3A%200%2C%20%22noWrap%22%3A%20false%2C%20%22opacity%22%3A%201.0%2C%20%22subdomains%22%3A%20%22abc%22%2C%20%22tms%22%3A%20false%7D%0A%20%20%20%20%20%20%20%20%20%20%20%20%29.addTo%28map_f7cbd3bb3162466e84ee0c7aac6d8087%29%3B%0A%20%20%20%20%20%20%20%20%0A%20%20%20%20%0A%20%20%20%20%20%20%20%20%20%20%20%20var%20tile_layer_9b0bb133cfb3444eaaad8327505a99a9%20%3D%20L.tileLayer%28%0A%20%20%20%20%20%20%20%20%20%20%20%20%20%20%20%20%22https%3A//earthengine.googleapis.com/v1alpha/projects/earthengine-legacy/maps/fa018ce8826846f4aded3f151dcced74-e02630de25930216dda8ff2f9d50c21e/tiles/%7Bz%7D/%7Bx%7D/%7By%7D%22%2C%0A%20%20%20%20%20%20%20%20%20%20%20%20%20%20%20%20%7B%22attribution%22%3A%20%22Google%20Earth%20Engine%22%2C%20%22detectRetina%22%3A%20false%2C%20%22maxNativeZoom%22%3A%2018%2C%20%22maxZoom%22%3A%2018%2C%20%22minZoom%22%3A%200%2C%20%22noWrap%22%3A%20false%2C%20%22opacity%22%3A%201.0%2C%20%22subdomains%22%3A%20%22abc%22%2C%20%22tms%22%3A%20false%7D%0A%20%20%20%20%20%20%20%20%20%20%20%20%29.addTo%28map_f7cbd3bb3162466e84ee0c7aac6d8087%29%3B%0A%20%20%20%20%20%20%20%20%0A%20%20%20%20%0A%20%20%20%20%20%20%20%20%20%20%20%20var%20tile_layer_cae4d0b910fd4cedb3cd16513020408e%20%3D%20L.tileLayer%28%0A%20%20%20%20%20%20%20%20%20%20%20%20%20%20%20%20%22https%3A//earthengine.googleapis.com/v1alpha/projects/earthengine-legacy/maps/edaee1083cfe34c4a077bad3de4c40e0-e71503bd029f3925a9f67f840dd172e7/tiles/%7Bz%7D/%7Bx%7D/%7By%7D%22%2C%0A%20%20%20%20%20%20%20%20%20%20%20%20%20%20%20%20%7B%22attribution%22%3A%20%22Google%20Earth%20Engine%22%2C%20%22detectRetina%22%3A%20false%2C%20%22maxNativeZoom%22%3A%2018%2C%20%22maxZoom%22%3A%2018%2C%20%22minZoom%22%3A%200%2C%20%22noWrap%22%3A%20false%2C%20%22opacity%22%3A%201.0%2C%20%22subdomains%22%3A%20%22abc%22%2C%20%22tms%22%3A%20false%7D%0A%20%20%20%20%20%20%20%20%20%20%20%20%29.addTo%28map_f7cbd3bb3162466e84ee0c7aac6d8087%29%3B%0A%20%20%20%20%20%20%20%20%0A%20%20%20%20%0A%20%20%20%20%20%20%20%20%20%20%20%20var%20tile_layer_8efb7d7b0bd4475698f636501b1bfa64%20%3D%20L.tileLayer%28%0A%20%20%20%20%20%20%20%20%20%20%20%20%20%20%20%20%22https%3A//earthengine.googleapis.com/v1alpha/projects/earthengine-legacy/maps/25c0cf46411751626ade8e4e6b2976f8-2db9d892405256de4fe970be834be403/tiles/%7Bz%7D/%7Bx%7D/%7By%7D%22%2C%0A%20%20%20%20%20%20%20%20%20%20%20%20%20%20%20%20%7B%22attribution%22%3A%20%22Google%20Earth%20Engine%22%2C%20%22detectRetina%22%3A%20false%2C%20%22maxNativeZoom%22%3A%2018%2C%20%22maxZoom%22%3A%2018%2C%20%22minZoom%22%3A%200%2C%20%22noWrap%22%3A%20false%2C%20%22opacity%22%3A%201.0%2C%20%22subdomains%22%3A%20%22abc%22%2C%20%22tms%22%3A%20false%7D%0A%20%20%20%20%20%20%20%20%20%20%20%20%29.addTo%28map_f7cbd3bb3162466e84ee0c7aac6d8087%29%3B%0A%20%20%20%20%20%20%20%20%0A%20%20%20%20%0A%20%20%20%20%20%20%20%20%20%20%20%20var%20tile_layer_84ab209c5969495eb5aa1b2e62e3d8d9%20%3D%20L.tileLayer%28%0A%20%20%20%20%20%20%20%20%20%20%20%20%20%20%20%20%22https%3A//earthengine.googleapis.com/v1alpha/projects/earthengine-legacy/maps/b235a97bd8ba4c6427380f920a182a82-b09ad7e18d4bc4937ebb89005e4db099/tiles/%7Bz%7D/%7Bx%7D/%7By%7D%22%2C%0A%20%20%20%20%20%20%20%20%20%20%20%20%20%20%20%20%7B%22attribution%22%3A%20%22Google%20Earth%20Engine%22%2C%20%22detectRetina%22%3A%20false%2C%20%22maxNativeZoom%22%3A%2018%2C%20%22maxZoom%22%3A%2018%2C%20%22minZoom%22%3A%200%2C%20%22noWrap%22%3A%20false%2C%20%22opacity%22%3A%201.0%2C%20%22subdomains%22%3A%20%22abc%22%2C%20%22tms%22%3A%20false%7D%0A%20%20%20%20%20%20%20%20%20%20%20%20%29.addTo%28map_f7cbd3bb3162466e84ee0c7aac6d8087%29%3B%0A%20%20%20%20%20%20%20%20%0A%20%20%20%20%0A%20%20%20%20%20%20%20%20%20%20%20%20var%20tile_layer_ae7042a26ebc4ca39e9e46c14563da27%20%3D%20L.tileLayer%28%0A%20%20%20%20%20%20%20%20%20%20%20%20%20%20%20%20%22https%3A//earthengine.googleapis.com/v1alpha/projects/earthengine-legacy/maps/8ff5a32f156375b228ed3afa730c2201-6476f4c07042eb01e50841130af5e42f/tiles/%7Bz%7D/%7Bx%7D/%7By%7D%22%2C%0A%20%20%20%20%20%20%20%20%20%20%20%20%20%20%20%20%7B%22attribution%22%3A%20%22Google%20Earth%20Engine%22%2C%20%22detectRetina%22%3A%20false%2C%20%22maxNativeZoom%22%3A%2018%2C%20%22maxZoom%22%3A%2018%2C%20%22minZoom%22%3A%200%2C%20%22noWrap%22%3A%20false%2C%20%22opacity%22%3A%201.0%2C%20%22subdomains%22%3A%20%22abc%22%2C%20%22tms%22%3A%20false%7D%0A%20%20%20%20%20%20%20%20%20%20%20%20%29.addTo%28map_f7cbd3bb3162466e84ee0c7aac6d8087%29%3B%0A%20%20%20%20%20%20%20%20%0A%20%20%20%20%0A%20%20%20%20%20%20%20%20%20%20%20%20var%20tile_layer_33b116cae1964ed4aa69f25a80d46713%20%3D%20L.tileLayer%28%0A%20%20%20%20%20%20%20%20%20%20%20%20%20%20%20%20%22https%3A//earthengine.googleapis.com/v1alpha/projects/earthengine-legacy/maps/2d9d6f375dd09a0f64dba23a908a2123-3d8cb4dcbb9c3bcf975aea98836f2f46/tiles/%7Bz%7D/%7Bx%7D/%7By%7D%22%2C%0A%20%20%20%20%20%20%20%20%20%20%20%20%20%20%20%20%7B%22attribution%22%3A%20%22Google%20Earth%20Engine%22%2C%20%22detectRetina%22%3A%20false%2C%20%22maxNativeZoom%22%3A%2018%2C%20%22maxZoom%22%3A%2018%2C%20%22minZoom%22%3A%200%2C%20%22noWrap%22%3A%20false%2C%20%22opacity%22%3A%201.0%2C%20%22subdomains%22%3A%20%22abc%22%2C%20%22tms%22%3A%20false%7D%0A%20%20%20%20%20%20%20%20%20%20%20%20%29.addTo%28map_f7cbd3bb3162466e84ee0c7aac6d8087%29%3B%0A%20%20%20%20%20%20%20%20%0A%20%20%20%20%0A%20%20%20%20%20%20%20%20%20%20%20%20var%20tile_layer_ca41eabae08e476182bf18773cdb3cf6%20%3D%20L.tileLayer%28%0A%20%20%20%20%20%20%20%20%20%20%20%20%20%20%20%20%22https%3A//earthengine.googleapis.com/v1alpha/projects/earthengine-legacy/maps/568c1b21c9d91de7ea0cbbbac63cd001-04091e08802812d5e6379b2a895249ca/tiles/%7Bz%7D/%7Bx%7D/%7By%7D%22%2C%0A%20%20%20%20%20%20%20%20%20%20%20%20%20%20%20%20%7B%22attribution%22%3A%20%22Google%20Earth%20Engine%22%2C%20%22detectRetina%22%3A%20false%2C%20%22maxNativeZoom%22%3A%2018%2C%20%22maxZoom%22%3A%2018%2C%20%22minZoom%22%3A%200%2C%20%22noWrap%22%3A%20false%2C%20%22opacity%22%3A%201.0%2C%20%22subdomains%22%3A%20%22abc%22%2C%20%22tms%22%3A%20false%7D%0A%20%20%20%20%20%20%20%20%20%20%20%20%29.addTo%28map_f7cbd3bb3162466e84ee0c7aac6d8087%29%3B%0A%20%20%20%20%20%20%20%20%0A%20%20%20%20%0A%20%20%20%20%20%20%20%20%20%20%20%20var%20tile_layer_710d36b66a994800aa4484f0c77b9df9%20%3D%20L.tileLayer%28%0A%20%20%20%20%20%20%20%20%20%20%20%20%20%20%20%20%22https%3A//earthengine.googleapis.com/v1alpha/projects/earthengine-legacy/maps/6fc7b37a84ce3d460b0db71c3f778467-ea069382b4d3196328ee2387da2a271f/tiles/%7Bz%7D/%7Bx%7D/%7By%7D%22%2C%0A%20%20%20%20%20%20%20%20%20%20%20%20%20%20%20%20%7B%22attribution%22%3A%20%22Google%20Earth%20Engine%22%2C%20%22detectRetina%22%3A%20false%2C%20%22maxNativeZoom%22%3A%2018%2C%20%22maxZoom%22%3A%2018%2C%20%22minZoom%22%3A%200%2C%20%22noWrap%22%3A%20false%2C%20%22opacity%22%3A%201.0%2C%20%22subdomains%22%3A%20%22abc%22%2C%20%22tms%22%3A%20false%7D%0A%20%20%20%20%20%20%20%20%20%20%20%20%29.addTo%28map_f7cbd3bb3162466e84ee0c7aac6d8087%29%3B%0A%20%20%20%20%20%20%20%20%0A%20%20%20%20%0A%20%20%20%20%20%20%20%20%20%20%20%20var%20tile_layer_f5248eb96be340818ff07a3287b21d56%20%3D%20L.tileLayer%28%0A%20%20%20%20%20%20%20%20%20%20%20%20%20%20%20%20%22https%3A//earthengine.googleapis.com/v1alpha/projects/earthengine-legacy/maps/8c928150fdd0f420b68a2c86e35711e8-86a26716c6650b5780d1cc2d7851a383/tiles/%7Bz%7D/%7Bx%7D/%7By%7D%22%2C%0A%20%20%20%20%20%20%20%20%20%20%20%20%20%20%20%20%7B%22attribution%22%3A%20%22Google%20Earth%20Engine%22%2C%20%22detectRetina%22%3A%20false%2C%20%22maxNativeZoom%22%3A%2018%2C%20%22maxZoom%22%3A%2018%2C%20%22minZoom%22%3A%200%2C%20%22noWrap%22%3A%20false%2C%20%22opacity%22%3A%201.0%2C%20%22subdomains%22%3A%20%22abc%22%2C%20%22tms%22%3A%20false%7D%0A%20%20%20%20%20%20%20%20%20%20%20%20%29.addTo%28map_f7cbd3bb3162466e84ee0c7aac6d8087%29%3B%0A%20%20%20%20%20%20%20%20%0A%20%20%20%20%0A%20%20%20%20%20%20%20%20%20%20%20%20var%20tile_layer_ae8d584738744219a72b8fbc68843318%20%3D%20L.tileLayer%28%0A%20%20%20%20%20%20%20%20%20%20%20%20%20%20%20%20%22https%3A//earthengine.googleapis.com/v1alpha/projects/earthengine-legacy/maps/9d0ff029ef7354c8d632a242d722cd7b-481fff0a579fc673da8b8440b2e5127b/tiles/%7Bz%7D/%7Bx%7D/%7By%7D%22%2C%0A%20%20%20%20%20%20%20%20%20%20%20%20%20%20%20%20%7B%22attribution%22%3A%20%22Google%20Earth%20Engine%22%2C%20%22detectRetina%22%3A%20false%2C%20%22maxNativeZoom%22%3A%2018%2C%20%22maxZoom%22%3A%2018%2C%20%22minZoom%22%3A%200%2C%20%22noWrap%22%3A%20false%2C%20%22opacity%22%3A%201.0%2C%20%22subdomains%22%3A%20%22abc%22%2C%20%22tms%22%3A%20false%7D%0A%20%20%20%20%20%20%20%20%20%20%20%20%29.addTo%28map_f7cbd3bb3162466e84ee0c7aac6d8087%29%3B%0A%20%20%20%20%20%20%20%20%0A%20%20%20%20%0A%20%20%20%20%20%20%20%20%20%20%20%20var%20tile_layer_b951efbd30694dd0809cebfadfde2533%20%3D%20L.tileLayer%28%0A%20%20%20%20%20%20%20%20%20%20%20%20%20%20%20%20%22https%3A//earthengine.googleapis.com/v1alpha/projects/earthengine-legacy/maps/d1ea93c05e967413b3fd8f4c550df26b-009574615e0338cbbcf773520b7c4512/tiles/%7Bz%7D/%7Bx%7D/%7By%7D%22%2C%0A%20%20%20%20%20%20%20%20%20%20%20%20%20%20%20%20%7B%22attribution%22%3A%20%22Google%20Earth%20Engine%22%2C%20%22detectRetina%22%3A%20false%2C%20%22maxNativeZoom%22%3A%2018%2C%20%22maxZoom%22%3A%2018%2C%20%22minZoom%22%3A%200%2C%20%22noWrap%22%3A%20false%2C%20%22opacity%22%3A%201.0%2C%20%22subdomains%22%3A%20%22abc%22%2C%20%22tms%22%3A%20false%7D%0A%20%20%20%20%20%20%20%20%20%20%20%20%29.addTo%28map_f7cbd3bb3162466e84ee0c7aac6d8087%29%3B%0A%20%20%20%20%20%20%20%20%0A%20%20%20%20%0A%20%20%20%20%20%20%20%20%20%20%20%20var%20layer_control_f072381e229f419a9c7d6d9acc8db0c7%20%3D%20%7B%0A%20%20%20%20%20%20%20%20%20%20%20%20%20%20%20%20base_layers%20%3A%20%7B%0A%20%20%20%20%20%20%20%20%20%20%20%20%20%20%20%20%20%20%20%20%22openstreetmap%22%20%3A%20tile_layer_1281dac99b1540fc95feee99db9d889c%2C%0A%20%20%20%20%20%20%20%20%20%20%20%20%20%20%20%20%7D%2C%0A%20%20%20%20%20%20%20%20%20%20%20%20%20%20%20%20overlays%20%3A%20%20%7B%0A%20%20%20%20%20%20%20%20%20%20%20%20%20%20%20%20%20%20%20%20%22Google%20Maps%22%20%3A%20tile_layer_ac7ac877a3044b7382d39472a28d75c8%2C%0A%20%20%20%20%20%20%20%20%20%20%20%20%20%20%20%20%20%20%20%20%22TUBBS%20before_false_color%22%20%3A%20tile_layer_3d480843847d46b2a3cae8772ae09167%2C%0A%20%20%20%20%20%20%20%20%20%20%20%20%20%20%20%20%20%20%20%20%22TUBBS%20true_color_before%22%20%3A%20tile_layer_7d5ac17537ca4a49b25a02f6c27424d4%2C%0A%20%20%20%20%20%20%20%20%20%20%20%20%20%20%20%20%20%20%20%20%22TUBBS%20nir_before%22%20%3A%20tile_layer_17cdc385c9fb4473969be360cfa58bd7%2C%0A%20%20%20%20%20%20%20%20%20%20%20%20%20%20%20%20%20%20%20%20%22TUBBS%20after_false_color%22%20%3A%20tile_layer_ab239cc512274a159b5f80ed8e39440c%2C%0A%20%20%20%20%20%20%20%20%20%20%20%20%20%20%20%20%20%20%20%20%22TUBBS%20true_color_after%22%20%3A%20tile_layer_d8a73508ea474a54934745d4c7ef557c%2C%0A%20%20%20%20%20%20%20%20%20%20%20%20%20%20%20%20%20%20%20%20%22TUBBS%20nir_after%22%20%3A%20tile_layer_5ff290ae956f4d7780a4dbd8e181bb7b%2C%0A%20%20%20%20%20%20%20%20%20%20%20%20%20%20%20%20%20%20%20%20%22TUBBS%20dNBR%22%20%3A%20tile_layer_1145da6a3f53435b960b2cfd28d4f305%2C%0A%20%20%20%20%20%20%20%20%20%20%20%20%20%20%20%20%20%20%20%20%22NUNS%20before_false_color%22%20%3A%20tile_layer_eb3b1217b5b24e9ba18dd9225d2a981d%2C%0A%20%20%20%20%20%20%20%20%20%20%20%20%20%20%20%20%20%20%20%20%22NUNS%20true_color_before%22%20%3A%20tile_layer_92f3e92a956141d282a678575cf2855e%2C%0A%20%20%20%20%20%20%20%20%20%20%20%20%20%20%20%20%20%20%20%20%22NUNS%20nir_before%22%20%3A%20tile_layer_ded3f861772b44ee9adc4a7530e0ae7a%2C%0A%20%20%20%20%20%20%20%20%20%20%20%20%20%20%20%20%20%20%20%20%22NUNS%20after_false_color%22%20%3A%20tile_layer_9b0bb133cfb3444eaaad8327505a99a9%2C%0A%20%20%20%20%20%20%20%20%20%20%20%20%20%20%20%20%20%20%20%20%22NUNS%20true_color_after%22%20%3A%20tile_layer_cae4d0b910fd4cedb3cd16513020408e%2C%0A%20%20%20%20%20%20%20%20%20%20%20%20%20%20%20%20%20%20%20%20%22NUNS%20nir_after%22%20%3A%20tile_layer_8efb7d7b0bd4475698f636501b1bfa64%2C%0A%20%20%20%20%20%20%20%20%20%20%20%20%20%20%20%20%20%20%20%20%22NUNS%20dNBR%22%20%3A%20tile_layer_84ab209c5969495eb5aa1b2e62e3d8d9%2C%0A%20%20%20%20%20%20%20%20%20%20%20%20%20%20%20%20%20%20%20%20%22POCKET%20before_false_color%22%20%3A%20tile_layer_ae7042a26ebc4ca39e9e46c14563da27%2C%0A%20%20%20%20%20%20%20%20%20%20%20%20%20%20%20%20%20%20%20%20%22POCKET%20true_color_before%22%20%3A%20tile_layer_33b116cae1964ed4aa69f25a80d46713%2C%0A%20%20%20%20%20%20%20%20%20%20%20%20%20%20%20%20%20%20%20%20%22POCKET%20nir_before%22%20%3A%20tile_layer_ca41eabae08e476182bf18773cdb3cf6%2C%0A%20%20%20%20%20%20%20%20%20%20%20%20%20%20%20%20%20%20%20%20%22POCKET%20after_false_color%22%20%3A%20tile_layer_710d36b66a994800aa4484f0c77b9df9%2C%0A%20%20%20%20%20%20%20%20%20%20%20%20%20%20%20%20%20%20%20%20%22POCKET%20true_color_after%22%20%3A%20tile_layer_f5248eb96be340818ff07a3287b21d56%2C%0A%20%20%20%20%20%20%20%20%20%20%20%20%20%20%20%20%20%20%20%20%22POCKET%20nir_after%22%20%3A%20tile_layer_ae8d584738744219a72b8fbc68843318%2C%0A%20%20%20%20%20%20%20%20%20%20%20%20%20%20%20%20%20%20%20%20%22POCKET%20dNBR%22%20%3A%20tile_layer_b951efbd30694dd0809cebfadfde2533%2C%0A%20%20%20%20%20%20%20%20%20%20%20%20%20%20%20%20%7D%2C%0A%20%20%20%20%20%20%20%20%20%20%20%20%7D%3B%0A%20%20%20%20%20%20%20%20%20%20%20%20L.control.layers%28%0A%20%20%20%20%20%20%20%20%20%20%20%20%20%20%20%20layer_control_f072381e229f419a9c7d6d9acc8db0c7.base_layers%2C%0A%20%20%20%20%20%20%20%20%20%20%20%20%20%20%20%20layer_control_f072381e229f419a9c7d6d9acc8db0c7.overlays%2C%0A%20%20%20%20%20%20%20%20%20%20%20%20%20%20%20%20%7B%22autoZIndex%22%3A%20true%2C%20%22collapsed%22%3A%20true%2C%20%22position%22%3A%20%22topright%22%7D%0A%20%20%20%20%20%20%20%20%20%20%20%20%29.addTo%28map_f7cbd3bb3162466e84ee0c7aac6d8087%29%3B%0A%20%20%20%20%20%20%20%20%0A%3C/script%3E onload=\"this.contentDocument.open();this.contentDocument.write(    decodeURIComponent(this.getAttribute('data-html')));this.contentDocument.close();\" allowfullscreen webkitallowfullscreen mozallowfullscreen></iframe></div></div>"
            ],
            "text/plain": [
              "<geemap.eefolium.Map at 0x7fa9c2b84f90>"
            ]
          },
          "metadata": {
            "tags": []
          },
          "execution_count": 150
        }
      ]
    },
    {
      "cell_type": "markdown",
      "metadata": {
        "id": "htNTM2Q_MPJr"
      },
      "source": [
        "<h2>Threshold Reasoning</h2>"
      ]
    },
    {
      "cell_type": "markdown",
      "metadata": {
        "id": "ZyMd3GZdGZDo"
      },
      "source": [
        "We had originally chosen 0.05 as the threshold of dNBR for all area burned and 0.5 for severe damage because. For the area burned, the percent error was at its lowest at that threshold, 22.56%. For the severe damage, the false color images for before and after showed large constrast. We eventually however found a public table indicating severity of the fire based on dNBR value. Based on the table we changed our thresholds to 0.1 and 0.66 for area burned and severe damage respectfully. These values held up with our histogram and in using these values we were able to eliminate some of the gasses in the severe damage images. Additionally, we were able to show that our percentages were more consistent with a lower standard deviation of 7.37 vs. 25.50, but unfortunately, our percent error increased to 25.20%. To make sure that no gasses were found in the severe damage image we used a threshold of 0.8 and confirmed it against the map above. Overall, for the sake of consistency, we chose the public values for overall area burned and 0.80 as the threshold for severe damage burned."
      ]
    },
    {
      "cell_type": "code",
      "metadata": {
        "colab": {
          "base_uri": "https://localhost:8080/",
          "height": 145
        },
        "id": "AHfy43NDKIrV",
        "outputId": "02279c42-b15f-4708-fa16-3c1bcbb801e7"
      },
      "source": [
        "nuns_fire"
      ],
      "execution_count": null,
      "outputs": [
        {
          "output_type": "execute_result",
          "data": {
            "text/html": [
              "<div>\n",
              "<style scoped>\n",
              "    .dataframe tbody tr th:only-of-type {\n",
              "        vertical-align: middle;\n",
              "    }\n",
              "\n",
              "    .dataframe tbody tr th {\n",
              "        vertical-align: top;\n",
              "    }\n",
              "\n",
              "    .dataframe thead th {\n",
              "        text-align: right;\n",
              "    }\n",
              "</style>\n",
              "<table border=\"1\" class=\"dataframe\">\n",
              "  <thead>\n",
              "    <tr style=\"text-align: right;\">\n",
              "      <th></th>\n",
              "      <th>YEAR_</th>\n",
              "      <th>STATE</th>\n",
              "      <th>AGENCY</th>\n",
              "      <th>UNIT_ID</th>\n",
              "      <th>FIRE_NAME</th>\n",
              "      <th>INC_NUM</th>\n",
              "      <th>ALARM_DATE</th>\n",
              "      <th>CONT_DATE</th>\n",
              "      <th>CAUSE</th>\n",
              "      <th>COMMENTS</th>\n",
              "      <th>REPORT_AC</th>\n",
              "      <th>GIS_ACRES</th>\n",
              "      <th>C_METHOD</th>\n",
              "      <th>OBJECTIVE</th>\n",
              "      <th>FIRE_NUM</th>\n",
              "      <th>Shape_Length</th>\n",
              "      <th>Shape_Area</th>\n",
              "      <th>geometry</th>\n",
              "    </tr>\n",
              "  </thead>\n",
              "  <tbody>\n",
              "    <tr>\n",
              "      <th>20209</th>\n",
              "      <td>2017</td>\n",
              "      <td>CA</td>\n",
              "      <td>CDF</td>\n",
              "      <td>LNU</td>\n",
              "      <td>NUNS</td>\n",
              "      <td>00010049</td>\n",
              "      <td>2017-10-08T00:00:00+00:00</td>\n",
              "      <td>2017-10-31T00:00:00+00:00</td>\n",
              "      <td>14.0</td>\n",
              "      <td>Nuns,Partrick, Adobe, Norrbom and Pressley&gt;Nuns</td>\n",
              "      <td>55797.0</td>\n",
              "      <td>55798.191406</td>\n",
              "      <td>3.0</td>\n",
              "      <td>1.0</td>\n",
              "      <td>None</td>\n",
              "      <td>239290.593084</td>\n",
              "      <td>2.258073e+08</td>\n",
              "      <td>MULTIPOLYGON (((-122.58171 38.46911, -122.5816...</td>\n",
              "    </tr>\n",
              "  </tbody>\n",
              "</table>\n",
              "</div>"
            ],
            "text/plain": [
              "      YEAR_  ...                                           geometry\n",
              "20209  2017  ...  MULTIPOLYGON (((-122.58171 38.46911, -122.5816...\n",
              "\n",
              "[1 rows x 18 columns]"
            ]
          },
          "metadata": {
            "tags": []
          },
          "execution_count": 151
        }
      ]
    },
    {
      "cell_type": "code",
      "metadata": {
        "id": "YBYqg4oQRwTb"
      },
      "source": [
        "ds_area = []\n",
        "fires = [tubbs_fire, nuns_fire, pocket_fire]\n",
        "for i in range(len(major_fires)):\n",
        "  img = area_arr[i]\n",
        "  area2 = img.reduceRegion(reducer = ee.Reducer.sum(),geometry = major_fires['bounding_box'][i], crs =  'EPSG:4326', scale = 100)\n",
        "  area = ee.Number(area2.get('area')).getInfo()\n",
        "  acres = area*0.0002471\n",
        "  ds_area.append([major_fires['name'][i],area, acres,np.array(fires[i]['GIS_ACRES'])[0]])"
      ],
      "execution_count": null,
      "outputs": []
    },
    {
      "cell_type": "code",
      "metadata": {
        "id": "y6bon7cQzo72"
      },
      "source": [
        "ds_area = np.array(ds_area)\n",
        "area_df = pd.DataFrame({'fire_name':ds_area[:,0]})\n",
        "area_df['estimated area burned (m^2)'] = ds_area[:,1]\n",
        "area_df['estimated area burned (acres)'] = ds_area[:,2]\n",
        "area_df['true area burned (acres)'] = ds_area[:,3]\n",
        "\n",
        "area_df['estimated area burned (acres)'] = area_df['estimated area burned (acres)'].astype('float64')\n",
        "area_df['true area burned (acres)'] = area_df['true area burned (acres)'].astype('float64')\n",
        "area_df['estimated area burned (m^2)'] = area_df['estimated area burned (m^2)'].astype('float64')\n",
        "\n",
        "area_df['percent_error (%)'] = np.abs((area_df['estimated area burned (acres)'].astype('float64') - area_df['true area burned (acres)'])/ area_df['true area burned (acres)'])*100"
      ],
      "execution_count": null,
      "outputs": []
    },
    {
      "cell_type": "code",
      "metadata": {
        "colab": {
          "base_uri": "https://localhost:8080/",
          "height": 143
        },
        "id": "JdWuKtiPztxr",
        "outputId": "7bdf5c50-1f60-4235-8f33-63bb7e68267b"
      },
      "source": [
        "area_df"
      ],
      "execution_count": null,
      "outputs": [
        {
          "output_type": "execute_result",
          "data": {
            "text/html": [
              "<div>\n",
              "<style scoped>\n",
              "    .dataframe tbody tr th:only-of-type {\n",
              "        vertical-align: middle;\n",
              "    }\n",
              "\n",
              "    .dataframe tbody tr th {\n",
              "        vertical-align: top;\n",
              "    }\n",
              "\n",
              "    .dataframe thead th {\n",
              "        text-align: right;\n",
              "    }\n",
              "</style>\n",
              "<table border=\"1\" class=\"dataframe\">\n",
              "  <thead>\n",
              "    <tr style=\"text-align: right;\">\n",
              "      <th></th>\n",
              "      <th>fire_name</th>\n",
              "      <th>estimated area burned (m^2)</th>\n",
              "      <th>estimated area burned (acres)</th>\n",
              "      <th>true area burned (acres)</th>\n",
              "      <th>percent_error (%)</th>\n",
              "    </tr>\n",
              "  </thead>\n",
              "  <tbody>\n",
              "    <tr>\n",
              "      <th>0</th>\n",
              "      <td>TUBBS</td>\n",
              "      <td>1.264274e+08</td>\n",
              "      <td>31240.208609</td>\n",
              "      <td>36701.984375</td>\n",
              "      <td>14.881418</td>\n",
              "    </tr>\n",
              "    <tr>\n",
              "      <th>1</th>\n",
              "      <td>NUNS</td>\n",
              "      <td>2.920997e+08</td>\n",
              "      <td>72177.830122</td>\n",
              "      <td>55798.191406</td>\n",
              "      <td>29.355143</td>\n",
              "    </tr>\n",
              "    <tr>\n",
              "      <th>2</th>\n",
              "      <td>POCKET</td>\n",
              "      <td>4.812732e+07</td>\n",
              "      <td>11892.261828</td>\n",
              "      <td>17359.328125</td>\n",
              "      <td>31.493536</td>\n",
              "    </tr>\n",
              "  </tbody>\n",
              "</table>\n",
              "</div>"
            ],
            "text/plain": [
              "  fire_name  ...  percent_error (%)\n",
              "0     TUBBS  ...          14.881418\n",
              "1      NUNS  ...          29.355143\n",
              "2    POCKET  ...          31.493536\n",
              "\n",
              "[3 rows x 5 columns]"
            ]
          },
          "metadata": {
            "tags": []
          },
          "execution_count": 68
        }
      ]
    },
    {
      "cell_type": "code",
      "metadata": {
        "colab": {
          "base_uri": "https://localhost:8080/"
        },
        "id": "VicKHQm7zufp",
        "outputId": "86f719f4-20bf-4c22-f8da-ccf3b1441fba"
      },
      "source": [
        "# Average percent error\n",
        "average_percent_error = np.mean(area_df['percent_error (%)'])\n",
        "print('average percent error:', average_percent_error)\n",
        "\n",
        "# Standard deviation\n",
        "std_dev = np.std(area_df['percent_error (%)'])\n",
        "print('standard deviation:', std_dev)"
      ],
      "execution_count": null,
      "outputs": [
        {
          "output_type": "stream",
          "text": [
            "average percent error: 25.243365705244788\n",
            "standard deviation: 7.378827799177691\n"
          ],
          "name": "stdout"
        }
      ]
    },
    {
      "cell_type": "code",
      "metadata": {
        "id": "Af5ZKjZRbzxi"
      },
      "source": [
        "# Burnt severity visualizations\n",
        "nbr_high_severity_vis = {\n",
        "    'min': 0,\n",
        "    'max': 1,\n",
        "    'bands': ['NBR'],\n",
        "    'palette': ['red']\n",
        "}\n",
        "\n",
        "nbr_moderate_severity_vis = {\n",
        "    'min':0,\n",
        "    'max': 1,\n",
        "    'bands': ['NBR'],\n",
        "    'palette': ['orange']\n",
        "}\n",
        "\n",
        "nbr_small_severity_vis = {\n",
        "    'min': 0,\n",
        "    'max' : 1,\n",
        "    'bands': ['NBR'],\n",
        "    'palette': ['yellow']\n",
        "}\n",
        "\n",
        "nbr_unburned_vis = {\n",
        "    'min': 0,\n",
        "    'max' : 1,\n",
        "    'bands': ['NBR'],\n",
        "    'palette': ['#BFF4BE']\n",
        "}\n",
        "\n",
        "nbr_enhanced_regrowth_vis = {\n",
        "    'min' : 0,\n",
        "    'max' : 1,\n",
        "    'bands': ['NBR'],\n",
        "    'palette': ['green']\n",
        "}"
      ],
      "execution_count": null,
      "outputs": []
    },
    {
      "cell_type": "code",
      "metadata": {
        "id": "AVfDq-FrdR32"
      },
      "source": [
        "# Initializing Map4\n",
        "Map4 = geemap.Map(center=(lat, lon), zoom=11)\n",
        "\n",
        "# Initializing the severity masks\n",
        "high_severity_mask = dNBR.gt(major_damage_threshold)\n",
        "moderate_severity_mask = dNBR.gt(0.27).bitwiseAnd(dNBR.lt(major_damage_threshold))\n",
        "low_severity_mask = dNBR.gt(0.1).bitwiseAnd(dNBR.lt(.27))\n",
        "unburned_mask = dNBR.gt(-0.1).bitwiseAnd(dNBR.lt(.1))\n",
        "enhanced_growth_mask = dNBR.gt(-1).bitwiseAnd(dNBR.lt(-.1))\n",
        "\n",
        "fc = ee.FeatureCollection([ee.Feature(major_fires['bounding_box'][0], {'name' : major_fires['name'][0], 'shown' : 'true'})])\n",
        "minimum_dnbr = dNBR.getInfo()[\"bands\"][0][\"data_type\"][\"min\"]\n",
        "background = dNBR\n",
        "fc = ee.FeatureCollection([ee.Feature(major_fires['bounding_box'][0], {'name' : major_fires['name'][0], 'shown' : 'true'}), ee.Feature(major_fires['bounding_box'][1], {'name' : major_fires['name'][1], 'shown' : 'true'}),ee.Feature(major_fires['bounding_box'][2], {'name' : major_fires['name'][2], 'shown' : 'true'})])\n",
        "\n",
        "# Adding the severity layers\n",
        "for fire in range(len(major_fires)):\n",
        "  box = major_fires['bounding_box'][fire]\n",
        "  fire_name = major_fires['name'][fire]\n",
        "  Map4.addLayer(dNBR.mask(high_severity_mask), nbr_high_severity_vis, fire_name + \" dnbr - high severity\")\n",
        "  Map4.addLayer(dNBR.mask(moderate_severity_mask), nbr_moderate_severity_vis, fire_name + \" dnbr - moderate severity\")\n",
        "  Map4.addLayer(dNBR.mask(low_severity_mask), nbr_small_severity_vis, fire_name + \" dnbr - small severity\")\n",
        "  Map4.addLayer(dNBR.mask(unburned_mask), nbr_unburned_vis, fire_name + \" dnbr - unburned\")\n",
        "  Map4.addLayer(dNBR.mask(enhanced_growth_mask), nbr_enhanced_regrowth_vis, fire_name + \" dnbr - enhanced regrowth\")\n",
        "Map4.add_legend(title = \"SEVERITY\", legend_dict= {\"HIGH SEVERITY\":\"ff0000\", \"MODERATE SEVERITY\":\"ffa500\", \"LOW SEVERITY\":\"FFFF00\", \"UNBURNED\":'BFF4BE', \"ENHANCED GROWTH\" : \"154734\"})\n",
        "Map4.addLayer(fc, {'color' : 'grey', 'opacity' :1},\"fire_name\")"
      ],
      "execution_count": null,
      "outputs": []
    },
    {
      "cell_type": "code",
      "metadata": {
        "colab": {
          "base_uri": "https://localhost:8080/",
          "height": 660
        },
        "id": "xlkB7aatd8aP",
        "outputId": "70acd3c2-a45b-4093-c8ff-7860c2764e25"
      },
      "source": [
        "Map4"
      ],
      "execution_count": null,
      "outputs": [
        {
          "output_type": "execute_result",
          "data": {
            "text/html": [
              "<div style=\"width:100%;\"><div style=\"position:relative;width:100%;height:0;padding-bottom:60%;\"><span style=\"color:#565656\">Make this Notebook Trusted to load map: File -> Trust Notebook</span><iframe src=\"about:blank\" style=\"position:absolute;width:100%;height:100%;left:0;top:0;border:none !important;\" data-html=%3C%21DOCTYPE%20html%3E%0A%3Chead%3E%20%20%20%20%0A%20%20%20%20%3Cmeta%20http-equiv%3D%22content-type%22%20content%3D%22text/html%3B%20charset%3DUTF-8%22%20/%3E%0A%20%20%20%20%0A%20%20%20%20%20%20%20%20%3Cscript%3E%0A%20%20%20%20%20%20%20%20%20%20%20%20L_NO_TOUCH%20%3D%20false%3B%0A%20%20%20%20%20%20%20%20%20%20%20%20L_DISABLE_3D%20%3D%20false%3B%0A%20%20%20%20%20%20%20%20%3C/script%3E%0A%20%20%20%20%0A%20%20%20%20%3Cstyle%3Ehtml%2C%20body%20%7Bwidth%3A%20100%25%3Bheight%3A%20100%25%3Bmargin%3A%200%3Bpadding%3A%200%3B%7D%3C/style%3E%0A%20%20%20%20%3Cstyle%3E%23map%20%7Bposition%3Aabsolute%3Btop%3A0%3Bbottom%3A0%3Bright%3A0%3Bleft%3A0%3B%7D%3C/style%3E%0A%20%20%20%20%3Cscript%20src%3D%22https%3A//cdn.jsdelivr.net/npm/leaflet%401.6.0/dist/leaflet.js%22%3E%3C/script%3E%0A%20%20%20%20%3Cscript%20src%3D%22https%3A//code.jquery.com/jquery-1.12.4.min.js%22%3E%3C/script%3E%0A%20%20%20%20%3Cscript%20src%3D%22https%3A//maxcdn.bootstrapcdn.com/bootstrap/3.2.0/js/bootstrap.min.js%22%3E%3C/script%3E%0A%20%20%20%20%3Cscript%20src%3D%22https%3A//cdnjs.cloudflare.com/ajax/libs/Leaflet.awesome-markers/2.0.2/leaflet.awesome-markers.js%22%3E%3C/script%3E%0A%20%20%20%20%3Clink%20rel%3D%22stylesheet%22%20href%3D%22https%3A//cdn.jsdelivr.net/npm/leaflet%401.6.0/dist/leaflet.css%22/%3E%0A%20%20%20%20%3Clink%20rel%3D%22stylesheet%22%20href%3D%22https%3A//maxcdn.bootstrapcdn.com/bootstrap/3.2.0/css/bootstrap.min.css%22/%3E%0A%20%20%20%20%3Clink%20rel%3D%22stylesheet%22%20href%3D%22https%3A//maxcdn.bootstrapcdn.com/bootstrap/3.2.0/css/bootstrap-theme.min.css%22/%3E%0A%20%20%20%20%3Clink%20rel%3D%22stylesheet%22%20href%3D%22https%3A//maxcdn.bootstrapcdn.com/font-awesome/4.6.3/css/font-awesome.min.css%22/%3E%0A%20%20%20%20%3Clink%20rel%3D%22stylesheet%22%20href%3D%22https%3A//cdnjs.cloudflare.com/ajax/libs/Leaflet.awesome-markers/2.0.2/leaflet.awesome-markers.css%22/%3E%0A%20%20%20%20%3Clink%20rel%3D%22stylesheet%22%20href%3D%22https%3A//cdn.jsdelivr.net/gh/python-visualization/folium/folium/templates/leaflet.awesome.rotate.min.css%22/%3E%0A%20%20%20%20%0A%20%20%20%20%20%20%20%20%20%20%20%20%3Cmeta%20name%3D%22viewport%22%20content%3D%22width%3Ddevice-width%2C%0A%20%20%20%20%20%20%20%20%20%20%20%20%20%20%20%20initial-scale%3D1.0%2C%20maximum-scale%3D1.0%2C%20user-scalable%3Dno%22%20/%3E%0A%20%20%20%20%20%20%20%20%20%20%20%20%3Cstyle%3E%0A%20%20%20%20%20%20%20%20%20%20%20%20%20%20%20%20%23map_9673dc8e72a94aadad069e3257752651%20%7B%0A%20%20%20%20%20%20%20%20%20%20%20%20%20%20%20%20%20%20%20%20position%3A%20relative%3B%0A%20%20%20%20%20%20%20%20%20%20%20%20%20%20%20%20%20%20%20%20width%3A%20100.0%25%3B%0A%20%20%20%20%20%20%20%20%20%20%20%20%20%20%20%20%20%20%20%20height%3A%20100.0%25%3B%0A%20%20%20%20%20%20%20%20%20%20%20%20%20%20%20%20%20%20%20%20left%3A%200.0%25%3B%0A%20%20%20%20%20%20%20%20%20%20%20%20%20%20%20%20%20%20%20%20top%3A%200.0%25%3B%0A%20%20%20%20%20%20%20%20%20%20%20%20%20%20%20%20%7D%0A%20%20%20%20%20%20%20%20%20%20%20%20%3C/style%3E%0A%20%20%20%20%20%20%20%20%0A%20%20%20%20%3Cscript%20src%3D%22https%3A//cdnjs.cloudflare.com/ajax/libs/leaflet.fullscreen/1.4.2/Control.FullScreen.min.js%22%3E%3C/script%3E%0A%20%20%20%20%3Clink%20rel%3D%22stylesheet%22%20href%3D%22https%3A//cdnjs.cloudflare.com/ajax/libs/leaflet.fullscreen/1.4.2/Control.FullScreen.min.css%22/%3E%0A%3C/head%3E%0A%3Cbody%3E%20%20%20%20%0A%20%20%20%20%0A%20%20%20%20%20%20%20%20%20%20%20%20%3Cdiv%20class%3D%22folium-map%22%20id%3D%22map_9673dc8e72a94aadad069e3257752651%22%20%3E%3C/div%3E%0A%20%20%20%20%20%20%20%20%0A%20%20%20%20%0A%0A%3C%21doctype%20html%3E%0A%3Chtml%20lang%3D%22en%22%3E%0A%3Chead%3E%0A%20%20%3Cmeta%20charset%3D%22utf-8%22%3E%0A%20%20%3Cmeta%20name%3D%22viewport%22%20content%3D%22width%3Ddevice-width%2C%20initial-scale%3D1%22%3E%0A%20%20%3Ctitle%3EjQuery%20UI%20Draggable%20-%20Default%20functionality%3C/title%3E%0A%20%20%3Clink%20rel%3D%22stylesheet%22%20href%3D%22//code.jquery.com/ui/1.12.1/themes/base/jquery-ui.css%22%3E%0A%0A%20%20%3Cscript%20src%3D%22https%3A//code.jquery.com/jquery-1.12.4.js%22%3E%3C/script%3E%0A%20%20%3Cscript%20src%3D%22https%3A//code.jquery.com/ui/1.12.1/jquery-ui.js%22%3E%3C/script%3E%0A%0A%20%20%3Cscript%3E%0A%20%20%24%28%20function%28%29%20%7B%0A%20%20%20%20%24%28%20%22%23maplegend%22%20%29.draggable%28%7B%0A%20%20%20%20%20%20%20%20%20%20%20%20%20%20%20%20%20%20%20%20start%3A%20function%20%28event%2C%20ui%29%20%7B%0A%20%20%20%20%20%20%20%20%20%20%20%20%20%20%20%20%20%20%20%20%20%20%20%20%24%28this%29.css%28%7B%0A%20%20%20%20%20%20%20%20%20%20%20%20%20%20%20%20%20%20%20%20%20%20%20%20%20%20%20%20right%3A%20%22auto%22%2C%0A%20%20%20%20%20%20%20%20%20%20%20%20%20%20%20%20%20%20%20%20%20%20%20%20%20%20%20%20top%3A%20%22auto%22%2C%0A%20%20%20%20%20%20%20%20%20%20%20%20%20%20%20%20%20%20%20%20%20%20%20%20%20%20%20%20bottom%3A%20%22auto%22%0A%20%20%20%20%20%20%20%20%20%20%20%20%20%20%20%20%20%20%20%20%20%20%20%20%7D%29%3B%0A%20%20%20%20%20%20%20%20%20%20%20%20%20%20%20%20%20%20%20%20%7D%0A%20%20%20%20%20%20%20%20%20%20%20%20%20%20%20%20%7D%29%3B%0A%7D%29%3B%0A%0A%20%20%3C/script%3E%0A%3C/head%3E%0A%3Cbody%3E%0A%0A%0A%3Cdiv%20id%3D%27maplegend%27%20class%3D%27maplegend%27%0A%20%20%20%20style%3D%27position%3A%20absolute%3B%20z-index%3A9999%3B%20border%3A2px%20solid%20grey%3B%20background-color%3Argba%28255%2C%20255%2C%20255%2C%200.8%29%3B%0A%20%20%20%20%20border-radius%3A6px%3B%20padding%3A%2010px%3B%20font-size%3A14px%3B%20right%3A%2020px%3B%20bottom%3A%2020px%3B%27%3E%0A%0A%3Cdiv%20class%3D%27legend-title%27%3ESEVERITY%3C/div%3E%0A%3Cdiv%20class%3D%27legend-scale%27%3E%0A%20%20%3Cul%20class%3D%27legend-labels%27%3E%0A%20%20%20%20%3Cli%3E%3Cspan%20style%3D%27background%3A%23ff0000%3Bopacity%3A1.0%3B%27%3E%3C/span%3EHIGH%20SEVERITY%3C/li%3E%0A%20%20%20%20%3Cli%3E%3Cspan%20style%3D%27background%3A%23ffa500%3Bopacity%3A1.0%3B%27%3E%3C/span%3EMODERATE%20SEVERITY%3C/li%3E%0A%20%20%20%20%3Cli%3E%3Cspan%20style%3D%27background%3A%23ffff00%3Bopacity%3A1.0%3B%27%3E%3C/span%3ELOW%20SEVERITY%3C/li%3E%0A%20%20%20%20%3Cli%3E%3Cspan%20style%3D%27background%3A%23bff4be%3Bopacity%3A1.0%3B%27%3E%3C/span%3EUNBURNED%3C/li%3E%0A%20%20%20%20%3Cli%3E%3Cspan%20style%3D%27background%3A%23154734%3Bopacity%3A1.0%3B%27%3E%3C/span%3EENHANCED%20GROWTH%3C/li%3E%0A%20%20%3C/ul%3E%0A%3C/div%3E%0A%3C/div%3E%0A%0A%3C/body%3E%0A%3C/html%3E%0A%0A%3Cstyle%20type%3D%27text/css%27%3E%0A%20%20.maplegend%20.legend-title%20%7B%0A%20%20%20%20text-align%3A%20left%3B%0A%20%20%20%20margin-bottom%3A%205px%3B%0A%20%20%20%20font-weight%3A%20bold%3B%0A%20%20%20%20font-size%3A%2090%25%3B%0A%20%20%20%20%7D%0A%20%20.maplegend%20.legend-scale%20ul%20%7B%0A%20%20%20%20margin%3A%200%3B%0A%20%20%20%20margin-bottom%3A%205px%3B%0A%20%20%20%20padding%3A%200%3B%0A%20%20%20%20float%3A%20left%3B%0A%20%20%20%20list-style%3A%20none%3B%0A%20%20%20%20%7D%0A%20%20.maplegend%20.legend-scale%20ul%20li%20%7B%0A%20%20%20%20font-size%3A%2080%25%3B%0A%20%20%20%20list-style%3A%20none%3B%0A%20%20%20%20margin-left%3A%200%3B%0A%20%20%20%20line-height%3A%2018px%3B%0A%20%20%20%20margin-bottom%3A%202px%3B%0A%20%20%20%20%7D%0A%20%20.maplegend%20ul.legend-labels%20li%20span%20%7B%0A%20%20%20%20display%3A%20block%3B%0A%20%20%20%20float%3A%20left%3B%0A%20%20%20%20height%3A%2016px%3B%0A%20%20%20%20width%3A%2030px%3B%0A%20%20%20%20margin-right%3A%205px%3B%0A%20%20%20%20margin-left%3A%200%3B%0A%20%20%20%20border%3A%201px%20solid%20%23999%3B%0A%20%20%20%20%7D%0A%20%20.maplegend%20.legend-source%20%7B%0A%20%20%20%20font-size%3A%2080%25%3B%0A%20%20%20%20color%3A%20%23777%3B%0A%20%20%20%20clear%3A%20both%3B%0A%20%20%20%20%7D%0A%20%20.maplegend%20a%20%7B%0A%20%20%20%20color%3A%20%23777%3B%0A%20%20%20%20%7D%0A%3C/style%3E%0A%3C/body%3E%0A%3Cscript%3E%20%20%20%20%0A%20%20%20%20%0A%20%20%20%20%20%20%20%20%20%20%20%20var%20map_9673dc8e72a94aadad069e3257752651%20%3D%20L.map%28%0A%20%20%20%20%20%20%20%20%20%20%20%20%20%20%20%20%22map_9673dc8e72a94aadad069e3257752651%22%2C%0A%20%20%20%20%20%20%20%20%20%20%20%20%20%20%20%20%7B%0A%20%20%20%20%20%20%20%20%20%20%20%20%20%20%20%20%20%20%20%20center%3A%20%5B38.60895%2C%20-122.62879%5D%2C%0A%20%20%20%20%20%20%20%20%20%20%20%20%20%20%20%20%20%20%20%20crs%3A%20L.CRS.EPSG3857%2C%0A%20%20%20%20%20%20%20%20%20%20%20%20%20%20%20%20%20%20%20%20zoom%3A%2011%2C%0A%20%20%20%20%20%20%20%20%20%20%20%20%20%20%20%20%20%20%20%20zoomControl%3A%20true%2C%0A%20%20%20%20%20%20%20%20%20%20%20%20%20%20%20%20%20%20%20%20preferCanvas%3A%20false%2C%0A%20%20%20%20%20%20%20%20%20%20%20%20%20%20%20%20%20%20%20%20eeInitialize%3A%20true%2C%0A%20%20%20%20%20%20%20%20%20%20%20%20%20%20%20%20%20%20%20%20addGoogleMap%3A%20true%2C%0A%20%20%20%20%20%20%20%20%20%20%20%20%20%20%20%20%20%20%20%20pluginLatlngpopup%3A%20true%2C%0A%20%20%20%20%20%20%20%20%20%20%20%20%20%20%20%20%20%20%20%20pluginFullscreen%3A%20true%2C%0A%20%20%20%20%20%20%20%20%20%20%20%20%20%20%20%20%20%20%20%20pluginDraw%3A%20false%2C%0A%20%20%20%20%20%20%20%20%20%20%20%20%20%20%20%20%20%20%20%20DrawExport%3A%20true%2C%0A%20%20%20%20%20%20%20%20%20%20%20%20%20%20%20%20%20%20%20%20pluginMinimap%3A%20false%2C%0A%20%20%20%20%20%20%20%20%20%20%20%20%20%20%20%20%20%20%20%20pluginLayercontrol%3A%20false%2C%0A%20%20%20%20%20%20%20%20%20%20%20%20%20%20%20%20%7D%0A%20%20%20%20%20%20%20%20%20%20%20%20%29%3B%0A%0A%20%20%20%20%20%20%20%20%20%20%20%20%0A%0A%20%20%20%20%20%20%20%20%0A%20%20%20%20%0A%20%20%20%20%20%20%20%20%20%20%20%20var%20tile_layer_d1564ba5b8464bfea68928b4b3c26560%20%3D%20L.tileLayer%28%0A%20%20%20%20%20%20%20%20%20%20%20%20%20%20%20%20%22https%3A//%7Bs%7D.tile.openstreetmap.org/%7Bz%7D/%7Bx%7D/%7By%7D.png%22%2C%0A%20%20%20%20%20%20%20%20%20%20%20%20%20%20%20%20%7B%22attribution%22%3A%20%22Data%20by%20%5Cu0026copy%3B%20%5Cu003ca%20href%3D%5C%22http%3A//openstreetmap.org%5C%22%5Cu003eOpenStreetMap%5Cu003c/a%5Cu003e%2C%20under%20%5Cu003ca%20href%3D%5C%22http%3A//www.openstreetmap.org/copyright%5C%22%5Cu003eODbL%5Cu003c/a%5Cu003e.%22%2C%20%22detectRetina%22%3A%20false%2C%20%22maxNativeZoom%22%3A%2018%2C%20%22maxZoom%22%3A%2018%2C%20%22minZoom%22%3A%200%2C%20%22noWrap%22%3A%20false%2C%20%22opacity%22%3A%201%2C%20%22subdomains%22%3A%20%22abc%22%2C%20%22tms%22%3A%20false%7D%0A%20%20%20%20%20%20%20%20%20%20%20%20%29.addTo%28map_9673dc8e72a94aadad069e3257752651%29%3B%0A%20%20%20%20%20%20%20%20%0A%20%20%20%20%0A%20%20%20%20%20%20%20%20%20%20%20%20var%20tile_layer_ac7ac877a3044b7382d39472a28d75c8%20%3D%20L.tileLayer%28%0A%20%20%20%20%20%20%20%20%20%20%20%20%20%20%20%20%22https%3A//mt1.google.com/vt/lyrs%3Dm%5Cu0026x%3D%7Bx%7D%5Cu0026y%3D%7By%7D%5Cu0026z%3D%7Bz%7D%22%2C%0A%20%20%20%20%20%20%20%20%20%20%20%20%20%20%20%20%7B%22attribution%22%3A%20%22Google%22%2C%20%22detectRetina%22%3A%20false%2C%20%22maxNativeZoom%22%3A%2018%2C%20%22maxZoom%22%3A%2018%2C%20%22minZoom%22%3A%200%2C%20%22noWrap%22%3A%20false%2C%20%22opacity%22%3A%201%2C%20%22subdomains%22%3A%20%22abc%22%2C%20%22tms%22%3A%20false%7D%0A%20%20%20%20%20%20%20%20%20%20%20%20%29.addTo%28map_9673dc8e72a94aadad069e3257752651%29%3B%0A%20%20%20%20%20%20%20%20%0A%20%20%20%20%0A%20%20%20%20%20%20%20%20%20%20%20%20%20%20%20%20var%20lat_lng_popup_b5a8f1a38c2b4229b24675bdcf4e02db%20%3D%20L.popup%28%29%3B%0A%20%20%20%20%20%20%20%20%20%20%20%20%20%20%20%20function%20latLngPop%28e%29%20%7B%0A%20%20%20%20%20%20%20%20%20%20%20%20%20%20%20%20%20%20%20%20lat_lng_popup_b5a8f1a38c2b4229b24675bdcf4e02db%0A%20%20%20%20%20%20%20%20%20%20%20%20%20%20%20%20%20%20%20%20%20%20%20%20.setLatLng%28e.latlng%29%0A%20%20%20%20%20%20%20%20%20%20%20%20%20%20%20%20%20%20%20%20%20%20%20%20.setContent%28%22Latitude%3A%20%22%20%2B%20e.latlng.lat.toFixed%284%29%20%2B%0A%20%20%20%20%20%20%20%20%20%20%20%20%20%20%20%20%20%20%20%20%20%20%20%20%20%20%20%20%20%20%20%20%20%20%20%20%22%3Cbr%3ELongitude%3A%20%22%20%2B%20e.latlng.lng.toFixed%284%29%29%0A%20%20%20%20%20%20%20%20%20%20%20%20%20%20%20%20%20%20%20%20%20%20%20%20.openOn%28map_9673dc8e72a94aadad069e3257752651%29%3B%0A%20%20%20%20%20%20%20%20%20%20%20%20%20%20%20%20%20%20%20%20%7D%0A%20%20%20%20%20%20%20%20%20%20%20%20%20%20%20%20map_9673dc8e72a94aadad069e3257752651.on%28%27click%27%2C%20latLngPop%29%3B%0A%20%20%20%20%20%20%20%20%20%20%20%20%0A%20%20%20%20%0A%20%20%20%20%20%20%20%20%20%20%20%20L.control.fullscreen%28%0A%20%20%20%20%20%20%20%20%20%20%20%20%20%20%20%20%7B%22forceSeparateButton%22%3A%20false%2C%20%22position%22%3A%20%22topleft%22%2C%20%22title%22%3A%20%22Full%20Screen%22%2C%20%22titleCancel%22%3A%20%22Exit%20Full%20Screen%22%7D%0A%20%20%20%20%20%20%20%20%20%20%20%20%29.addTo%28map_9673dc8e72a94aadad069e3257752651%29%3B%0A%20%20%20%20%20%20%20%20%0A%20%20%20%20%0A%20%20%20%20%20%20%20%20%20%20%20%20map_9673dc8e72a94aadad069e3257752651.fitBounds%28%0A%20%20%20%20%20%20%20%20%20%20%20%20%20%20%20%20%5B%5B38.60895%2C%20-122.62879%5D%2C%20%5B38.60895%2C%20-122.62879%5D%5D%2C%0A%20%20%20%20%20%20%20%20%20%20%20%20%20%20%20%20%7B%22maxZoom%22%3A%2011%7D%0A%20%20%20%20%20%20%20%20%20%20%20%20%29%3B%0A%20%20%20%20%20%20%20%20%0A%20%20%20%20%0A%20%20%20%20%20%20%20%20%20%20%20%20var%20tile_layer_401ab45018f64569b250c06bd24ed7e4%20%3D%20L.tileLayer%28%0A%20%20%20%20%20%20%20%20%20%20%20%20%20%20%20%20%22https%3A//earthengine.googleapis.com/v1alpha/projects/earthengine-legacy/maps/2e409066bcc628156c6f829d9c12b1b5-5197a2c773bc10409e29628c27d5efda/tiles/%7Bz%7D/%7Bx%7D/%7By%7D%22%2C%0A%20%20%20%20%20%20%20%20%20%20%20%20%20%20%20%20%7B%22attribution%22%3A%20%22Google%20Earth%20Engine%22%2C%20%22detectRetina%22%3A%20false%2C%20%22maxNativeZoom%22%3A%2018%2C%20%22maxZoom%22%3A%2018%2C%20%22minZoom%22%3A%200%2C%20%22noWrap%22%3A%20false%2C%20%22opacity%22%3A%201.0%2C%20%22subdomains%22%3A%20%22abc%22%2C%20%22tms%22%3A%20false%7D%0A%20%20%20%20%20%20%20%20%20%20%20%20%29.addTo%28map_9673dc8e72a94aadad069e3257752651%29%3B%0A%20%20%20%20%20%20%20%20%0A%20%20%20%20%0A%20%20%20%20%20%20%20%20%20%20%20%20var%20tile_layer_f78b3b36727344a59430cdd040a321b8%20%3D%20L.tileLayer%28%0A%20%20%20%20%20%20%20%20%20%20%20%20%20%20%20%20%22https%3A//earthengine.googleapis.com/v1alpha/projects/earthengine-legacy/maps/03c409aa1f7e17a34b57256c5d1a1b04-6ddced23669293219a9d5ac575a168c4/tiles/%7Bz%7D/%7Bx%7D/%7By%7D%22%2C%0A%20%20%20%20%20%20%20%20%20%20%20%20%20%20%20%20%7B%22attribution%22%3A%20%22Google%20Earth%20Engine%22%2C%20%22detectRetina%22%3A%20false%2C%20%22maxNativeZoom%22%3A%2018%2C%20%22maxZoom%22%3A%2018%2C%20%22minZoom%22%3A%200%2C%20%22noWrap%22%3A%20false%2C%20%22opacity%22%3A%201.0%2C%20%22subdomains%22%3A%20%22abc%22%2C%20%22tms%22%3A%20false%7D%0A%20%20%20%20%20%20%20%20%20%20%20%20%29.addTo%28map_9673dc8e72a94aadad069e3257752651%29%3B%0A%20%20%20%20%20%20%20%20%0A%20%20%20%20%0A%20%20%20%20%20%20%20%20%20%20%20%20var%20tile_layer_89ff7b03b56e491d98bfa7b03a3579b8%20%3D%20L.tileLayer%28%0A%20%20%20%20%20%20%20%20%20%20%20%20%20%20%20%20%22https%3A//earthengine.googleapis.com/v1alpha/projects/earthengine-legacy/maps/64e0e59cca52b881fca6c58971a38224-1bf6841bdb72b4bbfd234c55cf2e02f5/tiles/%7Bz%7D/%7Bx%7D/%7By%7D%22%2C%0A%20%20%20%20%20%20%20%20%20%20%20%20%20%20%20%20%7B%22attribution%22%3A%20%22Google%20Earth%20Engine%22%2C%20%22detectRetina%22%3A%20false%2C%20%22maxNativeZoom%22%3A%2018%2C%20%22maxZoom%22%3A%2018%2C%20%22minZoom%22%3A%200%2C%20%22noWrap%22%3A%20false%2C%20%22opacity%22%3A%201.0%2C%20%22subdomains%22%3A%20%22abc%22%2C%20%22tms%22%3A%20false%7D%0A%20%20%20%20%20%20%20%20%20%20%20%20%29.addTo%28map_9673dc8e72a94aadad069e3257752651%29%3B%0A%20%20%20%20%20%20%20%20%0A%20%20%20%20%0A%20%20%20%20%20%20%20%20%20%20%20%20var%20tile_layer_35254ac5e6ec4d03a51623eb6f577605%20%3D%20L.tileLayer%28%0A%20%20%20%20%20%20%20%20%20%20%20%20%20%20%20%20%22https%3A//earthengine.googleapis.com/v1alpha/projects/earthengine-legacy/maps/03915b17ad7391f178ecc05e48187fe6-04c8261a391a83e44a18d30a9d9483d7/tiles/%7Bz%7D/%7Bx%7D/%7By%7D%22%2C%0A%20%20%20%20%20%20%20%20%20%20%20%20%20%20%20%20%7B%22attribution%22%3A%20%22Google%20Earth%20Engine%22%2C%20%22detectRetina%22%3A%20false%2C%20%22maxNativeZoom%22%3A%2018%2C%20%22maxZoom%22%3A%2018%2C%20%22minZoom%22%3A%200%2C%20%22noWrap%22%3A%20false%2C%20%22opacity%22%3A%201.0%2C%20%22subdomains%22%3A%20%22abc%22%2C%20%22tms%22%3A%20false%7D%0A%20%20%20%20%20%20%20%20%20%20%20%20%29.addTo%28map_9673dc8e72a94aadad069e3257752651%29%3B%0A%20%20%20%20%20%20%20%20%0A%20%20%20%20%0A%20%20%20%20%20%20%20%20%20%20%20%20var%20tile_layer_627dc9e529f946709d30296714a0a5f3%20%3D%20L.tileLayer%28%0A%20%20%20%20%20%20%20%20%20%20%20%20%20%20%20%20%22https%3A//earthengine.googleapis.com/v1alpha/projects/earthengine-legacy/maps/f67060b46056cd4d81a62c5721262e6b-e08e2b339ff2d2228a206fe2835798d0/tiles/%7Bz%7D/%7Bx%7D/%7By%7D%22%2C%0A%20%20%20%20%20%20%20%20%20%20%20%20%20%20%20%20%7B%22attribution%22%3A%20%22Google%20Earth%20Engine%22%2C%20%22detectRetina%22%3A%20false%2C%20%22maxNativeZoom%22%3A%2018%2C%20%22maxZoom%22%3A%2018%2C%20%22minZoom%22%3A%200%2C%20%22noWrap%22%3A%20false%2C%20%22opacity%22%3A%201.0%2C%20%22subdomains%22%3A%20%22abc%22%2C%20%22tms%22%3A%20false%7D%0A%20%20%20%20%20%20%20%20%20%20%20%20%29.addTo%28map_9673dc8e72a94aadad069e3257752651%29%3B%0A%20%20%20%20%20%20%20%20%0A%20%20%20%20%0A%20%20%20%20%20%20%20%20%20%20%20%20var%20tile_layer_f9492ee88c2b43d5aaf9648f1486fe61%20%3D%20L.tileLayer%28%0A%20%20%20%20%20%20%20%20%20%20%20%20%20%20%20%20%22https%3A//earthengine.googleapis.com/v1alpha/projects/earthengine-legacy/maps/2e409066bcc628156c6f829d9c12b1b5-d3c01ed59353dc9cffd6c4775d66413a/tiles/%7Bz%7D/%7Bx%7D/%7By%7D%22%2C%0A%20%20%20%20%20%20%20%20%20%20%20%20%20%20%20%20%7B%22attribution%22%3A%20%22Google%20Earth%20Engine%22%2C%20%22detectRetina%22%3A%20false%2C%20%22maxNativeZoom%22%3A%2018%2C%20%22maxZoom%22%3A%2018%2C%20%22minZoom%22%3A%200%2C%20%22noWrap%22%3A%20false%2C%20%22opacity%22%3A%201.0%2C%20%22subdomains%22%3A%20%22abc%22%2C%20%22tms%22%3A%20false%7D%0A%20%20%20%20%20%20%20%20%20%20%20%20%29.addTo%28map_9673dc8e72a94aadad069e3257752651%29%3B%0A%20%20%20%20%20%20%20%20%0A%20%20%20%20%0A%20%20%20%20%20%20%20%20%20%20%20%20var%20tile_layer_16ec61bf78674319ac2cda1603c22677%20%3D%20L.tileLayer%28%0A%20%20%20%20%20%20%20%20%20%20%20%20%20%20%20%20%22https%3A//earthengine.googleapis.com/v1alpha/projects/earthengine-legacy/maps/03c409aa1f7e17a34b57256c5d1a1b04-c7de4a3126d0bf852d7a5ac58b2a98f6/tiles/%7Bz%7D/%7Bx%7D/%7By%7D%22%2C%0A%20%20%20%20%20%20%20%20%20%20%20%20%20%20%20%20%7B%22attribution%22%3A%20%22Google%20Earth%20Engine%22%2C%20%22detectRetina%22%3A%20false%2C%20%22maxNativeZoom%22%3A%2018%2C%20%22maxZoom%22%3A%2018%2C%20%22minZoom%22%3A%200%2C%20%22noWrap%22%3A%20false%2C%20%22opacity%22%3A%201.0%2C%20%22subdomains%22%3A%20%22abc%22%2C%20%22tms%22%3A%20false%7D%0A%20%20%20%20%20%20%20%20%20%20%20%20%29.addTo%28map_9673dc8e72a94aadad069e3257752651%29%3B%0A%20%20%20%20%20%20%20%20%0A%20%20%20%20%0A%20%20%20%20%20%20%20%20%20%20%20%20var%20tile_layer_cf91b7d77f7b4749b0ca5beff3d3a392%20%3D%20L.tileLayer%28%0A%20%20%20%20%20%20%20%20%20%20%20%20%20%20%20%20%22https%3A//earthengine.googleapis.com/v1alpha/projects/earthengine-legacy/maps/64e0e59cca52b881fca6c58971a38224-9a7ac25ceda8e90b79984d029f4ed6d8/tiles/%7Bz%7D/%7Bx%7D/%7By%7D%22%2C%0A%20%20%20%20%20%20%20%20%20%20%20%20%20%20%20%20%7B%22attribution%22%3A%20%22Google%20Earth%20Engine%22%2C%20%22detectRetina%22%3A%20false%2C%20%22maxNativeZoom%22%3A%2018%2C%20%22maxZoom%22%3A%2018%2C%20%22minZoom%22%3A%200%2C%20%22noWrap%22%3A%20false%2C%20%22opacity%22%3A%201.0%2C%20%22subdomains%22%3A%20%22abc%22%2C%20%22tms%22%3A%20false%7D%0A%20%20%20%20%20%20%20%20%20%20%20%20%29.addTo%28map_9673dc8e72a94aadad069e3257752651%29%3B%0A%20%20%20%20%20%20%20%20%0A%20%20%20%20%0A%20%20%20%20%20%20%20%20%20%20%20%20var%20tile_layer_73ad6af7d22647778be07b2306b39058%20%3D%20L.tileLayer%28%0A%20%20%20%20%20%20%20%20%20%20%20%20%20%20%20%20%22https%3A//earthengine.googleapis.com/v1alpha/projects/earthengine-legacy/maps/03915b17ad7391f178ecc05e48187fe6-743e8bf37f2afbf5bfbb0b87bfa77402/tiles/%7Bz%7D/%7Bx%7D/%7By%7D%22%2C%0A%20%20%20%20%20%20%20%20%20%20%20%20%20%20%20%20%7B%22attribution%22%3A%20%22Google%20Earth%20Engine%22%2C%20%22detectRetina%22%3A%20false%2C%20%22maxNativeZoom%22%3A%2018%2C%20%22maxZoom%22%3A%2018%2C%20%22minZoom%22%3A%200%2C%20%22noWrap%22%3A%20false%2C%20%22opacity%22%3A%201.0%2C%20%22subdomains%22%3A%20%22abc%22%2C%20%22tms%22%3A%20false%7D%0A%20%20%20%20%20%20%20%20%20%20%20%20%29.addTo%28map_9673dc8e72a94aadad069e3257752651%29%3B%0A%20%20%20%20%20%20%20%20%0A%20%20%20%20%0A%20%20%20%20%20%20%20%20%20%20%20%20var%20tile_layer_72ec26f94c9444d081bb887174c4d540%20%3D%20L.tileLayer%28%0A%20%20%20%20%20%20%20%20%20%20%20%20%20%20%20%20%22https%3A//earthengine.googleapis.com/v1alpha/projects/earthengine-legacy/maps/f67060b46056cd4d81a62c5721262e6b-49545b3ccd056ad8d2b7979ec486b78a/tiles/%7Bz%7D/%7Bx%7D/%7By%7D%22%2C%0A%20%20%20%20%20%20%20%20%20%20%20%20%20%20%20%20%7B%22attribution%22%3A%20%22Google%20Earth%20Engine%22%2C%20%22detectRetina%22%3A%20false%2C%20%22maxNativeZoom%22%3A%2018%2C%20%22maxZoom%22%3A%2018%2C%20%22minZoom%22%3A%200%2C%20%22noWrap%22%3A%20false%2C%20%22opacity%22%3A%201.0%2C%20%22subdomains%22%3A%20%22abc%22%2C%20%22tms%22%3A%20false%7D%0A%20%20%20%20%20%20%20%20%20%20%20%20%29.addTo%28map_9673dc8e72a94aadad069e3257752651%29%3B%0A%20%20%20%20%20%20%20%20%0A%20%20%20%20%0A%20%20%20%20%20%20%20%20%20%20%20%20var%20tile_layer_ba4f0982a0004744856191b098beccc1%20%3D%20L.tileLayer%28%0A%20%20%20%20%20%20%20%20%20%20%20%20%20%20%20%20%22https%3A//earthengine.googleapis.com/v1alpha/projects/earthengine-legacy/maps/2e409066bcc628156c6f829d9c12b1b5-7ccc5c79e6c4af1028edd6c921b5f5e0/tiles/%7Bz%7D/%7Bx%7D/%7By%7D%22%2C%0A%20%20%20%20%20%20%20%20%20%20%20%20%20%20%20%20%7B%22attribution%22%3A%20%22Google%20Earth%20Engine%22%2C%20%22detectRetina%22%3A%20false%2C%20%22maxNativeZoom%22%3A%2018%2C%20%22maxZoom%22%3A%2018%2C%20%22minZoom%22%3A%200%2C%20%22noWrap%22%3A%20false%2C%20%22opacity%22%3A%201.0%2C%20%22subdomains%22%3A%20%22abc%22%2C%20%22tms%22%3A%20false%7D%0A%20%20%20%20%20%20%20%20%20%20%20%20%29.addTo%28map_9673dc8e72a94aadad069e3257752651%29%3B%0A%20%20%20%20%20%20%20%20%0A%20%20%20%20%0A%20%20%20%20%20%20%20%20%20%20%20%20var%20tile_layer_18806c17d1854381854ab96a4c01580c%20%3D%20L.tileLayer%28%0A%20%20%20%20%20%20%20%20%20%20%20%20%20%20%20%20%22https%3A//earthengine.googleapis.com/v1alpha/projects/earthengine-legacy/maps/03c409aa1f7e17a34b57256c5d1a1b04-9b35c12fb7c203a8efe2261eb13fd1e3/tiles/%7Bz%7D/%7Bx%7D/%7By%7D%22%2C%0A%20%20%20%20%20%20%20%20%20%20%20%20%20%20%20%20%7B%22attribution%22%3A%20%22Google%20Earth%20Engine%22%2C%20%22detectRetina%22%3A%20false%2C%20%22maxNativeZoom%22%3A%2018%2C%20%22maxZoom%22%3A%2018%2C%20%22minZoom%22%3A%200%2C%20%22noWrap%22%3A%20false%2C%20%22opacity%22%3A%201.0%2C%20%22subdomains%22%3A%20%22abc%22%2C%20%22tms%22%3A%20false%7D%0A%20%20%20%20%20%20%20%20%20%20%20%20%29.addTo%28map_9673dc8e72a94aadad069e3257752651%29%3B%0A%20%20%20%20%20%20%20%20%0A%20%20%20%20%0A%20%20%20%20%20%20%20%20%20%20%20%20var%20tile_layer_f61c3332a00d4da4864ecddaa28ce748%20%3D%20L.tileLayer%28%0A%20%20%20%20%20%20%20%20%20%20%20%20%20%20%20%20%22https%3A//earthengine.googleapis.com/v1alpha/projects/earthengine-legacy/maps/64e0e59cca52b881fca6c58971a38224-ab1d5d5e64bee790a045b50618bf3ffd/tiles/%7Bz%7D/%7Bx%7D/%7By%7D%22%2C%0A%20%20%20%20%20%20%20%20%20%20%20%20%20%20%20%20%7B%22attribution%22%3A%20%22Google%20Earth%20Engine%22%2C%20%22detectRetina%22%3A%20false%2C%20%22maxNativeZoom%22%3A%2018%2C%20%22maxZoom%22%3A%2018%2C%20%22minZoom%22%3A%200%2C%20%22noWrap%22%3A%20false%2C%20%22opacity%22%3A%201.0%2C%20%22subdomains%22%3A%20%22abc%22%2C%20%22tms%22%3A%20false%7D%0A%20%20%20%20%20%20%20%20%20%20%20%20%29.addTo%28map_9673dc8e72a94aadad069e3257752651%29%3B%0A%20%20%20%20%20%20%20%20%0A%20%20%20%20%0A%20%20%20%20%20%20%20%20%20%20%20%20var%20tile_layer_6b20374db839447aab85278b1df34e67%20%3D%20L.tileLayer%28%0A%20%20%20%20%20%20%20%20%20%20%20%20%20%20%20%20%22https%3A//earthengine.googleapis.com/v1alpha/projects/earthengine-legacy/maps/03915b17ad7391f178ecc05e48187fe6-fdca7e43ac578aa3e7a6ddda4511d9d9/tiles/%7Bz%7D/%7Bx%7D/%7By%7D%22%2C%0A%20%20%20%20%20%20%20%20%20%20%20%20%20%20%20%20%7B%22attribution%22%3A%20%22Google%20Earth%20Engine%22%2C%20%22detectRetina%22%3A%20false%2C%20%22maxNativeZoom%22%3A%2018%2C%20%22maxZoom%22%3A%2018%2C%20%22minZoom%22%3A%200%2C%20%22noWrap%22%3A%20false%2C%20%22opacity%22%3A%201.0%2C%20%22subdomains%22%3A%20%22abc%22%2C%20%22tms%22%3A%20false%7D%0A%20%20%20%20%20%20%20%20%20%20%20%20%29.addTo%28map_9673dc8e72a94aadad069e3257752651%29%3B%0A%20%20%20%20%20%20%20%20%0A%20%20%20%20%0A%20%20%20%20%20%20%20%20%20%20%20%20var%20tile_layer_7a07705416124196a973e0753ef24636%20%3D%20L.tileLayer%28%0A%20%20%20%20%20%20%20%20%20%20%20%20%20%20%20%20%22https%3A//earthengine.googleapis.com/v1alpha/projects/earthengine-legacy/maps/f67060b46056cd4d81a62c5721262e6b-39362c838636058af0bccf38d274c316/tiles/%7Bz%7D/%7Bx%7D/%7By%7D%22%2C%0A%20%20%20%20%20%20%20%20%20%20%20%20%20%20%20%20%7B%22attribution%22%3A%20%22Google%20Earth%20Engine%22%2C%20%22detectRetina%22%3A%20false%2C%20%22maxNativeZoom%22%3A%2018%2C%20%22maxZoom%22%3A%2018%2C%20%22minZoom%22%3A%200%2C%20%22noWrap%22%3A%20false%2C%20%22opacity%22%3A%201.0%2C%20%22subdomains%22%3A%20%22abc%22%2C%20%22tms%22%3A%20false%7D%0A%20%20%20%20%20%20%20%20%20%20%20%20%29.addTo%28map_9673dc8e72a94aadad069e3257752651%29%3B%0A%20%20%20%20%20%20%20%20%0A%20%20%20%20%0A%20%20%20%20%20%20%20%20%20%20%20%20var%20tile_layer_44a01b750444480994b00bdc9d3493d1%20%3D%20L.tileLayer%28%0A%20%20%20%20%20%20%20%20%20%20%20%20%20%20%20%20%22https%3A//earthengine.googleapis.com/v1alpha/projects/earthengine-legacy/maps/bcb459752cb5e8d6ead61dcd3b57e986-c12485263b34d3e127fb1750ba84bbf4/tiles/%7Bz%7D/%7Bx%7D/%7By%7D%22%2C%0A%20%20%20%20%20%20%20%20%20%20%20%20%20%20%20%20%7B%22attribution%22%3A%20%22Google%20Earth%20Engine%22%2C%20%22detectRetina%22%3A%20false%2C%20%22maxNativeZoom%22%3A%2018%2C%20%22maxZoom%22%3A%2018%2C%20%22minZoom%22%3A%200%2C%20%22noWrap%22%3A%20false%2C%20%22opacity%22%3A%201.0%2C%20%22subdomains%22%3A%20%22abc%22%2C%20%22tms%22%3A%20false%7D%0A%20%20%20%20%20%20%20%20%20%20%20%20%29.addTo%28map_9673dc8e72a94aadad069e3257752651%29%3B%0A%20%20%20%20%20%20%20%20%0A%20%20%20%20%0A%20%20%20%20%20%20%20%20%20%20%20%20var%20layer_control_bd73fcb30ea6407b888f7ce74e0914b0%20%3D%20%7B%0A%20%20%20%20%20%20%20%20%20%20%20%20%20%20%20%20base_layers%20%3A%20%7B%0A%20%20%20%20%20%20%20%20%20%20%20%20%20%20%20%20%20%20%20%20%22openstreetmap%22%20%3A%20tile_layer_d1564ba5b8464bfea68928b4b3c26560%2C%0A%20%20%20%20%20%20%20%20%20%20%20%20%20%20%20%20%7D%2C%0A%20%20%20%20%20%20%20%20%20%20%20%20%20%20%20%20overlays%20%3A%20%20%7B%0A%20%20%20%20%20%20%20%20%20%20%20%20%20%20%20%20%20%20%20%20%22Google%20Maps%22%20%3A%20tile_layer_ac7ac877a3044b7382d39472a28d75c8%2C%0A%20%20%20%20%20%20%20%20%20%20%20%20%20%20%20%20%20%20%20%20%22TUBBS%20dnbr%20-%20high%20severity%22%20%3A%20tile_layer_401ab45018f64569b250c06bd24ed7e4%2C%0A%20%20%20%20%20%20%20%20%20%20%20%20%20%20%20%20%20%20%20%20%22TUBBS%20dnbr%20-%20moderate%20severity%22%20%3A%20tile_layer_f78b3b36727344a59430cdd040a321b8%2C%0A%20%20%20%20%20%20%20%20%20%20%20%20%20%20%20%20%20%20%20%20%22TUBBS%20dnbr%20-%20small%20severity%22%20%3A%20tile_layer_89ff7b03b56e491d98bfa7b03a3579b8%2C%0A%20%20%20%20%20%20%20%20%20%20%20%20%20%20%20%20%20%20%20%20%22TUBBS%20dnbr%20-%20unburned%22%20%3A%20tile_layer_35254ac5e6ec4d03a51623eb6f577605%2C%0A%20%20%20%20%20%20%20%20%20%20%20%20%20%20%20%20%20%20%20%20%22TUBBS%20dnbr%20-%20enhanced%20regrowth%22%20%3A%20tile_layer_627dc9e529f946709d30296714a0a5f3%2C%0A%20%20%20%20%20%20%20%20%20%20%20%20%20%20%20%20%20%20%20%20%22NUNS%20dnbr%20-%20high%20severity%22%20%3A%20tile_layer_f9492ee88c2b43d5aaf9648f1486fe61%2C%0A%20%20%20%20%20%20%20%20%20%20%20%20%20%20%20%20%20%20%20%20%22NUNS%20dnbr%20-%20moderate%20severity%22%20%3A%20tile_layer_16ec61bf78674319ac2cda1603c22677%2C%0A%20%20%20%20%20%20%20%20%20%20%20%20%20%20%20%20%20%20%20%20%22NUNS%20dnbr%20-%20small%20severity%22%20%3A%20tile_layer_cf91b7d77f7b4749b0ca5beff3d3a392%2C%0A%20%20%20%20%20%20%20%20%20%20%20%20%20%20%20%20%20%20%20%20%22NUNS%20dnbr%20-%20unburned%22%20%3A%20tile_layer_73ad6af7d22647778be07b2306b39058%2C%0A%20%20%20%20%20%20%20%20%20%20%20%20%20%20%20%20%20%20%20%20%22NUNS%20dnbr%20-%20enhanced%20regrowth%22%20%3A%20tile_layer_72ec26f94c9444d081bb887174c4d540%2C%0A%20%20%20%20%20%20%20%20%20%20%20%20%20%20%20%20%20%20%20%20%22POCKET%20dnbr%20-%20high%20severity%22%20%3A%20tile_layer_ba4f0982a0004744856191b098beccc1%2C%0A%20%20%20%20%20%20%20%20%20%20%20%20%20%20%20%20%20%20%20%20%22POCKET%20dnbr%20-%20moderate%20severity%22%20%3A%20tile_layer_18806c17d1854381854ab96a4c01580c%2C%0A%20%20%20%20%20%20%20%20%20%20%20%20%20%20%20%20%20%20%20%20%22POCKET%20dnbr%20-%20small%20severity%22%20%3A%20tile_layer_f61c3332a00d4da4864ecddaa28ce748%2C%0A%20%20%20%20%20%20%20%20%20%20%20%20%20%20%20%20%20%20%20%20%22POCKET%20dnbr%20-%20unburned%22%20%3A%20tile_layer_6b20374db839447aab85278b1df34e67%2C%0A%20%20%20%20%20%20%20%20%20%20%20%20%20%20%20%20%20%20%20%20%22POCKET%20dnbr%20-%20enhanced%20regrowth%22%20%3A%20tile_layer_7a07705416124196a973e0753ef24636%2C%0A%20%20%20%20%20%20%20%20%20%20%20%20%20%20%20%20%20%20%20%20%22fire_name%22%20%3A%20tile_layer_44a01b750444480994b00bdc9d3493d1%2C%0A%20%20%20%20%20%20%20%20%20%20%20%20%20%20%20%20%7D%2C%0A%20%20%20%20%20%20%20%20%20%20%20%20%7D%3B%0A%20%20%20%20%20%20%20%20%20%20%20%20L.control.layers%28%0A%20%20%20%20%20%20%20%20%20%20%20%20%20%20%20%20layer_control_bd73fcb30ea6407b888f7ce74e0914b0.base_layers%2C%0A%20%20%20%20%20%20%20%20%20%20%20%20%20%20%20%20layer_control_bd73fcb30ea6407b888f7ce74e0914b0.overlays%2C%0A%20%20%20%20%20%20%20%20%20%20%20%20%20%20%20%20%7B%22autoZIndex%22%3A%20true%2C%20%22collapsed%22%3A%20true%2C%20%22position%22%3A%20%22topright%22%7D%0A%20%20%20%20%20%20%20%20%20%20%20%20%29.addTo%28map_9673dc8e72a94aadad069e3257752651%29%3B%0A%20%20%20%20%20%20%20%20%0A%3C/script%3E onload=\"this.contentDocument.open();this.contentDocument.write(    decodeURIComponent(this.getAttribute('data-html')));this.contentDocument.close();\" allowfullscreen webkitallowfullscreen mozallowfullscreen></iframe></div></div>"
            ],
            "text/plain": [
              "<geemap.eefolium.Map at 0x7fa9c2d83310>"
            ]
          },
          "metadata": {
            "tags": []
          },
          "execution_count": 147
        }
      ]
    },
    {
      "cell_type": "code",
      "metadata": {
        "colab": {
          "base_uri": "https://localhost:8080/",
          "height": 143
        },
        "id": "1GakKozeBiAK",
        "outputId": "a59d4619-cb63-47f4-afa6-abfb4f63f780"
      },
      "source": [
        "# Area Burned (A)\n",
        "area_df"
      ],
      "execution_count": null,
      "outputs": [
        {
          "output_type": "execute_result",
          "data": {
            "text/html": [
              "<div>\n",
              "<style scoped>\n",
              "    .dataframe tbody tr th:only-of-type {\n",
              "        vertical-align: middle;\n",
              "    }\n",
              "\n",
              "    .dataframe tbody tr th {\n",
              "        vertical-align: top;\n",
              "    }\n",
              "\n",
              "    .dataframe thead th {\n",
              "        text-align: right;\n",
              "    }\n",
              "</style>\n",
              "<table border=\"1\" class=\"dataframe\">\n",
              "  <thead>\n",
              "    <tr style=\"text-align: right;\">\n",
              "      <th></th>\n",
              "      <th>fire_name</th>\n",
              "      <th>estimated area burned (m^2)</th>\n",
              "      <th>estimated area burned (acres)</th>\n",
              "      <th>true area burned (acres)</th>\n",
              "      <th>percent_error (%)</th>\n",
              "    </tr>\n",
              "  </thead>\n",
              "  <tbody>\n",
              "    <tr>\n",
              "      <th>0</th>\n",
              "      <td>TUBBS</td>\n",
              "      <td>1.264274e+08</td>\n",
              "      <td>31240.208609</td>\n",
              "      <td>36701.984375</td>\n",
              "      <td>14.881418</td>\n",
              "    </tr>\n",
              "    <tr>\n",
              "      <th>1</th>\n",
              "      <td>NUNS</td>\n",
              "      <td>2.920997e+08</td>\n",
              "      <td>72177.830122</td>\n",
              "      <td>55798.191406</td>\n",
              "      <td>29.355143</td>\n",
              "    </tr>\n",
              "    <tr>\n",
              "      <th>2</th>\n",
              "      <td>POCKET</td>\n",
              "      <td>4.812732e+07</td>\n",
              "      <td>11892.261828</td>\n",
              "      <td>17359.328125</td>\n",
              "      <td>31.493536</td>\n",
              "    </tr>\n",
              "  </tbody>\n",
              "</table>\n",
              "</div>"
            ],
            "text/plain": [
              "  fire_name  ...  percent_error (%)\n",
              "0     TUBBS  ...          14.881418\n",
              "1      NUNS  ...          29.355143\n",
              "2    POCKET  ...          31.493536\n",
              "\n",
              "[3 rows x 5 columns]"
            ]
          },
          "metadata": {
            "tags": []
          },
          "execution_count": 73
        }
      ]
    },
    {
      "cell_type": "code",
      "metadata": {
        "colab": {
          "base_uri": "https://localhost:8080/"
        },
        "id": "gPnI5RsKMoCX",
        "outputId": "c8b18b96-1a5d-4a88-cfbc-f5badf4976e9"
      },
      "source": [
        "average_percent_error = np.mean(area_df['percent_error (%)'])\n",
        "print('average percent error:', average_percent_error)"
      ],
      "execution_count": null,
      "outputs": [
        {
          "output_type": "stream",
          "text": [
            "average percent error: 25.243365705244788\n"
          ],
          "name": "stdout"
        }
      ]
    },
    {
      "cell_type": "code",
      "metadata": {
        "id": "EnUTT8QZzFOe"
      },
      "source": [
        "collectionFromImages = ee.ImageCollection.fromImages(dnbr_arr)\n",
        "false_color_collection = ee.ImageCollection.fromImages(false_color_arr)\n",
        "\n",
        "mosaic = collectionFromImages.mosaic()\n",
        "false_color_mosaic = false_color_collection.mosaic()"
      ],
      "execution_count": null,
      "outputs": []
    },
    {
      "cell_type": "code",
      "metadata": {
        "id": "Vk1Z2_5mGWkp"
      },
      "source": [
        "sonoma_county_bounding_box = ee.Geometry.BBox(-123.5329040498797042,38.1124623604872710,-122.3502189736890671,38.8527771269163651)"
      ],
      "execution_count": null,
      "outputs": []
    },
    {
      "cell_type": "code",
      "metadata": {
        "id": "eiZnmevzcnev"
      },
      "source": [
        "Map4 = geemap.Map(center=(lat, lon), zoom=11)"
      ],
      "execution_count": null,
      "outputs": []
    },
    {
      "cell_type": "code",
      "metadata": {
        "id": "3KzGee_lcsaI"
      },
      "source": [
        "Map4.addLayer(mosaic, nbr_vis, \"burn scars\")\n",
        "Map4.addLayer(false_color_mosaic, false_color_vis, \"false color\")\n",
        "Map4.addLayer(dNBR.clip(sonoma_county_bounding_box), nbr_vis, \"dnbr over sonoma\")"
      ],
      "execution_count": null,
      "outputs": []
    },
    {
      "cell_type": "code",
      "metadata": {
        "id": "SDv1m6f1c691",
        "colab": {
          "base_uri": "https://localhost:8080/",
          "height": 863
        },
        "outputId": "ed7f1295-83fb-4ca0-8c5c-4d4f9924e8c2"
      },
      "source": [
        "#for each fire try to get the bounding box, the small damage mask, and the large damage mask for dnbr. also try to get dnbr over all of sonoma \n",
        "\n",
        "Map4"
      ],
      "execution_count": null,
      "outputs": [
        {
          "output_type": "execute_result",
          "data": {
            "text/html": [
              "<div style=\"width:100%;\"><div style=\"position:relative;width:100%;height:0;padding-bottom:60%;\"><span style=\"color:#565656\">Make this Notebook Trusted to load map: File -> Trust Notebook</span><iframe src=\"about:blank\" style=\"position:absolute;width:100%;height:100%;left:0;top:0;border:none !important;\" data-html=%3C%21DOCTYPE%20html%3E%0A%3Chead%3E%20%20%20%20%0A%20%20%20%20%3Cmeta%20http-equiv%3D%22content-type%22%20content%3D%22text/html%3B%20charset%3DUTF-8%22%20/%3E%0A%20%20%20%20%0A%20%20%20%20%20%20%20%20%3Cscript%3E%0A%20%20%20%20%20%20%20%20%20%20%20%20L_NO_TOUCH%20%3D%20false%3B%0A%20%20%20%20%20%20%20%20%20%20%20%20L_DISABLE_3D%20%3D%20false%3B%0A%20%20%20%20%20%20%20%20%3C/script%3E%0A%20%20%20%20%0A%20%20%20%20%3Cstyle%3Ehtml%2C%20body%20%7Bwidth%3A%20100%25%3Bheight%3A%20100%25%3Bmargin%3A%200%3Bpadding%3A%200%3B%7D%3C/style%3E%0A%20%20%20%20%3Cstyle%3E%23map%20%7Bposition%3Aabsolute%3Btop%3A0%3Bbottom%3A0%3Bright%3A0%3Bleft%3A0%3B%7D%3C/style%3E%0A%20%20%20%20%3Cscript%20src%3D%22https%3A//cdn.jsdelivr.net/npm/leaflet%401.6.0/dist/leaflet.js%22%3E%3C/script%3E%0A%20%20%20%20%3Cscript%20src%3D%22https%3A//code.jquery.com/jquery-1.12.4.min.js%22%3E%3C/script%3E%0A%20%20%20%20%3Cscript%20src%3D%22https%3A//maxcdn.bootstrapcdn.com/bootstrap/3.2.0/js/bootstrap.min.js%22%3E%3C/script%3E%0A%20%20%20%20%3Cscript%20src%3D%22https%3A//cdnjs.cloudflare.com/ajax/libs/Leaflet.awesome-markers/2.0.2/leaflet.awesome-markers.js%22%3E%3C/script%3E%0A%20%20%20%20%3Clink%20rel%3D%22stylesheet%22%20href%3D%22https%3A//cdn.jsdelivr.net/npm/leaflet%401.6.0/dist/leaflet.css%22/%3E%0A%20%20%20%20%3Clink%20rel%3D%22stylesheet%22%20href%3D%22https%3A//maxcdn.bootstrapcdn.com/bootstrap/3.2.0/css/bootstrap.min.css%22/%3E%0A%20%20%20%20%3Clink%20rel%3D%22stylesheet%22%20href%3D%22https%3A//maxcdn.bootstrapcdn.com/bootstrap/3.2.0/css/bootstrap-theme.min.css%22/%3E%0A%20%20%20%20%3Clink%20rel%3D%22stylesheet%22%20href%3D%22https%3A//maxcdn.bootstrapcdn.com/font-awesome/4.6.3/css/font-awesome.min.css%22/%3E%0A%20%20%20%20%3Clink%20rel%3D%22stylesheet%22%20href%3D%22https%3A//cdnjs.cloudflare.com/ajax/libs/Leaflet.awesome-markers/2.0.2/leaflet.awesome-markers.css%22/%3E%0A%20%20%20%20%3Clink%20rel%3D%22stylesheet%22%20href%3D%22https%3A//cdn.jsdelivr.net/gh/python-visualization/folium/folium/templates/leaflet.awesome.rotate.min.css%22/%3E%0A%20%20%20%20%0A%20%20%20%20%20%20%20%20%20%20%20%20%3Cmeta%20name%3D%22viewport%22%20content%3D%22width%3Ddevice-width%2C%0A%20%20%20%20%20%20%20%20%20%20%20%20%20%20%20%20initial-scale%3D1.0%2C%20maximum-scale%3D1.0%2C%20user-scalable%3Dno%22%20/%3E%0A%20%20%20%20%20%20%20%20%20%20%20%20%3Cstyle%3E%0A%20%20%20%20%20%20%20%20%20%20%20%20%20%20%20%20%23map_7bb8986a545244cbae6b4de42aaf624f%20%7B%0A%20%20%20%20%20%20%20%20%20%20%20%20%20%20%20%20%20%20%20%20position%3A%20relative%3B%0A%20%20%20%20%20%20%20%20%20%20%20%20%20%20%20%20%20%20%20%20width%3A%20100.0%25%3B%0A%20%20%20%20%20%20%20%20%20%20%20%20%20%20%20%20%20%20%20%20height%3A%20100.0%25%3B%0A%20%20%20%20%20%20%20%20%20%20%20%20%20%20%20%20%20%20%20%20left%3A%200.0%25%3B%0A%20%20%20%20%20%20%20%20%20%20%20%20%20%20%20%20%20%20%20%20top%3A%200.0%25%3B%0A%20%20%20%20%20%20%20%20%20%20%20%20%20%20%20%20%7D%0A%20%20%20%20%20%20%20%20%20%20%20%20%3C/style%3E%0A%20%20%20%20%20%20%20%20%0A%20%20%20%20%3Cscript%20src%3D%22https%3A//cdnjs.cloudflare.com/ajax/libs/leaflet.fullscreen/1.4.2/Control.FullScreen.min.js%22%3E%3C/script%3E%0A%20%20%20%20%3Clink%20rel%3D%22stylesheet%22%20href%3D%22https%3A//cdnjs.cloudflare.com/ajax/libs/leaflet.fullscreen/1.4.2/Control.FullScreen.min.css%22/%3E%0A%3C/head%3E%0A%3Cbody%3E%20%20%20%20%0A%20%20%20%20%0A%20%20%20%20%20%20%20%20%20%20%20%20%3Cdiv%20class%3D%22folium-map%22%20id%3D%22map_7bb8986a545244cbae6b4de42aaf624f%22%20%3E%3C/div%3E%0A%20%20%20%20%20%20%20%20%0A%3C/body%3E%0A%3Cscript%3E%20%20%20%20%0A%20%20%20%20%0A%20%20%20%20%20%20%20%20%20%20%20%20var%20map_7bb8986a545244cbae6b4de42aaf624f%20%3D%20L.map%28%0A%20%20%20%20%20%20%20%20%20%20%20%20%20%20%20%20%22map_7bb8986a545244cbae6b4de42aaf624f%22%2C%0A%20%20%20%20%20%20%20%20%20%20%20%20%20%20%20%20%7B%0A%20%20%20%20%20%20%20%20%20%20%20%20%20%20%20%20%20%20%20%20center%3A%20%5B38.60895%2C%20-122.62879%5D%2C%0A%20%20%20%20%20%20%20%20%20%20%20%20%20%20%20%20%20%20%20%20crs%3A%20L.CRS.EPSG3857%2C%0A%20%20%20%20%20%20%20%20%20%20%20%20%20%20%20%20%20%20%20%20zoom%3A%2011%2C%0A%20%20%20%20%20%20%20%20%20%20%20%20%20%20%20%20%20%20%20%20zoomControl%3A%20true%2C%0A%20%20%20%20%20%20%20%20%20%20%20%20%20%20%20%20%20%20%20%20preferCanvas%3A%20false%2C%0A%20%20%20%20%20%20%20%20%20%20%20%20%20%20%20%20%20%20%20%20eeInitialize%3A%20true%2C%0A%20%20%20%20%20%20%20%20%20%20%20%20%20%20%20%20%20%20%20%20addGoogleMap%3A%20true%2C%0A%20%20%20%20%20%20%20%20%20%20%20%20%20%20%20%20%20%20%20%20pluginLatlngpopup%3A%20true%2C%0A%20%20%20%20%20%20%20%20%20%20%20%20%20%20%20%20%20%20%20%20pluginFullscreen%3A%20true%2C%0A%20%20%20%20%20%20%20%20%20%20%20%20%20%20%20%20%20%20%20%20pluginDraw%3A%20false%2C%0A%20%20%20%20%20%20%20%20%20%20%20%20%20%20%20%20%20%20%20%20DrawExport%3A%20true%2C%0A%20%20%20%20%20%20%20%20%20%20%20%20%20%20%20%20%20%20%20%20pluginMinimap%3A%20false%2C%0A%20%20%20%20%20%20%20%20%20%20%20%20%20%20%20%20%20%20%20%20pluginLayercontrol%3A%20false%2C%0A%20%20%20%20%20%20%20%20%20%20%20%20%20%20%20%20%7D%0A%20%20%20%20%20%20%20%20%20%20%20%20%29%3B%0A%0A%20%20%20%20%20%20%20%20%20%20%20%20%0A%0A%20%20%20%20%20%20%20%20%0A%20%20%20%20%0A%20%20%20%20%20%20%20%20%20%20%20%20var%20tile_layer_cf2a6021f1ef4463b5707ca814d667aa%20%3D%20L.tileLayer%28%0A%20%20%20%20%20%20%20%20%20%20%20%20%20%20%20%20%22https%3A//%7Bs%7D.tile.openstreetmap.org/%7Bz%7D/%7Bx%7D/%7By%7D.png%22%2C%0A%20%20%20%20%20%20%20%20%20%20%20%20%20%20%20%20%7B%22attribution%22%3A%20%22Data%20by%20%5Cu0026copy%3B%20%5Cu003ca%20href%3D%5C%22http%3A//openstreetmap.org%5C%22%5Cu003eOpenStreetMap%5Cu003c/a%5Cu003e%2C%20under%20%5Cu003ca%20href%3D%5C%22http%3A//www.openstreetmap.org/copyright%5C%22%5Cu003eODbL%5Cu003c/a%5Cu003e.%22%2C%20%22detectRetina%22%3A%20false%2C%20%22maxNativeZoom%22%3A%2018%2C%20%22maxZoom%22%3A%2018%2C%20%22minZoom%22%3A%200%2C%20%22noWrap%22%3A%20false%2C%20%22opacity%22%3A%201%2C%20%22subdomains%22%3A%20%22abc%22%2C%20%22tms%22%3A%20false%7D%0A%20%20%20%20%20%20%20%20%20%20%20%20%29.addTo%28map_7bb8986a545244cbae6b4de42aaf624f%29%3B%0A%20%20%20%20%20%20%20%20%0A%20%20%20%20%0A%20%20%20%20%20%20%20%20%20%20%20%20var%20tile_layer_3e81c35485264ae983176d1020583574%20%3D%20L.tileLayer%28%0A%20%20%20%20%20%20%20%20%20%20%20%20%20%20%20%20%22https%3A//mt1.google.com/vt/lyrs%3Dm%5Cu0026x%3D%7Bx%7D%5Cu0026y%3D%7By%7D%5Cu0026z%3D%7Bz%7D%22%2C%0A%20%20%20%20%20%20%20%20%20%20%20%20%20%20%20%20%7B%22attribution%22%3A%20%22Google%22%2C%20%22detectRetina%22%3A%20false%2C%20%22maxNativeZoom%22%3A%2018%2C%20%22maxZoom%22%3A%2018%2C%20%22minZoom%22%3A%200%2C%20%22noWrap%22%3A%20false%2C%20%22opacity%22%3A%201%2C%20%22subdomains%22%3A%20%22abc%22%2C%20%22tms%22%3A%20false%7D%0A%20%20%20%20%20%20%20%20%20%20%20%20%29.addTo%28map_7bb8986a545244cbae6b4de42aaf624f%29%3B%0A%20%20%20%20%20%20%20%20%0A%20%20%20%20%0A%20%20%20%20%20%20%20%20%20%20%20%20%20%20%20%20var%20lat_lng_popup_e158eab097dd46a7bc94c3b5f4d619af%20%3D%20L.popup%28%29%3B%0A%20%20%20%20%20%20%20%20%20%20%20%20%20%20%20%20function%20latLngPop%28e%29%20%7B%0A%20%20%20%20%20%20%20%20%20%20%20%20%20%20%20%20%20%20%20%20lat_lng_popup_e158eab097dd46a7bc94c3b5f4d619af%0A%20%20%20%20%20%20%20%20%20%20%20%20%20%20%20%20%20%20%20%20%20%20%20%20.setLatLng%28e.latlng%29%0A%20%20%20%20%20%20%20%20%20%20%20%20%20%20%20%20%20%20%20%20%20%20%20%20.setContent%28%22Latitude%3A%20%22%20%2B%20e.latlng.lat.toFixed%284%29%20%2B%0A%20%20%20%20%20%20%20%20%20%20%20%20%20%20%20%20%20%20%20%20%20%20%20%20%20%20%20%20%20%20%20%20%20%20%20%20%22%3Cbr%3ELongitude%3A%20%22%20%2B%20e.latlng.lng.toFixed%284%29%29%0A%20%20%20%20%20%20%20%20%20%20%20%20%20%20%20%20%20%20%20%20%20%20%20%20.openOn%28map_7bb8986a545244cbae6b4de42aaf624f%29%3B%0A%20%20%20%20%20%20%20%20%20%20%20%20%20%20%20%20%20%20%20%20%7D%0A%20%20%20%20%20%20%20%20%20%20%20%20%20%20%20%20map_7bb8986a545244cbae6b4de42aaf624f.on%28%27click%27%2C%20latLngPop%29%3B%0A%20%20%20%20%20%20%20%20%20%20%20%20%0A%20%20%20%20%0A%20%20%20%20%20%20%20%20%20%20%20%20L.control.fullscreen%28%0A%20%20%20%20%20%20%20%20%20%20%20%20%20%20%20%20%7B%22forceSeparateButton%22%3A%20false%2C%20%22position%22%3A%20%22topleft%22%2C%20%22title%22%3A%20%22Full%20Screen%22%2C%20%22titleCancel%22%3A%20%22Exit%20Full%20Screen%22%7D%0A%20%20%20%20%20%20%20%20%20%20%20%20%29.addTo%28map_7bb8986a545244cbae6b4de42aaf624f%29%3B%0A%20%20%20%20%20%20%20%20%0A%20%20%20%20%0A%20%20%20%20%20%20%20%20%20%20%20%20map_7bb8986a545244cbae6b4de42aaf624f.fitBounds%28%0A%20%20%20%20%20%20%20%20%20%20%20%20%20%20%20%20%5B%5B38.60895%2C%20-122.62879%5D%2C%20%5B38.60895%2C%20-122.62879%5D%5D%2C%0A%20%20%20%20%20%20%20%20%20%20%20%20%20%20%20%20%7B%22maxZoom%22%3A%2011%7D%0A%20%20%20%20%20%20%20%20%20%20%20%20%29%3B%0A%20%20%20%20%20%20%20%20%0A%20%20%20%20%0A%20%20%20%20%20%20%20%20%20%20%20%20var%20tile_layer_4c6351ec6aba4a868906d9a5ae83e9fb%20%3D%20L.tileLayer%28%0A%20%20%20%20%20%20%20%20%20%20%20%20%20%20%20%20%22https%3A//earthengine.googleapis.com/v1alpha/projects/earthengine-legacy/maps/0d19870802dc9887df0e7135ead7f97e-a261c516a1db5e550e436d6688abd5fc/tiles/%7Bz%7D/%7Bx%7D/%7By%7D%22%2C%0A%20%20%20%20%20%20%20%20%20%20%20%20%20%20%20%20%7B%22attribution%22%3A%20%22Google%20Earth%20Engine%22%2C%20%22detectRetina%22%3A%20false%2C%20%22maxNativeZoom%22%3A%2018%2C%20%22maxZoom%22%3A%2018%2C%20%22minZoom%22%3A%200%2C%20%22noWrap%22%3A%20false%2C%20%22opacity%22%3A%201.0%2C%20%22subdomains%22%3A%20%22abc%22%2C%20%22tms%22%3A%20false%7D%0A%20%20%20%20%20%20%20%20%20%20%20%20%29.addTo%28map_7bb8986a545244cbae6b4de42aaf624f%29%3B%0A%20%20%20%20%20%20%20%20%0A%20%20%20%20%0A%20%20%20%20%20%20%20%20%20%20%20%20var%20tile_layer_06bbe649930a44b4a4f91d9b478298a1%20%3D%20L.tileLayer%28%0A%20%20%20%20%20%20%20%20%20%20%20%20%20%20%20%20%22https%3A//earthengine.googleapis.com/v1alpha/projects/earthengine-legacy/maps/9515ab1d2e1bb1575fdf1ee11cdd237f-97389796664a0378f401546a238d2d16/tiles/%7Bz%7D/%7Bx%7D/%7By%7D%22%2C%0A%20%20%20%20%20%20%20%20%20%20%20%20%20%20%20%20%7B%22attribution%22%3A%20%22Google%20Earth%20Engine%22%2C%20%22detectRetina%22%3A%20false%2C%20%22maxNativeZoom%22%3A%2018%2C%20%22maxZoom%22%3A%2018%2C%20%22minZoom%22%3A%200%2C%20%22noWrap%22%3A%20false%2C%20%22opacity%22%3A%201.0%2C%20%22subdomains%22%3A%20%22abc%22%2C%20%22tms%22%3A%20false%7D%0A%20%20%20%20%20%20%20%20%20%20%20%20%29.addTo%28map_7bb8986a545244cbae6b4de42aaf624f%29%3B%0A%20%20%20%20%20%20%20%20%0A%20%20%20%20%0A%20%20%20%20%20%20%20%20%20%20%20%20var%20tile_layer_fa7e568f536a46aab1e3c8c84e48f1d2%20%3D%20L.tileLayer%28%0A%20%20%20%20%20%20%20%20%20%20%20%20%20%20%20%20%22https%3A//earthengine.googleapis.com/v1alpha/projects/earthengine-legacy/maps/f65692425776e6412982b8cf61f16a31-d5930217dabec86a5c9959d1c8dd02ff/tiles/%7Bz%7D/%7Bx%7D/%7By%7D%22%2C%0A%20%20%20%20%20%20%20%20%20%20%20%20%20%20%20%20%7B%22attribution%22%3A%20%22Google%20Earth%20Engine%22%2C%20%22detectRetina%22%3A%20false%2C%20%22maxNativeZoom%22%3A%2018%2C%20%22maxZoom%22%3A%2018%2C%20%22minZoom%22%3A%200%2C%20%22noWrap%22%3A%20false%2C%20%22opacity%22%3A%201.0%2C%20%22subdomains%22%3A%20%22abc%22%2C%20%22tms%22%3A%20false%7D%0A%20%20%20%20%20%20%20%20%20%20%20%20%29.addTo%28map_7bb8986a545244cbae6b4de42aaf624f%29%3B%0A%20%20%20%20%20%20%20%20%0A%20%20%20%20%0A%20%20%20%20%20%20%20%20%20%20%20%20var%20layer_control_58a4cfe22a724f639834a2564923e683%20%3D%20%7B%0A%20%20%20%20%20%20%20%20%20%20%20%20%20%20%20%20base_layers%20%3A%20%7B%0A%20%20%20%20%20%20%20%20%20%20%20%20%20%20%20%20%20%20%20%20%22openstreetmap%22%20%3A%20tile_layer_cf2a6021f1ef4463b5707ca814d667aa%2C%0A%20%20%20%20%20%20%20%20%20%20%20%20%20%20%20%20%7D%2C%0A%20%20%20%20%20%20%20%20%20%20%20%20%20%20%20%20overlays%20%3A%20%20%7B%0A%20%20%20%20%20%20%20%20%20%20%20%20%20%20%20%20%20%20%20%20%22Google%20Maps%22%20%3A%20tile_layer_3e81c35485264ae983176d1020583574%2C%0A%20%20%20%20%20%20%20%20%20%20%20%20%20%20%20%20%20%20%20%20%22burn%20scars%22%20%3A%20tile_layer_4c6351ec6aba4a868906d9a5ae83e9fb%2C%0A%20%20%20%20%20%20%20%20%20%20%20%20%20%20%20%20%20%20%20%20%22false%20color%22%20%3A%20tile_layer_06bbe649930a44b4a4f91d9b478298a1%2C%0A%20%20%20%20%20%20%20%20%20%20%20%20%20%20%20%20%20%20%20%20%22dnbr%20over%20sonoma%22%20%3A%20tile_layer_fa7e568f536a46aab1e3c8c84e48f1d2%2C%0A%20%20%20%20%20%20%20%20%20%20%20%20%20%20%20%20%7D%2C%0A%20%20%20%20%20%20%20%20%20%20%20%20%7D%3B%0A%20%20%20%20%20%20%20%20%20%20%20%20L.control.layers%28%0A%20%20%20%20%20%20%20%20%20%20%20%20%20%20%20%20layer_control_58a4cfe22a724f639834a2564923e683.base_layers%2C%0A%20%20%20%20%20%20%20%20%20%20%20%20%20%20%20%20layer_control_58a4cfe22a724f639834a2564923e683.overlays%2C%0A%20%20%20%20%20%20%20%20%20%20%20%20%20%20%20%20%7B%22autoZIndex%22%3A%20true%2C%20%22collapsed%22%3A%20true%2C%20%22position%22%3A%20%22topright%22%7D%0A%20%20%20%20%20%20%20%20%20%20%20%20%29.addTo%28map_7bb8986a545244cbae6b4de42aaf624f%29%3B%0A%20%20%20%20%20%20%20%20%0A%3C/script%3E onload=\"this.contentDocument.open();this.contentDocument.write(    decodeURIComponent(this.getAttribute('data-html')));this.contentDocument.close();\" allowfullscreen webkitallowfullscreen mozallowfullscreen></iframe></div></div>"
            ],
            "text/plain": [
              "<geemap.eefolium.Map at 0x7fe9bde05ad0>"
            ]
          },
          "metadata": {
            "tags": []
          },
          "execution_count": 79
        }
      ]
    },
    {
      "cell_type": "code",
      "metadata": {
        "id": "sFxCD6i1dT02"
      },
      "source": [
        "dnbr_export = mosaic.visualize(bands = ['NBR'],min = 0, max = 1, palette = ['black','orange','red'])\n",
        "false_color_export = false_color_mosaic.visualize(bands = ['B6', 'B5', 'B4'],min = 0, max = 3000)\n",
        "cali_box = ee.Geometry({\"type\":\"Polygon\",\"coordinates\":[[[-123.233256,42.006186],[-122.378853,42.011663],[-121.037003,41.995232],[-120.001861,41.995232],[-119.996384,40.264519],[-120.001861,38.999346],[-118.71478,38.101128],[-117.498899,37.21934],[-116.540435,36.501861],[-115.85034,35.970598],[-114.634459,35.00118],[-114.634459,34.87521],[-114.470151,34.710902],[-114.333228,34.448009],[-114.136058,34.305608],[-114.256551,34.174162],[-114.415382,34.108438],[-114.535874,33.933176],[-114.497536,33.697668],[-114.524921,33.54979],[-114.727567,33.40739],[-114.661844,33.034958],[-114.524921,33.029481],[-114.470151,32.843265],[-114.524921,32.755634],[-114.72209,32.717295],[-116.04751,32.624187],[-117.126467,32.536556],[-117.24696,32.668003],[-117.252437,32.876127],[-117.329114,33.122589],[-117.471515,33.297851],[-117.7837,33.538836],[-118.183517,33.763391],[-118.260194,33.703145],[-118.413548,33.741483],[-118.391641,33.840068],[-118.566903,34.042715],[-118.802411,33.998899],[-119.218659,34.146777],[-119.278905,34.26727],[-119.558229,34.415147],[-119.875891,34.40967],[-120.138784,34.475393],[-120.472878,34.448009],[-120.64814,34.579455],[-120.609801,34.858779],[-120.670048,34.902595],[-120.631709,35.099764],[-120.894602,35.247642],[-120.905556,35.450289],[-121.004141,35.461243],[-121.168449,35.636505],[-121.283465,35.674843],[-121.332757,35.784382],[-121.716143,36.195153],[-121.896882,36.315645],[-121.935221,36.638785],[-121.858544,36.6114],[-121.787344,36.803093],[-121.929744,36.978355],[-122.105006,36.956447],[-122.335038,37.115279],[-122.417192,37.241248],[-122.400761,37.361741],[-122.515777,37.520572],[-122.515777,37.783465],[-122.329561,37.783465],[-122.406238,38.15042],[-122.488392,38.112082],[-122.504823,37.931343],[-122.701993,37.893004],[-122.937501,38.029928],[-122.97584,38.265436],[-123.129194,38.451652],[-123.331841,38.566668],[-123.44138,38.698114],[-123.737134,38.95553],[-123.687842,39.032208],[-123.824765,39.366301],[-123.764519,39.552517],[-123.85215,39.831841],[-124.109566,40.105688],[-124.361506,40.259042],[-124.410798,40.439781],[-124.158859,40.877937],[-124.109566,41.025814],[-124.158859,41.14083],[-124.065751,41.442061],[-124.147905,41.715908],[-124.257444,41.781632],[-124.213628,42.000709],[-123.233256,42.006186]]]}\n",
        ")"
      ],
      "execution_count": null,
      "outputs": []
    },
    {
      "cell_type": "code",
      "metadata": {
        "id": "NAwmypu05-bn",
        "colab": {
          "base_uri": "https://localhost:8080/"
        },
        "outputId": "7a05e499-8b8e-4688-e748-aa3dd7400652"
      },
      "source": [
        "geemap.ee_export_image_to_drive(dnbr_export, description='landsat_dnbr_wgs84', folder='gee_data', region=box, scale=30,file_format=\"GeoTIFF\")"
      ],
      "execution_count": null,
      "outputs": [
        {
          "output_type": "stream",
          "text": [
            "Exporting landsat_dnbr_wgs84 ...\n"
          ],
          "name": "stdout"
        }
      ]
    },
    {
      "cell_type": "code",
      "metadata": {
        "id": "zbo3iBsv6Glu",
        "colab": {
          "base_uri": "https://localhost:8080/"
        },
        "outputId": "d429d996-0c21-4b30-cb9f-58413f5c6c29"
      },
      "source": [
        "geemap.ee_export_image_to_drive(false_color_export, description='landsat_false_color_wgs84_sonoma_2', folder='gee_data', region=ee.Geometry.Point(38.5251824, -122.9261095), scale=30,file_format=\"GeoTIFF\")"
      ],
      "execution_count": null,
      "outputs": [
        {
          "output_type": "stream",
          "text": [
            "Exporting landsat_false_color_wgs84_sonoma_2 ...\n"
          ],
          "name": "stdout"
        }
      ]
    },
    {
      "cell_type": "code",
      "metadata": {
        "id": "4GtA8ucd8cTE"
      },
      "source": [
        "# creating burn scar masks for each major fire. I recommend using the damage_mask for each as opposed to tge major_damage_ask because the\n",
        "# damage_mask is more accurate in terms of acres burned.\n",
        "\n",
        "major_damage_tubbs_mask = after_ic.mask(major_damage_dNBR_mask).clip(major_fires['bounding_box'][0])\n",
        "damage_tubbs_mask = after_ic.mask(damage_dNBR_mask).clip(major_fires['bounding_box'][0])\n",
        "\n",
        "major_damage_nuns_mask = after_ic.mask(major_damage_dNBR_mask).clip(major_fires['bounding_box'][1])\n",
        "damage_nuns_mask = after_ic.mask(damage_dNBR_mask).clip(major_fires['bounding_box'][1])\n",
        "\n",
        "major_damage_pocket_mask = after_ic.mask(major_damage_dNBR_mask).clip(major_fires['bounding_box'][2])\n",
        "damage_pocket_mask = after_ic.mask(damage_dNBR_mask).clip(major_fires['bounding_box'][2])\n"
      ],
      "execution_count": null,
      "outputs": []
    },
    {
      "cell_type": "markdown",
      "metadata": {
        "id": "rNqLRqnCRVA3"
      },
      "source": [
        "# **NLCD Vegetation**"
      ]
    },
    {
      "cell_type": "code",
      "metadata": {
        "colab": {
          "base_uri": "https://localhost:8080/"
        },
        "id": "TEmMcpaZRYSz",
        "outputId": "eead6bf3-a12e-4e45-d602-e9c6b2f6f2f2"
      },
      "source": [
        "# Specifying some variables\n",
        "crs = 'EPSG:4326'\n",
        "lat, lon = 38.60895, -122.62879\n",
        "coordinate = ee.Geometry.Point(lon, lat)\n",
        "bound = ee.Geometry.BBox(-124.409591,\t32.534156, -114.131211, 42.009518).transform(crs, 1)\n",
        "start_datetime = '2016-01-01'\n",
        "end_datetime = '2016-12-31'\n",
        "\n",
        "# Define image collection\n",
        "nlcd2016 = ee.ImageCollection(\"USGS/NLCD_RELEASES/2016_REL\")\n",
        "nlcd2016 = nlcd2016.filterDate(start_datetime, end_datetime).filterBounds(coordinate)\n",
        "nlcd2016.size().getInfo()\n",
        "\n",
        "# Get the size of the collection\n",
        "count = nlcd2016.size()\n",
        "print('Count: ', str(count.getInfo())+'\\n')\n",
        "\n",
        "# Get the date range of images in the collection.\n",
        "date_range = nlcd2016.reduceColumns(ee.Reducer.minMax(), [\"system:time_start\"])\n",
        "print('Date range: ', str(ee.Date(date_range.get('min')).getInfo()), str(ee.Date(date_range.get('max')).getInfo())+'\\n')\n",
        "\n",
        "# Get statistics for a property of the images in the collection.\n",
        "sunStats = nlcd2016.aggregate_stats('SUN_ELEVATION')\n",
        "pprint('Sun elevation statistics: '+str(sunStats.getInfo())+'\\n')\n",
        "\n",
        "# Sort by a cloud cover property, get the least cloudy image.\n",
        "image = ee.Image(nlcd2016.sort('CLOUD_COVER').first())\n",
        "print('Least cloudy image: ', str(image.getInfo())+'\\n')\n",
        "\n",
        "# Limit the collection to the 10 most recent images.\n",
        "recent = nlcd2016.sort('system:time_start', False).limit(10)"
      ],
      "execution_count": null,
      "outputs": [
        {
          "output_type": "stream",
          "text": [
            "Count:  1\n",
            "\n",
            "Date range:  {'type': 'Date', 'value': 1451606400000} {'type': 'Date', 'value': 1451606400000}\n",
            "\n",
            "(\"Sun elevation statistics: {'max': None, 'mean': 0, 'min': None, 'sample_sd': \"\n",
            " \"0, 'sample_var': 0, 'sum': 0, 'sum_sq': 0, 'total_count': 0, 'total_sd': 0, \"\n",
            " \"'total_var': 0, 'valid_count': 0, 'weight_sum': 0, 'weighted_sum': 0}\\n\")\n",
            "Least cloudy image:  {'type': 'Image', 'bands': [{'id': 'landcover', 'data_type': {'type': 'PixelType', 'precision': 'int', 'min': 0, 'max': 255}, 'dimensions': [161190, 104424], 'crs': 'PROJCS[\"Albers_Conical_Equal_Area\", \\n  GEOGCS[\"WGS 84\", \\n    DATUM[\"WGS_1984\", \\n      SPHEROID[\"WGS 84\", 6378137.0, 298.257223563, AUTHORITY[\"EPSG\",\"7030\"]], \\n      AUTHORITY[\"EPSG\",\"6326\"]], \\n    PRIMEM[\"Greenwich\", 0.0], \\n    UNIT[\"degree\", 0.017453292519943295], \\n    AXIS[\"Longitude\", EAST], \\n    AXIS[\"Latitude\", NORTH], \\n    AUTHORITY[\"EPSG\",\"4326\"]], \\n  PROJECTION[\"Albers_Conic_Equal_Area\"], \\n  PARAMETER[\"central_meridian\", -96.0], \\n  PARAMETER[\"latitude_of_origin\", 23.0], \\n  PARAMETER[\"standard_parallel_1\", 29.5], \\n  PARAMETER[\"false_easting\", 0.0], \\n  PARAMETER[\"false_northing\", 0.0], \\n  PARAMETER[\"standard_parallel_2\", 45.5], \\n  UNIT[\"m\", 1.0], \\n  AXIS[\"x\", EAST], \\n  AXIS[\"y\", NORTH]]', 'crs_transform': [30, 0, -2493045, 0, -30, 3310005]}, {'id': 'impervious', 'data_type': {'type': 'PixelType', 'precision': 'int', 'min': 0, 'max': 255}, 'dimensions': [161190, 104424], 'crs': 'PROJCS[\"Albers_Conical_Equal_Area\", \\n  GEOGCS[\"WGS 84\", \\n    DATUM[\"WGS_1984\", \\n      SPHEROID[\"WGS 84\", 6378137.0, 298.257223563, AUTHORITY[\"EPSG\",\"7030\"]], \\n      AUTHORITY[\"EPSG\",\"6326\"]], \\n    PRIMEM[\"Greenwich\", 0.0], \\n    UNIT[\"degree\", 0.017453292519943295], \\n    AXIS[\"Longitude\", EAST], \\n    AXIS[\"Latitude\", NORTH], \\n    AUTHORITY[\"EPSG\",\"4326\"]], \\n  PROJECTION[\"Albers_Conic_Equal_Area\"], \\n  PARAMETER[\"central_meridian\", -96.0], \\n  PARAMETER[\"latitude_of_origin\", 23.0], \\n  PARAMETER[\"standard_parallel_1\", 29.5], \\n  PARAMETER[\"false_easting\", 0.0], \\n  PARAMETER[\"false_northing\", 0.0], \\n  PARAMETER[\"standard_parallel_2\", 45.5], \\n  UNIT[\"m\", 1.0], \\n  AXIS[\"x\", EAST], \\n  AXIS[\"y\", NORTH]]', 'crs_transform': [30, 0, -2493045, 0, -30, 3310005]}, {'id': 'impervious_descriptor', 'data_type': {'type': 'PixelType', 'precision': 'int', 'min': 0, 'max': 255}, 'dimensions': [161190, 104424], 'crs': 'PROJCS[\"Albers_Conical_Equal_Area\", \\n  GEOGCS[\"WGS 84\", \\n    DATUM[\"WGS_1984\", \\n      SPHEROID[\"WGS 84\", 6378137.0, 298.257223563, AUTHORITY[\"EPSG\",\"7030\"]], \\n      AUTHORITY[\"EPSG\",\"6326\"]], \\n    PRIMEM[\"Greenwich\", 0.0], \\n    UNIT[\"degree\", 0.017453292519943295], \\n    AXIS[\"Longitude\", EAST], \\n    AXIS[\"Latitude\", NORTH], \\n    AUTHORITY[\"EPSG\",\"4326\"]], \\n  PROJECTION[\"Albers_Conic_Equal_Area\"], \\n  PARAMETER[\"central_meridian\", -96.0], \\n  PARAMETER[\"latitude_of_origin\", 23.0], \\n  PARAMETER[\"standard_parallel_1\", 29.5], \\n  PARAMETER[\"false_easting\", 0.0], \\n  PARAMETER[\"false_northing\", 0.0], \\n  PARAMETER[\"standard_parallel_2\", 45.5], \\n  UNIT[\"m\", 1.0], \\n  AXIS[\"x\", EAST], \\n  AXIS[\"y\", NORTH]]', 'crs_transform': [30, 0, -2493045, 0, -30, 3310005]}, {'id': 'percent_tree_cover', 'data_type': {'type': 'PixelType', 'precision': 'int', 'min': 0, 'max': 255}, 'dimensions': [161190, 104424], 'crs': 'PROJCS[\"Albers Conical Equal Area\", \\n  GEOGCS[\"NAD83\", \\n    DATUM[\"North_American_Datum_1983\", \\n      SPHEROID[\"GRS 1980\", 6378137.0, 298.2572221010042, AUTHORITY[\"EPSG\",\"7019\"]], \\n      TOWGS84[0.0, 0.0, 0.0, 0.0, 0.0, 0.0, 0.0], \\n      AUTHORITY[\"EPSG\",\"6269\"]], \\n    PRIMEM[\"Greenwich\", 0.0], \\n    UNIT[\"degree\", 0.017453292519943295], \\n    AXIS[\"Longitude\", EAST], \\n    AXIS[\"Latitude\", NORTH], \\n    AUTHORITY[\"EPSG\",\"4269\"]], \\n  PROJECTION[\"Albers_Conic_Equal_Area\"], \\n  PARAMETER[\"central_meridian\", -96.0], \\n  PARAMETER[\"latitude_of_origin\", 23.0], \\n  PARAMETER[\"standard_parallel_1\", 29.5], \\n  PARAMETER[\"false_easting\", 0.0], \\n  PARAMETER[\"false_northing\", 0.0], \\n  PARAMETER[\"standard_parallel_2\", 45.5], \\n  UNIT[\"m\", 1.0], \\n  AXIS[\"x\", EAST], \\n  AXIS[\"y\", NORTH]]', 'crs_transform': [30, 0, -2493045, 0, -30, 3310005]}, {'id': 'rangeland_annual_herbaceous', 'data_type': {'type': 'PixelType', 'precision': 'int', 'min': 0, 'max': 255}, 'dimensions': [71204, 87666], 'crs': 'PROJCS[\"Albers Conical Equal Area\", \\n  GEOGCS[\"WGS 84\", \\n    DATUM[\"WGS_1984\", \\n      SPHEROID[\"WGS 84\", 6378137.0, 298.257223563, AUTHORITY[\"EPSG\",\"7030\"]], \\n      AUTHORITY[\"EPSG\",\"6326\"]], \\n    PRIMEM[\"Greenwich\", 0.0], \\n    UNIT[\"degree\", 0.017453292519943295], \\n    AXIS[\"Longitude\", EAST], \\n    AXIS[\"Latitude\", NORTH], \\n    AUTHORITY[\"EPSG\",\"4326\"]], \\n  PROJECTION[\"Albers_Conic_Equal_Area\"], \\n  PARAMETER[\"central_meridian\", -96.0], \\n  PARAMETER[\"latitude_of_origin\", 23.0], \\n  PARAMETER[\"standard_parallel_1\", 29.5], \\n  PARAMETER[\"false_easting\", 0.0], \\n  PARAMETER[\"false_northing\", 0.0], \\n  PARAMETER[\"standard_parallel_2\", 45.5], \\n  UNIT[\"m\", 1.0], \\n  AXIS[\"x\", EAST], \\n  AXIS[\"y\", NORTH]]', 'crs_transform': [30, 0, -2493345, 0, -30, 3310305]}, {'id': 'rangeland_bare_ground', 'data_type': {'type': 'PixelType', 'precision': 'int', 'min': 0, 'max': 255}, 'dimensions': [71204, 87666], 'crs': 'PROJCS[\"Albers Conical Equal Area\", \\n  GEOGCS[\"WGS 84\", \\n    DATUM[\"WGS_1984\", \\n      SPHEROID[\"WGS 84\", 6378137.0, 298.257223563, AUTHORITY[\"EPSG\",\"7030\"]], \\n      AUTHORITY[\"EPSG\",\"6326\"]], \\n    PRIMEM[\"Greenwich\", 0.0], \\n    UNIT[\"degree\", 0.017453292519943295], \\n    AXIS[\"Longitude\", EAST], \\n    AXIS[\"Latitude\", NORTH], \\n    AUTHORITY[\"EPSG\",\"4326\"]], \\n  PROJECTION[\"Albers_Conic_Equal_Area\"], \\n  PARAMETER[\"central_meridian\", -96.0], \\n  PARAMETER[\"latitude_of_origin\", 23.0], \\n  PARAMETER[\"standard_parallel_1\", 29.5], \\n  PARAMETER[\"false_easting\", 0.0], \\n  PARAMETER[\"false_northing\", 0.0], \\n  PARAMETER[\"standard_parallel_2\", 45.5], \\n  UNIT[\"m\", 1.0], \\n  AXIS[\"x\", EAST], \\n  AXIS[\"y\", NORTH]]', 'crs_transform': [30, 0, -2493345, 0, -30, 3310305]}, {'id': 'rangeland_big_sagebrush', 'data_type': {'type': 'PixelType', 'precision': 'int', 'min': 0, 'max': 255}, 'dimensions': [71204, 87666], 'crs': 'PROJCS[\"Albers Conical Equal Area\", \\n  GEOGCS[\"WGS 84\", \\n    DATUM[\"WGS_1984\", \\n      SPHEROID[\"WGS 84\", 6378137.0, 298.257223563, AUTHORITY[\"EPSG\",\"7030\"]], \\n      AUTHORITY[\"EPSG\",\"6326\"]], \\n    PRIMEM[\"Greenwich\", 0.0], \\n    UNIT[\"degree\", 0.017453292519943295], \\n    AXIS[\"Longitude\", EAST], \\n    AXIS[\"Latitude\", NORTH], \\n    AUTHORITY[\"EPSG\",\"4326\"]], \\n  PROJECTION[\"Albers_Conic_Equal_Area\"], \\n  PARAMETER[\"central_meridian\", -96.0], \\n  PARAMETER[\"latitude_of_origin\", 23.0], \\n  PARAMETER[\"standard_parallel_1\", 29.5], \\n  PARAMETER[\"false_easting\", 0.0], \\n  PARAMETER[\"false_northing\", 0.0], \\n  PARAMETER[\"standard_parallel_2\", 45.5], \\n  UNIT[\"m\", 1.0], \\n  AXIS[\"x\", EAST], \\n  AXIS[\"y\", NORTH]]', 'crs_transform': [30, 0, -2493345, 0, -30, 3310305]}, {'id': 'rangeland_herbaceous', 'data_type': {'type': 'PixelType', 'precision': 'int', 'min': 0, 'max': 255}, 'dimensions': [71204, 87666], 'crs': 'PROJCS[\"Albers Conical Equal Area\", \\n  GEOGCS[\"WGS 84\", \\n    DATUM[\"WGS_1984\", \\n      SPHEROID[\"WGS 84\", 6378137.0, 298.257223563, AUTHORITY[\"EPSG\",\"7030\"]], \\n      AUTHORITY[\"EPSG\",\"6326\"]], \\n    PRIMEM[\"Greenwich\", 0.0], \\n    UNIT[\"degree\", 0.017453292519943295], \\n    AXIS[\"Longitude\", EAST], \\n    AXIS[\"Latitude\", NORTH], \\n    AUTHORITY[\"EPSG\",\"4326\"]], \\n  PROJECTION[\"Albers_Conic_Equal_Area\"], \\n  PARAMETER[\"central_meridian\", -96.0], \\n  PARAMETER[\"latitude_of_origin\", 23.0], \\n  PARAMETER[\"standard_parallel_1\", 29.5], \\n  PARAMETER[\"false_easting\", 0.0], \\n  PARAMETER[\"false_northing\", 0.0], \\n  PARAMETER[\"standard_parallel_2\", 45.5], \\n  UNIT[\"m\", 1.0], \\n  AXIS[\"x\", EAST], \\n  AXIS[\"y\", NORTH]]', 'crs_transform': [30, 0, -2493345, 0, -30, 3310305]}, {'id': 'rangeland_litter', 'data_type': {'type': 'PixelType', 'precision': 'int', 'min': 0, 'max': 255}, 'dimensions': [71204, 87666], 'crs': 'PROJCS[\"Albers Conical Equal Area\", \\n  GEOGCS[\"WGS 84\", \\n    DATUM[\"WGS_1984\", \\n      SPHEROID[\"WGS 84\", 6378137.0, 298.257223563, AUTHORITY[\"EPSG\",\"7030\"]], \\n      AUTHORITY[\"EPSG\",\"6326\"]], \\n    PRIMEM[\"Greenwich\", 0.0], \\n    UNIT[\"degree\", 0.017453292519943295], \\n    AXIS[\"Longitude\", EAST], \\n    AXIS[\"Latitude\", NORTH], \\n    AUTHORITY[\"EPSG\",\"4326\"]], \\n  PROJECTION[\"Albers_Conic_Equal_Area\"], \\n  PARAMETER[\"central_meridian\", -96.0], \\n  PARAMETER[\"latitude_of_origin\", 23.0], \\n  PARAMETER[\"standard_parallel_1\", 29.5], \\n  PARAMETER[\"false_easting\", 0.0], \\n  PARAMETER[\"false_northing\", 0.0], \\n  PARAMETER[\"standard_parallel_2\", 45.5], \\n  UNIT[\"m\", 1.0], \\n  AXIS[\"x\", EAST], \\n  AXIS[\"y\", NORTH]]', 'crs_transform': [30, 0, -2493345, 0, -30, 3310305]}, {'id': 'rangeland_sagebrush', 'data_type': {'type': 'PixelType', 'precision': 'int', 'min': 0, 'max': 255}, 'dimensions': [71204, 87666], 'crs': 'PROJCS[\"Albers Conical Equal Area\", \\n  GEOGCS[\"WGS 84\", \\n    DATUM[\"WGS_1984\", \\n      SPHEROID[\"WGS 84\", 6378137.0, 298.257223563, AUTHORITY[\"EPSG\",\"7030\"]], \\n      AUTHORITY[\"EPSG\",\"6326\"]], \\n    PRIMEM[\"Greenwich\", 0.0], \\n    UNIT[\"degree\", 0.017453292519943295], \\n    AXIS[\"Longitude\", EAST], \\n    AXIS[\"Latitude\", NORTH], \\n    AUTHORITY[\"EPSG\",\"4326\"]], \\n  PROJECTION[\"Albers_Conic_Equal_Area\"], \\n  PARAMETER[\"central_meridian\", -96.0], \\n  PARAMETER[\"latitude_of_origin\", 23.0], \\n  PARAMETER[\"standard_parallel_1\", 29.5], \\n  PARAMETER[\"false_easting\", 0.0], \\n  PARAMETER[\"false_northing\", 0.0], \\n  PARAMETER[\"standard_parallel_2\", 45.5], \\n  UNIT[\"m\", 1.0], \\n  AXIS[\"x\", EAST], \\n  AXIS[\"y\", NORTH]]', 'crs_transform': [30, 0, -2493345, 0, -30, 3310305]}, {'id': 'rangeland_sagebrush_height', 'data_type': {'type': 'PixelType', 'precision': 'int', 'min': 0, 'max': 65535}, 'dimensions': [71204, 87666], 'crs': 'PROJCS[\"Albers Conical Equal Area\", \\n  GEOGCS[\"WGS 84\", \\n    DATUM[\"WGS_1984\", \\n      SPHEROID[\"WGS 84\", 6378137.0, 298.257223563, AUTHORITY[\"EPSG\",\"7030\"]], \\n      AUTHORITY[\"EPSG\",\"6326\"]], \\n    PRIMEM[\"Greenwich\", 0.0], \\n    UNIT[\"degree\", 0.017453292519943295], \\n    AXIS[\"Longitude\", EAST], \\n    AXIS[\"Latitude\", NORTH], \\n    AUTHORITY[\"EPSG\",\"4326\"]], \\n  PROJECTION[\"Albers_Conic_Equal_Area\"], \\n  PARAMETER[\"central_meridian\", -96.0], \\n  PARAMETER[\"latitude_of_origin\", 23.0], \\n  PARAMETER[\"standard_parallel_1\", 29.5], \\n  PARAMETER[\"false_easting\", 0.0], \\n  PARAMETER[\"false_northing\", 0.0], \\n  PARAMETER[\"standard_parallel_2\", 45.5], \\n  UNIT[\"m\", 1.0], \\n  AXIS[\"x\", EAST], \\n  AXIS[\"y\", NORTH]]', 'crs_transform': [30, 0, -2493345, 0, -30, 3310305]}, {'id': 'rangeland_shrub', 'data_type': {'type': 'PixelType', 'precision': 'int', 'min': 0, 'max': 255}, 'dimensions': [71204, 87666], 'crs': 'PROJCS[\"Albers Conical Equal Area\", \\n  GEOGCS[\"WGS 84\", \\n    DATUM[\"WGS_1984\", \\n      SPHEROID[\"WGS 84\", 6378137.0, 298.257223563, AUTHORITY[\"EPSG\",\"7030\"]], \\n      AUTHORITY[\"EPSG\",\"6326\"]], \\n    PRIMEM[\"Greenwich\", 0.0], \\n    UNIT[\"degree\", 0.017453292519943295], \\n    AXIS[\"Longitude\", EAST], \\n    AXIS[\"Latitude\", NORTH], \\n    AUTHORITY[\"EPSG\",\"4326\"]], \\n  PROJECTION[\"Albers_Conic_Equal_Area\"], \\n  PARAMETER[\"central_meridian\", -96.0], \\n  PARAMETER[\"latitude_of_origin\", 23.0], \\n  PARAMETER[\"standard_parallel_1\", 29.5], \\n  PARAMETER[\"false_easting\", 0.0], \\n  PARAMETER[\"false_northing\", 0.0], \\n  PARAMETER[\"standard_parallel_2\", 45.5], \\n  UNIT[\"m\", 1.0], \\n  AXIS[\"x\", EAST], \\n  AXIS[\"y\", NORTH]]', 'crs_transform': [30, 0, -2493345, 0, -30, 3310305]}, {'id': 'rangeland_shrub_height', 'data_type': {'type': 'PixelType', 'precision': 'int', 'min': 0, 'max': 65535}, 'dimensions': [71204, 87666], 'crs': 'PROJCS[\"Albers Conical Equal Area\", \\n  GEOGCS[\"WGS 84\", \\n    DATUM[\"WGS_1984\", \\n      SPHEROID[\"WGS 84\", 6378137.0, 298.257223563, AUTHORITY[\"EPSG\",\"7030\"]], \\n      AUTHORITY[\"EPSG\",\"6326\"]], \\n    PRIMEM[\"Greenwich\", 0.0], \\n    UNIT[\"degree\", 0.017453292519943295], \\n    AXIS[\"Longitude\", EAST], \\n    AXIS[\"Latitude\", NORTH], \\n    AUTHORITY[\"EPSG\",\"4326\"]], \\n  PROJECTION[\"Albers_Conic_Equal_Area\"], \\n  PARAMETER[\"central_meridian\", -96.0], \\n  PARAMETER[\"latitude_of_origin\", 23.0], \\n  PARAMETER[\"standard_parallel_1\", 29.5], \\n  PARAMETER[\"false_easting\", 0.0], \\n  PARAMETER[\"false_northing\", 0.0], \\n  PARAMETER[\"standard_parallel_2\", 45.5], \\n  UNIT[\"m\", 1.0], \\n  AXIS[\"x\", EAST], \\n  AXIS[\"y\", NORTH]]', 'crs_transform': [30, 0, -2493345, 0, -30, 3310305]}], 'id': 'USGS/NLCD_RELEASES/2016_REL/2016', 'version': 1613667367050605, 'properties': {'impervious_descriptor_class_values': [1, 2, 3, 4, 5, 6, 7, 8, 9, 10, 11, 12], 'landcover_class_names': ['Open Water - All areas of open water, generally with less than 25% cover or vegetation or soil.', 'Perennial Ice/Snow - All areas characterized by a perennial cover of ice and/or snow, generally greater than 25% of total cover.', 'Developed, Open Space - Includes areas with a mixture of some constructed materials, but mostly vegetation in the form of lawn grasses.  Impervious surfaces account for less than 20 percent of total cover. These areas most commonly include large-lot single-family housing units, parks, golf courses, and vegetation planted in developed settings for recreation, erosion control, or aesthetic purposes.', 'Developed, Low Intensity - Includes areas with a mixture of constructed materials and vegetation. Impervious surfaces account for 20-49 percent of total cover.  These areas most commonly include single-family housing units.', 'Developed, Medium Intensity - Includes areas with a mixture of constructed materials and vegetation. Impervious surfaces account for 50-79 percent of the total cover.  These areas most commonly include single-family housing units.', 'Developed, High Intensity - Includes highly developed areas where people reside or work in high numbers. Examples include apartment complexes, row houses and commercial/industrial.  Impervious surfaces account for 80 to 100 percent of the total cover.', 'Barren Land (Rock/Sand/Clay) - Barren areas of bedrock, desert pavement, scarps, talus, slides, volcanic material, glacial debris, sand dunes, strip mines, gravel pits and other accumulations of earthen material. Generally, vegetation accounts for less than 15% of total cover.', 'Deciduous Forest  - Areas dominated by trees generally greater than 5 meters tall, and greater than 20% of total vegetation cover. More than 75 percent of the tree species shed foliage simultaneously in response to seasonal change.', 'Evergreen Forest - Areas dominated by trees generally greater than 5 meters tall, and greater than 20% of total vegetation cover. More than 75 percent of the tree species maintain their leaves all year. Canopy is never without green foliage.', 'Mixed Forest - Areas dominated by trees generally greater than 5 meters tall, and greater than 20% of total vegetation cover. Neither deciduous nor evergreen species are greater than 75 percent of total tree cover.', 'Dwarf Scrub - Alaska only areas dominated by shrubs less than 20 centimeters tall with shrub canopy typically greater than 20% of total vegetation. This type is often co-associated with grasses, sedges, herbs, and non-vascular vegetation tundra and may be periodically or seasonally wet and/or saturated with water. This type commonly occurs in alpine or tundra areas and may contain permafrost.', 'Shrub/Scrub - Areas dominated by shrubs less than 5 meters tall with shrub canopy typically greater than 20% of total vegetation. This class includes true shrubs, young trees in an early successional stage or trees stunted from environmental conditions.', 'Grassland/Herbaceous - Areas dominated by grammanoid or herbaceous vegetation, generally greater than 80% of total vegetation.  These areas are not subject to intensive management such as tilling, but can be utilized for grazing.', 'Sedge/Herbaceous - Alaska only areas dominated by sedges and forbs, generally greater than 80% of total vegetation. This type can occur with significant other grasses or other grass like plants, and includes sedge tundra, and sedge tussock tundra and may be periodically or seasonally wet and/or saturated.  This type may contain permafrost.', 'Lichens - Alaska only areas dominated by fruticose or foliose lichens generally greater than 80% of total vegetation.', 'Moss - Alaska only areas dominated by mosses generally greater than 80% of total vegetation.', 'Pasture/Hay - Areas of grasses, legumes, or grass-legume mixtures planted for livestock grazing or the production of seed or hay crops, typically on a perennial cycle. Pasture/hay vegetation accounts for greater than 20 percent of total vegetation.', 'Cultivated Crops - Areas used for the production of annual crops, such as corn, soybeans, vegetables, tobacco, and cotton, and also perennial woody crops such as orchards and vineyards. Crop vegetation accounts for greater than 20 percent of total vegetation. This class also includes all land being actively tilled.', 'Woody Wetlands - Areas where forest or shrub land vegetation accounts for greater than 20 percent of vegetative cover and the soil or substrate is persistently saturated with or covered with water.', 'Emergent Herbaceous Wetlands - Areas where perennial herbaceous vegetation accounts for greater than 80 percent of vegetative cover and the soil or substrate is persistently saturated with or covered with water.'], 'system:time_end': 1483228800000, 'landcover_class_values': [11, 12, 21, 22, 23, 24, 31, 41, 42, 43, 51, 52, 71, 72, 73, 74, 81, 82, 90, 95], 'system:time_start': 1451606400000, 'impervious_descriptor_class_palette': ['ff0000', 'a20000', 'ffff00', 'ffd400', '0000ff', '009edf', 'ffffff', 'ffffff', 'ffc0c8', 'eb82eb', '006100', '00ff00'], 'system:footprint': {'type': 'LinearRing', 'coordinates': [[-105.90095863308562, 24.139678035474713], [-100.0438470413017, 24.545648496919725], [-88.2820063266809, 24.331303349622537], [-82.46657845276867, 23.712666414026955], [-73.59448403264648, 22.076568413784006], [-70.93371173552747, 31.565622524806255], [-66.51394653274536, 43.28510939588516], [-63.63641644172879, 49.168185582273544], [-76.21612025463648, 51.525377730401935], [-84.65814556190182, 52.43721810664046], [-101.95361140752647, 52.756503694834855], [-110.52593139470122, 52.15325969742198], [-118.86704310316404, 51.062400754331556], [-130.24354289091747, 48.70471924476132], [-127.88519983847146, 44.17496136258756], [-122.88273959919394, 32.047491995457435], [-119.78621526695484, 21.742143957752265], [-111.68363084232533, 23.39493221857397], [-105.90095863308562, 24.139678035474713]]}, 'impervious_descriptor_class_names': ['Primary road in urban area : interstates and other major roads', 'Primary road outside urban area : interstates and other major roads', 'Secondary road in urban area : non-interstate highways', 'Secondary road outside urban area : non-interstate highways', 'Tertiary road in urban area : any two-lane road', 'Tertiary road outside urban area : any two-lane road', 'Thinned road in urban area : small tertiary roads that generally are not paved and have been removed from the landcover but remain as part of the impervious surface product.  These roads have been separated in the western United States so that a better categorization of developed features is represented in the landcover', 'Thinned road outside urban area : small tertiary roads that generally are not paved and have been removed from the landcover but remain as part of the impervious surface product.  These roads have been separated in the western United States so that a better categorization of developed features is represented in the landcover', 'Nonroad impervious surface in urban area', 'Nonroad impervious surface outside urban area', 'Energy production site in urban area : areas identified from the FrackTracker points and classified in coordination with the Landfire project', 'Energy production site outside urban area : areas identified from the FrackTracker points and classified in coordination with the Landfire project'], 'system:asset_size': 21519981427, 'landcover_class_palette': ['476ba1', 'd1defa', 'decaca', 'd99482', 'ee0000', 'ab0000', 'b3aea3', '68ab63', '1c6330', 'b5ca8f', 'a68c30', 'ccba7d', 'e3e3c2', 'caca78', '99c247', '78ae94', 'dcd93d', 'ab7028', 'bad9eb', '70a3ba'], 'system:index': '2016'}}\n",
            "\n"
          ],
          "name": "stdout"
        }
      ]
    },
    {
      "cell_type": "code",
      "metadata": {
        "id": "t2RZR7isRl8N"
      },
      "source": [
        "# Visualizations\n",
        "landcover_vis = {\n",
        "  'min': 0,\n",
        "  'max': 95,\n",
        "  'bands' : ['landcover']\n",
        "}\n",
        "\n",
        "percent_tree_cover_vis = {\n",
        "  'min': 0,\n",
        "  'max': 100,\n",
        "  'bands' : ['percent_tree_cover']\n",
        "}\n",
        "\n",
        "# NLCD class & color mapping\n",
        "nlcd_class_mapping = {\n",
        "    11: 'Open Water',                   #areas of open water, generally with less than 25% cover of vegetation or soil.\n",
        "    12: 'Perennial ice/snow',           #areas characterized by a perennial cover of ice and/or snow, generally greater than 25% of total cover.\n",
        "    21: 'Developed, open space',        #areas with a mixture of some constructed materials, but mostly vegetation in the form of lawn grasses. Impervious surfaces account for less than 20% of total cover. These areas most commonly include large-lot single-family housing units, parks, golf courses, and vegetation planted in developed settings for recreation, erosion control, or aesthetic purposes.\n",
        "    22: 'Developed, low intensity',     #areas with a mixture of constructed materials and vegetation. Impervious surfaces account for 20% to 49% percent of total cover. These areas most commonly include single-family housing units.\n",
        "    23: 'Developed, medium intensity',  #areas with a mixture of constructed materials and vegetation. Impervious surfaces account for 50% to 79% of the total cover. These areas most commonly include single-family housing units.\n",
        "    24: 'Developed high intensity',     #highly developed areas where people reside or work in high numbers. Examples include apartment complexes, row houses, and commercial/industrial. Impervious surfaces account for 80% to 100% of the total cover.\n",
        "    31: 'Barren land (rock/sand/clay)', #areas of bedrock, desert pavement, scarps, talus, slides, volcanic material, glacial debris, sand dunes, strip mines, gravel pits, and other accumulations of earthen material. Generally, vegetation accounts for less than 15% of total cover.\n",
        "    41: 'Deciduous forest',             #areas dominated by trees generally greater than 5 meters tall, and greater than 20% of total vegetation cover. More than 75% of the tree species shed foliage simultaneously in response to seasonal change.\n",
        "    42: 'Evergreen forest',             #areas dominated by trees generally greater than 5 meters tall, and greater than 20% of total vegetation cover. More than 75% of the tree species maintain their leaves all year. Canopy is never without green foliage.\n",
        "    43: 'Mixed forest',                 #areas dominated by trees generally greater than 5 meters tall, and greater than 20% of total vegetation cover. Neither deciduous nor evergreen species are greater than 75% of total tree cover.\n",
        "    51: 'Dwarf scrub',                  #Alaska only areas dominated by shrubs less than 20 centimeters tall with shrub canopy typically greater than 20% of total vegetation. This type is often co-associated with grasses, sedges, herbs, and non-vascular vegetation.\n",
        "    52: 'Shrub/scrub',                  #Shrub/scrub: areas dominated by shrubs less than 5 meters tall with shrub canopy typically greater than 20% of total vegetation. This class includes true shrubs, young trees in an early successional stage, or trees stunted from environmental conditions.\n",
        "    71: 'Grassland/herbaceous',         #areas dominated by gramanoid or herbaceous vegetation, generally greater than 80% of total vegetation. These areas are not subject to intensive management such as tilling, but can be utilized for grazing.\n",
        "    72: 'Sedge/herbaceous',             #Alaska only areas dominated by sedges and forbs, generally greater than 80% of total vegetation. This type can occur with significant other grasses or other grass like plants, and includes sedge tundra and sedge tussock tundra.\n",
        "    73: 'Lichens',                      #Alaska only areas dominated by mosses, generally greater than 80% of total vegetation.\n",
        "    74: 'Moss',                         #Alaska only areas dominated by mosses, generally greater than 80% of total vegetation.\n",
        "    81: 'Pasture/hay',                  #areas of grasses, legumes, or grass-legume mixtures planted for livestock grazing or the production of seed or hay crops, typically on a perennial cycle. Pasture/hay vegetation accounts for greater than 20% of total vegetation.\n",
        "    82: 'Cultivated crops',             #areas used for the production of annual crops, such as corn, soybeans, vegetables, tobacco, and cotton, and also perennial woody crops such as orchards and vineyards. Crop vegetation accounts for greater than 20% of total vegetation. This class also includes all land being actively tilled.\n",
        "    90: 'Woody wetlands',               #areas where forest or shrubland vegetation accounts for greater than 20% of vegetative cover and the soil or substrate is periodically saturated with or covered with water.\n",
        "    95: 'Emergent herbaceous wetlands'  #Emergent herbaceous wetlands: areas where perennial herbaceous vegetation accounts for greater than 80% of vegetative cover and the soil or substrate is periodically saturated with or covered with water.\n",
        "}\n",
        "\n",
        "nlcd_color_mapping = {\n",
        "    11: (70, 107, 159),\n",
        "    12: (209, 222, 248),\n",
        "    21: (222, 197, 197),\n",
        "    22: (217, 146, 130),\n",
        "    23: (235, 0, 0),\n",
        "    24: (171, 0, 0),\n",
        "    31: (179, 172, 159),\n",
        "    41: (104, 171, 95),\n",
        "    42: (28, 95, 44),\n",
        "    43: (181, 197, 143),\n",
        "    51: (175, 150, 60),\n",
        "    52: (204, 184, 121),\n",
        "    71: (223, 223, 194),\n",
        "    72: (209, 209, 130),\n",
        "    73: (163, 204, 81),\n",
        "    74: (130, 186, 158),\n",
        "    81: (220, 217, 57),\n",
        "    82: (171, 108, 40),\n",
        "    90: (184, 217, 235),\n",
        "    95: (108, 159, 184)\n",
        "}\n",
        "\n",
        "# Custom mapping & classes\n",
        "custom_mapping = {\n",
        "    0: [0],               #nodata\n",
        "    1: [21, 22, 23, 24],  #residential plants & vegetation\n",
        "    2: [41, 42, 43],      #forests & canopies\n",
        "    3: [52, 71, 81, 82]   #wild, ground plants\n",
        "}\n",
        "\n",
        "custom_classes = {\n",
        "    0: 'nodata',\n",
        "    1: 'residential',\n",
        "    2: 'forest',\n",
        "    3: 'ground'\n",
        "}\n",
        "\n",
        "custom_colors = {\n",
        "    0: (70, 107, 159),\n",
        "    1: (222, 197, 197),\n",
        "    2: (181, 197, 143),\n",
        "    3: (223, 223, 194)\n",
        "}\n",
        "\n",
        "# Grouping visualizations\n",
        "residential_vis = {\n",
        "  'min': 0,\n",
        "  'max': 100,\n",
        "  'bands' : ['landcover'],\n",
        "  'palette': ['#faebd7']\n",
        "}\n",
        "\n",
        "forest_vis = {\n",
        "  'min': 0,\n",
        "  'max': 100,\n",
        "  'bands' : ['landcover'],\n",
        "  'palette': ['green']\n",
        "}\n",
        "\n",
        "ground_vis = {\n",
        "  'min': 0,\n",
        "  'max': 100,\n",
        "  'bands' : ['landcover'],\n",
        "  'palette': ['#BFF4BE']\n",
        "}"
      ],
      "execution_count": null,
      "outputs": []
    },
    {
      "cell_type": "code",
      "metadata": {
        "colab": {
          "base_uri": "https://localhost:8080/",
          "height": 737
        },
        "id": "g-Fe8cSDSVQN",
        "outputId": "10b2cc6f-f8fb-4130-a378-e205316813e3"
      },
      "source": [
        "# build custom matplotlib colormap\n",
        "custom_colors_list = list()\n",
        "for idx, class_val in enumerate(custom_colors.keys()):\n",
        "  red, green, blue = custom_colors[class_val]\n",
        "\n",
        "  color_vec = np.array([red/255, green/255, blue/255])\n",
        "  custom_colors_list.append(color_vec)\n",
        "\n",
        "custom_colors_list.append(np.array([0, 0, 0]))\n",
        "\n",
        "custom_colors_list = np.stack(custom_colors_list)\n",
        "cmap = matplotlib.colors.ListedColormap(colors=custom_colors_list, N=len(custom_colors_list)+1)\n",
        "\n",
        "bounds = list(range(len(custom_colors_list)))\n",
        "norm = matplotlib.colors.BoundaryNorm(bounds, len(custom_colors_list))\n",
        "\n",
        "custom_legend_list = list()\n",
        "for lidx in custom_colors.keys():\n",
        "  label1 = matplotlib.lines.Line2D([0], [0], color=cmap(lidx), lw = 8, label = custom_classes[lidx])\n",
        "  custom_legend_list.append(label1)\n",
        "\n",
        "fig, ax = plt.subplots(dpi=200)\n",
        "ax.legend(handles=custom_legend_list, loc='center', ncol=1, frameon=False)"
      ],
      "execution_count": null,
      "outputs": [
        {
          "output_type": "execute_result",
          "data": {
            "text/plain": [
              "<matplotlib.legend.Legend at 0x7fe9bd1f0290>"
            ]
          },
          "metadata": {
            "tags": []
          },
          "execution_count": 86
        },
        {
          "output_type": "display_data",
          "data": {
            "image/png": "[encoded data removed]",
            "text/plain": [
              "<Figure size 1200x800 with 1 Axes>"
            ]
          },
          "metadata": {
            "tags": [],
            "needs_background": "light"
          }
        }
      ]
    },
    {
      "cell_type": "code",
      "metadata": {
        "id": "Iv2WYFUsR9EK",
        "colab": {
          "base_uri": "https://localhost:8080/"
        },
        "outputId": "b0ad3331-8a34-4e77-9626-dc2a7d94e31c"
      },
      "source": [
        "# Creating masks for groupings\n",
        "residential_mask = image.eq(21).bitwiseOr(image.eq(22)).bitwiseOr(image.eq(23)).bitwiseOr(image.eq(24)).select(['landcover'])  #mask for residental\n",
        "forest_mask = image.eq(41).bitwiseOr(image.eq(42)).bitwiseOr(image.eq(43)).select(['landcover'])                               #mask for forest\n",
        "ground_mask = image.eq(52).bitwiseOr(image.eq(71)).bitwiseOr(image.eq(81)).bitwiseOr(image.eq(82)).select(['landcover'])       #mask for wild, ground plants\n",
        "\n",
        "Map5 = geemap.Map(center=(lat, lon), zoom=11)\n",
        "fire_name = major_fires['name'][0]\n",
        "box = major_fires['bounding_box'][0]\n",
        "\n",
        "Map5.addLayer(image.mask(residential_mask), residential_vis, fire_name + ' residential_vis')\n",
        "Map5.addLayer(image.mask(forest_mask), forest_vis, fire_name + ' forest_vis')\n",
        "Map5.addLayer(image.mask(ground_mask).clip(major_fires['bounding_box'][0]), ground_vis, fire_name + ' ground_vis')\n",
        "\n",
        "ds_forest_area = []\n",
        "\n",
        "ds_ground_area = []\n",
        "\n",
        "fires = [tubbs_fire, nuns_fire, pocket_fire]\n",
        "\n",
        "# Adding the severity layers\n",
        "for fire in range(len(major_fires)):\n",
        "  box = major_fires['bounding_box'][fire]\n",
        "  fire_name = major_fires['name'][fire]\n",
        "  Map5.addLayer(dNBR.mask(high_severity_mask), nbr_high_severity_vis, fire_name + \" dnbr - high severity\")\n",
        "  Map5.addLayer(dNBR.mask(moderate_severity_mask), nbr_moderate_severity_vis, fire_name + \" dnbr - moderate severity\")\n",
        "  Map5.addLayer(dNBR.mask(low_severity_mask), nbr_small_severity_vis, fire_name + \" dnbr - small severity\")\n",
        "\n",
        "  img_forest = image.pixelArea().mask(forest_mask).mask(damage_dNBR_mask).clip(box)\n",
        "  img_ground = image.pixelArea().mask(ground_mask).mask(damage_dNBR_mask).clip(box)\n",
        "\n",
        "  area2 = img_forest.reduceRegion(reducer = ee.Reducer.sum(),geometry = box, crs =  'EPSG:4326', scale = 100)\n",
        "  area = ee.Number(area2.get('area')).getInfo()\n",
        "  acres = area*0.0002471\n",
        "\n",
        "\n",
        "  print(area)\n",
        "\n",
        "  ds_forest_area.append([major_fires['name'][fire],area, acres])\n",
        "\n",
        "  area2 = img_ground.reduceRegion(reducer = ee.Reducer.sum(),geometry = box, crs =  'EPSG:4326', scale = 100)\n",
        "  area = ee.Number(area2.get('area')).getInfo()\n",
        "  acres = area*0.0002471\n",
        "  print(area)\n",
        "\n",
        "  ds_ground_area.append([major_fires['name'][fire],area, acres])\n",
        "\n",
        "\n",
        "Map5.add_legend(title = \"LEGEND\", legend_dict= {\"HIGH SEVERITY\":\"ff0000\", \"MODERATE SEVERITY\":\"ffa500\", \"LOW SEVERITY\":\"FFFF00\", \"GROUND PLANTS\":'BFF4BE', \"FOREST\" : \"154734\", \"RESIDENTIAL\" :\"faebd7\"})\n",
        "\n",
        "\n",
        "fc = ee.FeatureCollection([ee.Feature(major_fires['bounding_box'][0], {'name' : major_fires['name'][0], 'shown' : 'true'}), ee.Feature(major_fires['bounding_box'][1], {'name' : major_fires['name'][1], 'shown' : 'true'}),ee.Feature(major_fires['bounding_box'][2], {'name' : major_fires['name'][2], 'shown' : 'true'})])\n",
        "Map5.addLayer(fc, {'color' : 'grey'}, \"fire_names\")\n"
      ],
      "execution_count": null,
      "outputs": [
        {
          "output_type": "stream",
          "text": [
            "72506543.69549629\n",
            "37525634.715065874\n",
            "125198317.9100126\n",
            "138417940.4912855\n",
            "18855085.855646838\n",
            "27680878.267156884\n"
          ],
          "name": "stdout"
        }
      ]
    },
    {
      "cell_type": "code",
      "metadata": {
        "colab": {
          "base_uri": "https://localhost:8080/",
          "height": 660
        },
        "id": "TSqhmsYVSUMR",
        "outputId": "b2b6b664-0ff8-4806-d064-4333dd358596"
      },
      "source": [
        "Map5"
      ],
      "execution_count": null,
      "outputs": [
        {
          "output_type": "execute_result",
          "data": {
            "text/html": [
              "<div style=\"width:100%;\"><div style=\"position:relative;width:100%;height:0;padding-bottom:60%;\"><span style=\"color:#565656\">Make this Notebook Trusted to load map: File -> Trust Notebook</span><iframe src=\"about:blank\" style=\"position:absolute;width:100%;height:100%;left:0;top:0;border:none !important;\" data-html=%3C%21DOCTYPE%20html%3E%0A%3Chead%3E%20%20%20%20%0A%20%20%20%20%3Cmeta%20http-equiv%3D%22content-type%22%20content%3D%22text/html%3B%20charset%3DUTF-8%22%20/%3E%0A%20%20%20%20%0A%20%20%20%20%20%20%20%20%3Cscript%3E%0A%20%20%20%20%20%20%20%20%20%20%20%20L_NO_TOUCH%20%3D%20false%3B%0A%20%20%20%20%20%20%20%20%20%20%20%20L_DISABLE_3D%20%3D%20false%3B%0A%20%20%20%20%20%20%20%20%3C/script%3E%0A%20%20%20%20%0A%20%20%20%20%3Cstyle%3Ehtml%2C%20body%20%7Bwidth%3A%20100%25%3Bheight%3A%20100%25%3Bmargin%3A%200%3Bpadding%3A%200%3B%7D%3C/style%3E%0A%20%20%20%20%3Cstyle%3E%23map%20%7Bposition%3Aabsolute%3Btop%3A0%3Bbottom%3A0%3Bright%3A0%3Bleft%3A0%3B%7D%3C/style%3E%0A%20%20%20%20%3Cscript%20src%3D%22https%3A//cdn.jsdelivr.net/npm/leaflet%401.6.0/dist/leaflet.js%22%3E%3C/script%3E%0A%20%20%20%20%3Cscript%20src%3D%22https%3A//code.jquery.com/jquery-1.12.4.min.js%22%3E%3C/script%3E%0A%20%20%20%20%3Cscript%20src%3D%22https%3A//maxcdn.bootstrapcdn.com/bootstrap/3.2.0/js/bootstrap.min.js%22%3E%3C/script%3E%0A%20%20%20%20%3Cscript%20src%3D%22https%3A//cdnjs.cloudflare.com/ajax/libs/Leaflet.awesome-markers/2.0.2/leaflet.awesome-markers.js%22%3E%3C/script%3E%0A%20%20%20%20%3Clink%20rel%3D%22stylesheet%22%20href%3D%22https%3A//cdn.jsdelivr.net/npm/leaflet%401.6.0/dist/leaflet.css%22/%3E%0A%20%20%20%20%3Clink%20rel%3D%22stylesheet%22%20href%3D%22https%3A//maxcdn.bootstrapcdn.com/bootstrap/3.2.0/css/bootstrap.min.css%22/%3E%0A%20%20%20%20%3Clink%20rel%3D%22stylesheet%22%20href%3D%22https%3A//maxcdn.bootstrapcdn.com/bootstrap/3.2.0/css/bootstrap-theme.min.css%22/%3E%0A%20%20%20%20%3Clink%20rel%3D%22stylesheet%22%20href%3D%22https%3A//maxcdn.bootstrapcdn.com/font-awesome/4.6.3/css/font-awesome.min.css%22/%3E%0A%20%20%20%20%3Clink%20rel%3D%22stylesheet%22%20href%3D%22https%3A//cdnjs.cloudflare.com/ajax/libs/Leaflet.awesome-markers/2.0.2/leaflet.awesome-markers.css%22/%3E%0A%20%20%20%20%3Clink%20rel%3D%22stylesheet%22%20href%3D%22https%3A//cdn.jsdelivr.net/gh/python-visualization/folium/folium/templates/leaflet.awesome.rotate.min.css%22/%3E%0A%20%20%20%20%0A%20%20%20%20%20%20%20%20%20%20%20%20%3Cmeta%20name%3D%22viewport%22%20content%3D%22width%3Ddevice-width%2C%0A%20%20%20%20%20%20%20%20%20%20%20%20%20%20%20%20initial-scale%3D1.0%2C%20maximum-scale%3D1.0%2C%20user-scalable%3Dno%22%20/%3E%0A%20%20%20%20%20%20%20%20%20%20%20%20%3Cstyle%3E%0A%20%20%20%20%20%20%20%20%20%20%20%20%20%20%20%20%23map_7271f248121b40699b01912d8f71d933%20%7B%0A%20%20%20%20%20%20%20%20%20%20%20%20%20%20%20%20%20%20%20%20position%3A%20relative%3B%0A%20%20%20%20%20%20%20%20%20%20%20%20%20%20%20%20%20%20%20%20width%3A%20100.0%25%3B%0A%20%20%20%20%20%20%20%20%20%20%20%20%20%20%20%20%20%20%20%20height%3A%20100.0%25%3B%0A%20%20%20%20%20%20%20%20%20%20%20%20%20%20%20%20%20%20%20%20left%3A%200.0%25%3B%0A%20%20%20%20%20%20%20%20%20%20%20%20%20%20%20%20%20%20%20%20top%3A%200.0%25%3B%0A%20%20%20%20%20%20%20%20%20%20%20%20%20%20%20%20%7D%0A%20%20%20%20%20%20%20%20%20%20%20%20%3C/style%3E%0A%20%20%20%20%20%20%20%20%0A%20%20%20%20%3Cscript%20src%3D%22https%3A//cdnjs.cloudflare.com/ajax/libs/leaflet.fullscreen/1.4.2/Control.FullScreen.min.js%22%3E%3C/script%3E%0A%20%20%20%20%3Clink%20rel%3D%22stylesheet%22%20href%3D%22https%3A//cdnjs.cloudflare.com/ajax/libs/leaflet.fullscreen/1.4.2/Control.FullScreen.min.css%22/%3E%0A%3C/head%3E%0A%3Cbody%3E%20%20%20%20%0A%20%20%20%20%0A%20%20%20%20%20%20%20%20%20%20%20%20%3Cdiv%20class%3D%22folium-map%22%20id%3D%22map_7271f248121b40699b01912d8f71d933%22%20%3E%3C/div%3E%0A%20%20%20%20%20%20%20%20%0A%20%20%20%20%0A%0A%3C%21doctype%20html%3E%0A%3Chtml%20lang%3D%22en%22%3E%0A%3Chead%3E%0A%20%20%3Cmeta%20charset%3D%22utf-8%22%3E%0A%20%20%3Cmeta%20name%3D%22viewport%22%20content%3D%22width%3Ddevice-width%2C%20initial-scale%3D1%22%3E%0A%20%20%3Ctitle%3EjQuery%20UI%20Draggable%20-%20Default%20functionality%3C/title%3E%0A%20%20%3Clink%20rel%3D%22stylesheet%22%20href%3D%22//code.jquery.com/ui/1.12.1/themes/base/jquery-ui.css%22%3E%0A%0A%20%20%3Cscript%20src%3D%22https%3A//code.jquery.com/jquery-1.12.4.js%22%3E%3C/script%3E%0A%20%20%3Cscript%20src%3D%22https%3A//code.jquery.com/ui/1.12.1/jquery-ui.js%22%3E%3C/script%3E%0A%0A%20%20%3Cscript%3E%0A%20%20%24%28%20function%28%29%20%7B%0A%20%20%20%20%24%28%20%22%23maplegend%22%20%29.draggable%28%7B%0A%20%20%20%20%20%20%20%20%20%20%20%20%20%20%20%20%20%20%20%20start%3A%20function%20%28event%2C%20ui%29%20%7B%0A%20%20%20%20%20%20%20%20%20%20%20%20%20%20%20%20%20%20%20%20%20%20%20%20%24%28this%29.css%28%7B%0A%20%20%20%20%20%20%20%20%20%20%20%20%20%20%20%20%20%20%20%20%20%20%20%20%20%20%20%20right%3A%20%22auto%22%2C%0A%20%20%20%20%20%20%20%20%20%20%20%20%20%20%20%20%20%20%20%20%20%20%20%20%20%20%20%20top%3A%20%22auto%22%2C%0A%20%20%20%20%20%20%20%20%20%20%20%20%20%20%20%20%20%20%20%20%20%20%20%20%20%20%20%20bottom%3A%20%22auto%22%0A%20%20%20%20%20%20%20%20%20%20%20%20%20%20%20%20%20%20%20%20%20%20%20%20%7D%29%3B%0A%20%20%20%20%20%20%20%20%20%20%20%20%20%20%20%20%20%20%20%20%7D%0A%20%20%20%20%20%20%20%20%20%20%20%20%20%20%20%20%7D%29%3B%0A%7D%29%3B%0A%0A%20%20%3C/script%3E%0A%3C/head%3E%0A%3Cbody%3E%0A%0A%0A%3Cdiv%20id%3D%27maplegend%27%20class%3D%27maplegend%27%0A%20%20%20%20style%3D%27position%3A%20absolute%3B%20z-index%3A9999%3B%20border%3A2px%20solid%20grey%3B%20background-color%3Argba%28255%2C%20255%2C%20255%2C%200.8%29%3B%0A%20%20%20%20%20border-radius%3A6px%3B%20padding%3A%2010px%3B%20font-size%3A14px%3B%20right%3A%2020px%3B%20bottom%3A%2020px%3B%27%3E%0A%0A%3Cdiv%20class%3D%27legend-title%27%3ELEGEND%3C/div%3E%0A%3Cdiv%20class%3D%27legend-scale%27%3E%0A%20%20%3Cul%20class%3D%27legend-labels%27%3E%0A%20%20%20%20%3Cli%3E%3Cspan%20style%3D%27background%3A%23ff0000%3Bopacity%3A1.0%3B%27%3E%3C/span%3EHIGH%20SEVERITY%3C/li%3E%0A%20%20%20%20%3Cli%3E%3Cspan%20style%3D%27background%3A%23ffa500%3Bopacity%3A1.0%3B%27%3E%3C/span%3EMODERATE%20SEVERITY%3C/li%3E%0A%20%20%20%20%3Cli%3E%3Cspan%20style%3D%27background%3A%23ffff00%3Bopacity%3A1.0%3B%27%3E%3C/span%3ELOW%20SEVERITY%3C/li%3E%0A%20%20%20%20%3Cli%3E%3Cspan%20style%3D%27background%3A%23bff4be%3Bopacity%3A1.0%3B%27%3E%3C/span%3EGROUND%20PLANTS%3C/li%3E%0A%20%20%20%20%3Cli%3E%3Cspan%20style%3D%27background%3A%23154734%3Bopacity%3A1.0%3B%27%3E%3C/span%3EFOREST%3C/li%3E%0A%20%20%20%20%3Cli%3E%3Cspan%20style%3D%27background%3A%23faebd7%3Bopacity%3A1.0%3B%27%3E%3C/span%3ERESIDENTIAL%3C/li%3E%0A%20%20%3C/ul%3E%0A%3C/div%3E%0A%3C/div%3E%0A%0A%3C/body%3E%0A%3C/html%3E%0A%0A%3Cstyle%20type%3D%27text/css%27%3E%0A%20%20.maplegend%20.legend-title%20%7B%0A%20%20%20%20text-align%3A%20left%3B%0A%20%20%20%20margin-bottom%3A%205px%3B%0A%20%20%20%20font-weight%3A%20bold%3B%0A%20%20%20%20font-size%3A%2090%25%3B%0A%20%20%20%20%7D%0A%20%20.maplegend%20.legend-scale%20ul%20%7B%0A%20%20%20%20margin%3A%200%3B%0A%20%20%20%20margin-bottom%3A%205px%3B%0A%20%20%20%20padding%3A%200%3B%0A%20%20%20%20float%3A%20left%3B%0A%20%20%20%20list-style%3A%20none%3B%0A%20%20%20%20%7D%0A%20%20.maplegend%20.legend-scale%20ul%20li%20%7B%0A%20%20%20%20font-size%3A%2080%25%3B%0A%20%20%20%20list-style%3A%20none%3B%0A%20%20%20%20margin-left%3A%200%3B%0A%20%20%20%20line-height%3A%2018px%3B%0A%20%20%20%20margin-bottom%3A%202px%3B%0A%20%20%20%20%7D%0A%20%20.maplegend%20ul.legend-labels%20li%20span%20%7B%0A%20%20%20%20display%3A%20block%3B%0A%20%20%20%20float%3A%20left%3B%0A%20%20%20%20height%3A%2016px%3B%0A%20%20%20%20width%3A%2030px%3B%0A%20%20%20%20margin-right%3A%205px%3B%0A%20%20%20%20margin-left%3A%200%3B%0A%20%20%20%20border%3A%201px%20solid%20%23999%3B%0A%20%20%20%20%7D%0A%20%20.maplegend%20.legend-source%20%7B%0A%20%20%20%20font-size%3A%2080%25%3B%0A%20%20%20%20color%3A%20%23777%3B%0A%20%20%20%20clear%3A%20both%3B%0A%20%20%20%20%7D%0A%20%20.maplegend%20a%20%7B%0A%20%20%20%20color%3A%20%23777%3B%0A%20%20%20%20%7D%0A%3C/style%3E%0A%3C/body%3E%0A%3Cscript%3E%20%20%20%20%0A%20%20%20%20%0A%20%20%20%20%20%20%20%20%20%20%20%20var%20map_7271f248121b40699b01912d8f71d933%20%3D%20L.map%28%0A%20%20%20%20%20%20%20%20%20%20%20%20%20%20%20%20%22map_7271f248121b40699b01912d8f71d933%22%2C%0A%20%20%20%20%20%20%20%20%20%20%20%20%20%20%20%20%7B%0A%20%20%20%20%20%20%20%20%20%20%20%20%20%20%20%20%20%20%20%20center%3A%20%5B38.60895%2C%20-122.62879%5D%2C%0A%20%20%20%20%20%20%20%20%20%20%20%20%20%20%20%20%20%20%20%20crs%3A%20L.CRS.EPSG3857%2C%0A%20%20%20%20%20%20%20%20%20%20%20%20%20%20%20%20%20%20%20%20zoom%3A%2011%2C%0A%20%20%20%20%20%20%20%20%20%20%20%20%20%20%20%20%20%20%20%20zoomControl%3A%20true%2C%0A%20%20%20%20%20%20%20%20%20%20%20%20%20%20%20%20%20%20%20%20preferCanvas%3A%20false%2C%0A%20%20%20%20%20%20%20%20%20%20%20%20%20%20%20%20%20%20%20%20eeInitialize%3A%20true%2C%0A%20%20%20%20%20%20%20%20%20%20%20%20%20%20%20%20%20%20%20%20addGoogleMap%3A%20true%2C%0A%20%20%20%20%20%20%20%20%20%20%20%20%20%20%20%20%20%20%20%20pluginLatlngpopup%3A%20true%2C%0A%20%20%20%20%20%20%20%20%20%20%20%20%20%20%20%20%20%20%20%20pluginFullscreen%3A%20true%2C%0A%20%20%20%20%20%20%20%20%20%20%20%20%20%20%20%20%20%20%20%20pluginDraw%3A%20false%2C%0A%20%20%20%20%20%20%20%20%20%20%20%20%20%20%20%20%20%20%20%20DrawExport%3A%20true%2C%0A%20%20%20%20%20%20%20%20%20%20%20%20%20%20%20%20%20%20%20%20pluginMinimap%3A%20false%2C%0A%20%20%20%20%20%20%20%20%20%20%20%20%20%20%20%20%20%20%20%20pluginLayercontrol%3A%20false%2C%0A%20%20%20%20%20%20%20%20%20%20%20%20%20%20%20%20%7D%0A%20%20%20%20%20%20%20%20%20%20%20%20%29%3B%0A%0A%20%20%20%20%20%20%20%20%20%20%20%20%0A%0A%20%20%20%20%20%20%20%20%0A%20%20%20%20%0A%20%20%20%20%20%20%20%20%20%20%20%20var%20tile_layer_7d0c873ea72243d5b160ed089fb41be0%20%3D%20L.tileLayer%28%0A%20%20%20%20%20%20%20%20%20%20%20%20%20%20%20%20%22https%3A//%7Bs%7D.tile.openstreetmap.org/%7Bz%7D/%7Bx%7D/%7By%7D.png%22%2C%0A%20%20%20%20%20%20%20%20%20%20%20%20%20%20%20%20%7B%22attribution%22%3A%20%22Data%20by%20%5Cu0026copy%3B%20%5Cu003ca%20href%3D%5C%22http%3A//openstreetmap.org%5C%22%5Cu003eOpenStreetMap%5Cu003c/a%5Cu003e%2C%20under%20%5Cu003ca%20href%3D%5C%22http%3A//www.openstreetmap.org/copyright%5C%22%5Cu003eODbL%5Cu003c/a%5Cu003e.%22%2C%20%22detectRetina%22%3A%20false%2C%20%22maxNativeZoom%22%3A%2018%2C%20%22maxZoom%22%3A%2018%2C%20%22minZoom%22%3A%200%2C%20%22noWrap%22%3A%20false%2C%20%22opacity%22%3A%201%2C%20%22subdomains%22%3A%20%22abc%22%2C%20%22tms%22%3A%20false%7D%0A%20%20%20%20%20%20%20%20%20%20%20%20%29.addTo%28map_7271f248121b40699b01912d8f71d933%29%3B%0A%20%20%20%20%20%20%20%20%0A%20%20%20%20%0A%20%20%20%20%20%20%20%20%20%20%20%20var%20tile_layer_ac7ac877a3044b7382d39472a28d75c8%20%3D%20L.tileLayer%28%0A%20%20%20%20%20%20%20%20%20%20%20%20%20%20%20%20%22https%3A//mt1.google.com/vt/lyrs%3Dm%5Cu0026x%3D%7Bx%7D%5Cu0026y%3D%7By%7D%5Cu0026z%3D%7Bz%7D%22%2C%0A%20%20%20%20%20%20%20%20%20%20%20%20%20%20%20%20%7B%22attribution%22%3A%20%22Google%22%2C%20%22detectRetina%22%3A%20false%2C%20%22maxNativeZoom%22%3A%2018%2C%20%22maxZoom%22%3A%2018%2C%20%22minZoom%22%3A%200%2C%20%22noWrap%22%3A%20false%2C%20%22opacity%22%3A%201%2C%20%22subdomains%22%3A%20%22abc%22%2C%20%22tms%22%3A%20false%7D%0A%20%20%20%20%20%20%20%20%20%20%20%20%29.addTo%28map_7271f248121b40699b01912d8f71d933%29%3B%0A%20%20%20%20%20%20%20%20%0A%20%20%20%20%0A%20%20%20%20%20%20%20%20%20%20%20%20%20%20%20%20var%20lat_lng_popup_3126f51a4565430d981e134952bfcd60%20%3D%20L.popup%28%29%3B%0A%20%20%20%20%20%20%20%20%20%20%20%20%20%20%20%20function%20latLngPop%28e%29%20%7B%0A%20%20%20%20%20%20%20%20%20%20%20%20%20%20%20%20%20%20%20%20lat_lng_popup_3126f51a4565430d981e134952bfcd60%0A%20%20%20%20%20%20%20%20%20%20%20%20%20%20%20%20%20%20%20%20%20%20%20%20.setLatLng%28e.latlng%29%0A%20%20%20%20%20%20%20%20%20%20%20%20%20%20%20%20%20%20%20%20%20%20%20%20.setContent%28%22Latitude%3A%20%22%20%2B%20e.latlng.lat.toFixed%284%29%20%2B%0A%20%20%20%20%20%20%20%20%20%20%20%20%20%20%20%20%20%20%20%20%20%20%20%20%20%20%20%20%20%20%20%20%20%20%20%20%22%3Cbr%3ELongitude%3A%20%22%20%2B%20e.latlng.lng.toFixed%284%29%29%0A%20%20%20%20%20%20%20%20%20%20%20%20%20%20%20%20%20%20%20%20%20%20%20%20.openOn%28map_7271f248121b40699b01912d8f71d933%29%3B%0A%20%20%20%20%20%20%20%20%20%20%20%20%20%20%20%20%20%20%20%20%7D%0A%20%20%20%20%20%20%20%20%20%20%20%20%20%20%20%20map_7271f248121b40699b01912d8f71d933.on%28%27click%27%2C%20latLngPop%29%3B%0A%20%20%20%20%20%20%20%20%20%20%20%20%0A%20%20%20%20%0A%20%20%20%20%20%20%20%20%20%20%20%20L.control.fullscreen%28%0A%20%20%20%20%20%20%20%20%20%20%20%20%20%20%20%20%7B%22forceSeparateButton%22%3A%20false%2C%20%22position%22%3A%20%22topleft%22%2C%20%22title%22%3A%20%22Full%20Screen%22%2C%20%22titleCancel%22%3A%20%22Exit%20Full%20Screen%22%7D%0A%20%20%20%20%20%20%20%20%20%20%20%20%29.addTo%28map_7271f248121b40699b01912d8f71d933%29%3B%0A%20%20%20%20%20%20%20%20%0A%20%20%20%20%0A%20%20%20%20%20%20%20%20%20%20%20%20map_7271f248121b40699b01912d8f71d933.fitBounds%28%0A%20%20%20%20%20%20%20%20%20%20%20%20%20%20%20%20%5B%5B38.60895%2C%20-122.62879%5D%2C%20%5B38.60895%2C%20-122.62879%5D%5D%2C%0A%20%20%20%20%20%20%20%20%20%20%20%20%20%20%20%20%7B%22maxZoom%22%3A%2011%7D%0A%20%20%20%20%20%20%20%20%20%20%20%20%29%3B%0A%20%20%20%20%20%20%20%20%0A%20%20%20%20%0A%20%20%20%20%20%20%20%20%20%20%20%20var%20tile_layer_76f494f785fb45df9f02652983c3ac71%20%3D%20L.tileLayer%28%0A%20%20%20%20%20%20%20%20%20%20%20%20%20%20%20%20%22https%3A//earthengine.googleapis.com/v1alpha/projects/earthengine-legacy/maps/e956470ef258f914d9eab2647aba139b-708ceb31427c0da59a9b398e1d3edacc/tiles/%7Bz%7D/%7Bx%7D/%7By%7D%22%2C%0A%20%20%20%20%20%20%20%20%20%20%20%20%20%20%20%20%7B%22attribution%22%3A%20%22Google%20Earth%20Engine%22%2C%20%22detectRetina%22%3A%20false%2C%20%22maxNativeZoom%22%3A%2018%2C%20%22maxZoom%22%3A%2018%2C%20%22minZoom%22%3A%200%2C%20%22noWrap%22%3A%20false%2C%20%22opacity%22%3A%201.0%2C%20%22subdomains%22%3A%20%22abc%22%2C%20%22tms%22%3A%20false%7D%0A%20%20%20%20%20%20%20%20%20%20%20%20%29.addTo%28map_7271f248121b40699b01912d8f71d933%29%3B%0A%20%20%20%20%20%20%20%20%0A%20%20%20%20%0A%20%20%20%20%20%20%20%20%20%20%20%20var%20tile_layer_92e18697659a4cc6946082b4dcda4d98%20%3D%20L.tileLayer%28%0A%20%20%20%20%20%20%20%20%20%20%20%20%20%20%20%20%22https%3A//earthengine.googleapis.com/v1alpha/projects/earthengine-legacy/maps/1c1f96196a6c2bc5afadaba10d70782d-56e3d366bcf89f5e2ebb885c65b64f20/tiles/%7Bz%7D/%7Bx%7D/%7By%7D%22%2C%0A%20%20%20%20%20%20%20%20%20%20%20%20%20%20%20%20%7B%22attribution%22%3A%20%22Google%20Earth%20Engine%22%2C%20%22detectRetina%22%3A%20false%2C%20%22maxNativeZoom%22%3A%2018%2C%20%22maxZoom%22%3A%2018%2C%20%22minZoom%22%3A%200%2C%20%22noWrap%22%3A%20false%2C%20%22opacity%22%3A%201.0%2C%20%22subdomains%22%3A%20%22abc%22%2C%20%22tms%22%3A%20false%7D%0A%20%20%20%20%20%20%20%20%20%20%20%20%29.addTo%28map_7271f248121b40699b01912d8f71d933%29%3B%0A%20%20%20%20%20%20%20%20%0A%20%20%20%20%0A%20%20%20%20%20%20%20%20%20%20%20%20var%20tile_layer_9e4bfd8849c047eca95acd9ec9a47f91%20%3D%20L.tileLayer%28%0A%20%20%20%20%20%20%20%20%20%20%20%20%20%20%20%20%22https%3A//earthengine.googleapis.com/v1alpha/projects/earthengine-legacy/maps/0fe5d6b551930f7dab71acca0fe26c0f-2722c338db1df71cff6b660f9a0ba99d/tiles/%7Bz%7D/%7Bx%7D/%7By%7D%22%2C%0A%20%20%20%20%20%20%20%20%20%20%20%20%20%20%20%20%7B%22attribution%22%3A%20%22Google%20Earth%20Engine%22%2C%20%22detectRetina%22%3A%20false%2C%20%22maxNativeZoom%22%3A%2018%2C%20%22maxZoom%22%3A%2018%2C%20%22minZoom%22%3A%200%2C%20%22noWrap%22%3A%20false%2C%20%22opacity%22%3A%201.0%2C%20%22subdomains%22%3A%20%22abc%22%2C%20%22tms%22%3A%20false%7D%0A%20%20%20%20%20%20%20%20%20%20%20%20%29.addTo%28map_7271f248121b40699b01912d8f71d933%29%3B%0A%20%20%20%20%20%20%20%20%0A%20%20%20%20%0A%20%20%20%20%20%20%20%20%20%20%20%20var%20tile_layer_41f7e043988e4452a618196f838e257a%20%3D%20L.tileLayer%28%0A%20%20%20%20%20%20%20%20%20%20%20%20%20%20%20%20%22https%3A//earthengine.googleapis.com/v1alpha/projects/earthengine-legacy/maps/2e409066bcc628156c6f829d9c12b1b5-74842bfaef6b8d55afd8d73b88523995/tiles/%7Bz%7D/%7Bx%7D/%7By%7D%22%2C%0A%20%20%20%20%20%20%20%20%20%20%20%20%20%20%20%20%7B%22attribution%22%3A%20%22Google%20Earth%20Engine%22%2C%20%22detectRetina%22%3A%20false%2C%20%22maxNativeZoom%22%3A%2018%2C%20%22maxZoom%22%3A%2018%2C%20%22minZoom%22%3A%200%2C%20%22noWrap%22%3A%20false%2C%20%22opacity%22%3A%201.0%2C%20%22subdomains%22%3A%20%22abc%22%2C%20%22tms%22%3A%20false%7D%0A%20%20%20%20%20%20%20%20%20%20%20%20%29.addTo%28map_7271f248121b40699b01912d8f71d933%29%3B%0A%20%20%20%20%20%20%20%20%0A%20%20%20%20%0A%20%20%20%20%20%20%20%20%20%20%20%20var%20tile_layer_9198deb5a8e0467282e17f760f73b804%20%3D%20L.tileLayer%28%0A%20%20%20%20%20%20%20%20%20%20%20%20%20%20%20%20%22https%3A//earthengine.googleapis.com/v1alpha/projects/earthengine-legacy/maps/03c409aa1f7e17a34b57256c5d1a1b04-7bee15bb24081ff4356ed11d9280170a/tiles/%7Bz%7D/%7Bx%7D/%7By%7D%22%2C%0A%20%20%20%20%20%20%20%20%20%20%20%20%20%20%20%20%7B%22attribution%22%3A%20%22Google%20Earth%20Engine%22%2C%20%22detectRetina%22%3A%20false%2C%20%22maxNativeZoom%22%3A%2018%2C%20%22maxZoom%22%3A%2018%2C%20%22minZoom%22%3A%200%2C%20%22noWrap%22%3A%20false%2C%20%22opacity%22%3A%201.0%2C%20%22subdomains%22%3A%20%22abc%22%2C%20%22tms%22%3A%20false%7D%0A%20%20%20%20%20%20%20%20%20%20%20%20%29.addTo%28map_7271f248121b40699b01912d8f71d933%29%3B%0A%20%20%20%20%20%20%20%20%0A%20%20%20%20%0A%20%20%20%20%20%20%20%20%20%20%20%20var%20tile_layer_d883cf87e27d4badb2729f37bbd6e0f0%20%3D%20L.tileLayer%28%0A%20%20%20%20%20%20%20%20%20%20%20%20%20%20%20%20%22https%3A//earthengine.googleapis.com/v1alpha/projects/earthengine-legacy/maps/64e0e59cca52b881fca6c58971a38224-f11053a96a4dd57962354fd332275a68/tiles/%7Bz%7D/%7Bx%7D/%7By%7D%22%2C%0A%20%20%20%20%20%20%20%20%20%20%20%20%20%20%20%20%7B%22attribution%22%3A%20%22Google%20Earth%20Engine%22%2C%20%22detectRetina%22%3A%20false%2C%20%22maxNativeZoom%22%3A%2018%2C%20%22maxZoom%22%3A%2018%2C%20%22minZoom%22%3A%200%2C%20%22noWrap%22%3A%20false%2C%20%22opacity%22%3A%201.0%2C%20%22subdomains%22%3A%20%22abc%22%2C%20%22tms%22%3A%20false%7D%0A%20%20%20%20%20%20%20%20%20%20%20%20%29.addTo%28map_7271f248121b40699b01912d8f71d933%29%3B%0A%20%20%20%20%20%20%20%20%0A%20%20%20%20%0A%20%20%20%20%20%20%20%20%20%20%20%20var%20tile_layer_ba264300eee54b45ae171bb35393933a%20%3D%20L.tileLayer%28%0A%20%20%20%20%20%20%20%20%20%20%20%20%20%20%20%20%22https%3A//earthengine.googleapis.com/v1alpha/projects/earthengine-legacy/maps/2e409066bcc628156c6f829d9c12b1b5-d637e19607ec3eabdc97d8ca446bc3ac/tiles/%7Bz%7D/%7Bx%7D/%7By%7D%22%2C%0A%20%20%20%20%20%20%20%20%20%20%20%20%20%20%20%20%7B%22attribution%22%3A%20%22Google%20Earth%20Engine%22%2C%20%22detectRetina%22%3A%20false%2C%20%22maxNativeZoom%22%3A%2018%2C%20%22maxZoom%22%3A%2018%2C%20%22minZoom%22%3A%200%2C%20%22noWrap%22%3A%20false%2C%20%22opacity%22%3A%201.0%2C%20%22subdomains%22%3A%20%22abc%22%2C%20%22tms%22%3A%20false%7D%0A%20%20%20%20%20%20%20%20%20%20%20%20%29.addTo%28map_7271f248121b40699b01912d8f71d933%29%3B%0A%20%20%20%20%20%20%20%20%0A%20%20%20%20%0A%20%20%20%20%20%20%20%20%20%20%20%20var%20tile_layer_61fc8666b9de4739b3f8a95dbc6202ff%20%3D%20L.tileLayer%28%0A%20%20%20%20%20%20%20%20%20%20%20%20%20%20%20%20%22https%3A//earthengine.googleapis.com/v1alpha/projects/earthengine-legacy/maps/03c409aa1f7e17a34b57256c5d1a1b04-8c4b4ca8c6f269b620e039d832cbebb9/tiles/%7Bz%7D/%7Bx%7D/%7By%7D%22%2C%0A%20%20%20%20%20%20%20%20%20%20%20%20%20%20%20%20%7B%22attribution%22%3A%20%22Google%20Earth%20Engine%22%2C%20%22detectRetina%22%3A%20false%2C%20%22maxNativeZoom%22%3A%2018%2C%20%22maxZoom%22%3A%2018%2C%20%22minZoom%22%3A%200%2C%20%22noWrap%22%3A%20false%2C%20%22opacity%22%3A%201.0%2C%20%22subdomains%22%3A%20%22abc%22%2C%20%22tms%22%3A%20false%7D%0A%20%20%20%20%20%20%20%20%20%20%20%20%29.addTo%28map_7271f248121b40699b01912d8f71d933%29%3B%0A%20%20%20%20%20%20%20%20%0A%20%20%20%20%0A%20%20%20%20%20%20%20%20%20%20%20%20var%20tile_layer_741a7540b9b44d628b65802d7f65e6ce%20%3D%20L.tileLayer%28%0A%20%20%20%20%20%20%20%20%20%20%20%20%20%20%20%20%22https%3A//earthengine.googleapis.com/v1alpha/projects/earthengine-legacy/maps/64e0e59cca52b881fca6c58971a38224-202fc7eacc262c1659ddc362d318029e/tiles/%7Bz%7D/%7Bx%7D/%7By%7D%22%2C%0A%20%20%20%20%20%20%20%20%20%20%20%20%20%20%20%20%7B%22attribution%22%3A%20%22Google%20Earth%20Engine%22%2C%20%22detectRetina%22%3A%20false%2C%20%22maxNativeZoom%22%3A%2018%2C%20%22maxZoom%22%3A%2018%2C%20%22minZoom%22%3A%200%2C%20%22noWrap%22%3A%20false%2C%20%22opacity%22%3A%201.0%2C%20%22subdomains%22%3A%20%22abc%22%2C%20%22tms%22%3A%20false%7D%0A%20%20%20%20%20%20%20%20%20%20%20%20%29.addTo%28map_7271f248121b40699b01912d8f71d933%29%3B%0A%20%20%20%20%20%20%20%20%0A%20%20%20%20%0A%20%20%20%20%20%20%20%20%20%20%20%20var%20tile_layer_86071118c18b4702a3cabd939e04b49b%20%3D%20L.tileLayer%28%0A%20%20%20%20%20%20%20%20%20%20%20%20%20%20%20%20%22https%3A//earthengine.googleapis.com/v1alpha/projects/earthengine-legacy/maps/2e409066bcc628156c6f829d9c12b1b5-6018e6f2b9039e16720605a05495ece0/tiles/%7Bz%7D/%7Bx%7D/%7By%7D%22%2C%0A%20%20%20%20%20%20%20%20%20%20%20%20%20%20%20%20%7B%22attribution%22%3A%20%22Google%20Earth%20Engine%22%2C%20%22detectRetina%22%3A%20false%2C%20%22maxNativeZoom%22%3A%2018%2C%20%22maxZoom%22%3A%2018%2C%20%22minZoom%22%3A%200%2C%20%22noWrap%22%3A%20false%2C%20%22opacity%22%3A%201.0%2C%20%22subdomains%22%3A%20%22abc%22%2C%20%22tms%22%3A%20false%7D%0A%20%20%20%20%20%20%20%20%20%20%20%20%29.addTo%28map_7271f248121b40699b01912d8f71d933%29%3B%0A%20%20%20%20%20%20%20%20%0A%20%20%20%20%0A%20%20%20%20%20%20%20%20%20%20%20%20var%20tile_layer_3730ccd3859044b0b9535fe6f6825aa5%20%3D%20L.tileLayer%28%0A%20%20%20%20%20%20%20%20%20%20%20%20%20%20%20%20%22https%3A//earthengine.googleapis.com/v1alpha/projects/earthengine-legacy/maps/03c409aa1f7e17a34b57256c5d1a1b04-f05b8ee91696ea25d788f72e1547e881/tiles/%7Bz%7D/%7Bx%7D/%7By%7D%22%2C%0A%20%20%20%20%20%20%20%20%20%20%20%20%20%20%20%20%7B%22attribution%22%3A%20%22Google%20Earth%20Engine%22%2C%20%22detectRetina%22%3A%20false%2C%20%22maxNativeZoom%22%3A%2018%2C%20%22maxZoom%22%3A%2018%2C%20%22minZoom%22%3A%200%2C%20%22noWrap%22%3A%20false%2C%20%22opacity%22%3A%201.0%2C%20%22subdomains%22%3A%20%22abc%22%2C%20%22tms%22%3A%20false%7D%0A%20%20%20%20%20%20%20%20%20%20%20%20%29.addTo%28map_7271f248121b40699b01912d8f71d933%29%3B%0A%20%20%20%20%20%20%20%20%0A%20%20%20%20%0A%20%20%20%20%20%20%20%20%20%20%20%20var%20tile_layer_4d54e0ec236d4b27a684106d9cf3fe17%20%3D%20L.tileLayer%28%0A%20%20%20%20%20%20%20%20%20%20%20%20%20%20%20%20%22https%3A//earthengine.googleapis.com/v1alpha/projects/earthengine-legacy/maps/64e0e59cca52b881fca6c58971a38224-f57c84dd7bc1310e7c7615567c855852/tiles/%7Bz%7D/%7Bx%7D/%7By%7D%22%2C%0A%20%20%20%20%20%20%20%20%20%20%20%20%20%20%20%20%7B%22attribution%22%3A%20%22Google%20Earth%20Engine%22%2C%20%22detectRetina%22%3A%20false%2C%20%22maxNativeZoom%22%3A%2018%2C%20%22maxZoom%22%3A%2018%2C%20%22minZoom%22%3A%200%2C%20%22noWrap%22%3A%20false%2C%20%22opacity%22%3A%201.0%2C%20%22subdomains%22%3A%20%22abc%22%2C%20%22tms%22%3A%20false%7D%0A%20%20%20%20%20%20%20%20%20%20%20%20%29.addTo%28map_7271f248121b40699b01912d8f71d933%29%3B%0A%20%20%20%20%20%20%20%20%0A%20%20%20%20%0A%20%20%20%20%20%20%20%20%20%20%20%20var%20tile_layer_1e9696d6f3ff404eb5d5e8be1e5f1a28%20%3D%20L.tileLayer%28%0A%20%20%20%20%20%20%20%20%20%20%20%20%20%20%20%20%22https%3A//earthengine.googleapis.com/v1alpha/projects/earthengine-legacy/maps/ee883c16fa349cf26e346f6851d85123-a8d692666de655e0dfd03a62d6792c87/tiles/%7Bz%7D/%7Bx%7D/%7By%7D%22%2C%0A%20%20%20%20%20%20%20%20%20%20%20%20%20%20%20%20%7B%22attribution%22%3A%20%22Google%20Earth%20Engine%22%2C%20%22detectRetina%22%3A%20false%2C%20%22maxNativeZoom%22%3A%2018%2C%20%22maxZoom%22%3A%2018%2C%20%22minZoom%22%3A%200%2C%20%22noWrap%22%3A%20false%2C%20%22opacity%22%3A%201.0%2C%20%22subdomains%22%3A%20%22abc%22%2C%20%22tms%22%3A%20false%7D%0A%20%20%20%20%20%20%20%20%20%20%20%20%29.addTo%28map_7271f248121b40699b01912d8f71d933%29%3B%0A%20%20%20%20%20%20%20%20%0A%20%20%20%20%0A%20%20%20%20%20%20%20%20%20%20%20%20var%20layer_control_11d3787460f94078b19c9e44726be646%20%3D%20%7B%0A%20%20%20%20%20%20%20%20%20%20%20%20%20%20%20%20base_layers%20%3A%20%7B%0A%20%20%20%20%20%20%20%20%20%20%20%20%20%20%20%20%20%20%20%20%22openstreetmap%22%20%3A%20tile_layer_7d0c873ea72243d5b160ed089fb41be0%2C%0A%20%20%20%20%20%20%20%20%20%20%20%20%20%20%20%20%7D%2C%0A%20%20%20%20%20%20%20%20%20%20%20%20%20%20%20%20overlays%20%3A%20%20%7B%0A%20%20%20%20%20%20%20%20%20%20%20%20%20%20%20%20%20%20%20%20%22Google%20Maps%22%20%3A%20tile_layer_ac7ac877a3044b7382d39472a28d75c8%2C%0A%20%20%20%20%20%20%20%20%20%20%20%20%20%20%20%20%20%20%20%20%22TUBBS%20residential_vis%22%20%3A%20tile_layer_76f494f785fb45df9f02652983c3ac71%2C%0A%20%20%20%20%20%20%20%20%20%20%20%20%20%20%20%20%20%20%20%20%22TUBBS%20forest_vis%22%20%3A%20tile_layer_92e18697659a4cc6946082b4dcda4d98%2C%0A%20%20%20%20%20%20%20%20%20%20%20%20%20%20%20%20%20%20%20%20%22TUBBS%20ground_vis%22%20%3A%20tile_layer_9e4bfd8849c047eca95acd9ec9a47f91%2C%0A%20%20%20%20%20%20%20%20%20%20%20%20%20%20%20%20%20%20%20%20%22TUBBS%20dnbr%20-%20high%20severity%22%20%3A%20tile_layer_41f7e043988e4452a618196f838e257a%2C%0A%20%20%20%20%20%20%20%20%20%20%20%20%20%20%20%20%20%20%20%20%22TUBBS%20dnbr%20-%20moderate%20severity%22%20%3A%20tile_layer_9198deb5a8e0467282e17f760f73b804%2C%0A%20%20%20%20%20%20%20%20%20%20%20%20%20%20%20%20%20%20%20%20%22TUBBS%20dnbr%20-%20small%20severity%22%20%3A%20tile_layer_d883cf87e27d4badb2729f37bbd6e0f0%2C%0A%20%20%20%20%20%20%20%20%20%20%20%20%20%20%20%20%20%20%20%20%22NUNS%20dnbr%20-%20high%20severity%22%20%3A%20tile_layer_ba264300eee54b45ae171bb35393933a%2C%0A%20%20%20%20%20%20%20%20%20%20%20%20%20%20%20%20%20%20%20%20%22NUNS%20dnbr%20-%20moderate%20severity%22%20%3A%20tile_layer_61fc8666b9de4739b3f8a95dbc6202ff%2C%0A%20%20%20%20%20%20%20%20%20%20%20%20%20%20%20%20%20%20%20%20%22NUNS%20dnbr%20-%20small%20severity%22%20%3A%20tile_layer_741a7540b9b44d628b65802d7f65e6ce%2C%0A%20%20%20%20%20%20%20%20%20%20%20%20%20%20%20%20%20%20%20%20%22POCKET%20dnbr%20-%20high%20severity%22%20%3A%20tile_layer_86071118c18b4702a3cabd939e04b49b%2C%0A%20%20%20%20%20%20%20%20%20%20%20%20%20%20%20%20%20%20%20%20%22POCKET%20dnbr%20-%20moderate%20severity%22%20%3A%20tile_layer_3730ccd3859044b0b9535fe6f6825aa5%2C%0A%20%20%20%20%20%20%20%20%20%20%20%20%20%20%20%20%20%20%20%20%22POCKET%20dnbr%20-%20small%20severity%22%20%3A%20tile_layer_4d54e0ec236d4b27a684106d9cf3fe17%2C%0A%20%20%20%20%20%20%20%20%20%20%20%20%20%20%20%20%20%20%20%20%22fire_names%22%20%3A%20tile_layer_1e9696d6f3ff404eb5d5e8be1e5f1a28%2C%0A%20%20%20%20%20%20%20%20%20%20%20%20%20%20%20%20%7D%2C%0A%20%20%20%20%20%20%20%20%20%20%20%20%7D%3B%0A%20%20%20%20%20%20%20%20%20%20%20%20L.control.layers%28%0A%20%20%20%20%20%20%20%20%20%20%20%20%20%20%20%20layer_control_11d3787460f94078b19c9e44726be646.base_layers%2C%0A%20%20%20%20%20%20%20%20%20%20%20%20%20%20%20%20layer_control_11d3787460f94078b19c9e44726be646.overlays%2C%0A%20%20%20%20%20%20%20%20%20%20%20%20%20%20%20%20%7B%22autoZIndex%22%3A%20true%2C%20%22collapsed%22%3A%20true%2C%20%22position%22%3A%20%22topright%22%7D%0A%20%20%20%20%20%20%20%20%20%20%20%20%29.addTo%28map_7271f248121b40699b01912d8f71d933%29%3B%0A%20%20%20%20%20%20%20%20%0A%3C/script%3E onload=\"this.contentDocument.open();this.contentDocument.write(    decodeURIComponent(this.getAttribute('data-html')));this.contentDocument.close();\" allowfullscreen webkitallowfullscreen mozallowfullscreen></iframe></div></div>"
            ],
            "text/plain": [
              "<geemap.eefolium.Map at 0x7fa9c2c12490>"
            ]
          },
          "metadata": {
            "tags": []
          },
          "execution_count": 145
        }
      ]
    },
    {
      "cell_type": "code",
      "metadata": {
        "id": "Z22lHAnq3YzA"
      },
      "source": [
        "ds_ground_area = np.array(ds_ground_area) \n",
        "\n",
        "\n",
        "ground_area_df = pd.DataFrame({'fire_name':ds_ground_area[:,0]})\n",
        "ground_area_df['estimated area burned (m^2)'] = ds_ground_area[:,1]\n",
        "ground_area_df['estimated area burned (acres)'] = ds_ground_area[:,2]\n",
        "ground_area_df['estimated area burned (acres)'] = ground_area_df['estimated area burned (acres)'].astype('float64')\n",
        "ground_area_df['estimated area burned (m^2)'] = ground_area_df['estimated area burned (m^2)'].astype('float64')\n",
        "\n",
        "\n",
        "\n",
        "ds_forest_area = np.array(ds_forest_area) \n",
        "\n",
        "forest_area_df = pd.DataFrame({'fire_name':ds_forest_area[:,0]})\n",
        "forest_area_df['estimated area burned (m^2)'] = ds_forest_area[:,1]\n",
        "forest_area_df['estimated area burned (acres)'] = ds_forest_area[:,2]\n",
        "forest_area_df['estimated area burned (acres)'] = forest_area_df['estimated area burned (acres)'].astype('float64')\n",
        "forest_area_df['estimated area burned (m^2)'] = forest_area_df['estimated area burned (m^2)'].astype('float64')\n"
      ],
      "execution_count": null,
      "outputs": []
    },
    {
      "cell_type": "code",
      "metadata": {
        "id": "dW54dYFD3geS",
        "colab": {
          "base_uri": "https://localhost:8080/",
          "height": 131
        },
        "outputId": "73155d06-9247-45a2-d1d4-bbf719c24fe3"
      },
      "source": [
        "ground_area_df"
      ],
      "execution_count": null,
      "outputs": [
        {
          "output_type": "execute_result",
          "data": {
            "text/html": [
              "<div>\n",
              "<style scoped>\n",
              "    .dataframe tbody tr th:only-of-type {\n",
              "        vertical-align: middle;\n",
              "    }\n",
              "\n",
              "    .dataframe tbody tr th {\n",
              "        vertical-align: top;\n",
              "    }\n",
              "\n",
              "    .dataframe thead th {\n",
              "        text-align: right;\n",
              "    }\n",
              "</style>\n",
              "<table border=\"1\" class=\"dataframe\">\n",
              "  <thead>\n",
              "    <tr style=\"text-align: right;\">\n",
              "      <th></th>\n",
              "      <th>fire_name</th>\n",
              "      <th>estimated area burned (m^2)</th>\n",
              "      <th>estimated area burned (acres)</th>\n",
              "    </tr>\n",
              "  </thead>\n",
              "  <tbody>\n",
              "    <tr>\n",
              "      <th>0</th>\n",
              "      <td>TUBBS</td>\n",
              "      <td>3.752563e+07</td>\n",
              "      <td>9272.584338</td>\n",
              "    </tr>\n",
              "    <tr>\n",
              "      <th>1</th>\n",
              "      <td>NUNS</td>\n",
              "      <td>1.384179e+08</td>\n",
              "      <td>34203.073095</td>\n",
              "    </tr>\n",
              "    <tr>\n",
              "      <th>2</th>\n",
              "      <td>POCKET</td>\n",
              "      <td>2.768088e+07</td>\n",
              "      <td>6839.945020</td>\n",
              "    </tr>\n",
              "  </tbody>\n",
              "</table>\n",
              "</div>"
            ],
            "text/plain": [
              "  fire_name  estimated area burned (m^2)  estimated area burned (acres)\n",
              "0     TUBBS                 3.752563e+07                    9272.584338\n",
              "1      NUNS                 1.384179e+08                   34203.073095\n",
              "2    POCKET                 2.768088e+07                    6839.945020"
            ]
          },
          "metadata": {
            "tags": []
          },
          "execution_count": 143
        }
      ]
    },
    {
      "cell_type": "code",
      "metadata": {
        "id": "3ci7kf1H3ioJ",
        "colab": {
          "base_uri": "https://localhost:8080/",
          "height": 131
        },
        "outputId": "ddb3fdb8-d149-45fa-dbea-112b93db7b03"
      },
      "source": [
        "forest_area_df"
      ],
      "execution_count": null,
      "outputs": [
        {
          "output_type": "execute_result",
          "data": {
            "text/html": [
              "<div>\n",
              "<style scoped>\n",
              "    .dataframe tbody tr th:only-of-type {\n",
              "        vertical-align: middle;\n",
              "    }\n",
              "\n",
              "    .dataframe tbody tr th {\n",
              "        vertical-align: top;\n",
              "    }\n",
              "\n",
              "    .dataframe thead th {\n",
              "        text-align: right;\n",
              "    }\n",
              "</style>\n",
              "<table border=\"1\" class=\"dataframe\">\n",
              "  <thead>\n",
              "    <tr style=\"text-align: right;\">\n",
              "      <th></th>\n",
              "      <th>fire_name</th>\n",
              "      <th>estimated area burned (m^2)</th>\n",
              "      <th>estimated area burned (acres)</th>\n",
              "    </tr>\n",
              "  </thead>\n",
              "  <tbody>\n",
              "    <tr>\n",
              "      <th>0</th>\n",
              "      <td>TUBBS</td>\n",
              "      <td>7.250654e+07</td>\n",
              "      <td>17916.366947</td>\n",
              "    </tr>\n",
              "    <tr>\n",
              "      <th>1</th>\n",
              "      <td>NUNS</td>\n",
              "      <td>1.251983e+08</td>\n",
              "      <td>30936.504356</td>\n",
              "    </tr>\n",
              "    <tr>\n",
              "      <th>2</th>\n",
              "      <td>POCKET</td>\n",
              "      <td>1.885509e+07</td>\n",
              "      <td>4659.091715</td>\n",
              "    </tr>\n",
              "  </tbody>\n",
              "</table>\n",
              "</div>"
            ],
            "text/plain": [
              "  fire_name  estimated area burned (m^2)  estimated area burned (acres)\n",
              "0     TUBBS                 7.250654e+07                   17916.366947\n",
              "1      NUNS                 1.251983e+08                   30936.504356\n",
              "2    POCKET                 1.885509e+07                    4659.091715"
            ]
          },
          "metadata": {
            "tags": []
          },
          "execution_count": 144
        }
      ]
    },
    {
      "cell_type": "code",
      "metadata": {
        "id": "GOZAnTMDbTY0"
      },
      "source": [
        ""
      ],
      "execution_count": null,
      "outputs": []
    },
    {
      "cell_type": "markdown",
      "metadata": {
        "id": "EqNetNkpE8Al"
      },
      "source": [
        "### Mean above ground biomass (Mg ha^-1)\n",
        "\n",
        "Source: Wenli Huang, Anu Swatantran, Laura Duncanson, Kristofer Johnson, Dana\n",
        "Watkinson, Katelyn Dolan, Jarlath O'Neil-Dunne, George Hurtt & Ralph Dubayah (2017): Countyscale\n",
        "biomass map comparison: a case study for Sonoma, California, Carbon Management, DOI:\n",
        "10.1080/17583004.2017.1396840\n",
        "\n",
        "|Product |Forest |Non-forest| All   |\n",
        "|--------|-------|----------|-------|\n",
        "|CMS_RF  | 199.1 | 41.4     | 123.0 |\n",
        "|NBCD    | 192.5 | 15.3     | 107.0 |\n",
        "|Saatchi | 213.0 | 16.7     | 118.2 |\n",
        "|FIA_PLOT| 192.4 | 20.6     | 109.4 |"
      ]
    },
    {
      "cell_type": "code",
      "metadata": {
        "id": "OeYFTqmsE9Yz"
      },
      "source": [
        "def carbonEmissions(forestArea, groundArea, resolution, fc=0.5, beta=0.8):\n",
        "  '''\n",
        "  Using biomass density data from the Forest Inventory Analysis plots (FIA_PLOTS).\n",
        "  area in m^2\n",
        "  resolution in meters\n",
        "  '''\n",
        "  forestDensity = 192.4 #/Mg/ha\n",
        "  groundDensity = 20.6  #Mg/ha\n",
        "  pixelArea = resolution*resolution/10000 #converting m2 to ha\n",
        "  carbonFlux = pixelArea*fc*beta*(forestDensity*forestArea + groundDensity*groundArea)\n",
        "  return carbonFlux"
      ],
      "execution_count": null,
      "outputs": []
    },
    {
      "cell_type": "code",
      "metadata": {
        "id": "uDzzSDoD31bZ"
      },
      "source": [
        "forestAreas = forest_area_df['estimated area burned (m^2)']/10000 #converting m2 to ha\n",
        "forestAreas.name=''\n",
        "\n",
        "groundAreas = ground_area_df['estimated area burned (m^2)']/10000 #converting m2 to ha\n",
        "groundAreas.name=''\n",
        "\n",
        "carbonFlux = carbonEmissions(forestArea=forestAreas, groundArea=groundAreas, resolution=30)"
      ],
      "execution_count": null,
      "outputs": []
    },
    {
      "cell_type": "code",
      "metadata": {
        "colab": {
          "base_uri": "https://localhost:8080/"
        },
        "id": "np-usSnU6nzy",
        "outputId": "187133f5-8b1b-4872-d53f-1856df4a9f2d"
      },
      "source": [
        "carbonFlux #units are tC"
      ],
      "execution_count": null,
      "outputs": [
        {
          "output_type": "execute_result",
          "data": {
            "text/plain": [
              "0    53003.833496\n",
              "1    96982.437384\n",
              "2    15112.600599\n",
              "Name: , dtype: float64"
            ]
          },
          "metadata": {
            "tags": []
          },
          "execution_count": 151
        }
      ]
    },
    {
      "cell_type": "markdown",
      "metadata": {
        "id": "t_nWqKszXuVH"
      },
      "source": [
        "# Gif-ing"
      ]
    },
    {
      "cell_type": "code",
      "metadata": {
        "id": "B5VZVcAO-GkH"
      },
      "source": [
        "# Convertingi to gif\n",
        "from PIL import Image\n",
        "from IPython.display import Image as Im\n",
        "import os\n",
        "import glob\n",
        "detected_dir = './'\n",
        "# Create gif from the images\n",
        "def generate_gif(input_images_dir, dt):\n",
        "\tframes = os.path.join(input_images_dir, '*.png')\n",
        "\tgif_file = os.path.join(input_images_dir, 'out.gif')\n",
        "\timg, *imgs = [Image.open(f) for f in sorted(glob.glob(frames))]\n",
        "\timg.save(fp=gif_file, format='GIF', append_images=imgs,\n",
        "\t         save_all=True, duration=dt, loop=0)\n",
        "\tprint(type(img))\n",
        "generate_gif(detected_dir, dt=1000)\n",
        "with open('./out.gif','rb') as f:\n",
        "  display(Im(data=f.read(), format='png'))"
      ],
      "execution_count": null,
      "outputs": []
    }
  ]
}
